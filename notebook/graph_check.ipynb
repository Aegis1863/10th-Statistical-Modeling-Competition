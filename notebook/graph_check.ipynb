{
 "cells": [
  {
   "cell_type": "code",
   "execution_count": 1,
   "metadata": {},
   "outputs": [],
   "source": [
    "import torch\n",
    "from torch_geometric.data import HeteroData\n",
    "import torch_geometric.transforms as T\n",
    "import pandas as pd\n",
    "from tqdm import tqdm\n",
    "import matplotlib.pyplot as plt"
   ]
  },
  {
   "cell_type": "code",
   "execution_count": 2,
   "metadata": {},
   "outputs": [],
   "source": [
    "data = torch.load('../data/hetero_graph_data.pt')"
   ]
  },
  {
   "cell_type": "code",
   "execution_count": 9,
   "metadata": {},
   "outputs": [
    {
     "data": {
      "text/plain": [
       "HeteroData(\n",
       "  customer={\n",
       "    x=[161086, 12],\n",
       "    num_nodes=161086,\n",
       "  },\n",
       "  product={\n",
       "    x=[2711, 15],\n",
       "    num_nodes=2711,\n",
       "  },\n",
       "  (customer, order, product)={\n",
       "    edge_index=[2, 18160895],\n",
       "    edge_attr=[18160895, 15],\n",
       "  },\n",
       "  (product, rev_order, customer)={\n",
       "    edge_index=[2, 18160895],\n",
       "    edge_attr=[18160895, 15],\n",
       "  }\n",
       ")"
      ]
     },
     "execution_count": 9,
     "metadata": {},
     "output_type": "execute_result"
    }
   ],
   "source": [
    "data"
   ]
  },
  {
   "cell_type": "code",
   "execution_count": 19,
   "metadata": {},
   "outputs": [
    {
     "data": {
      "text/plain": [
       "tensor([[81478, 81478, 81478,  ..., 24419, 24419, 24419],\n",
       "        [ 2184,  2120,  2059,  ...,   723,   816,    66]])"
      ]
     },
     "execution_count": 19,
     "metadata": {},
     "output_type": "execute_result"
    }
   ],
   "source": [
    "data['customer', 'order', 'product']['edge_index']"
   ]
  },
  {
   "cell_type": "code",
   "execution_count": 23,
   "metadata": {},
   "outputs": [],
   "source": [
    "from torch_geometric.utils import contains_self_loops, contains_isolated_nodes\n",
    "\n",
    "def find_duplicate_edges(edge_index):\n",
    "    # 将边索引转换为边列表\n",
    "    edge_list = edge_index.t().tolist()\n",
    "\n",
    "    # 使用字典来统计每条边的出现次数\n",
    "    edge_count = {}\n",
    "    for edge in edge_list:\n",
    "        edge = tuple(edge)\n",
    "        edge_count[edge] = edge_count.get(edge, 0) + 1\n",
    "\n",
    "    # 找到出现次数大于1的边\n",
    "    duplicate_edges = [edge for edge, count in edge_count.items() if count > 1]\n",
    "    return duplicate_edges\n",
    "\n",
    "# 示例边索引\n",
    "edge_index = data['customer', 'order', 'product']['edge_index']\n",
    "\n",
    "# 找到重复连接的边\n",
    "duplicate_edges = find_duplicate_edges(edge_index)"
   ]
  },
  {
   "cell_type": "code",
   "execution_count": 25,
   "metadata": {},
   "outputs": [
    {
     "data": {
      "text/plain": [
       "3229601"
      ]
     },
     "execution_count": 25,
     "metadata": {},
     "output_type": "execute_result"
    }
   ],
   "source": [
    "len(duplicate_edges)"
   ]
  },
  {
   "cell_type": "code",
   "execution_count": null,
   "metadata": {},
   "outputs": [],
   "source": []
  }
 ],
 "metadata": {
  "kernelspec": {
   "display_name": "traffic",
   "language": "python",
   "name": "python3"
  },
  "language_info": {
   "codemirror_mode": {
    "name": "ipython",
    "version": 3
   },
   "file_extension": ".py",
   "mimetype": "text/x-python",
   "name": "python",
   "nbconvert_exporter": "python",
   "pygments_lexer": "ipython3",
   "version": "3.11.6"
  }
 },
 "nbformat": 4,
 "nbformat_minor": 2
}
