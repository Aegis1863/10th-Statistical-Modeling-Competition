{
 "cells": [
  {
   "cell_type": "code",
   "execution_count": 1,
   "metadata": {},
   "outputs": [],
   "source": [
    "import torch\n",
    "import torch_geometric.transforms as T\n",
    "import torch_geometric.nn.conv.cg_conv as CGConv\n",
    "import pandas as pd\n",
    "import numpy as np\n",
    "from tqdm import tqdm\n",
    "import matplotlib.pyplot as plt\n",
    "from torch_geometric.utils import to_dgl\n",
    "import dgl\n",
    "\n",
    "device = 'cuda' if torch.cuda.is_available() else 'cpu'"
   ]
  },
  {
   "cell_type": "code",
   "execution_count": 2,
   "metadata": {},
   "outputs": [],
   "source": [
    "data = torch.load('../data/hetero_graph_data.pt')"
   ]
  },
  {
   "cell_type": "code",
   "execution_count": 13,
   "metadata": {},
   "outputs": [
    {
     "data": {
      "text/plain": [
       "HeteroData(\n",
       "  customer={\n",
       "    x=[161086, 12],\n",
       "    index=[161086],\n",
       "  },\n",
       "  product={\n",
       "    x=[2708, 15],\n",
       "    index=[2708],\n",
       "  },\n",
       "  (customer, order, product)={\n",
       "    edge_index=[2, 11892915],\n",
       "    edge_attr=[11892915, 11],\n",
       "  },\n",
       "  (product, rev_order, customer)={\n",
       "    edge_index=[2, 11892915],\n",
       "    edge_attr=[11892915, 11],\n",
       "  }\n",
       ")"
      ]
     },
     "execution_count": 13,
     "metadata": {},
     "output_type": "execute_result"
    }
   ],
   "source": [
    "data"
   ]
  },
  {
   "cell_type": "code",
   "execution_count": 4,
   "metadata": {},
   "outputs": [
    {
     "data": {
      "text/plain": [
       "True"
      ]
     },
     "execution_count": 4,
     "metadata": {},
     "output_type": "execute_result"
    }
   ],
   "source": [
    "data.validate()"
   ]
  },
  {
   "cell_type": "code",
   "execution_count": 7,
   "metadata": {},
   "outputs": [
    {
     "data": {
      "text/plain": [
       "[('customer', 'order', 'product'), ('product', 'rev_order', 'customer')]"
      ]
     },
     "execution_count": 7,
     "metadata": {},
     "output_type": "execute_result"
    }
   ],
   "source": [
    "data.metadata()[1]"
   ]
  },
  {
   "cell_type": "code",
   "execution_count": 12,
   "metadata": {},
   "outputs": [],
   "source": [
    "data['customer'].index = torch.tensor(range(0, 161086))\n",
    "data['product'].index = torch.tensor(range(0, 2708))"
   ]
  },
  {
   "cell_type": "code",
   "execution_count": 19,
   "metadata": {},
   "outputs": [],
   "source": [
    "dgl_data = to_dgl(data)"
   ]
  },
  {
   "cell_type": "code",
   "execution_count": 20,
   "metadata": {},
   "outputs": [
    {
     "data": {
      "text/plain": [
       "Graph(num_nodes={'customer': 161086, 'product': 2708},\n",
       "      num_edges={('customer', 'order', 'product'): 11892915, ('product', 'rev_order', 'customer'): 11892915},\n",
       "      metagraph=[('customer', 'product', 'order'), ('product', 'customer', 'rev_order')])"
      ]
     },
     "execution_count": 20,
     "metadata": {},
     "output_type": "execute_result"
    }
   ],
   "source": [
    "dgl_data"
   ]
  },
  {
   "cell_type": "code",
   "execution_count": 16,
   "metadata": {},
   "outputs": [],
   "source": [
    "dgl.save_graphs('../data/graph_data.bin', [dgl_data])"
   ]
  },
  {
   "cell_type": "code",
   "execution_count": 2,
   "metadata": {},
   "outputs": [],
   "source": [
    "dgl_data = dgl.load_graphs('../data/graph_data.bin')[0][0]"
   ]
  },
  {
   "cell_type": "code",
   "execution_count": 3,
   "metadata": {},
   "outputs": [
    {
     "data": {
      "text/plain": [
       "Graph(num_nodes={'customer': 161086, 'product': 2708},\n",
       "      num_edges={('customer', 'order', 'product'): 11892915, ('product', 'rev_order', 'customer'): 11892915},\n",
       "      metagraph=[('customer', 'product', 'order'), ('product', 'customer', 'rev_order')])"
      ]
     },
     "execution_count": 3,
     "metadata": {},
     "output_type": "execute_result"
    }
   ],
   "source": [
    "dgl_data"
   ]
  },
  {
   "cell_type": "code",
   "execution_count": 12,
   "metadata": {},
   "outputs": [
    {
     "data": {
      "text/plain": [
       "EdgeSpace(data={'edge_attr': tensor([[  1.0000,  19.0000,   0.0000,  ...,   1.0000,   0.0000,   0.0000],\n",
       "        [  2.0000, 166.0000,   0.0000,  ...,   1.0000,   0.0000,   0.0000],\n",
       "        [  2.0000,  43.0000,   0.0000,  ...,   1.0000,   0.0000,   0.0000],\n",
       "        ...,\n",
       "        [ 10.0000,  27.8847,   0.0000,  ...,   0.0000,   0.0000,   0.0000],\n",
       "        [ 10.0000, 138.9000,   0.0000,  ...,   0.0000,   0.0000,   0.0000],\n",
       "        [  6.0000, 118.8000,   0.0000,  ...,   0.0000,   0.0000,   0.0000]])})"
      ]
     },
     "execution_count": 12,
     "metadata": {},
     "output_type": "execute_result"
    }
   ],
   "source": [
    "dgl_data.edges['order']"
   ]
  },
  {
   "cell_type": "code",
   "execution_count": 15,
   "metadata": {},
   "outputs": [
    {
     "data": {
      "text/plain": [
       "torch.Size([161086, 12])"
      ]
     },
     "execution_count": 15,
     "metadata": {},
     "output_type": "execute_result"
    }
   ],
   "source": [
    "dgl_data.nodes['customer'].data['x'].shape"
   ]
  },
  {
   "cell_type": "code",
   "execution_count": null,
   "metadata": {},
   "outputs": [],
   "source": []
  }
 ],
 "metadata": {
  "kernelspec": {
   "display_name": "traffic",
   "language": "python",
   "name": "python3"
  },
  "language_info": {
   "codemirror_mode": {
    "name": "ipython",
    "version": 3
   },
   "file_extension": ".py",
   "mimetype": "text/x-python",
   "name": "python",
   "nbconvert_exporter": "python",
   "pygments_lexer": "ipython3",
   "version": "3.11.6"
  }
 },
 "nbformat": 4,
 "nbformat_minor": 2
}
