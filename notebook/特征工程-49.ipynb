{
 "cells": [
  {
   "cell_type": "code",
   "execution_count": 1,
   "id": "e986a792",
   "metadata": {},
   "outputs": [],
   "source": [
    "import numpy as np\n",
    "import pandas as pd\n",
    "import matplotlib.pyplot as plt \n",
    "import seaborn as sns\n",
    "from datetime import datetime\n",
    "from datetime import time\n",
    "plt.rcParams ['font.sans-serif'] ='SimHei'               #显示中文\n",
    "plt.rcParams ['axes.unicode_minus'] = False               #显示负号"
   ]
  },
  {
   "cell_type": "markdown",
   "id": "59454648",
   "metadata": {},
   "source": [
    "# 读取数据"
   ]
  },
  {
   "cell_type": "code",
   "execution_count": 2,
   "id": "13347996",
   "metadata": {},
   "outputs": [],
   "source": [
    "#### 时间设定\n",
    "start='2023-02-01'; end='2024-01-31'"
   ]
  },
  {
   "cell_type": "code",
   "execution_count": 3,
   "id": "2336da34",
   "metadata": {},
   "outputs": [
    {
     "name": "stdout",
     "output_type": "stream",
     "text": [
      "Index(['活动id', '活动名称', '开始时间', '结束时间', '说明', '活动类型'], dtype='object')\n"
     ]
    },
    {
     "data": {
      "text/html": [
       "<div>\n",
       "<style scoped>\n",
       "    .dataframe tbody tr th:only-of-type {\n",
       "        vertical-align: middle;\n",
       "    }\n",
       "\n",
       "    .dataframe tbody tr th {\n",
       "        vertical-align: top;\n",
       "    }\n",
       "\n",
       "    .dataframe thead th {\n",
       "        text-align: right;\n",
       "    }\n",
       "</style>\n",
       "<table border=\"1\" class=\"dataframe\">\n",
       "  <thead>\n",
       "    <tr style=\"text-align: right;\">\n",
       "      <th></th>\n",
       "      <th>id</th>\n",
       "      <th>商品编码</th>\n",
       "      <th>商品名称</th>\n",
       "      <th>品牌名称</th>\n",
       "      <th>规格</th>\n",
       "      <th>单位</th>\n",
       "      <th>生产厂家</th>\n",
       "      <th>批准文号</th>\n",
       "      <th>库存数量</th>\n",
       "      <th>疾病分类统一</th>\n",
       "      <th>商品类别</th>\n",
       "      <th>医保类型</th>\n",
       "      <th>工业采购价</th>\n",
       "      <th>客户采购价格</th>\n",
       "      <th>建议零售价</th>\n",
       "      <th>工业毛利额</th>\n",
       "      <th>客户毛利额</th>\n",
       "      <th>客户毛利率</th>\n",
       "      <th>上架日期</th>\n",
       "      <th>最后一次采购日期</th>\n",
       "    </tr>\n",
       "  </thead>\n",
       "  <tbody>\n",
       "    <tr>\n",
       "      <th>0</th>\n",
       "      <td>52a54f93-13c9-430b-9e39-7a35de3d388f</td>\n",
       "      <td>6970878583019671591</td>\n",
       "      <td>鑫玺****罗汉果糖</td>\n",
       "      <td>蜀汉本草</td>\n",
       "      <td>2.5g*16片</td>\n",
       "      <td>盒</td>\n",
       "      <td>鑫玺****有限公司</td>\n",
       "      <td>国食健注G20150362</td>\n",
       "      <td>0</td>\n",
       "      <td>保健食品</td>\n",
       "      <td>预包装保健食品</td>\n",
       "      <td>非医保</td>\n",
       "      <td>2.3</td>\n",
       "      <td>3.69</td>\n",
       "      <td>12.8</td>\n",
       "      <td>1.39</td>\n",
       "      <td>9.11</td>\n",
       "      <td>0.711719</td>\n",
       "      <td>2021-10-09</td>\n",
       "      <td>2023-12-11</td>\n",
       "    </tr>\n",
       "    <tr>\n",
       "      <th>1</th>\n",
       "      <td>643eb938-3b79-4ce3-911e-e355b31f6bbb</td>\n",
       "      <td>6970878583019671976</td>\n",
       "      <td>金银****含片</td>\n",
       "      <td>蜀汉本草</td>\n",
       "      <td>2.5g*16片</td>\n",
       "      <td>盒</td>\n",
       "      <td>鑫玺****有限公司</td>\n",
       "      <td>国食健注G20140205</td>\n",
       "      <td>22601</td>\n",
       "      <td>保健食品</td>\n",
       "      <td>预包装保健食品</td>\n",
       "      <td>非医保</td>\n",
       "      <td>2.3</td>\n",
       "      <td>3.69</td>\n",
       "      <td>12.0</td>\n",
       "      <td>1.39</td>\n",
       "      <td>8.31</td>\n",
       "      <td>0.692500</td>\n",
       "      <td>2021-10-09</td>\n",
       "      <td>2024-01-10</td>\n",
       "    </tr>\n",
       "  </tbody>\n",
       "</table>\n",
       "</div>"
      ],
      "text/plain": [
       "                                     id                 商品编码        商品名称  \\\n",
       "0  52a54f93-13c9-430b-9e39-7a35de3d388f  6970878583019671591  鑫玺****罗汉果糖   \n",
       "1  643eb938-3b79-4ce3-911e-e355b31f6bbb  6970878583019671976    金银****含片   \n",
       "\n",
       "   品牌名称        规格 单位        生产厂家           批准文号   库存数量 疾病分类统一     商品类别 医保类型  \\\n",
       "0  蜀汉本草  2.5g*16片  盒  鑫玺****有限公司  国食健注G20150362      0   保健食品  预包装保健食品  非医保   \n",
       "1  蜀汉本草  2.5g*16片  盒  鑫玺****有限公司  国食健注G20140205  22601   保健食品  预包装保健食品  非医保   \n",
       "\n",
       "   工业采购价  客户采购价格  建议零售价  工业毛利额  客户毛利额     客户毛利率        上架日期    最后一次采购日期  \n",
       "0    2.3    3.69   12.8   1.39   9.11  0.711719  2021-10-09  2023-12-11  \n",
       "1    2.3    3.69   12.0   1.39   8.31  0.692500  2021-10-09  2024-01-10  "
      ]
     },
     "execution_count": 3,
     "metadata": {},
     "output_type": "execute_result"
    }
   ],
   "source": [
    "activities = pd.read_csv('活动表处理后.csv',dtype={0:str},parse_dates=['开始时间','结束时间'])\n",
    "activities =activities[(activities['开始时间']>start) & (activities['结束时间']<end)]\n",
    "commodity=pd.read_csv('商品表处理后.csv',dtype={0:str,1:str})\n",
    "commodity=commodity[[col for col in commodity.columns if 'Unnamed' not in col]]\n",
    "print(activities.columns)\n",
    "commodity.head(2)"
   ]
  },
  {
   "cell_type": "code",
   "execution_count": 4,
   "id": "cc5f3c1b",
   "metadata": {},
   "outputs": [
    {
     "name": "stderr",
     "output_type": "stream",
     "text": [
      "D:\\Anaconda\\lib\\site-packages\\IPython\\core\\interactiveshell.py:3457: DtypeWarning: Columns (5,11) have mixed types.Specify dtype option on import or set low_memory=False.\n",
      "  exec(code_obj, self.user_global_ns, self.user_ns)\n"
     ]
    },
    {
     "data": {
      "text/html": [
       "<div>\n",
       "<style scoped>\n",
       "    .dataframe tbody tr th:only-of-type {\n",
       "        vertical-align: middle;\n",
       "    }\n",
       "\n",
       "    .dataframe tbody tr th {\n",
       "        vertical-align: top;\n",
       "    }\n",
       "\n",
       "    .dataframe thead th {\n",
       "        text-align: right;\n",
       "    }\n",
       "</style>\n",
       "<table border=\"1\" class=\"dataframe\">\n",
       "  <thead>\n",
       "    <tr style=\"text-align: right;\">\n",
       "      <th></th>\n",
       "      <th>客户id</th>\n",
       "      <th>客户名称</th>\n",
       "      <th>客户类型(新增)</th>\n",
       "      <th>推广经理</th>\n",
       "      <th>当前状态</th>\n",
       "      <th>连锁标记(更新)</th>\n",
       "      <th>客户所在省</th>\n",
       "      <th>客户所在市</th>\n",
       "      <th>客户所在县</th>\n",
       "      <th>是否医保店</th>\n",
       "      <th>客户等级</th>\n",
       "      <th>位置类型(更新)</th>\n",
       "      <th>注册日期</th>\n",
       "      <th>是否有过投诉</th>\n",
       "      <th>是否连锁(新增)</th>\n",
       "      <th>行政区划</th>\n",
       "      <th>是否样本</th>\n",
       "    </tr>\n",
       "  </thead>\n",
       "  <tbody>\n",
       "    <tr>\n",
       "      <th>0</th>\n",
       "      <td>7081090359123820544</td>\n",
       "      <td>桥西****结合诊所</td>\n",
       "      <td>诊所</td>\n",
       "      <td>平志红</td>\n",
       "      <td>启用</td>\n",
       "      <td>NaN</td>\n",
       "      <td>河北省</td>\n",
       "      <td>石家庄市</td>\n",
       "      <td>桥西区</td>\n",
       "      <td>是</td>\n",
       "      <td>60万-70万</td>\n",
       "      <td>城乡店</td>\n",
       "      <td>2023-07-02 10:05:01.913</td>\n",
       "      <td>否</td>\n",
       "      <td>不连锁</td>\n",
       "      <td>市区</td>\n",
       "      <td>1</td>\n",
       "    </tr>\n",
       "    <tr>\n",
       "      <th>1</th>\n",
       "      <td>6970904116784796290</td>\n",
       "      <td>武胜****生服务站</td>\n",
       "      <td>卫生服务站</td>\n",
       "      <td>杨茜</td>\n",
       "      <td>启用</td>\n",
       "      <td>NaN</td>\n",
       "      <td>四川省</td>\n",
       "      <td>广安市</td>\n",
       "      <td>武胜县</td>\n",
       "      <td>是</td>\n",
       "      <td>50万-60万</td>\n",
       "      <td>院边店</td>\n",
       "      <td>2021-03-03 14:11:28.360</td>\n",
       "      <td>是</td>\n",
       "      <td>不连锁</td>\n",
       "      <td>县</td>\n",
       "      <td>1</td>\n",
       "    </tr>\n",
       "  </tbody>\n",
       "</table>\n",
       "</div>"
      ],
      "text/plain": [
       "                  客户id        客户名称 客户类型(新增) 推广经理 当前状态 连锁标记(更新) 客户所在省 客户所在市  \\\n",
       "0  7081090359123820544  桥西****结合诊所       诊所  平志红   启用      NaN   河北省  石家庄市   \n",
       "1  6970904116784796290  武胜****生服务站    卫生服务站   杨茜   启用      NaN   四川省   广安市   \n",
       "\n",
       "  客户所在县 是否医保店     客户等级 位置类型(更新)                    注册日期 是否有过投诉 是否连锁(新增) 行政区划  \\\n",
       "0   桥西区     是  60万-70万      城乡店 2023-07-02 10:05:01.913      否      不连锁   市区   \n",
       "1   武胜县     是  50万-60万      院边店 2021-03-03 14:11:28.360      是      不连锁    县   \n",
       "\n",
       "   是否样本  \n",
       "0     1  \n",
       "1     1  "
      ]
     },
     "execution_count": 4,
     "metadata": {},
     "output_type": "execute_result"
    }
   ],
   "source": [
    "customers=pd.read_csv('../data/customers.csv',dtype={0:str},parse_dates=['注册日期'])\n",
    "customers=customers[[col for col in customers.columns if 'Unnamed' not in col]]\n",
    "customers=customers[customers['是否样本']==1]   ## 筛选样本\n",
    "customers_new=customers['客户id'].to_frame()\n",
    "customers.head(2)"
   ]
  },
  {
   "cell_type": "code",
   "execution_count": 5,
   "id": "53c37655",
   "metadata": {},
   "outputs": [
    {
     "name": "stdout",
     "output_type": "stream",
     "text": [
      "(2539023, 21)\n"
     ]
    },
    {
     "data": {
      "text/html": [
       "<div>\n",
       "<style scoped>\n",
       "    .dataframe tbody tr th:only-of-type {\n",
       "        vertical-align: middle;\n",
       "    }\n",
       "\n",
       "    .dataframe tbody tr th {\n",
       "        vertical-align: top;\n",
       "    }\n",
       "\n",
       "    .dataframe thead th {\n",
       "        text-align: right;\n",
       "    }\n",
       "</style>\n",
       "<table border=\"1\" class=\"dataframe\">\n",
       "  <thead>\n",
       "    <tr style=\"text-align: right;\">\n",
       "      <th></th>\n",
       "      <th>订单创建日期时间</th>\n",
       "      <th>订单支付日期时间</th>\n",
       "      <th>客户id</th>\n",
       "      <th>订单号</th>\n",
       "      <th>商品编码</th>\n",
       "      <th>数量</th>\n",
       "      <th>商品原价</th>\n",
       "      <th>成交单价</th>\n",
       "      <th>实付金额</th>\n",
       "      <th>折扣金额</th>\n",
       "      <th>...</th>\n",
       "      <th>退款金额</th>\n",
       "      <th>订单总计运费</th>\n",
       "      <th>支付方式</th>\n",
       "      <th>活动id</th>\n",
       "      <th>是否活动</th>\n",
       "      <th>活动类型</th>\n",
       "      <th>支付状态</th>\n",
       "      <th>实际配送时长</th>\n",
       "      <th>是否样本</th>\n",
       "      <th>实际配送时长(更新)</th>\n",
       "    </tr>\n",
       "  </thead>\n",
       "  <tbody>\n",
       "    <tr>\n",
       "      <th>0</th>\n",
       "      <td>2023-02-01 00:04:04</td>\n",
       "      <td>2023-02-01 00:04:21</td>\n",
       "      <td>6970904171633709202</td>\n",
       "      <td>BL2302030004036294606</td>\n",
       "      <td>7018092099601956864</td>\n",
       "      <td>5</td>\n",
       "      <td>11.09</td>\n",
       "      <td>11.09</td>\n",
       "      <td>55.45</td>\n",
       "      <td>0.0</td>\n",
       "      <td>...</td>\n",
       "      <td>0.0</td>\n",
       "      <td>0.0</td>\n",
       "      <td>微信</td>\n",
       "      <td>0</td>\n",
       "      <td>否</td>\n",
       "      <td>无</td>\n",
       "      <td>部分退款</td>\n",
       "      <td>3.0</td>\n",
       "      <td>1</td>\n",
       "      <td>3.0</td>\n",
       "    </tr>\n",
       "    <tr>\n",
       "      <th>1</th>\n",
       "      <td>2023-02-01 00:04:04</td>\n",
       "      <td>2023-02-01 00:04:21</td>\n",
       "      <td>6970904171633709202</td>\n",
       "      <td>BL2302030004036294606</td>\n",
       "      <td>7024926117903466496</td>\n",
       "      <td>5</td>\n",
       "      <td>4.88</td>\n",
       "      <td>4.88</td>\n",
       "      <td>24.40</td>\n",
       "      <td>0.0</td>\n",
       "      <td>...</td>\n",
       "      <td>0.0</td>\n",
       "      <td>0.0</td>\n",
       "      <td>微信</td>\n",
       "      <td>0</td>\n",
       "      <td>否</td>\n",
       "      <td>无</td>\n",
       "      <td>部分退款</td>\n",
       "      <td>3.0</td>\n",
       "      <td>1</td>\n",
       "      <td>3.0</td>\n",
       "    </tr>\n",
       "  </tbody>\n",
       "</table>\n",
       "<p>2 rows × 21 columns</p>\n",
       "</div>"
      ],
      "text/plain": [
       "             订单创建日期时间            订单支付日期时间                 客户id  \\\n",
       "0 2023-02-01 00:04:04 2023-02-01 00:04:21  6970904171633709202   \n",
       "1 2023-02-01 00:04:04 2023-02-01 00:04:21  6970904171633709202   \n",
       "\n",
       "                     订单号                 商品编码  数量   商品原价   成交单价   实付金额  折扣金额  \\\n",
       "0  BL2302030004036294606  7018092099601956864   5  11.09  11.09  55.45   0.0   \n",
       "1  BL2302030004036294606  7024926117903466496   5   4.88   4.88  24.40   0.0   \n",
       "\n",
       "   ...  退款金额  订单总计运费  支付方式 活动id 是否活动 活动类型  支付状态 实际配送时长  是否样本  实际配送时长(更新)  \n",
       "0  ...   0.0     0.0    微信    0    否    无  部分退款    3.0     1         3.0  \n",
       "1  ...   0.0     0.0    微信    0    否    无  部分退款    3.0     1         3.0  \n",
       "\n",
       "[2 rows x 21 columns]"
      ]
     },
     "execution_count": 5,
     "metadata": {},
     "output_type": "execute_result"
    }
   ],
   "source": [
    "orders=pd.read_csv('订单表处理后_300w样本.csv',\n",
    "#orders=pd.read_csv('../data/orders_2023.csv',nrows=5000000   ,\n",
    "                 parse_dates={'订单创建日期时间': ['订单创建日期', '订单创建时间'],\n",
    "                              '订单支付日期时间': ['订单支付日期', '订单支付时间']},\n",
    "                 dtype={'客户id': str, '订单号': str, '商品编码': str, '活动id': str})\n",
    "## 筛选样本和 只取设定里面的时间\n",
    "orders=orders[orders['是否样本']==1]\n",
    "orders = orders[(orders['订单创建日期时间']>start) & (orders['订单创建日期时间']<end)]\n",
    "orders = orders[[col for col in orders.columns if 'Unnamed' not in col]].sort_values('订单创建日期时间').reset_index(drop=True)\n",
    "print(orders.shape)\n",
    "orders.head(2)"
   ]
  },
  {
   "cell_type": "code",
   "execution_count": 6,
   "id": "325cea49",
   "metadata": {},
   "outputs": [],
   "source": [
    "# 根据商品编码合并数据框，这里使用 left join 保留 orders 表中的所有行，然后赛选时间和支付状态\n",
    "merged_df = pd.merge(orders, commodity, on='商品编码', how='left')\n",
    "merged_df= merged_df[(merged_df['订单创建日期时间'] >start) & (merged_df['订单创建日期时间'] <end)]\n",
    "merged_df_已支付或部分退款=merged_df[merged_df['支付状态'].isin(['已支付', '部分退款'])]"
   ]
  },
  {
   "cell_type": "code",
   "execution_count": 7,
   "id": "fcdcf3bf",
   "metadata": {},
   "outputs": [
    {
     "name": "stdout",
     "output_type": "stream",
     "text": [
      "<class 'pandas.core.frame.DataFrame'>\n",
      "Int64Index: 226401 entries, 0 to 331573\n",
      "Data columns (total 17 columns):\n",
      " #   Column    Non-Null Count   Dtype         \n",
      "---  ------    --------------   -----         \n",
      " 0   客户id      226401 non-null  object        \n",
      " 1   客户名称      226401 non-null  object        \n",
      " 2   客户类型(新增)  226401 non-null  object        \n",
      " 3   推广经理      226401 non-null  object        \n",
      " 4   当前状态      226401 non-null  object        \n",
      " 5   连锁标记(更新)  3895 non-null    object        \n",
      " 6   客户所在省     226399 non-null  object        \n",
      " 7   客户所在市     226399 non-null  object        \n",
      " 8   客户所在县     226399 non-null  object        \n",
      " 9   是否医保店     226401 non-null  object        \n",
      " 10  客户等级      226401 non-null  object        \n",
      " 11  位置类型(更新)  189799 non-null  object        \n",
      " 12  注册日期      226401 non-null  datetime64[ns]\n",
      " 13  是否有过投诉    226401 non-null  object        \n",
      " 14  是否连锁(新增)  226401 non-null  object        \n",
      " 15  行政区划      226401 non-null  object        \n",
      " 16  是否样本      226401 non-null  int64         \n",
      "dtypes: datetime64[ns](1), int64(1), object(15)\n",
      "memory usage: 31.1+ MB\n"
     ]
    }
   ],
   "source": [
    "customers.info()"
   ]
  },
  {
   "cell_type": "markdown",
   "id": "d3f2dba0",
   "metadata": {},
   "source": [
    "# \"基础属性\""
   ]
  },
  {
   "cell_type": "markdown",
   "id": "5da1fb04",
   "metadata": {},
   "source": [
    "### 门店类型\n",
    "### 行政区划"
   ]
  },
  {
   "cell_type": "code",
   "execution_count": 8,
   "id": "d899794b",
   "metadata": {},
   "outputs": [
    {
     "name": "stdout",
     "output_type": "stream",
     "text": [
      "<class 'pandas.core.frame.DataFrame'>\n",
      "Int64Index: 226401 entries, 0 to 331573\n",
      "Data columns (total 1 columns):\n",
      " #   Column  Non-Null Count   Dtype \n",
      "---  ------  --------------   ----- \n",
      " 0   客户id    226401 non-null  object\n",
      "dtypes: object(1)\n",
      "memory usage: 3.5+ MB\n"
     ]
    }
   ],
   "source": [
    "customers_new.info()"
   ]
  },
  {
   "cell_type": "code",
   "execution_count": 9,
   "id": "03b08c80",
   "metadata": {},
   "outputs": [],
   "source": [
    "customers_new=pd.merge(customers_new, customers[['客户id','客户类型(新增)','行政区划']].rename(columns={'客户类型(新增)':'门店类型'}), on='客户id', how='left')"
   ]
  },
  {
   "cell_type": "markdown",
   "id": "24ceafef",
   "metadata": {},
   "source": [
    "### 注册时长"
   ]
  },
  {
   "cell_type": "code",
   "execution_count": 10,
   "id": "23743398",
   "metadata": {},
   "outputs": [],
   "source": [
    "customers_new = pd.merge(customers_new, customers[['客户id','注册日期']], on='客户id', how='left')\n",
    "customers_new ['注册时长']=(orders['订单创建日期时间'].max() - customers_new['注册日期']).dt.days / 30#"
   ]
  },
  {
   "cell_type": "markdown",
   "id": "ef56bd6e",
   "metadata": {},
   "source": [
    "### 第一次采购间隔"
   ]
  },
  {
   "cell_type": "code",
   "execution_count": 11,
   "id": "37a88eda",
   "metadata": {
    "scrolled": true
   },
   "outputs": [
    {
     "name": "stdout",
     "output_type": "stream",
     "text": [
      "<class 'pandas.core.frame.DataFrame'>\n",
      "Int64Index: 2235771 entries, 0 to 2538974\n",
      "Data columns (total 40 columns):\n",
      " #   Column      Dtype         \n",
      "---  ------      -----         \n",
      " 0   订单创建日期时间    datetime64[ns]\n",
      " 1   订单支付日期时间    datetime64[ns]\n",
      " 2   客户id        object        \n",
      " 3   订单号         object        \n",
      " 4   商品编码        object        \n",
      " 5   数量          int64         \n",
      " 6   商品原价        float64       \n",
      " 7   成交单价        float64       \n",
      " 8   实付金额        float64       \n",
      " 9   折扣金额        float64       \n",
      " 10  应付金额        float64       \n",
      " 11  退款金额        float64       \n",
      " 12  订单总计运费      float64       \n",
      " 13  支付方式        object        \n",
      " 14  活动id        object        \n",
      " 15  是否活动        object        \n",
      " 16  活动类型        object        \n",
      " 17  支付状态        object        \n",
      " 18  实际配送时长      float64       \n",
      " 19  是否样本        int64         \n",
      " 20  实际配送时长(更新)  float64       \n",
      " 21  id          object        \n",
      " 22  商品名称        object        \n",
      " 23  品牌名称        object        \n",
      " 24  规格          object        \n",
      " 25  单位          object        \n",
      " 26  生产厂家        object        \n",
      " 27  批准文号        object        \n",
      " 28  库存数量        int64         \n",
      " 29  疾病分类统一      object        \n",
      " 30  商品类别        object        \n",
      " 31  医保类型        object        \n",
      " 32  工业采购价       float64       \n",
      " 33  客户采购价格      float64       \n",
      " 34  建议零售价       float64       \n",
      " 35  工业毛利额       float64       \n",
      " 36  客户毛利额       float64       \n",
      " 37  客户毛利率       float64       \n",
      " 38  上架日期        object        \n",
      " 39  最后一次采购日期    object        \n",
      "dtypes: datetime64[ns](2), float64(15), int64(3), object(20)\n",
      "memory usage: 699.4+ MB\n"
     ]
    }
   ],
   "source": [
    "merged_df_已支付或部分退款.info()"
   ]
  },
  {
   "cell_type": "code",
   "execution_count": 12,
   "id": "23629be6",
   "metadata": {
    "scrolled": true
   },
   "outputs": [],
   "source": [
    "#注意需要加筛选条件支付状态=已支付或部分退款\n",
    "merged_df_已支付或部分退款=merged_df[merged_df['支付状态'].isin(['已支付', '部分退款'])]\n",
    "#第一次采购间隔\n",
    "customers_new = pd.merge(customers_new, merged_df_已支付或部分退款.groupby('客户id')[['订单支付日期时间']].min().reset_index(), on='客户id', how='left')\n",
    "customers_new ['第一次采购间隔']=((customers_new ['订单支付日期时间'] - customers_new ['注册日期']).dt.days.apply(lambda x: 1 if x < 0 else x)) / 30\n",
    "customers_new=customers_new.drop(columns=['订单支付日期时间'])"
   ]
  },
  {
   "cell_type": "code",
   "execution_count": 13,
   "id": "c9a9c85b",
   "metadata": {},
   "outputs": [],
   "source": [
    "customers_new.drop(columns=['注册日期'],inplace=True)"
   ]
  },
  {
   "cell_type": "code",
   "execution_count": 14,
   "id": "7f83f198",
   "metadata": {},
   "outputs": [
    {
     "data": {
      "text/plain": [
       "count    94887.000000\n",
       "mean        18.363503\n",
       "std         10.793422\n",
       "min          0.000000\n",
       "25%          9.033333\n",
       "50%         19.233333\n",
       "75%         26.466667\n",
       "max         44.166667\n",
       "Name: 第一次采购间隔, dtype: float64"
      ]
     },
     "execution_count": 14,
     "metadata": {},
     "output_type": "execute_result"
    }
   ],
   "source": [
    "customers_new ['第一次采购间隔'].describe()"
   ]
  },
  {
   "cell_type": "markdown",
   "id": "c6c085a0",
   "metadata": {},
   "source": [
    "# \"消费能力&贡献度\""
   ]
  },
  {
   "cell_type": "markdown",
   "id": "6defe8d4",
   "metadata": {},
   "source": [
    "### 采购金额"
   ]
  },
  {
   "cell_type": "code",
   "execution_count": 15,
   "id": "744c22f2",
   "metadata": {},
   "outputs": [],
   "source": [
    "customers_new = pd.merge(customers_new, \n",
    "                         merged_df_已支付或部分退款.groupby(['客户id']).sum(numeric_only=True)['实付金额']\n",
    "                         .reset_index().rename(columns={'实付金额': '采购金额'}) , on='客户id', how='left')"
   ]
  },
  {
   "cell_type": "markdown",
   "id": "798a989e",
   "metadata": {},
   "source": [
    "### 月均采购金额"
   ]
  },
  {
   "cell_type": "code",
   "execution_count": 16,
   "id": "d91a705b",
   "metadata": {},
   "outputs": [],
   "source": [
    "customers_new = pd.merge(customers_new,\n",
    "                (merged_df_已支付或部分退款.assign(年份月份=lambda x: x['订单支付日期时间'].dt.to_period('M'))\n",
    "                 .groupby(['客户id', '年份月份'])\n",
    "                 .agg(月实付金额=('实付金额', 'sum'))\n",
    "                 .groupby(level='客户id')\n",
    "                 .agg(年度总实付金额=('月实付金额', 'sum'), 消费月份数=('月实付金额', 'count'))\n",
    "                 .assign(月均实付金额=lambda x: x['年度总实付金额'] / x['消费月份数'])\n",
    "                 .reset_index()[['客户id', '月均实付金额']])\n",
    "                           , on='客户id', how='left')"
   ]
  },
  {
   "cell_type": "markdown",
   "id": "9ae9a6ac",
   "metadata": {},
   "source": [
    "### 平均折扣率"
   ]
  },
  {
   "cell_type": "code",
   "execution_count": 17,
   "id": "d6b0f40e",
   "metadata": {},
   "outputs": [],
   "source": [
    "customers_new = pd.merge(customers_new,\n",
    "                         merged_df_已支付或部分退款.groupby(['客户id']).sum(numeric_only=True).assign(平均折扣率=lambda x:x['实付金额']/x['应付金额']).reset_index()[['客户id','平均折扣率']]\n",
    "                          , on='客户id', how='left')"
   ]
  },
  {
   "cell_type": "markdown",
   "id": "92fb2cce",
   "metadata": {},
   "source": [
    "### 折扣订单占比"
   ]
  },
  {
   "cell_type": "code",
   "execution_count": 18,
   "id": "25fac9af",
   "metadata": {},
   "outputs": [
    {
     "name": "stderr",
     "output_type": "stream",
     "text": [
      "D:\\Anaconda\\lib\\site-packages\\ipykernel_launcher.py:1: SettingWithCopyWarning: \n",
      "A value is trying to be set on a copy of a slice from a DataFrame.\n",
      "Try using .loc[row_indexer,col_indexer] = value instead\n",
      "\n",
      "See the caveats in the documentation: https://pandas.pydata.org/pandas-docs/stable/user_guide/indexing.html#returning-a-view-versus-a-copy\n",
      "  \"\"\"Entry point for launching an IPython kernel.\n"
     ]
    }
   ],
   "source": [
    "merged_df_已支付或部分退款['是否打折'] = ((merged_df_已支付或部分退款['实付金额'] / merged_df_已支付或部分退款['应付金额']) <= 0.9).map({True: '是', False: '不是'})\n",
    "customers_new = pd.merge(customers_new,\n",
    "                         merged_df_已支付或部分退款.groupby(['客户id', '是否打折']).size().unstack(fill_value=0).assign(折扣订单占比=lambda x:x['是']/(x['是']+x['不是'])).reset_index()[['客户id','折扣订单占比']]\n",
    "                          , on='客户id', how='left')"
   ]
  },
  {
   "cell_type": "markdown",
   "id": "b13ce478",
   "metadata": {},
   "source": [
    "### 最大采购金额"
   ]
  },
  {
   "cell_type": "code",
   "execution_count": 19,
   "id": "c48f3724",
   "metadata": {},
   "outputs": [],
   "source": [
    "customers_new = pd.merge(customers_new,\n",
    "                         merged_df_已支付或部分退款.groupby(['客户id'])['实付金额'].max().reset_index().rename(columns={'实付金额':'最大采购金额'})\n",
    "                          , on='客户id', how='left')"
   ]
  },
  {
   "cell_type": "markdown",
   "id": "f0890d06",
   "metadata": {},
   "source": [
    "### 最小采购金额"
   ]
  },
  {
   "cell_type": "code",
   "execution_count": 20,
   "id": "c58bad82",
   "metadata": {},
   "outputs": [],
   "source": [
    "customers_new = pd.merge(customers_new,\n",
    "                         merged_df_已支付或部分退款.groupby(['客户id'])['实付金额'].min().reset_index().rename(columns={'实付金额':'最小采购金额'})\n",
    "                          , on='客户id', how='left')"
   ]
  },
  {
   "cell_type": "markdown",
   "id": "017975c5",
   "metadata": {},
   "source": [
    "### 客盒数"
   ]
  },
  {
   "cell_type": "code",
   "execution_count": 21,
   "id": "def96317",
   "metadata": {},
   "outputs": [],
   "source": [
    "customers_new = pd.merge(customers_new,(merged_df_已支付或部分退款.groupby(['客户id']).size().rename('订单数').to_frame()\\\n",
    ".assign(总盒数量=merged_df_已支付或部分退款.groupby(['客户id'])['数量'].sum(numeric_only=True))\\\n",
    ".assign(客盒数=lambda x:x['总盒数量']/x['订单数'])['客盒数'].reset_index())\n",
    "                          , on='客户id', how='left')"
   ]
  },
  {
   "cell_type": "markdown",
   "id": "1cd9e29a",
   "metadata": {},
   "source": [
    "### 客品数"
   ]
  },
  {
   "cell_type": "code",
   "execution_count": 22,
   "id": "e8d9129b",
   "metadata": {},
   "outputs": [],
   "source": [
    "customers_new = pd.merge(customers_new,(merged_df_已支付或部分退款.groupby(['客户id']).size().rename('订单数').to_frame()\\\n",
    ".assign(sku数=merged_df_已支付或部分退款.groupby('客户id')['商品编码'].nunique())\\\n",
    ".assign(客品数=lambda x:x['sku数']/x['订单数'])['客品数'].reset_index())\n",
    "                          , on='客户id', how='left')"
   ]
  },
  {
   "cell_type": "markdown",
   "id": "1eb17977",
   "metadata": {},
   "source": [
    "### sku数"
   ]
  },
  {
   "cell_type": "code",
   "execution_count": 23,
   "id": "6bcc3925",
   "metadata": {},
   "outputs": [],
   "source": [
    "customers_new = pd.merge(customers_new, \n",
    "                         merged_df_已支付或部分退款.groupby('客户id')['商品编码'].nunique().reset_index()\n",
    "                         .rename(columns={'商品编码': 'sku数'}), on='客户id', how='left')"
   ]
  },
  {
   "cell_type": "markdown",
   "id": "a17a5413",
   "metadata": {},
   "source": [
    "### 客单价"
   ]
  },
  {
   "cell_type": "code",
   "execution_count": 24,
   "id": "2c98a08f",
   "metadata": {},
   "outputs": [],
   "source": [
    "customers_new = pd.merge(customers_new, (merged_df_已支付或部分退款.groupby(['客户id']).size().rename('订单数').to_frame()\\\n",
    ".assign(总实付金额=merged_df_已支付或部分退款.groupby('客户id')['实付金额'].sum(numeric_only=True))\\\n",
    ".assign(客单价=lambda x:x['总实付金额']/x['订单数'])['客单价'].reset_index())\n",
    "                         , on='客户id', how='left')"
   ]
  },
  {
   "cell_type": "markdown",
   "id": "107e9142",
   "metadata": {},
   "source": [
    "### 品单价"
   ]
  },
  {
   "cell_type": "code",
   "execution_count": 25,
   "id": "aed68251",
   "metadata": {},
   "outputs": [],
   "source": [
    "customers_new = pd.merge(customers_new,(merged_df_已支付或部分退款.groupby('客户id')['实付金额'].sum(numeric_only=True).to_frame()\\\n",
    ".assign(sku数=merged_df_已支付或部分退款.groupby('客户id')['商品编码'].nunique())\\\n",
    ".assign(品单价=lambda x:x['实付金额']/x['sku数'])['品单价'].reset_index())\n",
    "                               , on='客户id', how='left')"
   ]
  },
  {
   "cell_type": "markdown",
   "id": "ee41d03d",
   "metadata": {},
   "source": [
    "### 客户毛利额"
   ]
  },
  {
   "cell_type": "markdown",
   "id": "f9c14dc5",
   "metadata": {},
   "source": [
    "### 客户毛利率"
   ]
  },
  {
   "cell_type": "code",
   "execution_count": 26,
   "id": "27906ec8",
   "metadata": {
    "scrolled": true
   },
   "outputs": [],
   "source": [
    "merged_df_已支付或部分退款 =merged_df_已支付或部分退款.assign(客户毛利额=lambda x: x['建议零售价'] - x['成交单价'])\n",
    "merged_df_已支付或部分退款['客户毛利额']=merged_df_已支付或部分退款['数量']*merged_df_已支付或部分退款['客户毛利额']\n",
    "merged_df_已支付或部分退款['总建议零售价']=merged_df_已支付或部分退款['数量']*merged_df_已支付或部分退款['建议零售价']\n",
    "\n",
    "groupby_iddf=merged_df_已支付或部分退款.groupby('客户id')[['客户毛利额','总建议零售价']].sum(numeric_only=True).reset_index()\n",
    "groupby_iddf['客户毛利率']=groupby_iddf['客户毛利额']/groupby_iddf['总建议零售价']\n",
    "customers_new = pd.merge(customers_new, groupby_iddf[['客户id','客户毛利额','客户毛利率']], on='客户id', how='left')"
   ]
  },
  {
   "cell_type": "markdown",
   "id": "f4464abd",
   "metadata": {},
   "source": [
    "### 工业毛利额"
   ]
  },
  {
   "cell_type": "markdown",
   "id": "63f4a8a8",
   "metadata": {},
   "source": [
    "### 工业毛利率"
   ]
  },
  {
   "cell_type": "code",
   "execution_count": 27,
   "id": "76a346f3",
   "metadata": {},
   "outputs": [],
   "source": [
    "# 新列名为 '工业毛利额'，计算方法为成交单价减去工业采购价\n",
    "merged_df_已支付或部分退款 =merged_df_已支付或部分退款.assign(工业毛利额=lambda x: x['成交单价'] - x['工业采购价'])\n",
    "merged_df_已支付或部分退款['工业毛利额']=merged_df_已支付或部分退款['数量']*merged_df_已支付或部分退款['工业毛利额']\n",
    "groupby_iddf=merged_df_已支付或部分退款.groupby('客户id')[['工业毛利额','实付金额']].sum(numeric_only=True).reset_index()\n",
    "groupby_iddf['工业毛利率']=groupby_iddf['工业毛利额']/groupby_iddf['实付金额']\n",
    "customers_new = pd.merge(customers_new, groupby_iddf[['客户id','工业毛利额','工业毛利率']], on='客户id', how='left')"
   ]
  },
  {
   "cell_type": "markdown",
   "id": "3093aa74",
   "metadata": {},
   "source": [
    "### 采购趋势 \n",
    "##### （计算增长率）"
   ]
  },
  {
   "cell_type": "code",
   "execution_count": 28,
   "id": "a22a71f7",
   "metadata": {
    "scrolled": true
   },
   "outputs": [],
   "source": [
    "# 设置订单支付日期时间为索引\n",
    "merged_df_已支付或部分退款.loc[:,'采购月份']=merged_df_已支付或部分退款['订单创建日期时间'].dt.to_period('M')\n",
    "#merged_df_已支付或部分退款.groupby(['客户id','采购月份'])['实付金额'].sum(numeric_only=True).unstack(fill_value=0)#.reset_index()"
   ]
  },
  {
   "cell_type": "code",
   "execution_count": 29,
   "id": "43622593",
   "metadata": {
    "scrolled": true
   },
   "outputs": [
    {
     "data": {
      "text/html": [
       "<div>\n",
       "<style scoped>\n",
       "    .dataframe tbody tr th:only-of-type {\n",
       "        vertical-align: middle;\n",
       "    }\n",
       "\n",
       "    .dataframe tbody tr th {\n",
       "        vertical-align: top;\n",
       "    }\n",
       "\n",
       "    .dataframe thead th {\n",
       "        text-align: right;\n",
       "    }\n",
       "</style>\n",
       "<table border=\"1\" class=\"dataframe\">\n",
       "  <thead>\n",
       "    <tr style=\"text-align: right;\">\n",
       "      <th>采购月份</th>\n",
       "      <th>客户id</th>\n",
       "      <th>2023-02</th>\n",
       "      <th>2023-03</th>\n",
       "      <th>2023-04</th>\n",
       "      <th>2023-05</th>\n",
       "      <th>2023-06</th>\n",
       "      <th>2023-07</th>\n",
       "      <th>2023-08</th>\n",
       "      <th>2023-12</th>\n",
       "      <th>2024-01</th>\n",
       "      <th>采购趋势</th>\n",
       "    </tr>\n",
       "  </thead>\n",
       "  <tbody>\n",
       "    <tr>\n",
       "      <th>0</th>\n",
       "      <td>6948454484532084736</td>\n",
       "      <td>0.0</td>\n",
       "      <td>0.00</td>\n",
       "      <td>0.00</td>\n",
       "      <td>0.0</td>\n",
       "      <td>0.0</td>\n",
       "      <td>0.0</td>\n",
       "      <td>0.0</td>\n",
       "      <td>0.000000</td>\n",
       "      <td>3047.100000</td>\n",
       "      <td>上升</td>\n",
       "    </tr>\n",
       "    <tr>\n",
       "      <th>1</th>\n",
       "      <td>6948474478838104064</td>\n",
       "      <td>0.0</td>\n",
       "      <td>0.00</td>\n",
       "      <td>822.85</td>\n",
       "      <td>0.0</td>\n",
       "      <td>0.0</td>\n",
       "      <td>0.0</td>\n",
       "      <td>0.0</td>\n",
       "      <td>0.000000</td>\n",
       "      <td>2500.350000</td>\n",
       "      <td>上升</td>\n",
       "    </tr>\n",
       "    <tr>\n",
       "      <th>2</th>\n",
       "      <td>6948519220464402432</td>\n",
       "      <td>0.0</td>\n",
       "      <td>0.00</td>\n",
       "      <td>876.50</td>\n",
       "      <td>0.0</td>\n",
       "      <td>0.0</td>\n",
       "      <td>0.0</td>\n",
       "      <td>0.0</td>\n",
       "      <td>0.000000</td>\n",
       "      <td>1044.050020</td>\n",
       "      <td>上升</td>\n",
       "    </tr>\n",
       "    <tr>\n",
       "      <th>3</th>\n",
       "      <td>6948533961194946560</td>\n",
       "      <td>185.8</td>\n",
       "      <td>0.00</td>\n",
       "      <td>0.00</td>\n",
       "      <td>0.0</td>\n",
       "      <td>0.0</td>\n",
       "      <td>0.0</td>\n",
       "      <td>0.0</td>\n",
       "      <td>0.000000</td>\n",
       "      <td>0.000000</td>\n",
       "      <td>下滑</td>\n",
       "    </tr>\n",
       "    <tr>\n",
       "      <th>4</th>\n",
       "      <td>6948536130694365184</td>\n",
       "      <td>0.0</td>\n",
       "      <td>831.91</td>\n",
       "      <td>0.00</td>\n",
       "      <td>0.0</td>\n",
       "      <td>0.0</td>\n",
       "      <td>0.0</td>\n",
       "      <td>0.0</td>\n",
       "      <td>3969.170053</td>\n",
       "      <td>6551.100286</td>\n",
       "      <td>上升</td>\n",
       "    </tr>\n",
       "  </tbody>\n",
       "</table>\n",
       "</div>"
      ],
      "text/plain": [
       "采购月份                 客户id  2023-02  2023-03  2023-04  2023-05  2023-06  \\\n",
       "0     6948454484532084736      0.0     0.00     0.00      0.0      0.0   \n",
       "1     6948474478838104064      0.0     0.00   822.85      0.0      0.0   \n",
       "2     6948519220464402432      0.0     0.00   876.50      0.0      0.0   \n",
       "3     6948533961194946560    185.8     0.00     0.00      0.0      0.0   \n",
       "4     6948536130694365184      0.0   831.91     0.00      0.0      0.0   \n",
       "\n",
       "采购月份  2023-07  2023-08      2023-12      2024-01 采购趋势  \n",
       "0         0.0      0.0     0.000000  3047.100000   上升  \n",
       "1         0.0      0.0     0.000000  2500.350000   上升  \n",
       "2         0.0      0.0     0.000000  1044.050020   上升  \n",
       "3         0.0      0.0     0.000000     0.000000   下滑  \n",
       "4         0.0      0.0  3969.170053  6551.100286   上升  "
      ]
     },
     "execution_count": 29,
     "metadata": {},
     "output_type": "execute_result"
    }
   ],
   "source": [
    "def calculate_purchase_trend(df):\n",
    "    # 计算增长率\n",
    "    growth_rates = df.diff(axis=1) / df.shift(axis=1)\n",
    "    non_zero_count = df[df != 0].count(axis=1)\n",
    "    minimum_non_zero = 1  \n",
    "    \n",
    "    growth_rates[non_zero_count < minimum_non_zero] = 0\n",
    "    positive_growth = growth_rates[growth_rates > 0].fillna(0)\n",
    "    negative_growth = growth_rates[growth_rates < 0].fillna(0)\n",
    "    # 计算正增长率和负增长率的绝对值之和\n",
    "    positive_growth_sum = positive_growth.sum(axis=1)\n",
    "    negative_growth_sum = negative_growth.abs().sum(axis=1)\n",
    "    # 判断采购趋势\n",
    "    df['采购趋势'] = np.where(positive_growth_sum > negative_growth_sum, '上升',\n",
    "                     np.where(positive_growth_sum < negative_growth_sum, '下滑', '平稳'))\n",
    "    return df\n",
    "采购趋势1=calculate_purchase_trend(merged_df_已支付或部分退款.groupby(['客户id','采购月份'])['实付金额'].sum(numeric_only=True).unstack(fill_value=0)).reset_index()\n",
    "采购趋势1.head()"
   ]
  },
  {
   "cell_type": "markdown",
   "id": "e6a8b8bd",
   "metadata": {},
   "source": [
    "### 采购趋势 \n",
    "###### （回归）"
   ]
  },
  {
   "cell_type": "code",
   "execution_count": 30,
   "id": "8ba0b195",
   "metadata": {
    "scrolled": true
   },
   "outputs": [
    {
     "data": {
      "text/html": [
       "<div>\n",
       "<style scoped>\n",
       "    .dataframe tbody tr th:only-of-type {\n",
       "        vertical-align: middle;\n",
       "    }\n",
       "\n",
       "    .dataframe tbody tr th {\n",
       "        vertical-align: top;\n",
       "    }\n",
       "\n",
       "    .dataframe thead th {\n",
       "        text-align: right;\n",
       "    }\n",
       "</style>\n",
       "<table border=\"1\" class=\"dataframe\">\n",
       "  <thead>\n",
       "    <tr style=\"text-align: right;\">\n",
       "      <th>采购月份</th>\n",
       "      <th>客户id</th>\n",
       "      <th>2023-02</th>\n",
       "      <th>2023-03</th>\n",
       "      <th>2023-04</th>\n",
       "      <th>2023-05</th>\n",
       "      <th>2023-06</th>\n",
       "      <th>2023-07</th>\n",
       "      <th>2023-08</th>\n",
       "      <th>2023-12</th>\n",
       "      <th>2024-01</th>\n",
       "      <th>采购趋势</th>\n",
       "    </tr>\n",
       "  </thead>\n",
       "  <tbody>\n",
       "    <tr>\n",
       "      <th>0</th>\n",
       "      <td>6948454484532084736</td>\n",
       "      <td>0.0</td>\n",
       "      <td>0.00</td>\n",
       "      <td>0.00</td>\n",
       "      <td>0.0</td>\n",
       "      <td>0.0</td>\n",
       "      <td>0.0</td>\n",
       "      <td>0.0</td>\n",
       "      <td>0.000000</td>\n",
       "      <td>3047.100000</td>\n",
       "      <td>上升</td>\n",
       "    </tr>\n",
       "    <tr>\n",
       "      <th>1</th>\n",
       "      <td>6948474478838104064</td>\n",
       "      <td>0.0</td>\n",
       "      <td>0.00</td>\n",
       "      <td>822.85</td>\n",
       "      <td>0.0</td>\n",
       "      <td>0.0</td>\n",
       "      <td>0.0</td>\n",
       "      <td>0.0</td>\n",
       "      <td>0.000000</td>\n",
       "      <td>2500.350000</td>\n",
       "      <td>上升</td>\n",
       "    </tr>\n",
       "    <tr>\n",
       "      <th>2</th>\n",
       "      <td>6948519220464402432</td>\n",
       "      <td>0.0</td>\n",
       "      <td>0.00</td>\n",
       "      <td>876.50</td>\n",
       "      <td>0.0</td>\n",
       "      <td>0.0</td>\n",
       "      <td>0.0</td>\n",
       "      <td>0.0</td>\n",
       "      <td>0.000000</td>\n",
       "      <td>1044.050020</td>\n",
       "      <td>上升</td>\n",
       "    </tr>\n",
       "    <tr>\n",
       "      <th>3</th>\n",
       "      <td>6948533961194946560</td>\n",
       "      <td>185.8</td>\n",
       "      <td>0.00</td>\n",
       "      <td>0.00</td>\n",
       "      <td>0.0</td>\n",
       "      <td>0.0</td>\n",
       "      <td>0.0</td>\n",
       "      <td>0.0</td>\n",
       "      <td>0.000000</td>\n",
       "      <td>0.000000</td>\n",
       "      <td>下滑</td>\n",
       "    </tr>\n",
       "    <tr>\n",
       "      <th>4</th>\n",
       "      <td>6948536130694365184</td>\n",
       "      <td>0.0</td>\n",
       "      <td>831.91</td>\n",
       "      <td>0.00</td>\n",
       "      <td>0.0</td>\n",
       "      <td>0.0</td>\n",
       "      <td>0.0</td>\n",
       "      <td>0.0</td>\n",
       "      <td>3969.170053</td>\n",
       "      <td>6551.100286</td>\n",
       "      <td>上升</td>\n",
       "    </tr>\n",
       "  </tbody>\n",
       "</table>\n",
       "</div>"
      ],
      "text/plain": [
       "采购月份                 客户id  2023-02  2023-03  2023-04  2023-05  2023-06  \\\n",
       "0     6948454484532084736      0.0     0.00     0.00      0.0      0.0   \n",
       "1     6948474478838104064      0.0     0.00   822.85      0.0      0.0   \n",
       "2     6948519220464402432      0.0     0.00   876.50      0.0      0.0   \n",
       "3     6948533961194946560    185.8     0.00     0.00      0.0      0.0   \n",
       "4     6948536130694365184      0.0   831.91     0.00      0.0      0.0   \n",
       "\n",
       "采购月份  2023-07  2023-08      2023-12      2024-01 采购趋势  \n",
       "0         0.0      0.0     0.000000  3047.100000   上升  \n",
       "1         0.0      0.0     0.000000  2500.350000   上升  \n",
       "2         0.0      0.0     0.000000  1044.050020   上升  \n",
       "3         0.0      0.0     0.000000     0.000000   下滑  \n",
       "4         0.0      0.0  3969.170053  6551.100286   上升  "
      ]
     },
     "execution_count": 30,
     "metadata": {},
     "output_type": "execute_result"
    }
   ],
   "source": [
    "from sklearn.linear_model import LinearRegression\n",
    "def calculate_purchase_trend2(df):\n",
    "    def calculate_trend(row):\n",
    "        X = np.arange(len(row)).reshape(-1, 1)\n",
    "        y = row.to_numpy().reshape(-1, 1)\n",
    "        \n",
    "        model = LinearRegression()\n",
    "        model.fit(X, y)\n",
    "        coefficient = model.coef_[0][0]\n",
    "        if coefficient > 0:\n",
    "            return '上升'\n",
    "        elif coefficient < 0:\n",
    "            return '下滑'\n",
    "        else:\n",
    "            return '保持平稳'\n",
    "    df['采购趋势'] =df.apply(calculate_trend, axis=1)\n",
    "    return df\n",
    "采购趋势2=calculate_purchase_trend2(merged_df_已支付或部分退款.groupby(['客户id','采购月份'])['实付金额'].sum(numeric_only=True).unstack(fill_value=0)).reset_index()\n",
    "采购趋势2.head()"
   ]
  },
  {
   "cell_type": "code",
   "execution_count": 31,
   "id": "8a5cae59",
   "metadata": {
    "scrolled": true
   },
   "outputs": [],
   "source": [
    "#你觉得谁好就合并谁\n",
    "customers_new = pd.merge(customers_new, 采购趋势1[['客户id','采购趋势']]  #采购趋势2[['客户id','采购趋势']] \n",
    "         , on='客户id', how='left')         "
   ]
  },
  {
   "cell_type": "code",
   "execution_count": null,
   "id": "e2c65a54",
   "metadata": {},
   "outputs": [],
   "source": []
  },
  {
   "cell_type": "markdown",
   "id": "79d551fe",
   "metadata": {},
   "source": [
    "### 最后一采购金额\n"
   ]
  },
  {
   "cell_type": "code",
   "execution_count": 32,
   "id": "440f0a3a",
   "metadata": {},
   "outputs": [],
   "source": [
    "customers_new = pd.merge(customers_new,\n",
    "                         merged_df_已支付或部分退款.loc[merged_df_已支付或部分退款.groupby('客户id')['订单支付日期时间'].idxmax(), ['客户id','实付金额']].rename(columns={'实付金额':\"最后一次采购金额\"})\n",
    "                         , on='客户id', how='left')"
   ]
  },
  {
   "cell_type": "markdown",
   "id": "2e6bf2e9",
   "metadata": {},
   "source": [
    "# 活跃度"
   ]
  },
  {
   "cell_type": "markdown",
   "id": "ba2351bc",
   "metadata": {},
   "source": [
    "### 最后一次采购间隔"
   ]
  },
  {
   "cell_type": "code",
   "execution_count": 33,
   "id": "d76ee20c",
   "metadata": {},
   "outputs": [],
   "source": [
    "#最后一次采购间隔\n",
    "customers_new = pd.merge(customers_new, merged_df_已支付或部分退款.groupby('客户id')[['订单支付日期时间']].max().reset_index(), on='客户id', how='left')\n",
    "customers_new ['最后一次采购间隔']=(orders['订单创建日期时间'].max()-customers_new ['订单支付日期时间']).dt.days / 30\n",
    "customers_new=customers_new.drop(columns=['订单支付日期时间'])"
   ]
  },
  {
   "cell_type": "markdown",
   "id": "c892ea31",
   "metadata": {},
   "source": [
    "### 采购时长"
   ]
  },
  {
   "cell_type": "code",
   "execution_count": 34,
   "id": "1bc3244f",
   "metadata": {},
   "outputs": [],
   "source": [
    "customers_new = pd.merge(customers_new,(customers_new\n",
    "    .merge( merged_df_已支付或部分退款.groupby('客户id')['订单支付日期时间'].agg(第一次采购时间='min', 最后一次采购时间='max').reset_index(),\n",
    "        on='客户id',  how='left')\n",
    "    .assign(采购时长=lambda x: (x['最后一次采购时间'] - x['第一次采购时间']).dt.days / 30)[['客户id','采购时长']]\n",
    ")      , on='客户id', how='left')"
   ]
  },
  {
   "cell_type": "markdown",
   "id": "450e51ce",
   "metadata": {},
   "source": [
    "### 活动参与率（<font color='red'>修改过</font>）：近一年参与次数/活动次数"
   ]
  },
  {
   "cell_type": "code",
   "execution_count": 35,
   "id": "1d21ed5e",
   "metadata": {},
   "outputs": [
    {
     "name": "stderr",
     "output_type": "stream",
     "text": [
      "D:\\Anaconda\\lib\\site-packages\\ipykernel_launcher.py:5: SettingWithCopyWarning: \n",
      "A value is trying to be set on a copy of a slice from a DataFrame.\n",
      "Try using .loc[row_indexer,col_indexer] = value instead\n",
      "\n",
      "See the caveats in the documentation: https://pandas.pydata.org/pandas-docs/stable/user_guide/indexing.html#returning-a-view-versus-a-copy\n",
      "  \"\"\"\n"
     ]
    }
   ],
   "source": [
    "def getactnum(datetime,end=orders['订单创建日期时间'].max()):\n",
    "    activities_copy =activities[(activities['开始时间']>datetime) & (activities['结束时间']<end)]\n",
    "    return len(activities_copy)\n",
    "customers_time=customers[['客户id','注册日期']]\n",
    "customers_time['时间内的活动数量'] = customers_time['注册日期'].apply(getactnum)"
   ]
  },
  {
   "cell_type": "code",
   "execution_count": 36,
   "id": "5f9dc7b8",
   "metadata": {
    "scrolled": true
   },
   "outputs": [],
   "source": [
    "customers_new = pd.merge(customers_new, (merged_df_已支付或部分退款#.drop_duplicates(subset=['客户id'])\n",
    "    .groupby(['客户id', '是否活动']).size().reset_index(name='活动数量')  # 将分组计数的结果重置为一个列\n",
    ").pivot_table(index='客户id', columns='是否活动', values='活动数量', aggfunc='sum', fill_value=0).reset_index()\\\n",
    "                         .merge(customers_time,on='客户id', how='left')\\\n",
    "                         .assign(活动参与率=lambda x: np.clip(x['是'] /x['时间内的活动数量'],0,1))[['客户id','活动参与率']]\n",
    "                           , on='客户id', how='left')"
   ]
  },
  {
   "cell_type": "code",
   "execution_count": 37,
   "id": "75da625f",
   "metadata": {},
   "outputs": [
    {
     "data": {
      "text/plain": [
       "count    94883.000000\n",
       "mean         0.043646\n",
       "std          0.104435\n",
       "min          0.000000\n",
       "25%          0.006061\n",
       "50%          0.018182\n",
       "75%          0.042424\n",
       "max          1.000000\n",
       "Name: 活动参与率, dtype: float64"
      ]
     },
     "execution_count": 37,
     "metadata": {},
     "output_type": "execute_result"
    }
   ],
   "source": [
    "customers_new['活动参与率'].describe()"
   ]
  },
  {
   "cell_type": "code",
   "execution_count": 38,
   "id": "8ad97d4f",
   "metadata": {},
   "outputs": [],
   "source": [
    "# (merged_df_已支付或部分退款.assign(年份月份=lambda x: x['订单支付日期时间'].dt.to_period('M'))\n",
    "#                  .groupby(['客户id', '年份月份']).count()['订单号']#.groupby(level='客户id').count()\n",
    "# .reset_index()#.groupby(['客户id'])['年份月份'].min())"
   ]
  },
  {
   "cell_type": "markdown",
   "id": "0c5b5483",
   "metadata": {},
   "source": [
    "### 活动参与占比（ 购买订单中参与活动的占比：参与活动次数/总订单次数）\n",
    "我自创的标签——数值高说明这种客户更偏爱参加活动"
   ]
  },
  {
   "cell_type": "code",
   "execution_count": 39,
   "id": "4cbd1917",
   "metadata": {},
   "outputs": [],
   "source": [
    "customers_new = pd.merge(customers_new, (merged_df_已支付或部分退款\n",
    "                  .groupby(['客户id', '是否活动']).size()\n",
    "                  .reset_index(name='活动数量')  # 将分组计数的结果重置为一个列\n",
    "                 .pivot_table(index='客户id', columns='是否活动', values='活动数量', aggfunc='sum', fill_value=0).reset_index()\n",
    "                 .rename_axis(None, axis=1)\n",
    "                .assign(活动参与占比=lambda x: x['是'] / (x['是'] + x['否'])))[['客户id','活动参与占比']]\n",
    "                              , on='客户id', how='left')"
   ]
  },
  {
   "cell_type": "code",
   "execution_count": 40,
   "id": "6bbb7fe2",
   "metadata": {},
   "outputs": [
    {
     "data": {
      "text/plain": [
       "count    94887.000000\n",
       "mean         0.231257\n",
       "std          0.219907\n",
       "min          0.000000\n",
       "25%          0.090909\n",
       "50%          0.176471\n",
       "75%          0.300000\n",
       "max          1.000000\n",
       "Name: 活动参与占比, dtype: float64"
      ]
     },
     "execution_count": 40,
     "metadata": {},
     "output_type": "execute_result"
    }
   ],
   "source": [
    "customers_new['活动参与占比'].describe()"
   ]
  },
  {
   "cell_type": "code",
   "execution_count": null,
   "id": "806e611e",
   "metadata": {},
   "outputs": [],
   "source": []
  },
  {
   "cell_type": "markdown",
   "id": "62ab136b",
   "metadata": {},
   "source": [
    "### 复购率"
   ]
  },
  {
   "cell_type": "code",
   "execution_count": 41,
   "id": "675f638d",
   "metadata": {},
   "outputs": [],
   "source": [
    "def calculate_repurchase_rate(df):\n",
    "    # 计算每个客户对每个商品的购买次数\n",
    "    purchase_counts = df.groupby(['客户id', '商品编码']).size().reset_index(name='购买次数')\n",
    "    # 确定每个客户购买次数超过一次的商品数量\n",
    "    repurchased = purchase_counts[purchase_counts['购买次数'] > 1].groupby('客户id')['商品编码'].nunique()\n",
    "    # 计算每个客户购买的总商品种类数量\n",
    "    total_products = df.groupby('客户id')['商品编码'].nunique()\n",
    "    # 计算复购率\n",
    "    repurchase_rate = (repurchased / total_products).fillna(0)  # 用0填充未定义的复购率（即没有复购的客户）\n",
    "    return repurchase_rate.reset_index(name='复购率')\n",
    "# 调用函数\n",
    "customers_new = pd.merge(customers_new,calculate_repurchase_rate(merged_df_已支付或部分退款), on='客户id', how='left')"
   ]
  },
  {
   "cell_type": "markdown",
   "id": "7c4b59a4",
   "metadata": {},
   "source": [
    "### 最大复购次数"
   ]
  },
  {
   "cell_type": "code",
   "execution_count": 42,
   "id": "bd2ff6bd",
   "metadata": {},
   "outputs": [],
   "source": [
    "customers_new = customers_new.merge(\n",
    "    merged_df_已支付或部分退款.groupby(['客户id', '商品编码'])\n",
    "    .size().groupby(level=0).max()\n",
    "    .reset_index(name='最大复购次数'),\n",
    "    on='客户id', how='left')"
   ]
  },
  {
   "cell_type": "markdown",
   "id": "9eb19ee2",
   "metadata": {},
   "source": [
    "### 最长连续采购月份数\n",
    "##（<font color='red'>之前修改过</font>）"
   ]
  },
  {
   "cell_type": "code",
   "execution_count": 43,
   "id": "25ef9164",
   "metadata": {
    "scrolled": true
   },
   "outputs": [],
   "source": [
    "kk=merged_df_已支付或部分退款.groupby(['客户id','采购月份'])['实付金额'].sum(numeric_only=True).unstack(fill_value=0)\n",
    "def longest_continuous_purchase(row):\n",
    "    consecutive_months = np.where(row == 0, 0, 1)\n",
    "    consecutive_months[1:] += consecutive_months[:-1]\n",
    "    return np.max(consecutive_months)\n",
    "kk['最长连续采购月份数'] = kk.apply(longest_continuous_purchase, axis=1)\n",
    "\n",
    "customers_new = customers_new.merge(kk.reset_index()[['客户id','最长连续采购月份数']],\n",
    "    on='客户id', how='left')"
   ]
  },
  {
   "cell_type": "code",
   "execution_count": 44,
   "id": "9b8374c6",
   "metadata": {},
   "outputs": [
    {
     "data": {
      "text/plain": [
       "1.0    83197\n",
       "2.0    11690\n",
       "Name: 最长连续采购月份数, dtype: int64"
      ]
     },
     "execution_count": 44,
     "metadata": {},
     "output_type": "execute_result"
    }
   ],
   "source": [
    "customers_new['最长连续采购月份数'].value_counts()"
   ]
  },
  {
   "cell_type": "markdown",
   "id": "36393b09",
   "metadata": {},
   "source": [
    "### 最大采购间隔(单位为日)"
   ]
  },
  {
   "cell_type": "markdown",
   "id": "34e9c91d",
   "metadata": {},
   "source": [
    "### 最小采购间隔(单位为日)"
   ]
  },
  {
   "cell_type": "markdown",
   "id": "8b1e0f60",
   "metadata": {},
   "source": [
    "### 平均采购间隔(单位为日)"
   ]
  },
  {
   "cell_type": "markdown",
   "id": "8bf90b4b",
   "metadata": {},
   "source": [
    "### 采购频次"
   ]
  },
  {
   "cell_type": "markdown",
   "id": "c11abc29",
   "metadata": {},
   "source": [
    "### 采购月份数"
   ]
  },
  {
   "cell_type": "code",
   "execution_count": 45,
   "id": "cfd7429b",
   "metadata": {},
   "outputs": [],
   "source": [
    "customers_new = pd.merge(\n",
    "    customers_new,\n",
    "    (merged_df_已支付或部分退款\n",
    "     .assign(年月=lambda x: x['订单创建日期时间'].dt.to_period('M'))\n",
    "     .groupby('客户id')\n",
    "     .agg(最大采购间隔=('订单创建日期时间', lambda x: x.sort_values().diff().dt.days.max() / 30 if not x.empty else 0),\n",
    "          最小采购间隔=('订单创建日期时间', lambda x: x.sort_values().diff().dt.days.min() / 30 if not x.empty else 0),\n",
    "          平均采购间隔=('订单创建日期时间', lambda x: ((x.max() - x.min()).days / (x.nunique() - 1)) / 30 if x.nunique() > 1 else (pd.Timestamp(orders['订单创建日期时间'].max()) - x.min()).days / 30),\n",
    "          采购频次=('订单创建日期时间', 'count'),\n",
    "          采购月份数=('采购月份', 'nunique'))).fillna(0)\n",
    "    ,on='客户id', how='left')"
   ]
  },
  {
   "cell_type": "markdown",
   "id": "ca4c7843",
   "metadata": {},
   "source": [
    "# 偏好"
   ]
  },
  {
   "cell_type": "markdown",
   "id": "9629b66f",
   "metadata": {},
   "source": [
    "### 购买类别数"
   ]
  },
  {
   "cell_type": "code",
   "execution_count": 46,
   "id": "9f1b16ee",
   "metadata": {},
   "outputs": [],
   "source": [
    "customers_new = pd.merge(customers_new, \n",
    "                         merged_df_已支付或部分退款.groupby('客户id')['疾病分类统一'].agg(lambda x: len(x.unique()))\n",
    "                         .reset_index().rename(columns={'疾病分类统一': '购买类别数'}) , on='客户id', how='left')"
   ]
  },
  {
   "cell_type": "markdown",
   "id": "28b7e3cb",
   "metadata": {},
   "source": [
    "### 采购类别"
   ]
  },
  {
   "cell_type": "code",
   "execution_count": 47,
   "id": "32e6cd55",
   "metadata": {},
   "outputs": [],
   "source": [
    "# 对每个客户购买的药品类别进行汇总，返回一个列表\n",
    "customers_new = pd.merge(customers_new, \n",
    "                         merged_df_已支付或部分退款.groupby('客户id')['疾病分类统一'].agg(lambda x: list(x.unique()))\n",
    "                         .reset_index().rename(columns={'疾病分类统一': '采购类别'}) , on='客户id', how='left')"
   ]
  },
  {
   "cell_type": "markdown",
   "id": "64912a4f",
   "metadata": {},
   "source": [
    "### 慢病占比-次数"
   ]
  },
  {
   "cell_type": "code",
   "execution_count": 48,
   "id": "8756240b",
   "metadata": {},
   "outputs": [],
   "source": [
    "# 计算每个客户的所有订单数量\n",
    "total_orders_per_customer = merged_df_已支付或部分退款.groupby('客户id')['数量'].count()\n",
    "# 计算每个客户在“糖尿病”和“心脑血管”分类上的订单数量\n",
    "target_orders_per_customer = merged_df_已支付或部分退款[merged_df_已支付或部分退款['疾病分类统一'].isin(['糖尿病', '心脑血管'])].groupby('客户id')['数量'].count()\n",
    "# 计算比例\n",
    "proportion_per_customer = (target_orders_per_customer / total_orders_per_customer).fillna(0)  # 用0填充那些没有这两类疾病订单的客户\n",
    "proportion_per_customer = proportion_per_customer.reset_index(name='慢性病的占比_次数')\n",
    "customers_new = pd.merge(customers_new, proportion_per_customer , on='客户id', how='left')"
   ]
  },
  {
   "cell_type": "markdown",
   "id": "e8922051",
   "metadata": {},
   "source": [
    "### 慢病占比-金额\n"
   ]
  },
  {
   "cell_type": "code",
   "execution_count": 49,
   "id": "397787f5",
   "metadata": {},
   "outputs": [],
   "source": [
    "total_orders_per_customer = merged_df_已支付或部分退款.groupby('客户id')['实付金额'].sum(numeric_only=True)\n",
    "# 计算每个客户在“糖尿病”和“心脑血管”分类上的订单数量\n",
    "target_orders_per_customer = merged_df_已支付或部分退款[merged_df_已支付或部分退款['疾病分类统一'].isin(['糖尿病', '心脑血管'])].groupby('客户id')['实付金额'].sum(numeric_only=True)\n",
    "# 计算比例\n",
    "proportion_per_customer = (target_orders_per_customer / total_orders_per_customer).fillna(0)  # 用0填充那些没有这两类疾病订单的客户\n",
    "proportion_per_customer = proportion_per_customer.reset_index(name='慢性病的占比_金额')\n",
    "customers_new = pd.merge(customers_new, proportion_per_customer , on='客户id', how='left')"
   ]
  },
  {
   "cell_type": "markdown",
   "id": "5a2befc7",
   "metadata": {},
   "source": [
    "### 主要采购类别-次数"
   ]
  },
  {
   "cell_type": "markdown",
   "id": "7b64a8c7",
   "metadata": {},
   "source": [
    "### 主要采购类别-金额"
   ]
  },
  {
   "cell_type": "code",
   "execution_count": 50,
   "id": "f7f5db06",
   "metadata": {
    "scrolled": true
   },
   "outputs": [],
   "source": [
    "# 分组并计算每个客户对每个疾病分类的购买次数和总金额\n",
    "grouped = merged_df_已支付或部分退款.groupby(['客户id', '疾病分类统一'])['实付金额'].agg(['count', 'sum']).reset_index()\n",
    "# 购买次数最多的疾病分类\n",
    "主要采购类别_次数 = grouped.sort_values(['客户id', 'count'], ascending=False).drop_duplicates('客户id').rename(columns={'疾病分类统一': '主要采购类别_次数'})[['客户id', '主要采购类别_次数']]\n",
    "\n",
    "# 购买金额最大的疾病分类\n",
    "主要采购类别_金额 = grouped.sort_values(['客户id', 'sum'], ascending=False).drop_duplicates('客户id').rename(columns={'疾病分类统一': '主要采购类别_金额'})[['客户id', '主要采购类别_金额']]\n",
    "\n",
    "customers_new = customers_new.merge(主要采购类别_次数, on='客户id', how='left').merge(主要采购类别_金额, on='客户id', how='left')"
   ]
  },
  {
   "cell_type": "markdown",
   "id": "9836b15b",
   "metadata": {},
   "source": [
    "### 付款方式"
   ]
  },
  {
   "cell_type": "code",
   "execution_count": 51,
   "id": "1d38b44d",
   "metadata": {},
   "outputs": [],
   "source": [
    "customers_new = pd.merge(customers_new, \n",
    "                         merged_df_已支付或部分退款.groupby('客户id')['支付方式'].agg(lambda x: x.value_counts().index[0])\n",
    "                         .reset_index().rename(columns={'支付方式': '付款方式'}) , on='客户id', how='left')"
   ]
  },
  {
   "cell_type": "markdown",
   "id": "d4314984",
   "metadata": {},
   "source": [
    "### 下单日期偏好"
   ]
  },
  {
   "cell_type": "code",
   "execution_count": 52,
   "id": "f46acc46",
   "metadata": {
    "scrolled": true
   },
   "outputs": [
    {
     "name": "stderr",
     "output_type": "stream",
     "text": [
      "D:\\Anaconda\\lib\\site-packages\\workalendar\\asia\\china.py:119: UserWarning: Support years 2018-2023 currently, need update every year.\n",
      "  f\"Support years {year_min}-{year_max} currently, \"\n"
     ]
    }
   ],
   "source": [
    "from workalendar.asia import China  # 中国  # 创建工作日历\n",
    "cal = China()\n",
    "# 判断日期是否为工作日  (2024年不支持，加了异常值处理的方法)\n",
    "def is_workday(date):\n",
    "    try:\n",
    "        # 使用 cal 判断日期是否为工作日\n",
    "        if cal.is_working_day(date):\n",
    "            return '工作日'\n",
    "        else:\n",
    "            return '节假日'\n",
    "    except:\n",
    "        # 如果无法使用 cal 判断，则返回 NAN\n",
    "        return np.nan\n",
    "\n",
    "# 将 '订单创建日期时间' 列应用上述函数，得到 '日期类型' 列\n",
    "merged_df_已支付或部分退款['日期类型'] = merged_df_已支付或部分退款['订单创建日期时间'].apply(is_workday)\n",
    "# 处理空值，使用 Pandas 看星期几来判断是否为工作日\n",
    "merged_df_已支付或部分退款['日期类型'].fillna(merged_df_已支付或部分退款['订单创建日期时间'].dt.weekday.apply(lambda x: '工作日' if x < 5 else '节假日'), inplace=True)\n",
    "\n",
    "\n",
    "order_counts = merged_df_已支付或部分退款.groupby(['客户id', '日期类型']).size().unstack(fill_value=0)\n",
    "# 计算节假日订单的比例\n",
    "order_counts['节假日订单比例'] = order_counts['节假日'] / (order_counts['节假日'] + order_counts['工作日'])\n",
    "# 判断偏好  (0代表工作日，1代表节假日)\n",
    "order_counts['下单日期偏好'] = order_counts['节假日订单比例'].apply(lambda x: '节假日' if x >= 0.5 else '工作日')\n",
    "# 重置索引并只保留客户ID和偏好列\n",
    "customers_new = pd.merge(customers_new, order_counts.reset_index()[['客户id', '下单日期偏好']] , on='客户id', how='left')"
   ]
  },
  {
   "cell_type": "code",
   "execution_count": 53,
   "id": "15c370ce",
   "metadata": {},
   "outputs": [
    {
     "data": {
      "text/plain": [
       "工作日    69570\n",
       "节假日    25317\n",
       "Name: 下单日期偏好, dtype: int64"
      ]
     },
     "execution_count": 53,
     "metadata": {},
     "output_type": "execute_result"
    }
   ],
   "source": [
    "customers_new['下单日期偏好'].value_counts()"
   ]
  },
  {
   "cell_type": "markdown",
   "id": "6282fbe9",
   "metadata": {},
   "source": [
    "### 下单时间偏好"
   ]
  },
  {
   "cell_type": "code",
   "execution_count": 54,
   "id": "760db6d1",
   "metadata": {},
   "outputs": [],
   "source": [
    "# 定义时间段分类的函数\n",
    "def 时间段分类(order_time):\n",
    "    if time(0, 0) <= order_time < time(8, 0):\n",
    "        return '早上'\n",
    "    elif time(8, 0) <= order_time < time(12, 0):\n",
    "        return '上午'\n",
    "    elif time(12, 0) <= order_time < time(14, 0):\n",
    "        return '中午'\n",
    "    elif time(14, 0) <= order_time < time(18, 0):\n",
    "        return '下午'\n",
    "    else:\n",
    "        return '晚上'\n",
    "# 应用时间段分类函数\n",
    "merged_df_已支付或部分退款.loc[:,'下单时间区间'] = merged_df_已支付或部分退款['订单创建日期时间'].dt.time.apply(时间段分类)\n",
    "# 计算每个客户在每个时间段的下单次数\n",
    "time_counts = merged_df_已支付或部分退款.groupby(['客户id', '下单时间区间']).size().unstack(fill_value=0)\n",
    "# 计算比例\n",
    "time_proportions = time_counts.div(time_counts.sum(axis=1), axis=0)\n",
    "# 找出每个客户偏好的下单时间段\n",
    "customers_new = pd.merge(customers_new, time_proportions.idxmax(axis=1).reset_index(name='下单时间偏好') , on='客户id', how='left')"
   ]
  },
  {
   "cell_type": "markdown",
   "id": "a8f32d99",
   "metadata": {},
   "source": [
    "### 一单一品率"
   ]
  },
  {
   "cell_type": "code",
   "execution_count": 55,
   "id": "00d78981",
   "metadata": {},
   "outputs": [],
   "source": [
    "customers_new=customers_new.merge(merged_df_已支付或部分退款\n",
    "    .groupby(['客户id', '订单号'])['商品编码'].nunique()\n",
    "    .reset_index(name='商品种类数')\n",
    "    .assign(是一单一品=lambda x: x['商品种类数'] == 1)\n",
    "    .groupby('客户id')\n",
    "    .agg(总订单数=('订单号', 'count'), 一单一品订单数=('是一单一品', 'sum'))\n",
    "    .assign(一单一品率=lambda x: x['一单一品订单数'] / x['总订单数'])\n",
    "    .reset_index()[['客户id', '一单一品率']],\n",
    "    on='客户id',how='left')#.fillna({'一单一品率': 0}) "
   ]
  },
  {
   "cell_type": "markdown",
   "id": "a60a6197",
   "metadata": {},
   "source": [
    "### 价格带"
   ]
  },
  {
   "cell_type": "code",
   "execution_count": 56,
   "id": "382fd6c7",
   "metadata": {
    "scrolled": true
   },
   "outputs": [],
   "source": [
    "from sklearn.cluster import KMeans\n",
    "def classify_price_band(prices):\n",
    "    # 如果组内数据少于3条，无法进行三类K均值聚类，返回无法聚类\n",
    "    if len(prices) < 3:\n",
    "        return pd.Series(['无法聚类'] * len(prices))\n",
    "    \n",
    "    reshaped_prices = prices.values.reshape(-1, 1)\n",
    "    kmeans = KMeans(n_clusters=3, random_state=0).fit(reshaped_prices)\n",
    "    \n",
    "    # 获取聚类中心并排序，确定价格带\n",
    "    centers = kmeans.cluster_centers_.flatten()\n",
    "    price_bands = ['低', '中', '高']\n",
    "    sorted_centers = sorted(zip(centers, price_bands))\n",
    "    \n",
    "    # 创建价格带标签的映射\n",
    "    price_band_mapping = {i: band for i, (_, band) in enumerate(sorted_centers)}\n",
    "    \n",
    "    # 映射预测的类别到价格带标签\n",
    "    price_band_labels = pd.Series([price_band_mapping[label] for label in kmeans.labels_], index=prices.index)\n",
    "    \n",
    "    return price_band_labels\n",
    "commodity['价格带'] = commodity.groupby('疾病分类统一')['客户采购价格'].transform(classify_price_band)\n",
    "merged_df_已支付或部分退款=merged_df_已支付或部分退款.merge(commodity[['商品编码','价格带']], on='商品编码',how='left')"
   ]
  },
  {
   "cell_type": "code",
   "execution_count": 57,
   "id": "6fc03f2b",
   "metadata": {},
   "outputs": [],
   "source": [
    "customers_new = pd.merge(customers_new, \n",
    "                         merged_df_已支付或部分退款.groupby('客户id')['价格带'].apply(lambda x: x.mode().iloc[0]).reset_index()\n",
    "                          , on='客户id', how='left')"
   ]
  },
  {
   "cell_type": "markdown",
   "id": "c7382098",
   "metadata": {},
   "source": [
    "### 退货率"
   ]
  },
  {
   "cell_type": "code",
   "execution_count": 58,
   "id": "c830f032",
   "metadata": {},
   "outputs": [],
   "source": [
    "customers_new=customers_new.merge(\n",
    "    merged_df\n",
    "    .assign(是退款订单=lambda x: x['支付状态'].isin(['已退款', '部分退款']))  # 标识退款订单\n",
    "    .groupby('客户id')\n",
    "    .agg(总订单数=('支付状态', 'count'), 退款订单数=('是退款订单', 'sum'))  # 计算总订单数和退款订单数\n",
    "    .assign(退货率=lambda x: x['退款订单数'] / x['总订单数'])  # 计算退货率\n",
    "    .reset_index()[['客户id', '退货率']],\n",
    "    on='客户id',how='left')"
   ]
  },
  {
   "cell_type": "markdown",
   "id": "277f7695",
   "metadata": {},
   "source": [
    "### 新品接受度"
   ]
  },
  {
   "cell_type": "code",
   "execution_count": 59,
   "id": "97e431f4",
   "metadata": {
    "scrolled": true
   },
   "outputs": [],
   "source": [
    "#每个客户对这个商品最小的订单创建日期\n",
    "b=merged_df_已支付或部分退款.groupby(['客户id', '商品编码'])['订单创建日期时间'].min().reset_index()#.rename(columns={'订单创建日期时间':'最小时间'})\n",
    "b=pd.merge(b, merged_df_已支付或部分退款, on=['客户id', '商品编码', '订单创建日期时间'], how='left')\n",
    "b['日期差'] = (b['订单创建日期时间'] - pd.to_datetime(b['上架日期'])).dt.days"
   ]
  },
  {
   "cell_type": "code",
   "execution_count": 60,
   "id": "7fedb6af",
   "metadata": {},
   "outputs": [
    {
     "data": {
      "image/png": "[encoded data removed]",
      "text/plain": [
       "<Figure size 768x384 with 1 Axes>"
      ]
     },
     "metadata": {},
     "output_type": "display_data"
    }
   ],
   "source": [
    "# 绘制核密度估计图\n",
    "plt.figure(figsize=(6, 3),dpi=128)\n",
    "sns.kdeplot(b['日期差'], bw_adjust=0.5,cumulative=True)\n",
    "plt.title('每个客户最小订单创建日期与商品上架日期差的核密度估计')\n",
    "plt.axhline(y=0.334, color='k', linestyle='--')\n",
    "plt.axhline(y=0.667, color='k', linestyle='--')\n",
    "#plt.axhline(y=0.5, color='k', linestyle='--')\n",
    "plt.xlabel('日期差（天）')\n",
    "plt.ylabel('密度')\n",
    "plt.show()"
   ]
  },
  {
   "cell_type": "code",
   "execution_count": 61,
   "id": "3050983a",
   "metadata": {},
   "outputs": [],
   "source": [
    "#很平滑，就用三分位数进行划分\n",
    "b['新品接受度']=pd.qcut(b['日期差'], q=3, labels=['低', '中', '高'])\n",
    "customers_new = pd.merge(customers_new, \n",
    "                         b.groupby('客户id')['新品接受度'].apply(lambda x: x.mode().iloc[0]).reset_index()\n",
    "                          , on='客户id', how='left')"
   ]
  },
  {
   "cell_type": "code",
   "execution_count": 62,
   "id": "8fbc6690",
   "metadata": {},
   "outputs": [
    {
     "data": {
      "text/plain": [
       "低    37478\n",
       "高    29466\n",
       "中    27943\n",
       "Name: 新品接受度, dtype: int64"
      ]
     },
     "execution_count": 62,
     "metadata": {},
     "output_type": "execute_result"
    }
   ],
   "source": [
    "customers_new['新品接受度'].value_counts()"
   ]
  },
  {
   "cell_type": "markdown",
   "id": "a5cd4929",
   "metadata": {},
   "source": [
    "# 综合价值"
   ]
  },
  {
   "cell_type": "markdown",
   "id": "a675eb6a",
   "metadata": {},
   "source": [
    "### 门店价值"
   ]
  },
  {
   "cell_type": "code",
   "execution_count": 63,
   "id": "c129afe5",
   "metadata": {},
   "outputs": [],
   "source": [
    "#采购金额，采购频次，工业毛利额"
   ]
  },
  {
   "cell_type": "code",
   "execution_count": 64,
   "id": "d3502a5e",
   "metadata": {
    "scrolled": true
   },
   "outputs": [
    {
     "data": {
      "image/png": "[encoded data removed]",
      "text/plain": [
       "<Figure size 640x640 with 3 Axes>"
      ]
     },
     "metadata": {},
     "output_type": "display_data"
    }
   ],
   "source": [
    "fig, axs = plt.subplots(3, 1, figsize=(5, 5),dpi=128)\n",
    "\n",
    "sns.kdeplot(customers_new['采购金额'], ax=axs[0], color='blue', bw_adjust=0.5)\n",
    "axs[0].set_title('采购金额的核密度估计')\n",
    "axs[0].set_xlabel('采购金额')\n",
    "axs[0].set_ylabel('密度')\n",
    "\n",
    "sns.kdeplot(customers_new['工业毛利额'], ax=axs[1], color='green', bw_adjust=0.5)\n",
    "axs[1].set_title('工业毛利额的核密度估计')\n",
    "axs[1].set_xlabel('工业毛利额')\n",
    "axs[1].set_ylabel('密度')\n",
    "\n",
    "sns.kdeplot(customers_new['采购频次'], ax=axs[2], color='red', bw_adjust=0.5)\n",
    "axs[2].set_title('采购频次的核密度估计')\n",
    "axs[2].set_xlabel('采购频次')\n",
    "axs[2].set_ylabel('密度')\n",
    "\n",
    "plt.tight_layout()"
   ]
  },
  {
   "cell_type": "code",
   "execution_count": 65,
   "id": "e60edb74",
   "metadata": {
    "scrolled": true
   },
   "outputs": [
    {
     "data": {
      "image/png": "[encoded data removed]",
      "text/plain": [
       "<Figure size 640x640 with 3 Axes>"
      ]
     },
     "metadata": {},
     "output_type": "display_data"
    }
   ],
   "source": [
    "#极大值太多了，去掉然后画图\n",
    "fig, axs = plt.subplots(3, 1, figsize=(5, 5),dpi=128)\n",
    "sns.kdeplot(customers_new[customers_new['采购金额'] < 5000]['采购金额'], ax=axs[0], color='blue', bw_adjust=0.5)\n",
    "axs[0].set_title('采购金额的核密度估计')\n",
    "axs[0].set_xlabel('采购金额')\n",
    "axs[0].set_ylabel('密度')\n",
    "\n",
    "sns.kdeplot(customers_new[customers_new['工业毛利额']< 2000]['工业毛利额'], ax=axs[1], color='green', bw_adjust=0.5)\n",
    "axs[1].set_title('工业毛利额的核密度估计')\n",
    "axs[1].set_xlabel('工业毛利额')\n",
    "axs[1].set_ylabel('密度')\n",
    "\n",
    "sns.kdeplot(customers_new[customers_new['采购频次']<80]['采购频次'], ax=axs[2], color='red', bw_adjust=0.5)\n",
    "axs[2].set_title('采购频次的核密度估计')\n",
    "axs[2].set_xlabel('采购频次')\n",
    "axs[2].set_ylabel('密度')\n",
    "\n",
    "plt.tight_layout()"
   ]
  },
  {
   "cell_type": "code",
   "execution_count": 66,
   "id": "e894c567",
   "metadata": {},
   "outputs": [
    {
     "name": "stdout",
     "output_type": "stream",
     "text": [
      "0.00         0.020000\n",
      "0.25       870.500020\n",
      "0.50      1462.800085\n",
      "0.75      2609.835036\n",
      "1.00    310757.670000\n",
      "Name: 采购金额, dtype: float64\n",
      "0.00      -592.190002\n",
      "0.25       302.229000\n",
      "0.50       476.390000\n",
      "0.75       883.043530\n",
      "1.00    118339.835000\n",
      "Name: 工业毛利额, dtype: float64\n",
      "0.00       1.0\n",
      "0.25       9.0\n",
      "0.50      16.0\n",
      "0.75      29.0\n",
      "1.00    1590.0\n",
      "Name: 采购频次, dtype: float64\n"
     ]
    }
   ],
   "source": [
    "print(customers_new['采购金额'].quantile([0,0.25, 0.5, 0.75,1]),end='\\n')\n",
    "print(customers_new['工业毛利额'].quantile([0,0.25, 0.5, 0.75,1]),end='\\n')\n",
    "print(customers_new['采购频次'].quantile([0,0.25, 0.5, 0.75,1]),end='\\n')"
   ]
  },
  {
   "cell_type": "code",
   "execution_count": 67,
   "id": "8f16b09c",
   "metadata": {
    "scrolled": true
   },
   "outputs": [],
   "source": [
    "#划分为四分位数，分别映射为\n",
    "customers_门店价值=customers_new[['客户id','采购金额','工业毛利额','采购频次']].copy().dropna(subset=['采购金额'])\n",
    "customers_门店价值['采购金额数值']=pd.qcut(customers_new['采购金额'], q=4, labels=[0.25, 0.5, 0.75, 1])\n",
    "customers_门店价值['工业毛利额数值']=pd.qcut(customers_new['工业毛利额'], q=4, labels=[0.25, 0.5, 0.75, 1])\n",
    "customers_门店价值['采购频次数值']=pd.qcut(customers_new['采购频次'], q=4, labels=[0.25, 0.5, 0.75, 1])\n",
    "customers_门店价值['门店价值求和']=customers_门店价值.filter(like='数值').sum(axis=1)#.value_counts()\n",
    "\n",
    "customers_门店价值['门店价值'] = pd.cut(customers_门店价值['门店价值求和'], bins=[0, 2, 2.8, 3], labels=['低价值', '一般价值', '高价值'])\n",
    "#customers_门店价值['门店价值'] =pd.qcut(customers_门店价值['门店价值求和'], q=3, labels=['低价值','一般价值','高价值'])#.value_counts()"
   ]
  },
  {
   "cell_type": "code",
   "execution_count": 68,
   "id": "1aad27f7",
   "metadata": {
    "scrolled": true
   },
   "outputs": [
    {
     "data": {
      "text/plain": [
       "低价值     0.581038\n",
       "一般价值    0.234110\n",
       "高价值     0.184851\n",
       "Name: 门店价值, dtype: float64"
      ]
     },
     "execution_count": 68,
     "metadata": {},
     "output_type": "execute_result"
    }
   ],
   "source": [
    "customers_门店价值['门店价值'].value_counts(normalize=True)"
   ]
  },
  {
   "cell_type": "code",
   "execution_count": 69,
   "id": "5d4574e6",
   "metadata": {
    "scrolled": true
   },
   "outputs": [
    {
     "name": "stdout",
     "output_type": "stream",
     "text": [
      "当q=3\n",
      "低价值     57723\n",
      "高价值     23744\n",
      "一般价值    13420\n",
      "Name: 门店价值, dtype: int64\n",
      "当q=4\n",
      "低价值     55133\n",
      "一般价值    22214\n",
      "高价值     17540\n",
      "Name: 门店价值, dtype: int64\n",
      "当q=5\n",
      "低价值     58805\n",
      "一般价值    22317\n",
      "高价值     13765\n",
      "Name: 门店价值, dtype: int64\n",
      "当q=6\n",
      "低价值     60040\n",
      "一般价值    20388\n",
      "高价值     14459\n",
      "Name: 门店价值, dtype: int64\n",
      "当q=7\n",
      "低价值     60295\n",
      "一般价值    22321\n",
      "高价值     12271\n",
      "Name: 门店价值, dtype: int64\n",
      "当q=8\n",
      "低价值     61014\n",
      "一般价值    23199\n",
      "高价值     10674\n",
      "Name: 门店价值, dtype: int64\n",
      "当q=9\n",
      "低价值     61584\n",
      "一般价值    23891\n",
      "高价值      9412\n",
      "Name: 门店价值, dtype: int64\n",
      "当q=10\n",
      "低价值     61894\n",
      "一般价值    24551\n",
      "高价值      8442\n",
      "Name: 门店价值, dtype: int64\n",
      "当q=11\n",
      "低价值     62275\n",
      "一般价值    22595\n",
      "高价值     10017\n",
      "Name: 门店价值, dtype: int64\n",
      "当q=12\n",
      "低价值     62352\n",
      "一般价值    23420\n",
      "高价值      9115\n",
      "Name: 门店价值, dtype: int64\n",
      "当q=13\n",
      "低价值     62629\n",
      "一般价值    23754\n",
      "高价值      8504\n",
      "Name: 门店价值, dtype: int64\n",
      "当q=14\n",
      "低价值     62824\n",
      "一般价值    24118\n",
      "高价值      7945\n",
      "Name: 门店价值, dtype: int64\n"
     ]
    }
   ],
   "source": [
    "def check_门店价值(q=4):\n",
    "    customers_门店价值=customers_new[['客户id','采购金额','工业毛利额','采购频次']].copy().dropna(subset=['采购金额'])\n",
    "    for column in ['采购金额', '工业毛利额', '采购频次']:\n",
    "        customers_门店价值[f'{column}数值'] = pd.qcut(customers_new[column], q=q, labels=[i/q for i in range(1, q+1)])\n",
    "    customers_门店价值['门店价值求和']=customers_门店价值.filter(like='数值').sum(axis=1)#.value_counts()\n",
    "\n",
    "    #customers_门店价值['门店价值'] =pd.qcut(customers_门店价值['门店价值求和'], q=3, labels=['低价值','一般价值','高价值'])#.value_counts()\n",
    "    customers_门店价值['门店价值'] = pd.cut(customers_门店价值['门店价值求和'], bins=[0, 2, 2.8, 3], labels=['低价值', '一般价值', '高价值'])\n",
    "    return customers_门店价值[['客户id','门店价值']]\n",
    "\n",
    "for q in range(3,15):\n",
    "    print(f'当q={q}')\n",
    "    print(check_门店价值(q=q)['门店价值'].value_counts()) "
   ]
  },
  {
   "cell_type": "code",
   "execution_count": 70,
   "id": "7c2acc72",
   "metadata": {
    "scrolled": true
   },
   "outputs": [
    {
     "data": {
      "image/png": "[encoded data removed]",
      "text/plain": [
       "<Figure size 1280x1280 with 9 Axes>"
      ]
     },
     "metadata": {},
     "output_type": "display_data"
    }
   ],
   "source": [
    "fig, axes = plt.subplots(3, 3, figsize=(10, 10),dpi=128)\n",
    "# 设置每个子图的标题和y轴标签\n",
    "for i, q in enumerate(range(3, 12)):\n",
    "    ax = axes[i // 3, i % 3]  # 获取当前子图的坐标\n",
    "    ax.set_title(f'当q={q}')\n",
    "    ax.set_ylabel('Count')\n",
    "    sns.countplot(x='门店价值', data=check_门店价值(q=q), ax=ax)\n",
    "\n",
    "# 调整子图之间的间距\n",
    "plt.tight_layout()\n",
    "\n",
    "# 显示图形\n",
    "plt.show()"
   ]
  },
  {
   "cell_type": "code",
   "execution_count": 71,
   "id": "1d03c8ec",
   "metadata": {},
   "outputs": [],
   "source": [
    "#q=10的时候比较符合要求，差不多是6:3:1\n",
    "#合并结果\n",
    "customers_new = pd.merge(customers_new, \n",
    "                         check_门店价值(q=10)\n",
    "                          , on='客户id', how='left')"
   ]
  },
  {
   "cell_type": "markdown",
   "id": "751aed84",
   "metadata": {},
   "source": [
    "### RFM分级\n",
    "（<font color='red'>之前修改过</font>）\n"
   ]
  },
  {
   "cell_type": "code",
   "execution_count": 72,
   "id": "f7a48de0",
   "metadata": {},
   "outputs": [],
   "source": [
    "#采购金额，采购频次，最后一次采购间隔,满意度"
   ]
  },
  {
   "cell_type": "code",
   "execution_count": 73,
   "id": "6aa8d528",
   "metadata": {
    "scrolled": true
   },
   "outputs": [
    {
     "data": {
      "image/png": "[encoded data removed]",
      "text/plain": [
       "<Figure size 1536x640 with 3 Axes>"
      ]
     },
     "metadata": {},
     "output_type": "display_data"
    }
   ],
   "source": [
    "# 绘制1*3的多子图箱线图\n",
    "fig, axs = plt.subplots(1, 3, figsize=(12, 5),dpi=128)\n",
    "\n",
    "sns.boxplot(y=customers_new['采购金额'], ax=axs[0], color='skyblue')\n",
    "axs[0].set_title('采购金额')\n",
    "axs[0].set_ylabel('')\n",
    "\n",
    "sns.boxplot(y=customers_new['采购频次'], ax=axs[1], color='lightgreen')\n",
    "axs[1].set_title('采购频次')\n",
    "axs[1].set_ylabel('')\n",
    "\n",
    "sns.boxplot(y=customers_new['最后一次采购间隔'], ax=axs[2], color='salmon')\n",
    "axs[2].set_title('最后一次采购间隔')\n",
    "axs[2].set_ylabel('')\n",
    "\n",
    "plt.tight_layout()\n",
    "plt.show()"
   ]
  },
  {
   "cell_type": "markdown",
   "id": "5eb6133a",
   "metadata": {},
   "source": [
    "#### 聚类思路"
   ]
  },
  {
   "cell_type": "code",
   "execution_count": 74,
   "id": "169ecb72",
   "metadata": {
    "scrolled": true
   },
   "outputs": [],
   "source": [
    "customers_FRM=customers_new[['客户id','采购金额','采购频次','最后一次采购间隔']].copy()#.dropna(subset=['采购金额'])\n",
    "#customers_FRM['满意度']=1-customers_new['退货率']\n",
    "customers_FRM=customers_FRM.dropna(subset=['采购金额'])\n",
    "data=customers_FRM.copy().set_index('客户id')"
   ]
  },
  {
   "cell_type": "code",
   "execution_count": 75,
   "id": "b868cee6",
   "metadata": {},
   "outputs": [
    {
     "data": {
      "text/html": [
       "<div>\n",
       "<style scoped>\n",
       "    .dataframe tbody tr th:only-of-type {\n",
       "        vertical-align: middle;\n",
       "    }\n",
       "\n",
       "    .dataframe tbody tr th {\n",
       "        vertical-align: top;\n",
       "    }\n",
       "\n",
       "    .dataframe thead th {\n",
       "        text-align: right;\n",
       "    }\n",
       "</style>\n",
       "<table border=\"1\" class=\"dataframe\">\n",
       "  <thead>\n",
       "    <tr style=\"text-align: right;\">\n",
       "      <th></th>\n",
       "      <th>R_std</th>\n",
       "      <th>F_std</th>\n",
       "      <th>M_std</th>\n",
       "    </tr>\n",
       "    <tr>\n",
       "      <th>客户id</th>\n",
       "      <th></th>\n",
       "      <th></th>\n",
       "      <th></th>\n",
       "    </tr>\n",
       "  </thead>\n",
       "  <tbody>\n",
       "    <tr>\n",
       "      <th>6970904116784796290</th>\n",
       "      <td>0.170576</td>\n",
       "      <td>0.000766</td>\n",
       "      <td>0.002639</td>\n",
       "    </tr>\n",
       "    <tr>\n",
       "      <th>6970904089375019075</th>\n",
       "      <td>0.012319</td>\n",
       "      <td>0.001532</td>\n",
       "      <td>0.002221</td>\n",
       "    </tr>\n",
       "    <tr>\n",
       "      <th>6970903995691045348</th>\n",
       "      <td>0.165364</td>\n",
       "      <td>0.010721</td>\n",
       "      <td>0.005556</td>\n",
       "    </tr>\n",
       "    <tr>\n",
       "      <th>6970904028175929760</th>\n",
       "      <td>0.158256</td>\n",
       "      <td>0.003063</td>\n",
       "      <td>0.001107</td>\n",
       "    </tr>\n",
       "    <tr>\n",
       "      <th>6970904139153019784</th>\n",
       "      <td>0.163469</td>\n",
       "      <td>0.000000</td>\n",
       "      <td>0.001419</td>\n",
       "    </tr>\n",
       "  </tbody>\n",
       "</table>\n",
       "</div>"
      ],
      "text/plain": [
       "                        R_std     F_std     M_std\n",
       "客户id                                             \n",
       "6970904116784796290  0.170576  0.000766  0.002639\n",
       "6970904089375019075  0.012319  0.001532  0.002221\n",
       "6970903995691045348  0.165364  0.010721  0.005556\n",
       "6970904028175929760  0.158256  0.003063  0.001107\n",
       "6970904139153019784  0.163469  0.000000  0.001419"
      ]
     },
     "execution_count": 75,
     "metadata": {},
     "output_type": "execute_result"
    }
   ],
   "source": [
    "# 假定R指标为'最后一次采购间隔'\n",
    "R = data['最后一次采购间隔']\n",
    "# 正向指标为F、M、S，分别对应'采购频次'、'采购金额'、'满意度'\n",
    "F = data['采购频次']\n",
    "M = data['采购金额']\n",
    "#S = data['满意度']\n",
    "# R指标标准化\n",
    "R_std = (R.max() - R) / (R.max() - R.min())\n",
    "# F、M、S指标标准化\n",
    "F_std = (F - F.min()) / (F.max() - F.min())\n",
    "M_std = (M - M.min()) / (M.max() - M.min())\n",
    "#S_std = (S - S.min()) / (S.max() - S.min())\n",
    "\n",
    "data_std = pd.DataFrame({'R_std': R_std, 'F_std': F_std,'M_std': M_std},index=customers_FRM['客户id'])\n",
    "# 计算信息熵\n",
    "k = 1 / np.log(len(data))\n",
    "data_pro = data_std.div(data_std.sum(axis=0), axis=1)\n",
    "data_entropy = -k * (data_pro * np.log(data_pro)).sum()\n",
    "data_entropy = data_entropy.replace(-np.inf, 0)\n",
    "g = 1 - data_entropy\n",
    "weight = g / g.sum()\n",
    "data_updated = data_std.mul(weight, axis=1)\n",
    "data_updated.head()"
   ]
  },
  {
   "cell_type": "code",
   "execution_count": 76,
   "id": "b44edd9e",
   "metadata": {
    "scrolled": true
   },
   "outputs": [
    {
     "data": {
      "text/html": [
       "<div>\n",
       "<style scoped>\n",
       "    .dataframe tbody tr th:only-of-type {\n",
       "        vertical-align: middle;\n",
       "    }\n",
       "\n",
       "    .dataframe tbody tr th {\n",
       "        vertical-align: top;\n",
       "    }\n",
       "\n",
       "    .dataframe thead th {\n",
       "        text-align: right;\n",
       "    }\n",
       "</style>\n",
       "<table border=\"1\" class=\"dataframe\">\n",
       "  <thead>\n",
       "    <tr style=\"text-align: right;\">\n",
       "      <th></th>\n",
       "      <th>R_std</th>\n",
       "      <th>F_std</th>\n",
       "      <th>M_std</th>\n",
       "      <th>Cluster</th>\n",
       "      <th>FRM等级</th>\n",
       "    </tr>\n",
       "    <tr>\n",
       "      <th>客户id</th>\n",
       "      <th></th>\n",
       "      <th></th>\n",
       "      <th></th>\n",
       "      <th></th>\n",
       "      <th></th>\n",
       "    </tr>\n",
       "  </thead>\n",
       "  <tbody>\n",
       "    <tr>\n",
       "      <th>6970904116784796290</th>\n",
       "      <td>0.170576</td>\n",
       "      <td>0.000766</td>\n",
       "      <td>0.002639</td>\n",
       "      <td>8</td>\n",
       "      <td>一般客户</td>\n",
       "    </tr>\n",
       "    <tr>\n",
       "      <th>6970904089375019075</th>\n",
       "      <td>0.012319</td>\n",
       "      <td>0.001532</td>\n",
       "      <td>0.002221</td>\n",
       "      <td>2</td>\n",
       "      <td>不重要客户</td>\n",
       "    </tr>\n",
       "    <tr>\n",
       "      <th>6970903995691045348</th>\n",
       "      <td>0.165364</td>\n",
       "      <td>0.010721</td>\n",
       "      <td>0.005556</td>\n",
       "      <td>0</td>\n",
       "      <td>一般客户</td>\n",
       "    </tr>\n",
       "    <tr>\n",
       "      <th>6970904028175929760</th>\n",
       "      <td>0.158256</td>\n",
       "      <td>0.003063</td>\n",
       "      <td>0.001107</td>\n",
       "      <td>6</td>\n",
       "      <td>一般客户</td>\n",
       "    </tr>\n",
       "    <tr>\n",
       "      <th>6970904139153019784</th>\n",
       "      <td>0.163469</td>\n",
       "      <td>0.000000</td>\n",
       "      <td>0.001419</td>\n",
       "      <td>6</td>\n",
       "      <td>一般客户</td>\n",
       "    </tr>\n",
       "  </tbody>\n",
       "</table>\n",
       "</div>"
      ],
      "text/plain": [
       "                        R_std     F_std     M_std  Cluster  FRM等级\n",
       "客户id                                                             \n",
       "6970904116784796290  0.170576  0.000766  0.002639        8   一般客户\n",
       "6970904089375019075  0.012319  0.001532  0.002221        2  不重要客户\n",
       "6970903995691045348  0.165364  0.010721  0.005556        0   一般客户\n",
       "6970904028175929760  0.158256  0.003063  0.001107        6   一般客户\n",
       "6970904139153019784  0.163469  0.000000  0.001419        6   一般客户"
      ]
     },
     "execution_count": 76,
     "metadata": {},
     "output_type": "execute_result"
    }
   ],
   "source": [
    "# 使用KMeans进行聚类，将数据分为3类\n",
    "kmeans = KMeans(n_clusters=10, random_state=0).fit(data_updated)\n",
    "clusters = kmeans.labels_\n",
    "data_updated['Cluster'] = clusters\n",
    "\n",
    "cluster_centers = kmeans.cluster_centers_\n",
    "cluster_scores = cluster_centers.sum(axis=1)\n",
    "\n",
    "cluster_mapping = pd.Series(cluster_scores, index=np.arange(0, len(cluster_scores))).sort_values(ascending=False)\n",
    "value_labels = {cluster_mapping.index[0]: '重要客户',\n",
    "                cluster_mapping.index[1]: '重要客户',\n",
    "                cluster_mapping.index[2]: '重要客户',\n",
    "                cluster_mapping.index[3]: '一般客户',\n",
    "                cluster_mapping.index[4]: '一般客户',\n",
    "                cluster_mapping.index[5]: '一般客户',\n",
    "                cluster_mapping.index[6]: '不重要客户',\n",
    "                cluster_mapping.index[7]: '不重要客户',\n",
    "                cluster_mapping.index[8]: '不重要客户',\n",
    "                cluster_mapping.index[9]: '不重要客户'}\n",
    "\n",
    "data_updated['FRM等级'] = data_updated['Cluster'].map(value_labels)\n",
    "data_updated[['R_std', 'F_std', 'M_std', 'Cluster', 'FRM等级']].head()"
   ]
  },
  {
   "cell_type": "code",
   "execution_count": 77,
   "id": "ccb83d83",
   "metadata": {},
   "outputs": [
    {
     "data": {
      "text/html": [
       "<div>\n",
       "<style scoped>\n",
       "    .dataframe tbody tr th:only-of-type {\n",
       "        vertical-align: middle;\n",
       "    }\n",
       "\n",
       "    .dataframe tbody tr th {\n",
       "        vertical-align: top;\n",
       "    }\n",
       "\n",
       "    .dataframe thead th {\n",
       "        text-align: right;\n",
       "    }\n",
       "</style>\n",
       "<table border=\"1\" class=\"dataframe\">\n",
       "  <thead>\n",
       "    <tr style=\"text-align: right;\">\n",
       "      <th></th>\n",
       "      <th>R_std</th>\n",
       "      <th>F_std</th>\n",
       "      <th>M_std</th>\n",
       "    </tr>\n",
       "    <tr>\n",
       "      <th>Cluster</th>\n",
       "      <th></th>\n",
       "      <th></th>\n",
       "      <th></th>\n",
       "    </tr>\n",
       "  </thead>\n",
       "  <tbody>\n",
       "    <tr>\n",
       "      <th>0</th>\n",
       "      <td>0.168088</td>\n",
       "      <td>0.009527</td>\n",
       "      <td>0.004740</td>\n",
       "    </tr>\n",
       "    <tr>\n",
       "      <th>1</th>\n",
       "      <td>0.024341</td>\n",
       "      <td>0.003363</td>\n",
       "      <td>0.001729</td>\n",
       "    </tr>\n",
       "    <tr>\n",
       "      <th>2</th>\n",
       "      <td>0.010206</td>\n",
       "      <td>0.002789</td>\n",
       "      <td>0.001553</td>\n",
       "    </tr>\n",
       "    <tr>\n",
       "      <th>3</th>\n",
       "      <td>0.169829</td>\n",
       "      <td>0.037411</td>\n",
       "      <td>0.022856</td>\n",
       "    </tr>\n",
       "    <tr>\n",
       "      <th>4</th>\n",
       "      <td>0.036447</td>\n",
       "      <td>0.003889</td>\n",
       "      <td>0.001914</td>\n",
       "    </tr>\n",
       "    <tr>\n",
       "      <th>5</th>\n",
       "      <td>0.169723</td>\n",
       "      <td>0.079332</td>\n",
       "      <td>0.188886</td>\n",
       "    </tr>\n",
       "    <tr>\n",
       "      <th>6</th>\n",
       "      <td>0.160618</td>\n",
       "      <td>0.003890</td>\n",
       "      <td>0.002081</td>\n",
       "    </tr>\n",
       "    <tr>\n",
       "      <th>7</th>\n",
       "      <td>0.168698</td>\n",
       "      <td>0.018967</td>\n",
       "      <td>0.009761</td>\n",
       "    </tr>\n",
       "    <tr>\n",
       "      <th>8</th>\n",
       "      <td>0.167693</td>\n",
       "      <td>0.003112</td>\n",
       "      <td>0.001875</td>\n",
       "    </tr>\n",
       "    <tr>\n",
       "      <th>9</th>\n",
       "      <td>0.073208</td>\n",
       "      <td>0.004184</td>\n",
       "      <td>0.002223</td>\n",
       "    </tr>\n",
       "  </tbody>\n",
       "</table>\n",
       "</div>"
      ],
      "text/plain": [
       "            R_std     F_std     M_std\n",
       "Cluster                              \n",
       "0        0.168088  0.009527  0.004740\n",
       "1        0.024341  0.003363  0.001729\n",
       "2        0.010206  0.002789  0.001553\n",
       "3        0.169829  0.037411  0.022856\n",
       "4        0.036447  0.003889  0.001914\n",
       "5        0.169723  0.079332  0.188886\n",
       "6        0.160618  0.003890  0.002081\n",
       "7        0.168698  0.018967  0.009761\n",
       "8        0.167693  0.003112  0.001875\n",
       "9        0.073208  0.004184  0.002223"
      ]
     },
     "execution_count": 77,
     "metadata": {},
     "output_type": "execute_result"
    }
   ],
   "source": [
    "data_updated.groupby('Cluster').mean()"
   ]
  },
  {
   "cell_type": "code",
   "execution_count": 78,
   "id": "9ad70d44",
   "metadata": {},
   "outputs": [
    {
     "data": {
      "text/plain": [
       "一般客户     62481\n",
       "不重要客户    25436\n",
       "重要客户      6970\n",
       "Name: FRM等级, dtype: int64"
      ]
     },
     "execution_count": 78,
     "metadata": {},
     "output_type": "execute_result"
    }
   ],
   "source": [
    "data_updated['FRM等级'].value_counts()"
   ]
  },
  {
   "cell_type": "markdown",
   "id": "66d77e25",
   "metadata": {},
   "source": [
    "不是很可控，勉强弄成这个比例"
   ]
  },
  {
   "cell_type": "markdown",
   "id": "c5b7b5a0",
   "metadata": {},
   "source": [
    "#### 阈值划分思路"
   ]
  },
  {
   "cell_type": "markdown",
   "id": "a824529b",
   "metadata": {},
   "source": [
    "| 类别     | 客户名称   | 采购金额 | 采购频次 | 最后一次采购间隔 |\n",
    "|----------|------------|-----------|----------|-----------------|\n",
    "| 高-高-高 | 重要保持客户 | 高        | 高       | 高              |\n",
    "| 高-低-高 | 重要价值客户 | 高        | 低       | 高              |\n",
    "| 低-低-高 | 重要发展客户 | 低        | 低       | 高              |\n",
    "| 高-高-低 | 重要挽留客户 | 高        | 高       | 低              |\n",
    "| 低-高-高 | 一般重要客户 | 低        | 高       | 高              |\n",
    "| 高-低-低 | 一般客户    | 高        | 低       | 低              |\n",
    "| 低-高-低 | 一般挽留客户 | 低        | 高       | 低              |\n",
    "| 低-低-低 | 无价值客户  | 低        | 低       | 低              |"
   ]
  },
  {
   "cell_type": "markdown",
   "id": "775566a2",
   "metadata": {},
   "source": [
    "这里的 采购间隔‘高’不是指 数值大，是指这个特征表现好，即最后一次采购间隔时间短"
   ]
  },
  {
   "cell_type": "code",
   "execution_count": 79,
   "id": "ea519364",
   "metadata": {},
   "outputs": [
    {
     "data": {
      "text/html": [
       "<div>\n",
       "<style scoped>\n",
       "    .dataframe tbody tr th:only-of-type {\n",
       "        vertical-align: middle;\n",
       "    }\n",
       "\n",
       "    .dataframe tbody tr th {\n",
       "        vertical-align: top;\n",
       "    }\n",
       "\n",
       "    .dataframe thead th {\n",
       "        text-align: right;\n",
       "    }\n",
       "</style>\n",
       "<table border=\"1\" class=\"dataframe\">\n",
       "  <thead>\n",
       "    <tr style=\"text-align: right;\">\n",
       "      <th></th>\n",
       "      <th>采购金额</th>\n",
       "      <th>采购频次</th>\n",
       "      <th>最后一次采购间隔</th>\n",
       "    </tr>\n",
       "    <tr>\n",
       "      <th>客户id</th>\n",
       "      <th></th>\n",
       "      <th></th>\n",
       "      <th></th>\n",
       "    </tr>\n",
       "  </thead>\n",
       "  <tbody>\n",
       "    <tr>\n",
       "      <th>6970904116784796290</th>\n",
       "      <td>1941.60000</td>\n",
       "      <td>4.0</td>\n",
       "      <td>-0.100000</td>\n",
       "    </tr>\n",
       "    <tr>\n",
       "      <th>6970904089375019075</th>\n",
       "      <td>1634.10000</td>\n",
       "      <td>7.0</td>\n",
       "      <td>-11.233333</td>\n",
       "    </tr>\n",
       "    <tr>\n",
       "      <th>6970903995691045348</th>\n",
       "      <td>4087.50001</td>\n",
       "      <td>43.0</td>\n",
       "      <td>-0.466667</td>\n",
       "    </tr>\n",
       "    <tr>\n",
       "      <th>6970904028175929760</th>\n",
       "      <td>814.58000</td>\n",
       "      <td>13.0</td>\n",
       "      <td>-0.966667</td>\n",
       "    </tr>\n",
       "    <tr>\n",
       "      <th>6970904139153019784</th>\n",
       "      <td>1044.00000</td>\n",
       "      <td>1.0</td>\n",
       "      <td>-0.600000</td>\n",
       "    </tr>\n",
       "  </tbody>\n",
       "</table>\n",
       "</div>"
      ],
      "text/plain": [
       "                           采购金额  采购频次   最后一次采购间隔\n",
       "客户id                                            \n",
       "6970904116784796290  1941.60000   4.0  -0.100000\n",
       "6970904089375019075  1634.10000   7.0 -11.233333\n",
       "6970903995691045348  4087.50001  43.0  -0.466667\n",
       "6970904028175929760   814.58000  13.0  -0.966667\n",
       "6970904139153019784  1044.00000   1.0  -0.600000"
      ]
     },
     "execution_count": 79,
     "metadata": {},
     "output_type": "execute_result"
    }
   ],
   "source": [
    "customers_FRM=customers_new[['客户id','采购金额','采购频次','最后一次采购间隔']].copy()#.dropna(subset=['采购金额'])\n",
    "#customers_FRM['满意度']=1-customers_new['退货率']\n",
    "customers_FRM=customers_FRM.dropna(subset=['采购金额'])\n",
    "customers_FRM['最后一次采购间隔']=-customers_FRM['最后一次采购间隔']  #直接取负数就行，这样就是数值越大特征表现越好，即：高\n",
    "df=customers_FRM.copy().set_index('客户id')\n",
    "df.head()"
   ]
  },
  {
   "cell_type": "code",
   "execution_count": 80,
   "id": "3998fcc6",
   "metadata": {},
   "outputs": [
    {
     "data": {
      "text/html": [
       "<div>\n",
       "<style scoped>\n",
       "    .dataframe tbody tr th:only-of-type {\n",
       "        vertical-align: middle;\n",
       "    }\n",
       "\n",
       "    .dataframe tbody tr th {\n",
       "        vertical-align: top;\n",
       "    }\n",
       "\n",
       "    .dataframe thead th {\n",
       "        text-align: right;\n",
       "    }\n",
       "</style>\n",
       "<table border=\"1\" class=\"dataframe\">\n",
       "  <thead>\n",
       "    <tr style=\"text-align: right;\">\n",
       "      <th></th>\n",
       "      <th>采购金额</th>\n",
       "      <th>采购频次</th>\n",
       "      <th>最后一次采购间隔</th>\n",
       "      <th>客户类型</th>\n",
       "    </tr>\n",
       "    <tr>\n",
       "      <th>客户id</th>\n",
       "      <th></th>\n",
       "      <th></th>\n",
       "      <th></th>\n",
       "      <th></th>\n",
       "    </tr>\n",
       "  </thead>\n",
       "  <tbody>\n",
       "    <tr>\n",
       "      <th>6970904116784796290</th>\n",
       "      <td>1941.60000</td>\n",
       "      <td>4.0</td>\n",
       "      <td>-0.100000</td>\n",
       "      <td>重要发展客户</td>\n",
       "    </tr>\n",
       "    <tr>\n",
       "      <th>6970904089375019075</th>\n",
       "      <td>1634.10000</td>\n",
       "      <td>7.0</td>\n",
       "      <td>-11.233333</td>\n",
       "      <td>无价值客户</td>\n",
       "    </tr>\n",
       "    <tr>\n",
       "      <th>6970903995691045348</th>\n",
       "      <td>4087.50001</td>\n",
       "      <td>43.0</td>\n",
       "      <td>-0.466667</td>\n",
       "      <td>重要挽留客户</td>\n",
       "    </tr>\n",
       "    <tr>\n",
       "      <th>6970904028175929760</th>\n",
       "      <td>814.58000</td>\n",
       "      <td>13.0</td>\n",
       "      <td>-0.966667</td>\n",
       "      <td>无价值客户</td>\n",
       "    </tr>\n",
       "    <tr>\n",
       "      <th>6970904139153019784</th>\n",
       "      <td>1044.00000</td>\n",
       "      <td>1.0</td>\n",
       "      <td>-0.600000</td>\n",
       "      <td>无价值客户</td>\n",
       "    </tr>\n",
       "  </tbody>\n",
       "</table>\n",
       "</div>"
      ],
      "text/plain": [
       "                           采购金额  采购频次   最后一次采购间隔    客户类型\n",
       "客户id                                                    \n",
       "6970904116784796290  1941.60000   4.0  -0.100000  重要发展客户\n",
       "6970904089375019075  1634.10000   7.0 -11.233333   无价值客户\n",
       "6970903995691045348  4087.50001  43.0  -0.466667  重要挽留客户\n",
       "6970904028175929760   814.58000  13.0  -0.966667   无价值客户\n",
       "6970904139153019784  1044.00000   1.0  -0.600000   无价值客户"
      ]
     },
     "execution_count": 80,
     "metadata": {},
     "output_type": "execute_result"
    }
   ],
   "source": [
    "df['采购金额分箱'] = pd.qcut(df['采购金额'], q=3, labels=['低','中', '高']).map({'中':\"低\",'低':'低','高':\"高\"})\n",
    "df['采购频次分箱'] = pd.qcut(df['采购频次'], q=3, labels=['低','中', '高']).map({'中':\"低\",'低':'低','高':\"高\"})\n",
    "df['最后一次采购间隔分箱'] = pd.qcut(df['最后一次采购间隔'], q=3, labels=['低','中', '高']).map({'中':\"低\",'低':'低','高':\"高\"})\n",
    "\n",
    "# 映射客户类型\n",
    "def map_customer_type(row):\n",
    "    mapping = {\n",
    "        ('高', '高', '高'): '重要保持客户',\n",
    "        ('高', '低', '高'): '重要价值客户',\n",
    "        ('低', '低', '高'): '重要发展客户',\n",
    "        ('高', '高', '低'): '重要挽留客户',\n",
    "        ('低', '高', '高'): '一般重要客户',\n",
    "        ('高', '低', '低'): '一般客户',\n",
    "        ('低', '高', '低'): '一般挽留客户',\n",
    "        ('低', '低', '低'): '无价值客户'\n",
    "    }\n",
    "    return mapping.get((row['采购金额分箱'], row['采购频次分箱'], row['最后一次采购间隔分箱']), '未知')\n",
    "\n",
    "df['客户类型'] = df.apply(map_customer_type, axis=1)\n",
    "\n",
    "df.drop(['采购金额分箱', '采购频次分箱', '最后一次采购间隔分箱'], axis=1, inplace=True)\n",
    "df.head()"
   ]
  },
  {
   "cell_type": "code",
   "execution_count": 81,
   "id": "6db3a5c4",
   "metadata": {},
   "outputs": [
    {
     "data": {
      "text/plain": [
       "无价值客户     46730\n",
       "重要保持客户    13401\n",
       "重要挽留客户    11450\n",
       "重要发展客户    11258\n",
       "一般客户       4338\n",
       "一般挽留客户     3802\n",
       "重要价值客户     2440\n",
       "一般重要客户     1468\n",
       "Name: 客户类型, dtype: int64"
      ]
     },
     "execution_count": 81,
     "metadata": {},
     "output_type": "execute_result"
    }
   ],
   "source": [
    "df['客户类型'].value_counts()"
   ]
  },
  {
   "cell_type": "code",
   "execution_count": 82,
   "id": "5b25f1bf",
   "metadata": {},
   "outputs": [],
   "source": [
    "customers_new = pd.merge(customers_new, data_updated['FRM等级'].reset_index()  #data_updated['FRM等级'].reset_index()\n",
    "                          , on='客户id', how='left')"
   ]
  },
  {
   "cell_type": "markdown",
   "id": "0fc3f5c3",
   "metadata": {},
   "source": [
    "### 门店类别\n",
    "（<font color='red'>修改过</font>）"
   ]
  },
  {
   "cell_type": "code",
   "execution_count": 83,
   "id": "63c94693",
   "metadata": {},
   "outputs": [
    {
     "data": {
      "text/plain": [
       "<AxesSubplot:ylabel='Density'>"
      ]
     },
     "execution_count": 83,
     "metadata": {},
     "output_type": "execute_result"
    },
    {
     "data": {
      "image/png": "[encoded data removed]",
      "text/plain": [
       "<Figure size 400x200 with 1 Axes>"
      ]
     },
     "metadata": {},
     "output_type": "display_data"
    }
   ],
   "source": [
    "customers_类别=customers_new[['客户id','注册时长','采购金额','最后一次采购间隔','采购频次']].copy().dropna(subset=['最后一次采购间隔'])\n",
    "customers_类别['注册时长'].plot.kde(figsize=(4,2))"
   ]
  },
  {
   "cell_type": "code",
   "execution_count": 84,
   "id": "0cc30464",
   "metadata": {},
   "outputs": [
    {
     "data": {
      "text/plain": [
       "count    94887.000000\n",
       "mean        24.737640\n",
       "std         10.759193\n",
       "min          0.033333\n",
       "25%         16.366667\n",
       "50%         26.600000\n",
       "75%         34.166667\n",
       "max         44.700000\n",
       "Name: 注册时长, dtype: float64"
      ]
     },
     "execution_count": 84,
     "metadata": {},
     "output_type": "execute_result"
    }
   ],
   "source": [
    "customers_类别['注册时长'].describe()"
   ]
  },
  {
   "cell_type": "code",
   "execution_count": 85,
   "id": "65c7ff73",
   "metadata": {},
   "outputs": [],
   "source": [
    "## 选20%的店铺作为新店铺，差不多是一年\n",
    "#n1=customers_类别['注册时长'].quantile([0.2]).to_numpy()\n",
    "##改成第一次采购间隔均值\n",
    "n1=customers_new['第一次采购间隔'].mean()"
   ]
  },
  {
   "cell_type": "code",
   "execution_count": 86,
   "id": "8b88e54e",
   "metadata": {},
   "outputs": [
    {
     "name": "stdout",
     "output_type": "stream",
     "text": [
      "(67699, 5) (27188, 6)\n"
     ]
    },
    {
     "name": "stderr",
     "output_type": "stream",
     "text": [
      "D:\\Anaconda\\lib\\site-packages\\ipykernel_launcher.py:2: SettingWithCopyWarning: \n",
      "A value is trying to be set on a copy of a slice from a DataFrame.\n",
      "Try using .loc[row_indexer,col_indexer] = value instead\n",
      "\n",
      "See the caveats in the documentation: https://pandas.pydata.org/pandas-docs/stable/user_guide/indexing.html#returning-a-view-versus-a-copy\n",
      "  \n"
     ]
    }
   ],
   "source": [
    "c1=customers_类别[customers_类别['注册时长'] > n1]; c_新门店=customers_类别[~(customers_类别['注册时长'] > n1)]\n",
    "c_新门店['门店类别']='新门店'\n",
    "print(c1.shape,c_新门店.shape)"
   ]
  },
  {
   "cell_type": "code",
   "execution_count": 87,
   "id": "46312d59",
   "metadata": {},
   "outputs": [
    {
     "data": {
      "text/plain": [
       "<AxesSubplot:>"
      ]
     },
     "execution_count": 87,
     "metadata": {},
     "output_type": "execute_result"
    },
    {
     "data": {
      "image/png": "[encoded data removed]",
      "text/plain": [
       "<Figure size 400x200 with 1 Axes>"
      ]
     },
     "metadata": {},
     "output_type": "display_data"
    }
   ],
   "source": [
    "c1['最后一次采购间隔'].plot.box(figsize=(4,2))"
   ]
  },
  {
   "cell_type": "code",
   "execution_count": 88,
   "id": "d8e5a72e",
   "metadata": {},
   "outputs": [
    {
     "name": "stdout",
     "output_type": "stream",
     "text": [
      "(48846, 5) (18853, 5)\n"
     ]
    }
   ],
   "source": [
    "#### 分布比较均匀，可以取均值\n",
    "c_活跃=c1[c1['最后一次采购间隔']<c1['最后一次采购间隔'].mean()]  ;  c_不活跃=c1[c1['最后一次采购间隔']>c1['最后一次采购间隔'].mean()] \n",
    "print(c_活跃.shape,c_不活跃.shape)"
   ]
  },
  {
   "cell_type": "code",
   "execution_count": 89,
   "id": "a43a67bb",
   "metadata": {},
   "outputs": [
    {
     "data": {
      "text/plain": [
       "<AxesSubplot:ylabel='Density'>"
      ]
     },
     "execution_count": 89,
     "metadata": {},
     "output_type": "execute_result"
    },
    {
     "data": {
      "image/png": "[encoded data removed]",
      "text/plain": [
       "<Figure size 400x200 with 1 Axes>"
      ]
     },
     "metadata": {},
     "output_type": "display_data"
    }
   ],
   "source": [
    "c_活跃['采购频次'].plot.kde(figsize=(4,2))"
   ]
  },
  {
   "cell_type": "code",
   "execution_count": 90,
   "id": "dd7c5038",
   "metadata": {},
   "outputs": [
    {
     "data": {
      "text/plain": [
       "<AxesSubplot:ylabel='Density'>"
      ]
     },
     "execution_count": 90,
     "metadata": {},
     "output_type": "execute_result"
    },
    {
     "data": {
      "image/png": "[encoded data removed]",
      "text/plain": [
       "<Figure size 400x200 with 1 Axes>"
      ]
     },
     "metadata": {},
     "output_type": "display_data"
    }
   ],
   "source": [
    "c_活跃['采购金额'].plot.kde(figsize=(4,2))"
   ]
  },
  {
   "cell_type": "code",
   "execution_count": 91,
   "id": "3a52b63f",
   "metadata": {},
   "outputs": [
    {
     "data": {
      "text/plain": [
       "<AxesSubplot:>"
      ]
     },
     "execution_count": 91,
     "metadata": {},
     "output_type": "execute_result"
    },
    {
     "data": {
      "image/png": "[encoded data removed]",
      "text/plain": [
       "<Figure size 400x200 with 1 Axes>"
      ]
     },
     "metadata": {},
     "output_type": "display_data"
    }
   ],
   "source": [
    "#偏态很严重，画箱线图看\n",
    "c_活跃['采购频次'].plot.box(figsize=(4,2))"
   ]
  },
  {
   "cell_type": "code",
   "execution_count": 92,
   "id": "877b7075",
   "metadata": {},
   "outputs": [
    {
     "data": {
      "text/plain": [
       "<AxesSubplot:>"
      ]
     },
     "execution_count": 92,
     "metadata": {},
     "output_type": "execute_result"
    },
    {
     "data": {
      "image/png": "[encoded data removed]",
      "text/plain": [
       "<Figure size 400x200 with 1 Axes>"
      ]
     },
     "metadata": {},
     "output_type": "display_data"
    }
   ],
   "source": [
    "c_活跃['采购金额'].plot.box(figsize=(4,2))"
   ]
  },
  {
   "cell_type": "code",
   "execution_count": 93,
   "id": "c65ea5ae",
   "metadata": {},
   "outputs": [
    {
     "name": "stderr",
     "output_type": "stream",
     "text": [
      "D:\\Anaconda\\lib\\site-packages\\ipykernel_launcher.py:15: SettingWithCopyWarning: \n",
      "A value is trying to be set on a copy of a slice from a DataFrame.\n",
      "Try using .loc[row_indexer,col_indexer] = value instead\n",
      "\n",
      "See the caveats in the documentation: https://pandas.pydata.org/pandas-docs/stable/user_guide/indexing.html#returning-a-view-versus-a-copy\n",
      "  from ipykernel import kernelapp as app\n"
     ]
    }
   ],
   "source": [
    "#### 分布不是很均匀，取（为了精简核心门店的数量，取80%分位数吧）\n",
    "median_purchase_freq = c_活跃['采购频次'].quantile([0.8]).to_numpy()\n",
    "median_purchase_amount = c_活跃['采购金额'].quantile([0.8]).to_numpy()\n",
    "\n",
    "# 添加新列并根据条件打标\n",
    "def label_store(row):\n",
    "    if row['采购频次'] > median_purchase_freq and row['采购金额'] > median_purchase_amount:\n",
    "        return '核心门店'\n",
    "#     elif row['采购频次'] < median_purchase_freq and row['采购金额'] < median_purchase_amount:\n",
    "#         return '普通门店'\n",
    "    else:\n",
    "        return '普通门店'\n",
    "\n",
    "# 应用自定义函数\n",
    "c_活跃['门店类别'] = c_活跃.apply(label_store, axis=1)"
   ]
  },
  {
   "cell_type": "code",
   "execution_count": 94,
   "id": "c796c920",
   "metadata": {
    "scrolled": true
   },
   "outputs": [
    {
     "data": {
      "text/plain": [
       "普通门店    41361\n",
       "核心门店     7485\n",
       "Name: 门店类别, dtype: int64"
      ]
     },
     "execution_count": 94,
     "metadata": {},
     "output_type": "execute_result"
    }
   ],
   "source": [
    "c_活跃['门店类别'].value_counts()"
   ]
  },
  {
   "cell_type": "code",
   "execution_count": 95,
   "id": "b82dd7df",
   "metadata": {},
   "outputs": [
    {
     "data": {
      "text/plain": [
       "<AxesSubplot:>"
      ]
     },
     "execution_count": 95,
     "metadata": {},
     "output_type": "execute_result"
    },
    {
     "data": {
      "image/png": "[encoded data removed]",
      "text/plain": [
       "<Figure size 400x200 with 1 Axes>"
      ]
     },
     "metadata": {},
     "output_type": "display_data"
    }
   ],
   "source": [
    "c_不活跃['最后一次采购间隔'].plot.box(figsize=(4,2))"
   ]
  },
  {
   "cell_type": "code",
   "execution_count": 96,
   "id": "e2f16d0b",
   "metadata": {},
   "outputs": [
    {
     "data": {
      "text/plain": [
       "<AxesSubplot:ylabel='Density'>"
      ]
     },
     "execution_count": 96,
     "metadata": {},
     "output_type": "execute_result"
    },
    {
     "data": {
      "image/png": "[encoded data removed]",
      "text/plain": [
       "<Figure size 400x200 with 1 Axes>"
      ]
     },
     "metadata": {},
     "output_type": "display_data"
    }
   ],
   "source": [
    "c_不活跃['最后一次采购间隔'].plot.kde(figsize=(4,2))"
   ]
  },
  {
   "cell_type": "code",
   "execution_count": 97,
   "id": "5a22f6a8",
   "metadata": {},
   "outputs": [
    {
     "data": {
      "text/plain": [
       "10.466666666666667"
      ]
     },
     "execution_count": 97,
     "metadata": {},
     "output_type": "execute_result"
    }
   ],
   "source": [
    "c_不活跃['最后一次采购间隔'].median() #取中位数很合适，10附近正好有2个高峰"
   ]
  },
  {
   "cell_type": "code",
   "execution_count": 98,
   "id": "d81a4aea",
   "metadata": {},
   "outputs": [
    {
     "name": "stderr",
     "output_type": "stream",
     "text": [
      "D:\\Anaconda\\lib\\site-packages\\ipykernel_launcher.py:11: SettingWithCopyWarning: \n",
      "A value is trying to be set on a copy of a slice from a DataFrame.\n",
      "Try using .loc[row_indexer,col_indexer] = value instead\n",
      "\n",
      "See the caveats in the documentation: https://pandas.pydata.org/pandas-docs/stable/user_guide/indexing.html#returning-a-view-versus-a-copy\n",
      "  # This is added back by InteractiveShellApp.init_path()\n"
     ]
    }
   ],
   "source": [
    "median_last_purchase_interval = c_不活跃['最后一次采购间隔'].median()\n",
    "\n",
    "# 添加新列并根据条件打标\n",
    "def label_store_type(row):\n",
    "    if row['最后一次采购间隔'] < median_last_purchase_interval:\n",
    "        return '睡眠门店'\n",
    "    else:\n",
    "        return '流失门店'\n",
    "\n",
    "# 应用自定义函数\n",
    "c_不活跃['门店类别'] = c_不活跃.apply(label_store_type, axis=1)"
   ]
  },
  {
   "cell_type": "code",
   "execution_count": 99,
   "id": "1eaa5aa7",
   "metadata": {},
   "outputs": [
    {
     "data": {
      "text/plain": [
       "普通门店    41361\n",
       "新门店     27188\n",
       "流失门店     9516\n",
       "睡眠门店     9337\n",
       "核心门店     7485\n",
       "Name: 门店类别, dtype: int64"
      ]
     },
     "execution_count": 99,
     "metadata": {},
     "output_type": "execute_result"
    }
   ],
   "source": [
    "#合并\n",
    "pd.concat([c_不活跃,c_活跃,c_新门店],axis=0)['门店类别'].value_counts()"
   ]
  },
  {
   "cell_type": "code",
   "execution_count": 100,
   "id": "abf8a8d0",
   "metadata": {},
   "outputs": [],
   "source": [
    "customers_new = pd.merge(customers_new, pd.concat([c_不活跃,c_活跃,c_新门店],axis=0)[['客户id','门店类别']]\n",
    "                                        , on='客户id', how='left')"
   ]
  },
  {
   "cell_type": "markdown",
   "id": "55d3812f",
   "metadata": {},
   "source": [
    "### 储存"
   ]
  },
  {
   "cell_type": "code",
   "execution_count": 101,
   "id": "24d1d308",
   "metadata": {},
   "outputs": [],
   "source": [
    "customers_new.dropna(subset=['下单日期偏好']).to_csv('新特征_300w样表.csv',index=False)"
   ]
  },
  {
   "cell_type": "code",
   "execution_count": 103,
   "id": "763b8525",
   "metadata": {
    "scrolled": true
   },
   "outputs": [
    {
     "name": "stdout",
     "output_type": "stream",
     "text": [
      "<class 'pandas.core.frame.DataFrame'>\n",
      "Int64Index: 226401 entries, 0 to 226400\n",
      "Data columns (total 50 columns):\n",
      " #   Column     Non-Null Count   Dtype   \n",
      "---  ------     --------------   -----   \n",
      " 0   客户id       226401 non-null  object  \n",
      " 1   门店类型       226401 non-null  object  \n",
      " 2   行政区划       226401 non-null  object  \n",
      " 3   注册时长       226401 non-null  float64 \n",
      " 4   第一次采购间隔    94887 non-null   float64 \n",
      " 5   采购金额       94887 non-null   float64 \n",
      " 6   月均实付金额     94887 non-null   float64 \n",
      " 7   平均折扣率      94887 non-null   float64 \n",
      " 8   折扣订单占比     94887 non-null   float64 \n",
      " 9   最大采购金额     94887 non-null   float64 \n",
      " 10  最小采购金额     94887 non-null   float64 \n",
      " 11  客盒数        94887 non-null   float64 \n",
      " 12  客品数        94887 non-null   float64 \n",
      " 13  sku数       94887 non-null   float64 \n",
      " 14  客单价        94887 non-null   float64 \n",
      " 15  品单价        94887 non-null   float64 \n",
      " 16  客户毛利额      94887 non-null   float64 \n",
      " 17  客户毛利率      94887 non-null   float64 \n",
      " 18  工业毛利额      94887 non-null   float64 \n",
      " 19  工业毛利率      94887 non-null   float64 \n",
      " 20  采购趋势       94887 non-null   object  \n",
      " 21  最后一次采购金额   94887 non-null   float64 \n",
      " 22  最后一次采购间隔   94887 non-null   float64 \n",
      " 23  采购时长       94887 non-null   float64 \n",
      " 24  活动参与率      94883 non-null   float64 \n",
      " 25  活动参与占比     94887 non-null   float64 \n",
      " 26  复购率        94887 non-null   float64 \n",
      " 27  最大复购次数     94887 non-null   float64 \n",
      " 28  最长连续采购月份数  94887 non-null   float64 \n",
      " 29  最大采购间隔     93532 non-null   float64 \n",
      " 30  最小采购间隔     93532 non-null   float64 \n",
      " 31  平均采购间隔     94887 non-null   float64 \n",
      " 32  采购频次       94887 non-null   float64 \n",
      " 33  采购月份数      94887 non-null   float64 \n",
      " 34  购买类别数      94887 non-null   float64 \n",
      " 35  采购类别       94887 non-null   object  \n",
      " 36  慢性病的占比_次数  94887 non-null   float64 \n",
      " 37  慢性病的占比_金额  94887 non-null   float64 \n",
      " 38  主要采购类别_次数  94887 non-null   object  \n",
      " 39  主要采购类别_金额  94887 non-null   object  \n",
      " 40  付款方式       94887 non-null   object  \n",
      " 41  下单日期偏好     94887 non-null   object  \n",
      " 42  下单时间偏好     94887 non-null   object  \n",
      " 43  一单一品率      94887 non-null   float64 \n",
      " 44  价格带        94887 non-null   object  \n",
      " 45  退货率        98579 non-null   float64 \n",
      " 46  新品接受度      94887 non-null   object  \n",
      " 47  门店价值       94887 non-null   category\n",
      " 48  FRM等级      94887 non-null   object  \n",
      " 49  门店类别       94887 non-null   object  \n",
      "dtypes: category(1), float64(35), object(14)\n",
      "memory usage: 86.6+ MB\n"
     ]
    }
   ],
   "source": [
    "customers_new.info()"
   ]
  },
  {
   "cell_type": "code",
   "execution_count": 104,
   "id": "06e3f059",
   "metadata": {},
   "outputs": [],
   "source": [
    "#w"
   ]
  },
  {
   "cell_type": "code",
   "execution_count": 105,
   "id": "0540d442",
   "metadata": {
    "scrolled": true
   },
   "outputs": [
    {
     "data": {
      "text/html": [
       "<div>\n",
       "<style scoped>\n",
       "    .dataframe tbody tr th:only-of-type {\n",
       "        vertical-align: middle;\n",
       "    }\n",
       "\n",
       "    .dataframe tbody tr th {\n",
       "        vertical-align: top;\n",
       "    }\n",
       "\n",
       "    .dataframe thead th {\n",
       "        text-align: right;\n",
       "    }\n",
       "</style>\n",
       "<table border=\"1\" class=\"dataframe\">\n",
       "  <thead>\n",
       "    <tr style=\"text-align: right;\">\n",
       "      <th></th>\n",
       "      <th>客户id</th>\n",
       "      <th>门店类型</th>\n",
       "      <th>行政区划</th>\n",
       "      <th>注册时长</th>\n",
       "      <th>第一次采购间隔</th>\n",
       "      <th>采购金额</th>\n",
       "      <th>月均实付金额</th>\n",
       "      <th>平均折扣率</th>\n",
       "      <th>折扣订单占比</th>\n",
       "      <th>最大采购金额</th>\n",
       "      <th>...</th>\n",
       "      <th>付款方式</th>\n",
       "      <th>下单日期偏好</th>\n",
       "      <th>下单时间偏好</th>\n",
       "      <th>一单一品率</th>\n",
       "      <th>价格带</th>\n",
       "      <th>退货率</th>\n",
       "      <th>新品接受度</th>\n",
       "      <th>门店价值</th>\n",
       "      <th>FRM等级</th>\n",
       "      <th>门店类别</th>\n",
       "    </tr>\n",
       "  </thead>\n",
       "  <tbody>\n",
       "    <tr>\n",
       "      <th>1</th>\n",
       "      <td>6970904116784796290</td>\n",
       "      <td>卫生服务站</td>\n",
       "      <td>县</td>\n",
       "      <td>35.433333</td>\n",
       "      <td>34.733333</td>\n",
       "      <td>1941.60000</td>\n",
       "      <td>1941.600000</td>\n",
       "      <td>0.969733</td>\n",
       "      <td>0.250000</td>\n",
       "      <td>889.2</td>\n",
       "      <td>...</td>\n",
       "      <td>微信</td>\n",
       "      <td>工作日</td>\n",
       "      <td>上午</td>\n",
       "      <td>0.5</td>\n",
       "      <td>中</td>\n",
       "      <td>0.0</td>\n",
       "      <td>中</td>\n",
       "      <td>低价值</td>\n",
       "      <td>一般客户</td>\n",
       "      <td>普通门店</td>\n",
       "    </tr>\n",
       "    <tr>\n",
       "      <th>3</th>\n",
       "      <td>6970904089375019075</td>\n",
       "      <td>卫生服务站</td>\n",
       "      <td>村</td>\n",
       "      <td>39.800000</td>\n",
       "      <td>28.566667</td>\n",
       "      <td>1634.10000</td>\n",
       "      <td>1634.100000</td>\n",
       "      <td>0.785701</td>\n",
       "      <td>0.571429</td>\n",
       "      <td>387.5</td>\n",
       "      <td>...</td>\n",
       "      <td>微信</td>\n",
       "      <td>工作日</td>\n",
       "      <td>晚上</td>\n",
       "      <td>0.0</td>\n",
       "      <td>低</td>\n",
       "      <td>1.0</td>\n",
       "      <td>高</td>\n",
       "      <td>低价值</td>\n",
       "      <td>不重要客户</td>\n",
       "      <td>流失门店</td>\n",
       "    </tr>\n",
       "    <tr>\n",
       "      <th>5</th>\n",
       "      <td>6970903995691045348</td>\n",
       "      <td>卫生服务站</td>\n",
       "      <td>县</td>\n",
       "      <td>35.500000</td>\n",
       "      <td>23.866667</td>\n",
       "      <td>4087.50001</td>\n",
       "      <td>1021.875002</td>\n",
       "      <td>0.933560</td>\n",
       "      <td>0.186047</td>\n",
       "      <td>232.5</td>\n",
       "      <td>...</td>\n",
       "      <td>微信</td>\n",
       "      <td>工作日</td>\n",
       "      <td>下午</td>\n",
       "      <td>0.0</td>\n",
       "      <td>低</td>\n",
       "      <td>0.0</td>\n",
       "      <td>低</td>\n",
       "      <td>一般价值</td>\n",
       "      <td>一般客户</td>\n",
       "      <td>核心门店</td>\n",
       "    </tr>\n",
       "    <tr>\n",
       "      <th>12</th>\n",
       "      <td>6970904028175929760</td>\n",
       "      <td>卫生服务站</td>\n",
       "      <td>市区</td>\n",
       "      <td>35.500000</td>\n",
       "      <td>34.500000</td>\n",
       "      <td>814.58000</td>\n",
       "      <td>814.580000</td>\n",
       "      <td>0.985482</td>\n",
       "      <td>0.153846</td>\n",
       "      <td>119.8</td>\n",
       "      <td>...</td>\n",
       "      <td>微信</td>\n",
       "      <td>工作日</td>\n",
       "      <td>下午</td>\n",
       "      <td>0.0</td>\n",
       "      <td>低</td>\n",
       "      <td>0.0</td>\n",
       "      <td>高</td>\n",
       "      <td>低价值</td>\n",
       "      <td>一般客户</td>\n",
       "      <td>普通门店</td>\n",
       "    </tr>\n",
       "    <tr>\n",
       "      <th>13</th>\n",
       "      <td>6970904139153019784</td>\n",
       "      <td>卫生服务站</td>\n",
       "      <td>县</td>\n",
       "      <td>26.933333</td>\n",
       "      <td>26.300000</td>\n",
       "      <td>1044.00000</td>\n",
       "      <td>1044.000000</td>\n",
       "      <td>1.000000</td>\n",
       "      <td>0.000000</td>\n",
       "      <td>1044.0</td>\n",
       "      <td>...</td>\n",
       "      <td>微信</td>\n",
       "      <td>工作日</td>\n",
       "      <td>上午</td>\n",
       "      <td>1.0</td>\n",
       "      <td>低</td>\n",
       "      <td>0.0</td>\n",
       "      <td>低</td>\n",
       "      <td>低价值</td>\n",
       "      <td>一般客户</td>\n",
       "      <td>普通门店</td>\n",
       "    </tr>\n",
       "  </tbody>\n",
       "</table>\n",
       "<p>5 rows × 50 columns</p>\n",
       "</div>"
      ],
      "text/plain": [
       "                   客户id   门店类型 行政区划       注册时长    第一次采购间隔        采购金额  \\\n",
       "1   6970904116784796290  卫生服务站    县  35.433333  34.733333  1941.60000   \n",
       "3   6970904089375019075  卫生服务站    村  39.800000  28.566667  1634.10000   \n",
       "5   6970903995691045348  卫生服务站    县  35.500000  23.866667  4087.50001   \n",
       "12  6970904028175929760  卫生服务站   市区  35.500000  34.500000   814.58000   \n",
       "13  6970904139153019784  卫生服务站    县  26.933333  26.300000  1044.00000   \n",
       "\n",
       "         月均实付金额     平均折扣率    折扣订单占比  最大采购金额  ...  付款方式  下单日期偏好  下单时间偏好  一单一品率  \\\n",
       "1   1941.600000  0.969733  0.250000   889.2  ...    微信     工作日      上午    0.5   \n",
       "3   1634.100000  0.785701  0.571429   387.5  ...    微信     工作日      晚上    0.0   \n",
       "5   1021.875002  0.933560  0.186047   232.5  ...    微信     工作日      下午    0.0   \n",
       "12   814.580000  0.985482  0.153846   119.8  ...    微信     工作日      下午    0.0   \n",
       "13  1044.000000  1.000000  0.000000  1044.0  ...    微信     工作日      上午    1.0   \n",
       "\n",
       "    价格带  退货率  新品接受度  门店价值  FRM等级  门店类别  \n",
       "1     中  0.0      中   低价值   一般客户  普通门店  \n",
       "3     低  1.0      高   低价值  不重要客户  流失门店  \n",
       "5     低  0.0      低  一般价值   一般客户  核心门店  \n",
       "12    低  0.0      高   低价值   一般客户  普通门店  \n",
       "13    低  0.0      低   低价值   一般客户  普通门店  \n",
       "\n",
       "[5 rows x 50 columns]"
      ]
     },
     "execution_count": 105,
     "metadata": {},
     "output_type": "execute_result"
    }
   ],
   "source": [
    "customers_new[~customers_new['一单一品率'].isna()].head()"
   ]
  },
  {
   "cell_type": "code",
   "execution_count": null,
   "id": "2217b9b2",
   "metadata": {},
   "outputs": [],
   "source": []
  }
 ],
 "metadata": {
  "kernelspec": {
   "display_name": "Python 3 (ipykernel)",
   "language": "python",
   "name": "python3"
  },
  "language_info": {
   "codemirror_mode": {
    "name": "ipython",
    "version": 3
   },
   "file_extension": ".py",
   "mimetype": "text/x-python",
   "name": "python",
   "nbconvert_exporter": "python",
   "pygments_lexer": "ipython3",
   "version": "3.7.16"
  }
 },
 "nbformat": 4,
 "nbformat_minor": 5
}
