{
 "cells": [
  {
   "cell_type": "code",
   "execution_count": 80,
   "metadata": {},
   "outputs": [],
   "source": [
    "from torch_geometric.datasets import Planetoid\n",
    "import torch\n",
    "from torch_geometric.data import HeteroData\n",
    "from torch_geometric.nn import MetaPath2Vec\n",
    "import torch_geometric.transforms as T\n",
    "import pandas as pd\n",
    "import numpy as np\n",
    "from tqdm import tqdm\n",
    "from tqdm import trange\n",
    "from sklearn.cluster import KMeans\n",
    "import matplotlib.pyplot as plt"
   ]
  },
  {
   "cell_type": "code",
   "execution_count": 1,
   "metadata": {},
   "outputs": [],
   "source": [
    "def vector_distances(v, x):\n",
    "    \"\"\"\n",
    "    计算向量v与矩阵X中每个样本向量之间的距离\n",
    "    \n",
    "    参数:\n",
    "    v (array-like): 输入向量，形状为(n,)\n",
    "    x (array-like): 输入矩阵，形状为(m, n)，每行表示一个样本向量\n",
    "    \n",
    "    返回:\n",
    "    distances (array-like): 距离数组，形状为(m,)，表示向量v与矩阵X中每个样本向量之间的距离\n",
    "    \"\"\"\n",
    "    \n",
    "    diff = x - v  # 计算差值\n",
    "    squared_diff = diff ** 2  # 计算平方差值\n",
    "    sum_squared_diff = np.sum(squared_diff, axis=1)  # 沿着列方向求和\n",
    "    distances = np.sqrt(sum_squared_diff)  # 开方\n",
    "    return distances"
   ]
  },
  {
   "cell_type": "code",
   "execution_count": null,
   "metadata": {},
   "outputs": [],
   "source": [
    "def Silhouette(data, labels, centers):\n",
    "    '''计算轮廓系数\n",
    "    \n",
    "    参数 Parameters\n",
    "    -------\n",
    "    - data : ndarray\n",
    "        完整数据\n",
    "    - labels : ndarray\n",
    "        一维的，标签表，长度等于样本数，指示对应样本的类\n",
    "    - centers : ndarray\n",
    "        各个聚类中心点\n",
    "    '''\n",
    "    \n",
    "    kinds = list(range(len(centers)))  # 聚类数表\n",
    "    s_i = []\n",
    "    for cluster in kinds:\n",
    "        homo_data = data[np.where(labels == cluster)[0]]  # 同类别数据\n",
    "        hetero_index = [x for x in kinds if x != cluster]  # 非同类别数据类型表\n",
    "        n = 0\n",
    "        average_a = 0\n",
    "        average_b = 0\n",
    "        for s in homo_data:\n",
    "            a = 0 if n == 0 else average_a\n",
    "            a_new = vector_distances(s, homo_data).mean()\n",
    "            average_a = n * (n + 1) * a + (1 / n) * a_new  # 增量更新a_i\n",
    "            n += 1\n",
    "        for n_kind in hetero_index:\n",
    "            for s in homo_data:\n",
    "                b = 0 if n == 0 else average_b"
   ]
  },
  {
   "cell_type": "code",
   "execution_count": 81,
   "metadata": {},
   "outputs": [],
   "source": [
    "data = np.random.rand(170000, 30)"
   ]
  },
  {
   "cell_type": "code",
   "execution_count": 82,
   "metadata": {},
   "outputs": [
    {
     "data": {
      "text/html": [
       "<style>#sk-container-id-9 {color: black;}#sk-container-id-9 pre{padding: 0;}#sk-container-id-9 div.sk-toggleable {background-color: white;}#sk-container-id-9 label.sk-toggleable__label {cursor: pointer;display: block;width: 100%;margin-bottom: 0;padding: 0.3em;box-sizing: border-box;text-align: center;}#sk-container-id-9 label.sk-toggleable__label-arrow:before {content: \"▸\";float: left;margin-right: 0.25em;color: #696969;}#sk-container-id-9 label.sk-toggleable__label-arrow:hover:before {color: black;}#sk-container-id-9 div.sk-estimator:hover label.sk-toggleable__label-arrow:before {color: black;}#sk-container-id-9 div.sk-toggleable__content {max-height: 0;max-width: 0;overflow: hidden;text-align: left;background-color: #f0f8ff;}#sk-container-id-9 div.sk-toggleable__content pre {margin: 0.2em;color: black;border-radius: 0.25em;background-color: #f0f8ff;}#sk-container-id-9 input.sk-toggleable__control:checked~div.sk-toggleable__content {max-height: 200px;max-width: 100%;overflow: auto;}#sk-container-id-9 input.sk-toggleable__control:checked~label.sk-toggleable__label-arrow:before {content: \"▾\";}#sk-container-id-9 div.sk-estimator input.sk-toggleable__control:checked~label.sk-toggleable__label {background-color: #d4ebff;}#sk-container-id-9 div.sk-label input.sk-toggleable__control:checked~label.sk-toggleable__label {background-color: #d4ebff;}#sk-container-id-9 input.sk-hidden--visually {border: 0;clip: rect(1px 1px 1px 1px);clip: rect(1px, 1px, 1px, 1px);height: 1px;margin: -1px;overflow: hidden;padding: 0;position: absolute;width: 1px;}#sk-container-id-9 div.sk-estimator {font-family: monospace;background-color: #f0f8ff;border: 1px dotted black;border-radius: 0.25em;box-sizing: border-box;margin-bottom: 0.5em;}#sk-container-id-9 div.sk-estimator:hover {background-color: #d4ebff;}#sk-container-id-9 div.sk-parallel-item::after {content: \"\";width: 100%;border-bottom: 1px solid gray;flex-grow: 1;}#sk-container-id-9 div.sk-label:hover label.sk-toggleable__label {background-color: #d4ebff;}#sk-container-id-9 div.sk-serial::before {content: \"\";position: absolute;border-left: 1px solid gray;box-sizing: border-box;top: 0;bottom: 0;left: 50%;z-index: 0;}#sk-container-id-9 div.sk-serial {display: flex;flex-direction: column;align-items: center;background-color: white;padding-right: 0.2em;padding-left: 0.2em;position: relative;}#sk-container-id-9 div.sk-item {position: relative;z-index: 1;}#sk-container-id-9 div.sk-parallel {display: flex;align-items: stretch;justify-content: center;background-color: white;position: relative;}#sk-container-id-9 div.sk-item::before, #sk-container-id-9 div.sk-parallel-item::before {content: \"\";position: absolute;border-left: 1px solid gray;box-sizing: border-box;top: 0;bottom: 0;left: 50%;z-index: -1;}#sk-container-id-9 div.sk-parallel-item {display: flex;flex-direction: column;z-index: 1;position: relative;background-color: white;}#sk-container-id-9 div.sk-parallel-item:first-child::after {align-self: flex-end;width: 50%;}#sk-container-id-9 div.sk-parallel-item:last-child::after {align-self: flex-start;width: 50%;}#sk-container-id-9 div.sk-parallel-item:only-child::after {width: 0;}#sk-container-id-9 div.sk-dashed-wrapped {border: 1px dashed gray;margin: 0 0.4em 0.5em 0.4em;box-sizing: border-box;padding-bottom: 0.4em;background-color: white;}#sk-container-id-9 div.sk-label label {font-family: monospace;font-weight: bold;display: inline-block;line-height: 1.2em;}#sk-container-id-9 div.sk-label-container {text-align: center;}#sk-container-id-9 div.sk-container {/* jupyter's `normalize.less` sets `[hidden] { display: none; }` but bootstrap.min.css set `[hidden] { display: none !important; }` so we also need the `!important` here to be able to override the default hidden behavior on the sphinx rendered scikit-learn.org. See: https://github.com/scikit-learn/scikit-learn/issues/21755 */display: inline-block !important;position: relative;}#sk-container-id-9 div.sk-text-repr-fallback {display: none;}</style><div id=\"sk-container-id-9\" class=\"sk-top-container\"><div class=\"sk-text-repr-fallback\"><pre>KMeans(n_clusters=5, n_init=10)</pre><b>In a Jupyter environment, please rerun this cell to show the HTML representation or trust the notebook. <br />On GitHub, the HTML representation is unable to render, please try loading this page with nbviewer.org.</b></div><div class=\"sk-container\" hidden><div class=\"sk-item\"><div class=\"sk-estimator sk-toggleable\"><input class=\"sk-toggleable__control sk-hidden--visually\" id=\"sk-estimator-id-9\" type=\"checkbox\" checked><label for=\"sk-estimator-id-9\" class=\"sk-toggleable__label sk-toggleable__label-arrow\">KMeans</label><div class=\"sk-toggleable__content\"><pre>KMeans(n_clusters=5, n_init=10)</pre></div></div></div></div></div>"
      ],
      "text/plain": [
       "KMeans(n_clusters=5, n_init=10)"
      ]
     },
     "execution_count": 82,
     "metadata": {},
     "output_type": "execute_result"
    }
   ],
   "source": [
    "# 调用k均值聚类方法\n",
    "k = 5\n",
    "kmeans = KMeans(n_clusters=k, n_init=10)\n",
    "kmeans.fit(data)"
   ]
  },
  {
   "cell_type": "code",
   "execution_count": 83,
   "metadata": {},
   "outputs": [],
   "source": [
    "centers = kmeans.cluster_centers_\n",
    "labels = kmeans.labels_"
   ]
  },
  {
   "cell_type": "code",
   "execution_count": 90,
   "metadata": {},
   "outputs": [],
   "source": [
    "def calculate_CH_score(data, labels):\n",
    "    \"\"\"\n",
    "    计算CH系数\n",
    "    Args:\n",
    "    - data: 输入数据，PyTorch张量形式，每一行表示一个样本\n",
    "    - labels: 数据对应的簇标签，PyTorch张量形式，每个元素表示对应样本的簇标签\n",
    "    Returns:\n",
    "    - ch_score: CH系数\n",
    "    \"\"\"\n",
    "\n",
    "    n_samples = data.shape[0]\n",
    "    n_clusters = labels.max() + 1\n",
    "\n",
    "    centroids = torch.zeros(n_clusters, data.shape[1], dtype=data.dtype, device='cuda')\n",
    "\n",
    "    for i in range(n_clusters):\n",
    "        cluster_data = data[labels == i]\n",
    "        centroids[i] = torch.mean(cluster_data, dim=0)\n",
    "\n",
    "    total_mean = torch.mean(data, dim=0)\n",
    "\n",
    "    # 计算类内离散度\n",
    "    within_cluster_dispersion = torch.zeros(n_clusters, dtype=data.dtype, device=data.device)\n",
    "    for i in range(n_clusters):\n",
    "        cluster_data = data[labels == i]\n",
    "        if len(cluster_data) > 1:\n",
    "            within_cluster_dispersion[i] = torch.sum(torch.pow(cluster_data - centroids[i], 2)) / (len(cluster_data) - 1)\n",
    "\n",
    "    # 计算类间离散度\n",
    "    between_cluster_dispersion = torch.sum(torch.pow(centroids - total_mean, 2), dim=1) * (len(data) - n_clusters) / (n_clusters - 1)\n",
    "\n",
    "    # 计算CH系数\n",
    "    ch_score = torch.mean(between_cluster_dispersion / within_cluster_dispersion)\n",
    "\n",
    "    return ch_score.item()"
   ]
  },
  {
   "cell_type": "code",
   "execution_count": 92,
   "metadata": {},
   "outputs": [],
   "source": [
    "ch_score = calculate_CH_score(torch.tensor(data), labels)"
   ]
  },
  {
   "cell_type": "code",
   "execution_count": 93,
   "metadata": {},
   "outputs": [
    {
     "data": {
      "text/plain": [
       "2797.4879365110532"
      ]
     },
     "execution_count": 93,
     "metadata": {},
     "output_type": "execute_result"
    }
   ],
   "source": [
    "ch_score"
   ]
  },
  {
   "cell_type": "code",
   "execution_count": null,
   "metadata": {},
   "outputs": [],
   "source": []
  }
 ],
 "metadata": {
  "kernelspec": {
   "display_name": "traffic",
   "language": "python",
   "name": "python3"
  },
  "language_info": {
   "codemirror_mode": {
    "name": "ipython",
    "version": 3
   },
   "file_extension": ".py",
   "mimetype": "text/x-python",
   "name": "python",
   "nbconvert_exporter": "python",
   "pygments_lexer": "ipython3",
   "version": "3.11.6"
  }
 },
 "nbformat": 4,
 "nbformat_minor": 2
}
