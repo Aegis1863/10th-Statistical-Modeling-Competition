{
 "cells": [
  {
   "cell_type": "code",
   "execution_count": 39,
   "metadata": {
    "notebookRunGroups": {
     "groupValue": "1"
    }
   },
   "outputs": [
    {
     "data": {
      "text/plain": [
       "2682"
      ]
     },
     "execution_count": 39,
     "metadata": {},
     "output_type": "execute_result"
    }
   ],
   "source": [
    "import argparse\n",
    "import torch\n",
    "import torch.nn as nn\n",
    "from sklearn.metrics import roc_auc_score, average_precision_score\n",
    "import torch_geometric.transforms as T\n",
    "from torch_geometric.utils import negative_sampling\n",
    "from torch_geometric.nn import RGCNConv\n",
    "from torch_geometric.loader import ClusterData, ClusterLoader\n",
    "import pandas as pd\n",
    "import numpy as np\n",
    "import torch\n",
    "import torch.nn.functional as F\n",
    "from tqdm import tqdm, trange\n",
    "import gc\n",
    "import warnings\n",
    "warnings.filterwarnings('ignore')\n",
    "\n",
    "device = 'cuda' if torch.cuda.is_available() else 'cpu'\n",
    "\n",
    "gc.collect()"
   ]
  },
  {
   "cell_type": "code",
   "execution_count": 40,
   "metadata": {
    "notebookRunGroups": {
     "groupValue": "1"
    }
   },
   "outputs": [],
   "source": [
    "hetero_data = torch.load('../data/model/hetero_graph_data.pt')"
   ]
  },
  {
   "cell_type": "code",
   "execution_count": 3,
   "metadata": {},
   "outputs": [
    {
     "data": {
      "text/plain": [
       "HeteroData(\n",
       "  customer={\n",
       "    x=[161086, 12],\n",
       "    index=[161086],\n",
       "  },\n",
       "  product={\n",
       "    x=[2708, 15],\n",
       "    index=[2708],\n",
       "  },\n",
       "  (customer, order, product)={ edge_index=[2, 11892915] },\n",
       "  (product, class, product)={ edge_index=[2, 1796620] },\n",
       "  (product, rev_class, product)={ edge_index=[2, 1796620] },\n",
       "  (product, rev_order, customer)={ edge_index=[2, 11892915] }\n",
       ")"
      ]
     },
     "execution_count": 3,
     "metadata": {},
     "output_type": "execute_result"
    }
   ],
   "source": [
    "hetero_data"
   ]
  },
  {
   "cell_type": "code",
   "execution_count": 41,
   "metadata": {
    "notebookRunGroups": {
     "groupValue": "1"
    }
   },
   "outputs": [],
   "source": [
    "train_data, val_data, test_data = T.RandomLinkSplit(\n",
    "        num_val=0.2,\n",
    "        num_test=0.2,\n",
    "        is_undirected=True,\n",
    "        add_negative_train_samples=True,\n",
    "        disjoint_train_ratio=0,\n",
    "        edge_types=[('customer', 'order', 'product'),\n",
    "                    ('product', 'class', 'product')],\n",
    "        rev_edge_types=[('product', 'rev_order', 'customer'), \n",
    "                        ('product', 'rev_class', 'product')]\n",
    "    )(hetero_data.to_homogeneous())\n",
    "# 产品节点特征本来是12，被0填充到15了，与客户节点对齐"
   ]
  },
  {
   "cell_type": "code",
   "execution_count": 42,
   "metadata": {
    "notebookRunGroups": {
     "groupValue": "1"
    }
   },
   "outputs": [
    {
     "name": "stderr",
     "output_type": "stream",
     "text": [
      "Computing METIS partitioning...\n",
      "Done!\n"
     ]
    }
   ],
   "source": [
    "train_loader = ClusterLoader(ClusterData(train_data, num_parts=128), batch_size=32)  # 训练集太大，分批量"
   ]
  },
  {
   "cell_type": "code",
   "execution_count": 43,
   "metadata": {
    "notebookRunGroups": {
     "groupValue": "1"
    }
   },
   "outputs": [],
   "source": [
    "def negative_sample(data):\n",
    "    # 从训练集中采样与正边相同数量的负边\n",
    "    neg_edge_index = negative_sampling(\n",
    "        edge_index=data.edge_index, num_nodes=data.num_nodes,\n",
    "        num_neg_samples=data.edge_label_index.size(1), method='sparse')\n",
    "    # print(neg_edge_index.size(1))   # 3642条负边，即每次采样与训练集中正边数量一致的负边\n",
    "    edge_label_index = torch.cat(\n",
    "        [data.edge_label_index, neg_edge_index],\n",
    "        dim=-1,\n",
    "    )\n",
    "    edge_label = torch.cat([\n",
    "        data.edge_label,\n",
    "        data.edge_label.new_zeros(neg_edge_index.size(1))\n",
    "    ], dim=0)\n",
    "\n",
    "    return edge_label, edge_label_index"
   ]
  },
  {
   "cell_type": "code",
   "execution_count": 44,
   "metadata": {
    "notebookRunGroups": {
     "groupValue": "1"
    }
   },
   "outputs": [],
   "source": [
    "# 定义参数\n",
    "node_types = train_data.node_type.unique().cpu().tolist()  # 变同质图后，被标记为0（客户）和1（商品）\n",
    "num_relations = len(hetero_data.edge_types)\n",
    "init_sizes = [train_data.x[train_data.node_type==1].shape[-1] for i in node_types]  # 变同质图之后其实都是一样的\n",
    "# init_x = [hetero_data[node_type].x.to(device) for node_type in node_types]\n",
    "in_feats = 16  # 直接指定即可，RGCN中有一个线性层转化输出统一到此维度\n",
    "hidden_feats = 32  # 隐藏层，直接指定即可\n",
    "out_channels = 16  # 输出层，直接指定，最终输出的解码器的输入维度是 2*out_channels"
   ]
  },
  {
   "cell_type": "code",
   "execution_count": 55,
   "metadata": {
    "notebookRunGroups": {
     "groupValue": "1"
    }
   },
   "outputs": [],
   "source": [
    "class RGCN_LP(nn.Module):\n",
    "    def __init__(self, in_channels, hidden_channels, out_channels, dropout=0.5, reg_lambda=0.01):\n",
    "        super(RGCN_LP, self).__init__()\n",
    "        self.dropout = dropout\n",
    "        self.reg_lambda = reg_lambda\n",
    "        self.conv1 = RGCNConv(in_channels, hidden_channels,\n",
    "                              num_relations=num_relations)\n",
    "        self.conv2 = RGCNConv(hidden_channels, out_channels,\n",
    "                              num_relations=num_relations)\n",
    "        self.lins = torch.nn.ModuleList()\n",
    "        for i in range(len(node_types)):\n",
    "            lin = nn.Linear(init_sizes[i], in_channels)\n",
    "            self.lins.append(lin)\n",
    "\n",
    "        self.fc = nn.Sequential(\n",
    "            nn.Linear(2 * out_channels, 1),\n",
    "            nn.Sigmoid()\n",
    "        )\n",
    "\n",
    "    def trans_dimensions(self, xs):\n",
    "        res = []\n",
    "        for x, lin in zip(xs, self.lins):\n",
    "            res.append(lin(x))\n",
    "        return torch.cat(res, dim=0)\n",
    "\n",
    "    def encode(self, data):\n",
    "        x = [data.x[data.node_type == node_type] for node_type in node_types]\n",
    "        x = self.trans_dimensions(x)\n",
    "        edge_index, edge_type = data.edge_index, data.edge_type\n",
    "        x = self.conv1(x, edge_index, edge_type)\n",
    "        x = F.relu(x)\n",
    "        x = F.dropout(x, p=self.dropout, training=self.training)\n",
    "        x = self.conv2(x, edge_index, edge_type)\n",
    "        return x\n",
    "\n",
    "    def decode(self, z, index):\n",
    "        # print(z.shape)\n",
    "        src = z[index[0]]\n",
    "        dst = z[index[1]]\n",
    "        x = torch.cat([src, dst], dim=-1)\n",
    "        x = self.fc(x)\n",
    "        return x\n",
    "\n",
    "    def forward(self, data, index):\n",
    "        z = self.encode(data)\n",
    "        z = self.decode(z, index)\n",
    "        return z\n",
    "    \n",
    "    def l2_regularization(self):\n",
    "        l2_reg = torch.tensor(0.0, device=device)\n",
    "        for param in self.parameters():\n",
    "            l2_reg += torch.norm(param, p=2)\n",
    "        return self.reg_lambda * l2_reg"
   ]
  },
  {
   "cell_type": "code",
   "execution_count": 56,
   "metadata": {
    "notebookRunGroups": {
     "groupValue": "1"
    }
   },
   "outputs": [],
   "source": [
    "def get_metrics(out, label):\n",
    "    auc = roc_auc_score(label.cpu().numpy(), out.cpu().numpy())\n",
    "    ap = average_precision_score(label.cpu().numpy(), out.cpu().numpy())\n",
    "    return auc, ap"
   ]
  },
  {
   "cell_type": "code",
   "execution_count": 68,
   "metadata": {
    "notebookRunGroups": {
     "groupValue": "1"
    }
   },
   "outputs": [],
   "source": [
    "def train():\n",
    "    model = RGCN_LP(in_feats, hidden_feats, out_channels, 0, 0.03).to(device)\n",
    "    optimizer = torch.optim.Adam(params=model.parameters(), lr=0.01)\n",
    "    criterion = torch.nn.BCELoss().to(device)\n",
    "    min_epochs = 10\n",
    "    min_val_loss = np.Inf\n",
    "    summary = {'train_loss': [], 'val_loss': [], 'test_auc': [], 'test_avg_pre': []}\n",
    "    # epoch_count = 0\n",
    "    model.train()  # 设定模型为可训练\n",
    "    val_data.to(device)\n",
    "    test_data.to(device)\n",
    "    for epoch in trange(40):\n",
    "        for train_batch in train_loader:\n",
    "            train_batch.to(device)\n",
    "            optimizer.zero_grad()\n",
    "            # edge_label, edge_label_index = negative_sample(train_batch)\n",
    "            out = model(train_batch, train_batch.edge_index).view(-1)\n",
    "            loss = criterion(out, train_batch.edge_label) + model.l2_regularization()\n",
    "            loss.backward()\n",
    "            optimizer.step()\n",
    "        # validation\n",
    "        val_loss, test_auc, test_ap = test(model, val_data, test_data)\n",
    "        summary['train_loss'].append(loss.item())\n",
    "        summary['val_loss'].append(val_loss)\n",
    "        summary['test_auc'].append(test_auc)\n",
    "        summary['test_avg_pre'].append(test_ap)\n",
    "        if epoch + 1 > min_epochs and val_loss < min_val_loss:\n",
    "            min_val_loss = val_loss\n",
    "\n",
    "        print('epoch {:03d} train_loss {:.4f} val_loss {:.4f} test_auc {:.4f} test_avg_precision {:.4f}'\n",
    "              .format(epoch, loss.item(), val_loss, test_auc, test_ap))\n",
    "    summary = pd.DataFrame(summary)\n",
    "    summary.to_csv('../data/result/pyg_link_pre.csv', index=False, encoding='utf-8-sig')\n",
    "    return summary\n",
    "\n",
    "@torch.no_grad()\n",
    "def test(model, val_data, test_data):\n",
    "    model.eval()  # 设定模型不可训练\n",
    "    # cal val loss\n",
    "    criterion = torch.nn.BCELoss().to(device)\n",
    "    out = model(val_data, val_data.edge_label_index).view(-1)\n",
    "    val_loss = criterion(out, val_data.edge_label)\n",
    "    # cal metrics\n",
    "    out = model(test_data, test_data.edge_label_index).view(-1)\n",
    "    model.train()\n",
    "\n",
    "    auc, ap = get_metrics(out, test_data.edge_label)\n",
    "\n",
    "    return val_loss.item(), auc, ap"
   ]
  },
  {
   "cell_type": "code",
   "execution_count": 69,
   "metadata": {},
   "outputs": [
    {
     "name": "stderr",
     "output_type": "stream",
     "text": [
      "  2%|▎         | 1/40 [00:03<02:18,  3.55s/it]"
     ]
    },
    {
     "name": "stdout",
     "output_type": "stream",
     "text": [
      "epoch 000 train_loss 1.3757 val_loss 0.6232 test_auc 0.8640 test_avg_precision 0.9156\n"
     ]
    },
    {
     "name": "stderr",
     "output_type": "stream",
     "text": [
      "  5%|▌         | 2/40 [00:06<02:08,  3.37s/it]"
     ]
    },
    {
     "name": "stdout",
     "output_type": "stream",
     "text": [
      "epoch 001 train_loss 0.9183 val_loss 0.5582 test_auc 0.8696 test_avg_precision 0.9248\n"
     ]
    },
    {
     "name": "stderr",
     "output_type": "stream",
     "text": [
      "  8%|▊         | 3/40 [00:10<02:04,  3.36s/it]"
     ]
    },
    {
     "name": "stdout",
     "output_type": "stream",
     "text": [
      "epoch 002 train_loss 0.8157 val_loss 0.5705 test_auc 0.8699 test_avg_precision 0.9255\n"
     ]
    },
    {
     "name": "stderr",
     "output_type": "stream",
     "text": [
      " 10%|█         | 4/40 [00:13<01:59,  3.33s/it]"
     ]
    },
    {
     "name": "stdout",
     "output_type": "stream",
     "text": [
      "epoch 003 train_loss 0.7397 val_loss 0.6278 test_auc 0.9102 test_avg_precision 0.9416\n"
     ]
    },
    {
     "name": "stderr",
     "output_type": "stream",
     "text": [
      " 12%|█▎        | 5/40 [00:16<01:56,  3.33s/it]"
     ]
    },
    {
     "name": "stdout",
     "output_type": "stream",
     "text": [
      "epoch 004 train_loss 0.6977 val_loss 0.5744 test_auc 0.9555 test_avg_precision 0.9657\n"
     ]
    },
    {
     "name": "stderr",
     "output_type": "stream",
     "text": [
      " 15%|█▌        | 6/40 [00:20<01:53,  3.35s/it]"
     ]
    },
    {
     "name": "stdout",
     "output_type": "stream",
     "text": [
      "epoch 005 train_loss 0.6202 val_loss 0.5040 test_auc 0.8762 test_avg_precision 0.9275\n"
     ]
    },
    {
     "name": "stderr",
     "output_type": "stream",
     "text": [
      " 18%|█▊        | 7/40 [00:23<01:51,  3.39s/it]"
     ]
    },
    {
     "name": "stdout",
     "output_type": "stream",
     "text": [
      "epoch 006 train_loss 0.5838 val_loss 0.5348 test_auc 0.8684 test_avg_precision 0.9226\n"
     ]
    },
    {
     "name": "stderr",
     "output_type": "stream",
     "text": [
      " 20%|██        | 8/40 [00:26<01:48,  3.38s/it]"
     ]
    },
    {
     "name": "stdout",
     "output_type": "stream",
     "text": [
      "epoch 007 train_loss 0.5547 val_loss 0.5557 test_auc 0.8684 test_avg_precision 0.9219\n"
     ]
    },
    {
     "name": "stderr",
     "output_type": "stream",
     "text": [
      " 22%|██▎       | 9/40 [00:30<01:46,  3.43s/it]"
     ]
    },
    {
     "name": "stdout",
     "output_type": "stream",
     "text": [
      "epoch 008 train_loss 0.5319 val_loss 0.5544 test_auc 0.8723 test_avg_precision 0.9249\n"
     ]
    },
    {
     "name": "stderr",
     "output_type": "stream",
     "text": [
      " 25%|██▌       | 10/40 [00:34<01:44,  3.47s/it]"
     ]
    },
    {
     "name": "stdout",
     "output_type": "stream",
     "text": [
      "epoch 009 train_loss 0.5034 val_loss 0.5487 test_auc 0.8760 test_avg_precision 0.9267\n"
     ]
    },
    {
     "name": "stderr",
     "output_type": "stream",
     "text": [
      " 28%|██▊       | 11/40 [00:37<01:41,  3.51s/it]"
     ]
    },
    {
     "name": "stdout",
     "output_type": "stream",
     "text": [
      "epoch 010 train_loss 0.4700 val_loss 0.5500 test_auc 0.8792 test_avg_precision 0.9279\n"
     ]
    },
    {
     "name": "stderr",
     "output_type": "stream",
     "text": [
      " 30%|███       | 12/40 [00:41<01:38,  3.50s/it]"
     ]
    },
    {
     "name": "stdout",
     "output_type": "stream",
     "text": [
      "epoch 011 train_loss 0.4421 val_loss 0.5476 test_auc 0.8825 test_avg_precision 0.9284\n"
     ]
    },
    {
     "name": "stderr",
     "output_type": "stream",
     "text": [
      " 32%|███▎      | 13/40 [00:44<01:33,  3.45s/it]"
     ]
    },
    {
     "name": "stdout",
     "output_type": "stream",
     "text": [
      "epoch 012 train_loss 0.4190 val_loss 0.5319 test_auc 0.8812 test_avg_precision 0.9280\n"
     ]
    },
    {
     "name": "stderr",
     "output_type": "stream",
     "text": [
      " 35%|███▌      | 14/40 [00:47<01:29,  3.44s/it]"
     ]
    },
    {
     "name": "stdout",
     "output_type": "stream",
     "text": [
      "epoch 013 train_loss 0.3985 val_loss 0.5334 test_auc 0.8744 test_avg_precision 0.9248\n"
     ]
    },
    {
     "name": "stderr",
     "output_type": "stream",
     "text": [
      " 38%|███▊      | 15/40 [00:51<01:25,  3.40s/it]"
     ]
    },
    {
     "name": "stdout",
     "output_type": "stream",
     "text": [
      "epoch 014 train_loss 0.3781 val_loss 0.5381 test_auc 0.8687 test_avg_precision 0.9225\n"
     ]
    },
    {
     "name": "stderr",
     "output_type": "stream",
     "text": [
      " 40%|████      | 16/40 [00:54<01:20,  3.35s/it]"
     ]
    },
    {
     "name": "stdout",
     "output_type": "stream",
     "text": [
      "epoch 015 train_loss 0.3582 val_loss 0.5399 test_auc 0.8672 test_avg_precision 0.9226\n"
     ]
    },
    {
     "name": "stderr",
     "output_type": "stream",
     "text": [
      " 42%|████▎     | 17/40 [00:57<01:16,  3.32s/it]"
     ]
    },
    {
     "name": "stdout",
     "output_type": "stream",
     "text": [
      "epoch 016 train_loss 0.3408 val_loss 0.5431 test_auc 0.8669 test_avg_precision 0.9222\n"
     ]
    },
    {
     "name": "stderr",
     "output_type": "stream",
     "text": [
      " 45%|████▌     | 18/40 [01:01<01:13,  3.32s/it]"
     ]
    },
    {
     "name": "stdout",
     "output_type": "stream",
     "text": [
      "epoch 017 train_loss 0.3247 val_loss 0.5441 test_auc 0.8669 test_avg_precision 0.9221\n"
     ]
    },
    {
     "name": "stderr",
     "output_type": "stream",
     "text": [
      " 48%|████▊     | 19/40 [01:04<01:08,  3.27s/it]"
     ]
    },
    {
     "name": "stdout",
     "output_type": "stream",
     "text": [
      "epoch 018 train_loss 0.3101 val_loss 0.5426 test_auc 0.8669 test_avg_precision 0.9221\n"
     ]
    },
    {
     "name": "stderr",
     "output_type": "stream",
     "text": [
      " 50%|█████     | 20/40 [01:07<01:04,  3.24s/it]"
     ]
    },
    {
     "name": "stdout",
     "output_type": "stream",
     "text": [
      "epoch 019 train_loss 0.2969 val_loss 0.5414 test_auc 0.8669 test_avg_precision 0.9221\n"
     ]
    },
    {
     "name": "stderr",
     "output_type": "stream",
     "text": [
      " 52%|█████▎    | 21/40 [01:10<01:01,  3.24s/it]"
     ]
    },
    {
     "name": "stdout",
     "output_type": "stream",
     "text": [
      "epoch 020 train_loss 0.2849 val_loss 0.5372 test_auc 0.8668 test_avg_precision 0.9221\n"
     ]
    },
    {
     "name": "stderr",
     "output_type": "stream",
     "text": [
      " 55%|█████▌    | 22/40 [01:13<00:57,  3.20s/it]"
     ]
    },
    {
     "name": "stdout",
     "output_type": "stream",
     "text": [
      "epoch 021 train_loss 0.2743 val_loss 0.5312 test_auc 0.8669 test_avg_precision 0.9222\n"
     ]
    },
    {
     "name": "stderr",
     "output_type": "stream",
     "text": [
      " 57%|█████▊    | 23/40 [01:16<00:54,  3.21s/it]"
     ]
    },
    {
     "name": "stdout",
     "output_type": "stream",
     "text": [
      "epoch 022 train_loss 0.2659 val_loss 0.5265 test_auc 0.8670 test_avg_precision 0.9223\n"
     ]
    },
    {
     "name": "stderr",
     "output_type": "stream",
     "text": [
      " 60%|██████    | 24/40 [01:20<00:51,  3.20s/it]"
     ]
    },
    {
     "name": "stdout",
     "output_type": "stream",
     "text": [
      "epoch 023 train_loss 0.2586 val_loss 0.5237 test_auc 0.8674 test_avg_precision 0.9225\n"
     ]
    },
    {
     "name": "stderr",
     "output_type": "stream",
     "text": [
      " 62%|██████▎   | 25/40 [01:23<00:48,  3.21s/it]"
     ]
    },
    {
     "name": "stdout",
     "output_type": "stream",
     "text": [
      "epoch 024 train_loss 0.2512 val_loss 0.5232 test_auc 0.8679 test_avg_precision 0.9227\n"
     ]
    },
    {
     "name": "stderr",
     "output_type": "stream",
     "text": [
      " 65%|██████▌   | 26/40 [01:26<00:45,  3.22s/it]"
     ]
    },
    {
     "name": "stdout",
     "output_type": "stream",
     "text": [
      "epoch 025 train_loss 0.2448 val_loss 0.5243 test_auc 0.8686 test_avg_precision 0.9231\n"
     ]
    },
    {
     "name": "stderr",
     "output_type": "stream",
     "text": [
      " 68%|██████▊   | 27/40 [01:29<00:41,  3.21s/it]"
     ]
    },
    {
     "name": "stdout",
     "output_type": "stream",
     "text": [
      "epoch 026 train_loss 0.2392 val_loss 0.5253 test_auc 0.8694 test_avg_precision 0.9235\n"
     ]
    },
    {
     "name": "stderr",
     "output_type": "stream",
     "text": [
      " 70%|███████   | 28/40 [01:32<00:38,  3.21s/it]"
     ]
    },
    {
     "name": "stdout",
     "output_type": "stream",
     "text": [
      "epoch 027 train_loss 0.2339 val_loss 0.5261 test_auc 0.8702 test_avg_precision 0.9238\n"
     ]
    },
    {
     "name": "stderr",
     "output_type": "stream",
     "text": [
      " 72%|███████▎  | 29/40 [01:36<00:35,  3.21s/it]"
     ]
    },
    {
     "name": "stdout",
     "output_type": "stream",
     "text": [
      "epoch 028 train_loss 0.2293 val_loss 0.5257 test_auc 0.8703 test_avg_precision 0.9238\n"
     ]
    },
    {
     "name": "stderr",
     "output_type": "stream",
     "text": [
      " 75%|███████▌  | 30/40 [01:39<00:32,  3.22s/it]"
     ]
    },
    {
     "name": "stdout",
     "output_type": "stream",
     "text": [
      "epoch 029 train_loss 0.2249 val_loss 0.5263 test_auc 0.8711 test_avg_precision 0.9240\n"
     ]
    },
    {
     "name": "stderr",
     "output_type": "stream",
     "text": [
      " 78%|███████▊  | 31/40 [01:42<00:29,  3.23s/it]"
     ]
    },
    {
     "name": "stdout",
     "output_type": "stream",
     "text": [
      "epoch 030 train_loss 0.2209 val_loss 0.5247 test_auc 0.8725 test_avg_precision 0.9244\n"
     ]
    },
    {
     "name": "stderr",
     "output_type": "stream",
     "text": [
      " 80%|████████  | 32/40 [01:45<00:25,  3.23s/it]"
     ]
    },
    {
     "name": "stdout",
     "output_type": "stream",
     "text": [
      "epoch 031 train_loss 0.2172 val_loss 0.5243 test_auc 0.8734 test_avg_precision 0.9246\n"
     ]
    },
    {
     "name": "stderr",
     "output_type": "stream",
     "text": [
      " 82%|████████▎ | 33/40 [01:49<00:22,  3.25s/it]"
     ]
    },
    {
     "name": "stdout",
     "output_type": "stream",
     "text": [
      "epoch 032 train_loss 0.2139 val_loss 0.5242 test_auc 0.8749 test_avg_precision 0.9249\n"
     ]
    },
    {
     "name": "stderr",
     "output_type": "stream",
     "text": [
      " 85%|████████▌ | 34/40 [01:52<00:19,  3.26s/it]"
     ]
    },
    {
     "name": "stdout",
     "output_type": "stream",
     "text": [
      "epoch 033 train_loss 0.2109 val_loss 0.5248 test_auc 0.8769 test_avg_precision 0.9254\n"
     ]
    },
    {
     "name": "stderr",
     "output_type": "stream",
     "text": [
      " 88%|████████▊ | 35/40 [01:55<00:16,  3.25s/it]"
     ]
    },
    {
     "name": "stdout",
     "output_type": "stream",
     "text": [
      "epoch 034 train_loss 0.2085 val_loss 0.5254 test_auc 0.8777 test_avg_precision 0.9257\n"
     ]
    },
    {
     "name": "stderr",
     "output_type": "stream",
     "text": [
      " 90%|█████████ | 36/40 [01:58<00:12,  3.23s/it]"
     ]
    },
    {
     "name": "stdout",
     "output_type": "stream",
     "text": [
      "epoch 035 train_loss 0.2067 val_loss 0.5256 test_auc 0.8788 test_avg_precision 0.9260\n"
     ]
    },
    {
     "name": "stderr",
     "output_type": "stream",
     "text": [
      " 92%|█████████▎| 37/40 [02:02<00:09,  3.24s/it]"
     ]
    },
    {
     "name": "stdout",
     "output_type": "stream",
     "text": [
      "epoch 036 train_loss 0.2052 val_loss 0.5253 test_auc 0.8818 test_avg_precision 0.9269\n"
     ]
    },
    {
     "name": "stderr",
     "output_type": "stream",
     "text": [
      " 95%|█████████▌| 38/40 [02:05<00:06,  3.24s/it]"
     ]
    },
    {
     "name": "stdout",
     "output_type": "stream",
     "text": [
      "epoch 037 train_loss 0.2035 val_loss 0.5248 test_auc 0.8892 test_avg_precision 0.9291\n"
     ]
    },
    {
     "name": "stderr",
     "output_type": "stream",
     "text": [
      " 98%|█████████▊| 39/40 [02:08<00:03,  3.26s/it]"
     ]
    },
    {
     "name": "stdout",
     "output_type": "stream",
     "text": [
      "epoch 038 train_loss 0.2021 val_loss 0.5251 test_auc 0.8991 test_avg_precision 0.9323\n"
     ]
    },
    {
     "name": "stderr",
     "output_type": "stream",
     "text": [
      "100%|██████████| 40/40 [02:12<00:00,  3.30s/it]"
     ]
    },
    {
     "name": "stdout",
     "output_type": "stream",
     "text": [
      "epoch 039 train_loss 0.2007 val_loss 0.5252 test_auc 0.9028 test_avg_precision 0.9336\n"
     ]
    },
    {
     "name": "stderr",
     "output_type": "stream",
     "text": [
      "\n"
     ]
    }
   ],
   "source": [
    "summary = train()"
   ]
  },
  {
   "cell_type": "code",
   "execution_count": 70,
   "metadata": {},
   "outputs": [
    {
     "data": {
      "text/plain": [
       "<Axes: >"
      ]
     },
     "execution_count": 70,
     "metadata": {},
     "output_type": "execute_result"
    },
    {
     "data": {
      "image/png": "[encoded data removed]",
      "text/plain": [
       "<Figure size 640x480 with 1 Axes>"
      ]
     },
     "metadata": {},
     "output_type": "display_data"
    }
   ],
   "source": [
    "summary.plot()"
   ]
  },
  {
   "cell_type": "code",
   "execution_count": null,
   "metadata": {},
   "outputs": [],
   "source": []
  }
 ],
 "metadata": {
  "kernelspec": {
   "display_name": "traffic",
   "language": "python",
   "name": "python3"
  },
  "language_info": {
   "codemirror_mode": {
    "name": "ipython",
    "version": 3
   },
   "file_extension": ".py",
   "mimetype": "text/x-python",
   "name": "python",
   "nbconvert_exporter": "python",
   "pygments_lexer": "ipython3",
   "version": "3.9.19"
  }
 },
 "nbformat": 4,
 "nbformat_minor": 2
}
