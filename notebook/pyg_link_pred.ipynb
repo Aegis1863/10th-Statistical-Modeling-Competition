{
 "cells": [
  {
   "cell_type": "code",
   "execution_count": 65,
   "metadata": {},
   "outputs": [
    {
     "data": {
      "text/plain": [
       "1807"
      ]
     },
     "execution_count": 65,
     "metadata": {},
     "output_type": "execute_result"
    }
   ],
   "source": [
    "import argparse\n",
    "import torch\n",
    "import torch.nn as nn\n",
    "from sklearn.metrics import roc_auc_score, average_precision_score\n",
    "import torch_geometric.transforms as T\n",
    "from torch_geometric.utils import negative_sampling\n",
    "from torch_geometric.nn import RGCNConv\n",
    "import pandas as pd\n",
    "import numpy as np\n",
    "import tqdm\n",
    "import torch\n",
    "import torch.nn.functional as F\n",
    "import tqdm\n",
    "import gc\n",
    "import warnings\n",
    "warnings.filterwarnings('ignore')\n",
    "\n",
    "gc.collect()"
   ]
  },
  {
   "cell_type": "code",
   "execution_count": 55,
   "metadata": {},
   "outputs": [
    {
     "data": {
      "text/plain": [
       "HeteroData(\n",
       "  customer={\n",
       "    x=[161086, 12],\n",
       "    index=[161086],\n",
       "  },\n",
       "  product={\n",
       "    x=[2708, 15],\n",
       "    index=[2708],\n",
       "  },\n",
       "  (customer, order, product)={ edge_index=[2, 11892915] },\n",
       "  (product, class, product)={ edge_index=[2, 1796620] },\n",
       "  (product, rev_class, product)={ edge_index=[2, 1796620] },\n",
       "  (product, rev_order, customer)={ edge_index=[2, 11892915] }\n",
       ")"
      ]
     },
     "execution_count": 55,
     "metadata": {},
     "output_type": "execute_result"
    }
   ],
   "source": [
    "hetero_data = torch.load('../data/model/hetero_graph_data.pt')\n",
    "hetero_data"
   ]
  },
  {
   "cell_type": "code",
   "execution_count": 56,
   "metadata": {},
   "outputs": [
    {
     "name": "stdout",
     "output_type": "stream",
     "text": [
      "Data(edge_index=[2, 16427442], x=[163794, 15], index=[163794], node_type=[163794], edge_type=[16427442], edge_label=[8213721], edge_label_index=[2, 8213721])\n",
      "Data(edge_index=[2, 16427442], x=[163794, 15], index=[163794], node_type=[163794], edge_type=[16427442], edge_label=[5475814], edge_label_index=[2, 5475814])\n",
      "Data(edge_index=[2, 21903256], x=[163794, 15], index=[163794], node_type=[163794], edge_type=[21903256], edge_label=[5475814], edge_label_index=[2, 5475814])\n"
     ]
    }
   ],
   "source": [
    "train_data, val_data, test_data = T.RandomLinkSplit(\n",
    "        num_val=0.2,\n",
    "        num_test=0.2,\n",
    "        is_undirected=True,\n",
    "        add_negative_train_samples=False,\n",
    "        disjoint_train_ratio=0,\n",
    "        edge_types=[('customer', 'order', 'product'),\n",
    "                    ('product', 'class', 'product')],\n",
    "        rev_edge_types=[('product', 'rev_order', 'customer'), \n",
    "                        ('product', 'rev_class', 'product')]\n",
    "    )(hetero_data.to_homogeneous())\n",
    "\n",
    "print(train_data)\n",
    "print(val_data)\n",
    "print(test_data)"
   ]
  },
  {
   "cell_type": "code",
   "execution_count": 57,
   "metadata": {},
   "outputs": [],
   "source": [
    "def negative_sample():\n",
    "    # 从训练集中采样与正边相同数量的负边\n",
    "    neg_edge_index = negative_sampling(\n",
    "        edge_index=train_data.edge_index, num_nodes=train_data.num_nodes,\n",
    "        num_neg_samples=train_data.edge_label_index.size(1), method='sparse')\n",
    "    # print(neg_edge_index.size(1))   # 3642条负边，即每次采样与训练集中正边数量一致的负边\n",
    "    edge_label_index = torch.cat(\n",
    "        [train_data.edge_label_index, neg_edge_index],\n",
    "        dim=-1,\n",
    "    )\n",
    "    edge_label = torch.cat([\n",
    "        train_data.edge_label,\n",
    "        train_data.edge_label.new_zeros(neg_edge_index.size(1))\n",
    "    ], dim=0)\n",
    "\n",
    "    return edge_label, edge_label_index"
   ]
  },
  {
   "cell_type": "code",
   "execution_count": 58,
   "metadata": {},
   "outputs": [],
   "source": [
    "# 参数\n",
    "device = 'cuda' if torch.cuda.is_available() else 'cpu'\n",
    "node_types = hetero_data.node_types\n",
    "num_relations = len(hetero_data.edge_types)\n",
    "init_sizes = []\n",
    "for i in node_types:\n",
    "    init_sizes.append(hetero_data['customer'].x.shape[-1])\n",
    "in_feats = \n",
    "hidden_feats = \n",
    "out_channels = "
   ]
  },
  {
   "cell_type": "code",
   "execution_count": null,
   "metadata": {},
   "outputs": [],
   "source": [
    "class RGCN_LP(nn.Module):\n",
    "    def __init__(self, in_channels, hidden_channels, out_channels):\n",
    "        super(RGCN_LP, self).__init__()\n",
    "        self.conv1 = RGCNConv(in_channels, hidden_channels,\n",
    "                              num_relations=num_relations, num_bases=30)\n",
    "        self.conv2 = RGCNConv(hidden_channels, out_channels,\n",
    "                              num_relations=num_relations, num_bases=30)\n",
    "        self.lins = torch.nn.ModuleList()\n",
    "        for i in range(len(node_types)):\n",
    "            lin = nn.Linear(init_sizes[i], in_channels)\n",
    "            self.lins.append(lin)\n",
    "\n",
    "        self.fc = nn.Sequential(\n",
    "            nn.Linear(2 * out_channels, 1),\n",
    "            nn.Sigmoid()\n",
    "        )\n",
    "\n",
    "    def trans_dimensions(self, data):\n",
    "        res = []\n",
    "        for node_type, lin in zip(node_types, self.lins):\n",
    "            res.append(lin(data[node_type].x))\n",
    "        return torch.cat(res, dim=0)\n",
    "\n",
    "    def encode(self, data):\n",
    "        x = self.trans_dimensions(data)  # ! 需要检查效果\n",
    "        edge_index, edge_type = data.edge_index, data.edge_type\n",
    "        x = self.conv1(x, edge_index, edge_type)\n",
    "        x = F.relu(x)\n",
    "        # x = F.dropout(x, p=0.5, training=self.training)\n",
    "        x = self.conv2(x, edge_index, edge_type)\n",
    "        return x\n",
    "\n",
    "    def decode(self, z, edge_label_index):\n",
    "        # print(z.shape)\n",
    "        src = z[edge_label_index[0]]\n",
    "        dst = z[edge_label_index[1]]\n",
    "        x = torch.cat([src, dst], dim=-1)\n",
    "        x = self.fc(x)\n",
    "        return x\n",
    "\n",
    "    def forward(self, data, edge_label_index):\n",
    "        z = self.encode(data)\n",
    "        z = self.decode(z, edge_label_index)\n",
    "        return z"
   ]
  },
  {
   "cell_type": "code",
   "execution_count": null,
   "metadata": {},
   "outputs": [],
   "source": [
    "def get_metrics(out):\n",
    "    auc = roc_auc_score(test_data.edge_label.cpu().numpy(), out[:, 1].cpu().numpy())\n",
    "    ap = average_precision_score(test_data.edge_label.cpu().numpy(), out[:, 1].cpu().numpy())\n",
    "    return auc, ap"
   ]
  },
  {
   "cell_type": "code",
   "execution_count": null,
   "metadata": {},
   "outputs": [],
   "source": [
    "def train():\n",
    "    model = RGCN_LP(in_feats, hidden_feats, 128).to(device)\n",
    "    optimizer = torch.optim.Adam(params=model.parameters(), lr=0.01)\n",
    "    criterion = torch.nn.BCELoss().to(device)\n",
    "    min_epochs = 10\n",
    "    min_val_loss = np.Inf\n",
    "    final_test_auc = 0\n",
    "    final_test_ap = 0\n",
    "    model.train()\n",
    "    for epoch in tqdm(range(100)):\n",
    "        optimizer.zero_grad()\n",
    "        edge_label, edge_label_index = negative_sample(train_data)\n",
    "        out = model(train_data, edge_label_index).view(-1)\n",
    "        loss = criterion(out, edge_label)\n",
    "        loss.backward()\n",
    "        optimizer.step()\n",
    "        # validation\n",
    "        val_loss, test_auc, test_ap = test(model, val_data, test_data)\n",
    "        if epoch + 1 > min_epochs and val_loss < min_val_loss:\n",
    "            min_val_loss = val_loss\n",
    "            final_test_auc = test_auc\n",
    "            final_test_ap = test_ap\n",
    "\n",
    "        print('epoch {:03d} train_loss {:.8f} val_loss {:.4f} test_auc {:.4f} test_ap {:.4f}'\n",
    "              .format(epoch, loss.item(), val_loss, test_auc, test_ap))\n",
    "\n",
    "    return final_test_auc, final_test_ap\n",
    "\n",
    "@torch.no_grad()\n",
    "def test(model, val_data, test_data):\n",
    "    model.eval()\n",
    "    # cal val loss\n",
    "    criterion = torch.nn.BCELoss().to(device)\n",
    "    out = model(val_data, val_data.edge_label_index).view(-1)\n",
    "    val_loss = criterion(out, val_data.edge_label)\n",
    "    # cal metrics\n",
    "    out = model(test_data, test_data.edge_label_index).view(-1)\n",
    "    model.train()\n",
    "\n",
    "    auc, ap = get_metrics(out, test_data.edge_label)\n",
    "\n",
    "    return val_loss, auc, ap"
   ]
  }
 ],
 "metadata": {
  "kernelspec": {
   "display_name": "traffic",
   "language": "python",
   "name": "python3"
  },
  "language_info": {
   "codemirror_mode": {
    "name": "ipython",
    "version": 3
   },
   "file_extension": ".py",
   "mimetype": "text/x-python",
   "name": "python",
   "nbconvert_exporter": "python",
   "pygments_lexer": "ipython3",
   "version": "3.9.19"
  }
 },
 "nbformat": 4,
 "nbformat_minor": 2
}
