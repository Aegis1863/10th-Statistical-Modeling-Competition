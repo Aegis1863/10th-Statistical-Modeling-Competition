{
 "cells": [
  {
   "cell_type": "code",
   "execution_count": 44,
   "metadata": {
    "notebookRunGroups": {
     "groupValue": "1"
    }
   },
   "outputs": [
    {
     "data": {
      "text/plain": [
       "3175"
      ]
     },
     "execution_count": 44,
     "metadata": {},
     "output_type": "execute_result"
    }
   ],
   "source": [
    "import argparse\n",
    "import torch\n",
    "import torch.nn as nn\n",
    "from sklearn.metrics import roc_auc_score, average_precision_score\n",
    "import torch_geometric.transforms as T\n",
    "from torch_geometric.utils import negative_sampling\n",
    "from torch_geometric.nn import RGCNConv\n",
    "from torch_geometric.loader import ClusterData, ClusterLoader\n",
    "import pandas as pd\n",
    "import numpy as np\n",
    "import torch\n",
    "import torch.nn.functional as F\n",
    "from tqdm import tqdm, trange\n",
    "import gc\n",
    "import warnings\n",
    "warnings.filterwarnings('ignore')\n",
    "\n",
    "device = 'cpu' # 'cuda' if torch.cuda.is_available() else 'cpu'\n",
    "\n",
    "gc.collect()"
   ]
  },
  {
   "cell_type": "code",
   "execution_count": 45,
   "metadata": {
    "notebookRunGroups": {
     "groupValue": "1"
    }
   },
   "outputs": [],
   "source": [
    "hetero_data = torch.load('../data/model/hetero_graph_data.pt')"
   ]
  },
  {
   "cell_type": "code",
   "execution_count": 26,
   "metadata": {},
   "outputs": [
    {
     "data": {
      "text/plain": [
       "HeteroData(\n",
       "  customer={\n",
       "    x=[161086, 12],\n",
       "    index=[161086],\n",
       "  },\n",
       "  product={\n",
       "    x=[2708, 15],\n",
       "    index=[2708],\n",
       "  },\n",
       "  (customer, order, product)={ edge_index=[2, 11892915] },\n",
       "  (product, class, product)={ edge_index=[2, 1796620] },\n",
       "  (product, rev_class, product)={ edge_index=[2, 1796620] },\n",
       "  (product, rev_order, customer)={ edge_index=[2, 11892915] }\n",
       ")"
      ]
     },
     "execution_count": 26,
     "metadata": {},
     "output_type": "execute_result"
    }
   ],
   "source": [
    "hetero_data"
   ]
  },
  {
   "cell_type": "code",
   "execution_count": 46,
   "metadata": {
    "notebookRunGroups": {
     "groupValue": "1"
    }
   },
   "outputs": [
    {
     "name": "stderr",
     "output_type": "stream",
     "text": [
      "Computing METIS partitioning...\n",
      "Done!\n"
     ]
    }
   ],
   "source": [
    "train_data, val_data, test_data = T.RandomLinkSplit(\n",
    "        num_val=0.2,\n",
    "        num_test=0.2,\n",
    "        is_undirected=True,\n",
    "        add_negative_train_samples=True,\n",
    "        disjoint_train_ratio=0,\n",
    "        edge_types=[('customer', 'order', 'product'),\n",
    "                    ('product', 'class', 'product')],\n",
    "        rev_edge_types=[('product', 'rev_order', 'customer'), \n",
    "                        ('product', 'rev_class', 'product')]\n",
    "    )(hetero_data.to_homogeneous())\n",
    "# 产品节点特征本来是12，被0填充到15了，与客户节点对齐\n",
    "\n",
    "train_loader = ClusterLoader(ClusterData(train_data, num_parts=128), batch_size=32)  # 训练集太大，分批量"
   ]
  },
  {
   "cell_type": "code",
   "execution_count": 47,
   "metadata": {
    "notebookRunGroups": {
     "groupValue": "1"
    }
   },
   "outputs": [],
   "source": [
    "def negative_sample(data):\n",
    "    # 从训练集中采样与正边相同数量的负边\n",
    "    neg_edge_index = negative_sampling(\n",
    "        edge_index=data.edge_index, num_nodes=data.num_nodes,\n",
    "        num_neg_samples=data.edge_label_index.size(1), method='sparse')\n",
    "    # print(neg_edge_index.size(1))   # 3642条负边，即每次采样与训练集中正边数量一致的负边\n",
    "    edge_label_index = torch.cat(\n",
    "        [data.edge_label_index, neg_edge_index],\n",
    "        dim=-1,\n",
    "    )\n",
    "    edge_label = torch.cat([\n",
    "        data.edge_label,\n",
    "        data.edge_label.new_zeros(neg_edge_index.size(1))\n",
    "    ], dim=0)\n",
    "\n",
    "    return edge_label, edge_label_index"
   ]
  },
  {
   "cell_type": "code",
   "execution_count": 48,
   "metadata": {
    "notebookRunGroups": {
     "groupValue": "1"
    }
   },
   "outputs": [],
   "source": [
    "# 定义参数\n",
    "node_types = train_data.node_type.unique().cpu().tolist()  # 变同质图后，被标记为0（客户）和1（商品）\n",
    "num_relations = len(hetero_data.edge_types)\n",
    "init_sizes = [train_data.x[train_data.node_type==1].shape[-1] for i in node_types]  # 变同质图之后其实都是一样的\n",
    "# init_x = [hetero_data[node_type].x.to(device) for node_type in node_types]\n",
    "in_feats = 16  # 直接指定即可，RGCN中有一个线性层转化输出统一到此维度\n",
    "hidden_feats = 32  # 隐藏层，直接指定即可\n",
    "out_channels = 16  # 输出层，直接指定，最终输出的解码器的输入维度是 2*out_channels"
   ]
  },
  {
   "cell_type": "code",
   "execution_count": 75,
   "metadata": {
    "notebookRunGroups": {
     "groupValue": "1"
    }
   },
   "outputs": [],
   "source": [
    "class RGCN_LP(nn.Module):\n",
    "    def __init__(self, in_channels, hidden_channels, out_channels):\n",
    "        super(RGCN_LP, self).__init__()\n",
    "        self.conv1 = RGCNConv(in_channels, hidden_channels,\n",
    "                              num_relations=num_relations)\n",
    "        self.conv2 = RGCNConv(hidden_channels, out_channels,\n",
    "                              num_relations=num_relations)\n",
    "        self.lins = torch.nn.ModuleList()\n",
    "        for i in range(len(node_types)):\n",
    "            lin = nn.Linear(init_sizes[i], in_channels)\n",
    "            self.lins.append(lin)\n",
    "\n",
    "        self.fc = nn.Sequential(\n",
    "            nn.Linear(2 * out_channels, 1),\n",
    "            nn.Sigmoid()\n",
    "        )\n",
    "\n",
    "    def trans_dimensions(self, xs):\n",
    "        res = []\n",
    "        for x, lin in zip(xs, self.lins):\n",
    "            res.append(lin(x))\n",
    "        return torch.cat(res, dim=0)\n",
    "\n",
    "    def encode(self, data):\n",
    "        x = [data.x[data.node_type == node_type] for node_type in node_types]\n",
    "        x = self.trans_dimensions(x)\n",
    "        edge_index, edge_type = data.edge_index, data.edge_type\n",
    "        x = self.conv1(x, edge_index, edge_type)\n",
    "        x = F.relu(x)\n",
    "        # x = F.dropout(x, p=0.5, training=self.training)\n",
    "        x = self.conv2(x, edge_index, edge_type)\n",
    "        return x\n",
    "\n",
    "    def decode(self, z, edge_label_index):\n",
    "        # print(z.shape)\n",
    "        src = z[edge_label_index[0]]  # ! edge_label_index中的索引值大于节点数了，需要检查，而且节点的索引应该是外层的 data.index 而不是这里的顺序\n",
    "        dst = z[edge_label_index[1]]\n",
    "        x = torch.cat([src, dst], dim=-1)\n",
    "        x = self.fc(x)\n",
    "        return x\n",
    "\n",
    "    def forward(self, data):\n",
    "        z = self.encode(data)\n",
    "        z = self.decode(z, data.edge_label_index)\n",
    "        return z"
   ]
  },
  {
   "cell_type": "code",
   "execution_count": 76,
   "metadata": {
    "notebookRunGroups": {
     "groupValue": "1"
    }
   },
   "outputs": [],
   "source": [
    "def get_metrics(out):\n",
    "    auc = roc_auc_score(test_data.edge_label.cpu().numpy(), out[:, 1].cpu().numpy())\n",
    "    ap = average_precision_score(test_data.edge_label.cpu().numpy(), out[:, 1].cpu().numpy())\n",
    "    return auc, ap"
   ]
  },
  {
   "cell_type": "code",
   "execution_count": 77,
   "metadata": {
    "notebookRunGroups": {
     "groupValue": "1"
    }
   },
   "outputs": [],
   "source": [
    "def train():\n",
    "    model = RGCN_LP(in_feats, hidden_feats, out_channels).to(device)\n",
    "    optimizer = torch.optim.Adam(params=model.parameters(), lr=0.01)\n",
    "    criterion = torch.nn.BCELoss().to(device)\n",
    "    min_epochs = 10\n",
    "    min_val_loss = np.Inf\n",
    "    summary = {'val_loss': [], 'test_auc': [], 'test_ap': []}\n",
    "    # epoch_count = 0\n",
    "    model.train()  # 设定模型为可训练\n",
    "    for epoch in trange(20):\n",
    "        for train_batch in train_loader:\n",
    "            train_batch.to(device)\n",
    "            optimizer.zero_grad()\n",
    "            # edge_label, edge_label_index = negative_sample(train_batch)\n",
    "            out = model(train_batch).view(-1)\n",
    "            loss = criterion(out, train_batch.edge_label)\n",
    "            loss.backward()\n",
    "            optimizer.step()\n",
    "        # validation\n",
    "        val_loss, test_auc, test_ap = test(model, val_data, test_data)\n",
    "        summary['val_loss'].append(val_loss)\n",
    "        summary['test_auc'].append(test_auc)\n",
    "        summary['test_ap'].append(test_ap)\n",
    "        if epoch_count + 1 > min_epochs and val_loss < min_val_loss:\n",
    "            min_val_loss = val_loss\n",
    "\n",
    "        print('epoch {:03d} train_loss {:.8f} val_loss {:.4f} test_auc {:.4f} test_ap {:.4f}'\n",
    "              .format(epoch_count, loss.item(), val_loss, test_auc, test_ap))\n",
    "        epoch_count += 1\n",
    "    return pd.DataFrame(summary)\n",
    "\n",
    "@torch.no_grad()\n",
    "def test(model, val_data, test_data):\n",
    "    model.eval()  # 设定模型不可训练\n",
    "    # cal val loss\n",
    "    criterion = torch.nn.BCELoss().to(device)\n",
    "    out = model(val_data, val_data.edge_label_index).view(-1)\n",
    "    val_loss = criterion(out, val_data.edge_label)\n",
    "    # cal metrics\n",
    "    out = model(test_data, test_data.edge_label_index).view(-1)\n",
    "    model.train()\n",
    "\n",
    "    auc, ap = get_metrics(out, test_data.edge_label)\n",
    "\n",
    "    return val_loss, auc, ap"
   ]
  },
  {
   "cell_type": "code",
   "execution_count": 78,
   "metadata": {},
   "outputs": [
    {
     "name": "stderr",
     "output_type": "stream",
     "text": [
      "  0%|          | 0/20 [04:31<?, ?it/s]\n"
     ]
    },
    {
     "ename": "IndexError",
     "evalue": "index 72811 is out of bounds for dimension 0 with size 39520",
     "output_type": "error",
     "traceback": [
      "\u001b[1;31m---------------------------------------------------------------------------\u001b[0m",
      "\u001b[1;31mIndexError\u001b[0m                                Traceback (most recent call last)",
      "Cell \u001b[1;32mIn[78], line 1\u001b[0m\n\u001b[1;32m----> 1\u001b[0m summary \u001b[38;5;241m=\u001b[39m \u001b[43mtrain\u001b[49m\u001b[43m(\u001b[49m\u001b[43m)\u001b[49m\n",
      "Cell \u001b[1;32mIn[77], line 15\u001b[0m, in \u001b[0;36mtrain\u001b[1;34m()\u001b[0m\n\u001b[0;32m     13\u001b[0m optimizer\u001b[38;5;241m.\u001b[39mzero_grad()\n\u001b[0;32m     14\u001b[0m \u001b[38;5;66;03m# edge_label, edge_label_index = negative_sample(train_batch)\u001b[39;00m\n\u001b[1;32m---> 15\u001b[0m out \u001b[38;5;241m=\u001b[39m \u001b[43mmodel\u001b[49m\u001b[43m(\u001b[49m\u001b[43mtrain_batch\u001b[49m\u001b[43m)\u001b[49m\u001b[38;5;241m.\u001b[39mview(\u001b[38;5;241m-\u001b[39m\u001b[38;5;241m1\u001b[39m)\n\u001b[0;32m     16\u001b[0m loss \u001b[38;5;241m=\u001b[39m criterion(out, train_batch\u001b[38;5;241m.\u001b[39medge_label)\n\u001b[0;32m     17\u001b[0m loss\u001b[38;5;241m.\u001b[39mbackward()\n",
      "File \u001b[1;32me:\\anaconda3\\envs\\traffic\\lib\\site-packages\\torch\\nn\\modules\\module.py:1511\u001b[0m, in \u001b[0;36mModule._wrapped_call_impl\u001b[1;34m(self, *args, **kwargs)\u001b[0m\n\u001b[0;32m   1509\u001b[0m     \u001b[38;5;28;01mreturn\u001b[39;00m \u001b[38;5;28mself\u001b[39m\u001b[38;5;241m.\u001b[39m_compiled_call_impl(\u001b[38;5;241m*\u001b[39margs, \u001b[38;5;241m*\u001b[39m\u001b[38;5;241m*\u001b[39mkwargs)  \u001b[38;5;66;03m# type: ignore[misc]\u001b[39;00m\n\u001b[0;32m   1510\u001b[0m \u001b[38;5;28;01melse\u001b[39;00m:\n\u001b[1;32m-> 1511\u001b[0m     \u001b[38;5;28;01mreturn\u001b[39;00m \u001b[38;5;28mself\u001b[39m\u001b[38;5;241m.\u001b[39m_call_impl(\u001b[38;5;241m*\u001b[39margs, \u001b[38;5;241m*\u001b[39m\u001b[38;5;241m*\u001b[39mkwargs)\n",
      "File \u001b[1;32me:\\anaconda3\\envs\\traffic\\lib\\site-packages\\torch\\nn\\modules\\module.py:1520\u001b[0m, in \u001b[0;36mModule._call_impl\u001b[1;34m(self, *args, **kwargs)\u001b[0m\n\u001b[0;32m   1515\u001b[0m \u001b[38;5;66;03m# If we don't have any hooks, we want to skip the rest of the logic in\u001b[39;00m\n\u001b[0;32m   1516\u001b[0m \u001b[38;5;66;03m# this function, and just call forward.\u001b[39;00m\n\u001b[0;32m   1517\u001b[0m \u001b[38;5;28;01mif\u001b[39;00m \u001b[38;5;129;01mnot\u001b[39;00m (\u001b[38;5;28mself\u001b[39m\u001b[38;5;241m.\u001b[39m_backward_hooks \u001b[38;5;129;01mor\u001b[39;00m \u001b[38;5;28mself\u001b[39m\u001b[38;5;241m.\u001b[39m_backward_pre_hooks \u001b[38;5;129;01mor\u001b[39;00m \u001b[38;5;28mself\u001b[39m\u001b[38;5;241m.\u001b[39m_forward_hooks \u001b[38;5;129;01mor\u001b[39;00m \u001b[38;5;28mself\u001b[39m\u001b[38;5;241m.\u001b[39m_forward_pre_hooks\n\u001b[0;32m   1518\u001b[0m         \u001b[38;5;129;01mor\u001b[39;00m _global_backward_pre_hooks \u001b[38;5;129;01mor\u001b[39;00m _global_backward_hooks\n\u001b[0;32m   1519\u001b[0m         \u001b[38;5;129;01mor\u001b[39;00m _global_forward_hooks \u001b[38;5;129;01mor\u001b[39;00m _global_forward_pre_hooks):\n\u001b[1;32m-> 1520\u001b[0m     \u001b[38;5;28;01mreturn\u001b[39;00m forward_call(\u001b[38;5;241m*\u001b[39margs, \u001b[38;5;241m*\u001b[39m\u001b[38;5;241m*\u001b[39mkwargs)\n\u001b[0;32m   1522\u001b[0m \u001b[38;5;28;01mtry\u001b[39;00m:\n\u001b[0;32m   1523\u001b[0m     result \u001b[38;5;241m=\u001b[39m \u001b[38;5;28;01mNone\u001b[39;00m\n",
      "Cell \u001b[1;32mIn[75], line 44\u001b[0m, in \u001b[0;36mRGCN_LP.forward\u001b[1;34m(self, data)\u001b[0m\n\u001b[0;32m     42\u001b[0m \u001b[38;5;28;01mdef\u001b[39;00m \u001b[38;5;21mforward\u001b[39m(\u001b[38;5;28mself\u001b[39m, data):\n\u001b[0;32m     43\u001b[0m     z \u001b[38;5;241m=\u001b[39m \u001b[38;5;28mself\u001b[39m\u001b[38;5;241m.\u001b[39mencode(data)\n\u001b[1;32m---> 44\u001b[0m     z \u001b[38;5;241m=\u001b[39m \u001b[38;5;28;43mself\u001b[39;49m\u001b[38;5;241;43m.\u001b[39;49m\u001b[43mdecode\u001b[49m\u001b[43m(\u001b[49m\u001b[43mz\u001b[49m\u001b[43m,\u001b[49m\u001b[43m \u001b[49m\u001b[43mdata\u001b[49m\u001b[38;5;241;43m.\u001b[39;49m\u001b[43medge_label_index\u001b[49m\u001b[43m)\u001b[49m\n\u001b[0;32m     45\u001b[0m     \u001b[38;5;28;01mreturn\u001b[39;00m z\n",
      "Cell \u001b[1;32mIn[75], line 36\u001b[0m, in \u001b[0;36mRGCN_LP.decode\u001b[1;34m(self, z, edge_label_index)\u001b[0m\n\u001b[0;32m     34\u001b[0m \u001b[38;5;28;01mdef\u001b[39;00m \u001b[38;5;21mdecode\u001b[39m(\u001b[38;5;28mself\u001b[39m, z, edge_label_index):\n\u001b[0;32m     35\u001b[0m     \u001b[38;5;66;03m# print(z.shape)\u001b[39;00m\n\u001b[1;32m---> 36\u001b[0m     src \u001b[38;5;241m=\u001b[39m \u001b[43mz\u001b[49m\u001b[43m[\u001b[49m\u001b[43medge_label_index\u001b[49m\u001b[43m[\u001b[49m\u001b[38;5;241;43m0\u001b[39;49m\u001b[43m]\u001b[49m\u001b[43m]\u001b[49m\n\u001b[0;32m     37\u001b[0m     dst \u001b[38;5;241m=\u001b[39m z[edge_label_index[\u001b[38;5;241m1\u001b[39m]]\n\u001b[0;32m     38\u001b[0m     x \u001b[38;5;241m=\u001b[39m torch\u001b[38;5;241m.\u001b[39mcat([src, dst], dim\u001b[38;5;241m=\u001b[39m\u001b[38;5;241m-\u001b[39m\u001b[38;5;241m1\u001b[39m)\n",
      "\u001b[1;31mIndexError\u001b[0m: index 72811 is out of bounds for dimension 0 with size 39520"
     ]
    }
   ],
   "source": [
    "summary = train()"
   ]
  },
  {
   "cell_type": "code",
   "execution_count": null,
   "metadata": {},
   "outputs": [],
   "source": []
  }
 ],
 "metadata": {
  "kernelspec": {
   "display_name": "traffic",
   "language": "python",
   "name": "python3"
  },
  "language_info": {
   "codemirror_mode": {
    "name": "ipython",
    "version": 3
   },
   "file_extension": ".py",
   "mimetype": "text/x-python",
   "name": "python",
   "nbconvert_exporter": "python",
   "pygments_lexer": "ipython3",
   "version": "3.9.19"
  }
 },
 "nbformat": 4,
 "nbformat_minor": 2
}
