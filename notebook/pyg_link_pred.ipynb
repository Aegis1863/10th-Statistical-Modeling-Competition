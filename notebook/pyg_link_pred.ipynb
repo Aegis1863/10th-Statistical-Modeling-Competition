{
 "cells": [
  {
   "cell_type": "code",
   "execution_count": 48,
   "metadata": {},
   "outputs": [
    {
     "data": {
      "text/plain": [
       "6152"
      ]
     },
     "execution_count": 48,
     "metadata": {},
     "output_type": "execute_result"
    }
   ],
   "source": [
    "import argparse\n",
    "import torch\n",
    "import torch.nn as nn\n",
    "from sklearn.metrics import roc_auc_score, average_precision_score\n",
    "import torch_geometric.transforms as T\n",
    "from torch_geometric.utils import negative_sampling\n",
    "from torch_geometric.nn import RGCNConv\n",
    "from torch_geometric.loader import DataLoader\n",
    "from torch_geometric.data import Dataset\n",
    "import pandas as pd\n",
    "import numpy as np\n",
    "import torch\n",
    "import torch.nn.functional as F\n",
    "from tqdm import tqdm\n",
    "import gc\n",
    "import warnings\n",
    "warnings.filterwarnings('ignore')\n",
    "\n",
    "gc.collect()"
   ]
  },
  {
   "cell_type": "code",
   "execution_count": 8,
   "metadata": {},
   "outputs": [
    {
     "data": {
      "text/plain": [
       "HeteroData(\n",
       "  customer={\n",
       "    x=[161086, 12],\n",
       "    index=[161086],\n",
       "  },\n",
       "  product={\n",
       "    x=[2708, 15],\n",
       "    index=[2708],\n",
       "  },\n",
       "  (customer, order, product)={ edge_index=[2, 11892915] },\n",
       "  (product, class, product)={ edge_index=[2, 1796620] },\n",
       "  (product, rev_class, product)={ edge_index=[2, 1796620] },\n",
       "  (product, rev_order, customer)={ edge_index=[2, 11892915] }\n",
       ")"
      ]
     },
     "execution_count": 8,
     "metadata": {},
     "output_type": "execute_result"
    }
   ],
   "source": [
    "hetero_data = torch.load('../data/model/hetero_graph_data.pt')\n",
    "hetero_data"
   ]
  },
  {
   "cell_type": "code",
   "execution_count": 33,
   "metadata": {},
   "outputs": [
    {
     "name": "stdout",
     "output_type": "stream",
     "text": [
      "Data(edge_index=[2, 16427442], x=[163794, 15], index=[163794], node_type=[163794], edge_type=[16427442], edge_label=[8213721], edge_label_index=[2, 8213721])\n",
      "Data(edge_index=[2, 16427442], x=[163794, 15], index=[163794], node_type=[163794], edge_type=[16427442], edge_label=[5475814], edge_label_index=[2, 5475814])\n",
      "Data(edge_index=[2, 21903256], x=[163794, 15], index=[163794], node_type=[163794], edge_type=[21903256], edge_label=[5475814], edge_label_index=[2, 5475814])\n"
     ]
    }
   ],
   "source": [
    "train_data, val_data, test_data = T.RandomLinkSplit(\n",
    "        num_val=0.2,\n",
    "        num_test=0.2,\n",
    "        is_undirected=True,\n",
    "        add_negative_train_samples=False,\n",
    "        disjoint_train_ratio=0,\n",
    "        edge_types=[('customer', 'order', 'product'),\n",
    "                    ('product', 'class', 'product')],\n",
    "        rev_edge_types=[('product', 'rev_order', 'customer'), \n",
    "                        ('product', 'rev_class', 'product')]\n",
    "    )(hetero_data.to_homogeneous().to('cuda'))\n",
    "# 产品节点特征本来是12，被0填充到15了，与客户节点对齐\n",
    "\n",
    "print(train_data)\n",
    "print(val_data)\n",
    "print(test_data)"
   ]
  },
  {
   "cell_type": "code",
   "execution_count": 102,
   "metadata": {},
   "outputs": [],
   "source": [
    "dataloader = DataLoader([train_data, val_data, test_data], batch_size=64)"
   ]
  },
  {
   "cell_type": "code",
   "execution_count": 10,
   "metadata": {},
   "outputs": [],
   "source": [
    "def negative_sample(data):\n",
    "    # 从训练集中采样与正边相同数量的负边\n",
    "    neg_edge_index = negative_sampling(\n",
    "        edge_index=data.edge_index, num_nodes=data.num_nodes,\n",
    "        num_neg_samples=data.edge_label_index.size(1), method='sparse')\n",
    "    # print(neg_edge_index.size(1))   # 3642条负边，即每次采样与训练集中正边数量一致的负边\n",
    "    edge_label_index = torch.cat(\n",
    "        [data.edge_label_index, neg_edge_index],\n",
    "        dim=-1,\n",
    "    )\n",
    "    edge_label = torch.cat([\n",
    "        data.edge_label,\n",
    "        data.edge_label.new_zeros(neg_edge_index.size(1))\n",
    "    ], dim=0)\n",
    "\n",
    "    return edge_label, edge_label_index"
   ]
  },
  {
   "cell_type": "code",
   "execution_count": 11,
   "metadata": {},
   "outputs": [],
   "source": [
    "# 定义参数\n",
    "device = 'cuda' if torch.cuda.is_available() else 'cpu'\n",
    "node_types = train_data.node_type.unique().cpu().tolist()  # 变同质图后，被标记为0（客户）和1（商品）\n",
    "num_relations = len(hetero_data.edge_types)\n",
    "init_sizes = [train_data.x[train_data.node_type==1].shape[-1] for i in node_types]  # 变同质图之后其实都是一样的\n",
    "# init_x = [hetero_data[node_type].x.to(device) for node_type in node_types]\n",
    "in_feats = 16  # 直接指定即可，RGCN中有一个线性层转化输出统一到此维度\n",
    "hidden_feats = 32  # 隐藏层，直接指定即可\n",
    "out_channels = 16  # 输出层，直接指定，最终输出的解码器的输入维度是 2*out_channels"
   ]
  },
  {
   "cell_type": "code",
   "execution_count": 12,
   "metadata": {},
   "outputs": [],
   "source": [
    "class RGCN_LP(nn.Module):\n",
    "    def __init__(self, in_channels, hidden_channels, out_channels):\n",
    "        super(RGCN_LP, self).__init__()\n",
    "        self.conv1 = RGCNConv(in_channels, hidden_channels,\n",
    "                              num_relations=num_relations, num_bases=30)\n",
    "        self.conv2 = RGCNConv(hidden_channels, out_channels,\n",
    "                              num_relations=num_relations, num_bases=30)\n",
    "        self.lins = torch.nn.ModuleList()\n",
    "        for i in range(len(node_types)):\n",
    "            lin = nn.Linear(init_sizes[i], in_channels)\n",
    "            self.lins.append(lin)\n",
    "\n",
    "        self.fc = nn.Sequential(\n",
    "            nn.Linear(2 * out_channels, 1),\n",
    "            nn.Sigmoid()\n",
    "        )\n",
    "\n",
    "    def trans_dimensions(self, xs):\n",
    "        res = []\n",
    "        for x, lin in zip(xs, self.lins):\n",
    "            res.append(lin(x))\n",
    "        return torch.cat(res, dim=0)\n",
    "\n",
    "    def encode(self, data):\n",
    "        x = [data.x[data.node_type] for node_type in node_types]\n",
    "        x = self.trans_dimensions(x)  # ! 需要检查效果\n",
    "        edge_index, edge_type = data.edge_index, data.edge_type\n",
    "        x = self.conv1(x, edge_index, edge_type)\n",
    "        x = F.relu(x)\n",
    "        # x = F.dropout(x, p=0.5, training=self.training)\n",
    "        x = self.conv2(x, edge_index, edge_type)\n",
    "        return x\n",
    "\n",
    "    def decode(self, z, edge_label_index):\n",
    "        # print(z.shape)\n",
    "        src = z[edge_label_index[0]]\n",
    "        dst = z[edge_label_index[1]]\n",
    "        x = torch.cat([src, dst], dim=-1)\n",
    "        x = self.fc(x)\n",
    "        return x\n",
    "\n",
    "    def forward(self, data, edge_label_index):\n",
    "        z = self.encode(data)\n",
    "        z = self.decode(z, edge_label_index)\n",
    "        return z"
   ]
  },
  {
   "cell_type": "code",
   "execution_count": 13,
   "metadata": {},
   "outputs": [],
   "source": [
    "def get_metrics(out):\n",
    "    auc = roc_auc_score(test_data.edge_label.cpu().numpy(), out[:, 1].cpu().numpy())\n",
    "    ap = average_precision_score(test_data.edge_label.cpu().numpy(), out[:, 1].cpu().numpy())\n",
    "    return auc, ap"
   ]
  },
  {
   "cell_type": "code",
   "execution_count": 26,
   "metadata": {},
   "outputs": [
    {
     "data": {
      "text/plain": [
       "Data(edge_index=[2, 16427442], x=[163794, 15], index=[163794], node_type=[163794], edge_type=[16427442], edge_label=[8213721], edge_label_index=[2, 8213721])"
      ]
     },
     "execution_count": 26,
     "metadata": {},
     "output_type": "execute_result"
    }
   ],
   "source": [
    "train_data"
   ]
  },
  {
   "cell_type": "code",
   "execution_count": 25,
   "metadata": {},
   "outputs": [
    {
     "data": {
      "text/plain": [
       "Data(edge_index=[2, 16427442], x=[163794, 15], index=[163794], node_type=[163794], edge_type=[16427442], edge_label=[8213721], edge_label_index=[2, 8213721])"
      ]
     },
     "execution_count": 25,
     "metadata": {},
     "output_type": "execute_result"
    }
   ],
   "source": [
    "train_loader.dataset"
   ]
  },
  {
   "cell_type": "code",
   "execution_count": 15,
   "metadata": {},
   "outputs": [],
   "source": [
    "def train():\n",
    "    model = RGCN_LP(in_feats, hidden_feats, 128).to(device)\n",
    "    optimizer = torch.optim.Adam(params=model.parameters(), lr=0.01)\n",
    "    criterion = torch.nn.BCELoss().to(device)\n",
    "    min_epochs = 10\n",
    "    min_val_loss = np.Inf\n",
    "    final_test_auc = 0\n",
    "    final_test_ap = 0\n",
    "    summary = {'val_loss': [], 'test_auc': [], 'test_ap': []}\n",
    "    epoch_count = 0\n",
    "    model.train()  # 设定模型为可训练\n",
    "    for train_b, val_b, test_b in tqdm(zip(train_loader, val_loader, test_loader)):\n",
    "        optimizer.zero_grad()\n",
    "        edge_label, edge_label_index = negative_sample(train_data)\n",
    "        out = model(train_b, edge_label_index).view(-1)\n",
    "        loss = criterion(out, edge_label)\n",
    "        loss.backward()\n",
    "        optimizer.step()\n",
    "        # validation\n",
    "        val_loss, test_auc, test_ap = test(model, val_b, test_b)\n",
    "        summary['val_loss'].append(val_loss)\n",
    "        summary['test_auc'].append(test_auc)\n",
    "        summary['test_ap'].append(test_ap)\n",
    "        if epoch_count + 1 > min_epochs and val_loss < min_val_loss:\n",
    "            min_val_loss = val_loss\n",
    "\n",
    "        print('epoch {:03d} train_loss {:.8f} val_loss {:.4f} test_auc {:.4f} test_ap {:.4f}'\n",
    "              .format(epoch_count, loss.item(), val_loss, test_auc, test_ap))\n",
    "        epoch_count += 1\n",
    "    return pd.DataFrame(summary)\n",
    "\n",
    "@torch.no_grad()\n",
    "def test(model, val_data, test_data):\n",
    "    model.eval()  # 设定模型不可训练\n",
    "    # cal val loss\n",
    "    criterion = torch.nn.BCELoss().to(device)\n",
    "    out = model(val_data, val_data.edge_label_index).view(-1)\n",
    "    val_loss = criterion(out, val_data.edge_label)\n",
    "    # cal metrics\n",
    "    out = model(test_data, test_data.edge_label_index).view(-1)\n",
    "    model.train()\n",
    "\n",
    "    auc, ap = get_metrics(out, test_data.edge_label)\n",
    "\n",
    "    return val_loss, auc, ap"
   ]
  },
  {
   "cell_type": "code",
   "execution_count": null,
   "metadata": {},
   "outputs": [],
   "source": [
    "summary = train()"
   ]
  },
  {
   "cell_type": "code",
   "execution_count": null,
   "metadata": {},
   "outputs": [],
   "source": [
    "for batch_data, batch_labels in train_loader:\n",
    "    # 在这里可以进行模型训练等操作\n",
    "    print(\"Batch data:\", batch_data)\n",
    "    print(\"Batch labels:\", batch_labels)"
   ]
  },
  {
   "cell_type": "code",
   "execution_count": null,
   "metadata": {},
   "outputs": [],
   "source": []
  }
 ],
 "metadata": {
  "kernelspec": {
   "display_name": "traffic",
   "language": "python",
   "name": "python3"
  },
  "language_info": {
   "codemirror_mode": {
    "name": "ipython",
    "version": 3
   },
   "file_extension": ".py",
   "mimetype": "text/x-python",
   "name": "python",
   "nbconvert_exporter": "python",
   "pygments_lexer": "ipython3",
   "version": "3.9.19"
  }
 },
 "nbformat": 4,
 "nbformat_minor": 2
}
