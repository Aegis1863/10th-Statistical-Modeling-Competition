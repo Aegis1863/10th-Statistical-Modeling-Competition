{
 "cells": [
  {
   "cell_type": "code",
   "execution_count": 111,
   "metadata": {},
   "outputs": [],
   "source": [
    "import pandas as pd\n",
    "import numpy as np\n",
    "import seaborn as sns\n",
    "import matplotlib.pyplot as plt\n",
    "from tqdm import tqdm\n",
    "import warnings\n",
    "\n",
    "warnings.filterwarnings('ignore')\n",
    "\n",
    "plt.rcParams['font.sans-serif'] = 'Microsoft Yahei'"
   ]
  },
  {
   "cell_type": "markdown",
   "metadata": {},
   "source": [
    "# 客户表"
   ]
  },
  {
   "cell_type": "code",
   "execution_count": 112,
   "metadata": {},
   "outputs": [],
   "source": [
    "cus = pd.read_csv(\"../data/customers.csv\", low_memory=False)\n",
    "cus.head()\n",
    "cus.drop(\"连锁标记\", axis=1, inplace=True)\n",
    "cus.drop(\"连锁标记(更新)\", axis=1, inplace=True)\n",
    "cus.drop(\"客户类型\", axis=1, inplace=True)"
   ]
  },
  {
   "cell_type": "markdown",
   "metadata": {},
   "source": [
    "缺失数据填充方案（已弃用）\n",
    "```python\n",
    "for index, row in tqdm(cus.loc[cus['客户等级'].isna()].iterrows(), total=cus.loc[cus['客户等级'].isna()].shape[0]):\n",
    "    fill_level = None\n",
    "    if cus.loc[cus['客户所在县'] == row['客户所在县'], '客户等级'].notna().any():\n",
    "        fill_level = cus.loc[cus['客户所在县'] == row['客户所在县'], '客户等级'].value_counts().index[0]\n",
    "    elif cus.loc[cus['客户所在市'] == row['客户所在市'], '客户等级'].notna().any():\n",
    "        fill_level = cus.loc[cus['客户所在市'] == row['客户所在市'], '客户等级'].value_counts().index[0]\n",
    "    elif cus.loc[cus['客户所在省'] == row['客户所在省'], '客户等级'].notna().any():\n",
    "        fill_level = cus.loc[cus['客户所在省'] == row['客户所在省'], '客户等级'].value_counts().index[0]\n",
    "    if fill_level == None:\n",
    "        fill_level = cus['客户等级'].value_counts()[0]\n",
    "    row['客户等级'] = fill_level\n",
    "```"
   ]
  },
  {
   "cell_type": "code",
   "execution_count": 113,
   "metadata": {},
   "outputs": [
    {
     "data": {
      "text/html": [
       "<div>\n",
       "<style scoped>\n",
       "    .dataframe tbody tr th:only-of-type {\n",
       "        vertical-align: middle;\n",
       "    }\n",
       "\n",
       "    .dataframe tbody tr th {\n",
       "        vertical-align: top;\n",
       "    }\n",
       "\n",
       "    .dataframe thead th {\n",
       "        text-align: right;\n",
       "    }\n",
       "</style>\n",
       "<table border=\"1\" class=\"dataframe\">\n",
       "  <thead>\n",
       "    <tr style=\"text-align: right;\">\n",
       "      <th></th>\n",
       "      <th>id</th>\n",
       "      <th>客户id</th>\n",
       "      <th>客户名称</th>\n",
       "      <th>客户类型(更新)</th>\n",
       "      <th>推广经理</th>\n",
       "      <th>当前状态</th>\n",
       "      <th>客户所在省</th>\n",
       "      <th>客户所在市</th>\n",
       "      <th>客户所在县</th>\n",
       "      <th>位置(新增)</th>\n",
       "      <th>是否医保店</th>\n",
       "      <th>客户等级</th>\n",
       "      <th>客户店员数</th>\n",
       "      <th>经营品种数</th>\n",
       "      <th>位置类型</th>\n",
       "      <th>位置类型(更新)</th>\n",
       "      <th>注册日期</th>\n",
       "      <th>是否有过投诉</th>\n",
       "      <th>连锁标记(更新2)</th>\n",
       "      <th>是否样本</th>\n",
       "    </tr>\n",
       "  </thead>\n",
       "  <tbody>\n",
       "    <tr>\n",
       "      <th>0</th>\n",
       "      <td>22381f4a-027f-4c3e-a588-a08a266e9c0f</td>\n",
       "      <td>7081090359123820544</td>\n",
       "      <td>桥西****结合诊所</td>\n",
       "      <td>诊所</td>\n",
       "      <td>平志红</td>\n",
       "      <td>启用</td>\n",
       "      <td>河北省</td>\n",
       "      <td>石家庄市</td>\n",
       "      <td>桥西区</td>\n",
       "      <td>市</td>\n",
       "      <td>是</td>\n",
       "      <td>60万-70万</td>\n",
       "      <td>2.0</td>\n",
       "      <td>806.0</td>\n",
       "      <td>诊所</td>\n",
       "      <td>诊所</td>\n",
       "      <td>2023-07-02 10:05:01.913</td>\n",
       "      <td>否</td>\n",
       "      <td>不连锁</td>\n",
       "      <td>1</td>\n",
       "    </tr>\n",
       "    <tr>\n",
       "      <th>1</th>\n",
       "      <td>32721fcf-71b3-416b-91fd-57a1d9fba430</td>\n",
       "      <td>6970904116784796290</td>\n",
       "      <td>武胜****生服务站</td>\n",
       "      <td>卫生服务站</td>\n",
       "      <td>杨茜</td>\n",
       "      <td>启用</td>\n",
       "      <td>四川省</td>\n",
       "      <td>广安市</td>\n",
       "      <td>武胜县</td>\n",
       "      <td>县</td>\n",
       "      <td>是</td>\n",
       "      <td>50万-60万</td>\n",
       "      <td>3.0</td>\n",
       "      <td>180.0</td>\n",
       "      <td>院边店</td>\n",
       "      <td>院边店</td>\n",
       "      <td>2021-03-03 14:11:28.36</td>\n",
       "      <td>是</td>\n",
       "      <td>不连锁</td>\n",
       "      <td>1</td>\n",
       "    </tr>\n",
       "    <tr>\n",
       "      <th>2</th>\n",
       "      <td>a3cd0d22-a66f-4791-9ef3-950347f4dff3</td>\n",
       "      <td>6970904167602983220</td>\n",
       "      <td>岳池****生服务站</td>\n",
       "      <td>卫生服务站</td>\n",
       "      <td>刘璐</td>\n",
       "      <td>启用</td>\n",
       "      <td>四川省</td>\n",
       "      <td>广安市</td>\n",
       "      <td>岳池县</td>\n",
       "      <td>县</td>\n",
       "      <td>是</td>\n",
       "      <td>50万-60万</td>\n",
       "      <td>5.0</td>\n",
       "      <td>750.0</td>\n",
       "      <td>院边店</td>\n",
       "      <td>院边店</td>\n",
       "      <td>2021-05-12 16:40:57.85</td>\n",
       "      <td>否</td>\n",
       "      <td>不连锁</td>\n",
       "      <td>1</td>\n",
       "    </tr>\n",
       "    <tr>\n",
       "      <th>3</th>\n",
       "      <td>ffe7cf09-172e-453a-89b0-b87ccdc14ec0</td>\n",
       "      <td>6970904089375019075</td>\n",
       "      <td>老僧****生服务站</td>\n",
       "      <td>卫生服务站</td>\n",
       "      <td>郝苗苗</td>\n",
       "      <td>启用</td>\n",
       "      <td>山东省</td>\n",
       "      <td>济宁市</td>\n",
       "      <td>嘉祥县</td>\n",
       "      <td>村</td>\n",
       "      <td>否</td>\n",
       "      <td>10万以下</td>\n",
       "      <td>4.0</td>\n",
       "      <td>30.0</td>\n",
       "      <td>院边店</td>\n",
       "      <td>院边店</td>\n",
       "      <td>2020-10-23 15:42:34.097</td>\n",
       "      <td>是</td>\n",
       "      <td>不连锁</td>\n",
       "      <td>1</td>\n",
       "    </tr>\n",
       "    <tr>\n",
       "      <th>4</th>\n",
       "      <td>b3f741d1-9e91-47a7-8597-a0fd3f5e5561</td>\n",
       "      <td>6970904090218075018</td>\n",
       "      <td>叙永****生服务站</td>\n",
       "      <td>卫生服务站</td>\n",
       "      <td>游凯</td>\n",
       "      <td>启用</td>\n",
       "      <td>四川省</td>\n",
       "      <td>泸州市</td>\n",
       "      <td>叙永县</td>\n",
       "      <td>县</td>\n",
       "      <td>是</td>\n",
       "      <td>10万以下</td>\n",
       "      <td>2.0</td>\n",
       "      <td>0.0</td>\n",
       "      <td>院边店</td>\n",
       "      <td>院边店</td>\n",
       "      <td>2021-01-11 18:30:33.077</td>\n",
       "      <td>是</td>\n",
       "      <td>不连锁</td>\n",
       "      <td>1</td>\n",
       "    </tr>\n",
       "  </tbody>\n",
       "</table>\n",
       "</div>"
      ],
      "text/plain": [
       "                                     id                 客户id        客户名称  \\\n",
       "0  22381f4a-027f-4c3e-a588-a08a266e9c0f  7081090359123820544  桥西****结合诊所   \n",
       "1  32721fcf-71b3-416b-91fd-57a1d9fba430  6970904116784796290  武胜****生服务站   \n",
       "2  a3cd0d22-a66f-4791-9ef3-950347f4dff3  6970904167602983220  岳池****生服务站   \n",
       "3  ffe7cf09-172e-453a-89b0-b87ccdc14ec0  6970904089375019075  老僧****生服务站   \n",
       "4  b3f741d1-9e91-47a7-8597-a0fd3f5e5561  6970904090218075018  叙永****生服务站   \n",
       "\n",
       "  客户类型(更新) 推广经理 当前状态 客户所在省 客户所在市 客户所在县 位置(新增) 是否医保店     客户等级  客户店员数  经营品种数  \\\n",
       "0       诊所  平志红   启用   河北省  石家庄市   桥西区      市     是  60万-70万    2.0  806.0   \n",
       "1    卫生服务站   杨茜   启用   四川省   广安市   武胜县      县     是  50万-60万    3.0  180.0   \n",
       "2    卫生服务站   刘璐   启用   四川省   广安市   岳池县      县     是  50万-60万    5.0  750.0   \n",
       "3    卫生服务站  郝苗苗   启用   山东省   济宁市   嘉祥县      村     否    10万以下    4.0   30.0   \n",
       "4    卫生服务站   游凯   启用   四川省   泸州市   叙永县      县     是    10万以下    2.0    0.0   \n",
       "\n",
       "  位置类型 位置类型(更新)                     注册日期 是否有过投诉 连锁标记(更新2)  是否样本  \n",
       "0   诊所       诊所  2023-07-02 10:05:01.913      否       不连锁     1  \n",
       "1  院边店      院边店   2021-03-03 14:11:28.36      是       不连锁     1  \n",
       "2  院边店      院边店   2021-05-12 16:40:57.85      否       不连锁     1  \n",
       "3  院边店      院边店  2020-10-23 15:42:34.097      是       不连锁     1  \n",
       "4  院边店      院边店  2021-01-11 18:30:33.077      是       不连锁     1  "
      ]
     },
     "execution_count": 113,
     "metadata": {},
     "output_type": "execute_result"
    }
   ],
   "source": [
    "cus.head()"
   ]
  },
  {
   "cell_type": "markdown",
   "metadata": {},
   "source": [
    "## 删除有缺失数据样本"
   ]
  },
  {
   "cell_type": "code",
   "execution_count": 114,
   "metadata": {},
   "outputs": [],
   "source": [
    "cus.dropna(axis=0, inplace=True)"
   ]
  },
  {
   "cell_type": "code",
   "execution_count": 43,
   "metadata": {},
   "outputs": [
    {
     "data": {
      "text/plain": [
       "<Axes: >"
      ]
     },
     "execution_count": 43,
     "metadata": {},
     "output_type": "execute_result"
    },
    {
     "data": {
      "image/png": "[encoded data removed]",
      "text/plain": [
       "<Figure size 640x480 with 2 Axes>"
      ]
     },
     "metadata": {},
     "output_type": "display_data"
    }
   ],
   "source": [
    "sns.heatmap(cus.isna())"
   ]
  },
  {
   "cell_type": "markdown",
   "metadata": {},
   "source": [
    "## 是否医保\n",
    "\n",
    "是1，否0"
   ]
  },
  {
   "cell_type": "code",
   "execution_count": 115,
   "metadata": {},
   "outputs": [
    {
     "data": {
      "text/plain": [
       "是否医保店\n",
       "是    98692\n",
       "否    93372\n",
       "Name: count, dtype: int64"
      ]
     },
     "execution_count": 115,
     "metadata": {},
     "output_type": "execute_result"
    }
   ],
   "source": [
    "cus[\"是否医保店\"].value_counts()"
   ]
  },
  {
   "cell_type": "code",
   "execution_count": 116,
   "metadata": {},
   "outputs": [],
   "source": [
    "cus[\"是否医保店\"] = cus[\"是否医保店\"].replace({\"是\": 1, \"否\": 0})"
   ]
  },
  {
   "cell_type": "markdown",
   "metadata": {},
   "source": [
    "## 客户等级\n",
    "\n",
    "改成顺序变量"
   ]
  },
  {
   "cell_type": "code",
   "execution_count": 117,
   "metadata": {},
   "outputs": [
    {
     "data": {
      "text/plain": [
       "客户等级\n",
       "10万-20万     50177\n",
       "10万以下       40152\n",
       "20万-30万     36548\n",
       "30万-40万     24897\n",
       "40万-50万     14401\n",
       "50万-60万      8998\n",
       "60万-70万      5446\n",
       "70万-80万      4029\n",
       "100万以上       3319\n",
       "80万-90万      2474\n",
       "90万-100万     1617\n",
       "0               5\n",
       "1000            1\n",
       "Name: count, dtype: int64"
      ]
     },
     "execution_count": 117,
     "metadata": {},
     "output_type": "execute_result"
    }
   ],
   "source": [
    "cus[\"客户等级\"].value_counts()"
   ]
  },
  {
   "cell_type": "code",
   "execution_count": 118,
   "metadata": {},
   "outputs": [],
   "source": [
    "cus.drop(cus[cus[\"客户等级\"] == \"0\"].index, inplace=True)\n",
    "cus.drop(cus[cus[\"客户等级\"] == \"1000\"].index, inplace=True)"
   ]
  },
  {
   "cell_type": "code",
   "execution_count": 119,
   "metadata": {},
   "outputs": [],
   "source": [
    "cus[\"客户等级\"].replace(\n",
    "    {\n",
    "        \"10万以下\": 1,\n",
    "        \"10万-20万\": 2,\n",
    "        \"20万-30万\": 3,\n",
    "        \"30万-40万\": 4,\n",
    "        \"40万-50万\": 5,\n",
    "        \"50万-60万\": 6,\n",
    "        \"60万-70万\": 7,\n",
    "        \"70万-80万\": 8,\n",
    "        \"80万-90万\": 9,\n",
    "        \"90万-100万\": 10,\n",
    "        \"100万以上\": 11,\n",
    "    },\n",
    "    inplace=True,\n",
    ")"
   ]
  },
  {
   "cell_type": "code",
   "execution_count": 120,
   "metadata": {},
   "outputs": [
    {
     "data": {
      "text/html": [
       "<div>\n",
       "<style scoped>\n",
       "    .dataframe tbody tr th:only-of-type {\n",
       "        vertical-align: middle;\n",
       "    }\n",
       "\n",
       "    .dataframe tbody tr th {\n",
       "        vertical-align: top;\n",
       "    }\n",
       "\n",
       "    .dataframe thead th {\n",
       "        text-align: right;\n",
       "    }\n",
       "</style>\n",
       "<table border=\"1\" class=\"dataframe\">\n",
       "  <thead>\n",
       "    <tr style=\"text-align: right;\">\n",
       "      <th></th>\n",
       "      <th>id</th>\n",
       "      <th>客户id</th>\n",
       "      <th>客户名称</th>\n",
       "      <th>客户类型(更新)</th>\n",
       "      <th>推广经理</th>\n",
       "      <th>当前状态</th>\n",
       "      <th>客户所在省</th>\n",
       "      <th>客户所在市</th>\n",
       "      <th>客户所在县</th>\n",
       "      <th>位置(新增)</th>\n",
       "      <th>是否医保店</th>\n",
       "      <th>客户等级</th>\n",
       "      <th>客户店员数</th>\n",
       "      <th>经营品种数</th>\n",
       "      <th>位置类型</th>\n",
       "      <th>位置类型(更新)</th>\n",
       "      <th>注册日期</th>\n",
       "      <th>是否有过投诉</th>\n",
       "      <th>连锁标记(更新2)</th>\n",
       "      <th>是否样本</th>\n",
       "    </tr>\n",
       "  </thead>\n",
       "  <tbody>\n",
       "    <tr>\n",
       "      <th>0</th>\n",
       "      <td>22381f4a-027f-4c3e-a588-a08a266e9c0f</td>\n",
       "      <td>7081090359123820544</td>\n",
       "      <td>桥西****结合诊所</td>\n",
       "      <td>诊所</td>\n",
       "      <td>平志红</td>\n",
       "      <td>启用</td>\n",
       "      <td>河北省</td>\n",
       "      <td>石家庄市</td>\n",
       "      <td>桥西区</td>\n",
       "      <td>市</td>\n",
       "      <td>1</td>\n",
       "      <td>7</td>\n",
       "      <td>2.0</td>\n",
       "      <td>806.0</td>\n",
       "      <td>诊所</td>\n",
       "      <td>诊所</td>\n",
       "      <td>2023-07-02 10:05:01.913</td>\n",
       "      <td>否</td>\n",
       "      <td>不连锁</td>\n",
       "      <td>1</td>\n",
       "    </tr>\n",
       "    <tr>\n",
       "      <th>1</th>\n",
       "      <td>32721fcf-71b3-416b-91fd-57a1d9fba430</td>\n",
       "      <td>6970904116784796290</td>\n",
       "      <td>武胜****生服务站</td>\n",
       "      <td>卫生服务站</td>\n",
       "      <td>杨茜</td>\n",
       "      <td>启用</td>\n",
       "      <td>四川省</td>\n",
       "      <td>广安市</td>\n",
       "      <td>武胜县</td>\n",
       "      <td>县</td>\n",
       "      <td>1</td>\n",
       "      <td>6</td>\n",
       "      <td>3.0</td>\n",
       "      <td>180.0</td>\n",
       "      <td>院边店</td>\n",
       "      <td>院边店</td>\n",
       "      <td>2021-03-03 14:11:28.36</td>\n",
       "      <td>是</td>\n",
       "      <td>不连锁</td>\n",
       "      <td>1</td>\n",
       "    </tr>\n",
       "    <tr>\n",
       "      <th>2</th>\n",
       "      <td>a3cd0d22-a66f-4791-9ef3-950347f4dff3</td>\n",
       "      <td>6970904167602983220</td>\n",
       "      <td>岳池****生服务站</td>\n",
       "      <td>卫生服务站</td>\n",
       "      <td>刘璐</td>\n",
       "      <td>启用</td>\n",
       "      <td>四川省</td>\n",
       "      <td>广安市</td>\n",
       "      <td>岳池县</td>\n",
       "      <td>县</td>\n",
       "      <td>1</td>\n",
       "      <td>6</td>\n",
       "      <td>5.0</td>\n",
       "      <td>750.0</td>\n",
       "      <td>院边店</td>\n",
       "      <td>院边店</td>\n",
       "      <td>2021-05-12 16:40:57.85</td>\n",
       "      <td>否</td>\n",
       "      <td>不连锁</td>\n",
       "      <td>1</td>\n",
       "    </tr>\n",
       "    <tr>\n",
       "      <th>3</th>\n",
       "      <td>ffe7cf09-172e-453a-89b0-b87ccdc14ec0</td>\n",
       "      <td>6970904089375019075</td>\n",
       "      <td>老僧****生服务站</td>\n",
       "      <td>卫生服务站</td>\n",
       "      <td>郝苗苗</td>\n",
       "      <td>启用</td>\n",
       "      <td>山东省</td>\n",
       "      <td>济宁市</td>\n",
       "      <td>嘉祥县</td>\n",
       "      <td>村</td>\n",
       "      <td>0</td>\n",
       "      <td>1</td>\n",
       "      <td>4.0</td>\n",
       "      <td>30.0</td>\n",
       "      <td>院边店</td>\n",
       "      <td>院边店</td>\n",
       "      <td>2020-10-23 15:42:34.097</td>\n",
       "      <td>是</td>\n",
       "      <td>不连锁</td>\n",
       "      <td>1</td>\n",
       "    </tr>\n",
       "    <tr>\n",
       "      <th>4</th>\n",
       "      <td>b3f741d1-9e91-47a7-8597-a0fd3f5e5561</td>\n",
       "      <td>6970904090218075018</td>\n",
       "      <td>叙永****生服务站</td>\n",
       "      <td>卫生服务站</td>\n",
       "      <td>游凯</td>\n",
       "      <td>启用</td>\n",
       "      <td>四川省</td>\n",
       "      <td>泸州市</td>\n",
       "      <td>叙永县</td>\n",
       "      <td>县</td>\n",
       "      <td>1</td>\n",
       "      <td>1</td>\n",
       "      <td>2.0</td>\n",
       "      <td>0.0</td>\n",
       "      <td>院边店</td>\n",
       "      <td>院边店</td>\n",
       "      <td>2021-01-11 18:30:33.077</td>\n",
       "      <td>是</td>\n",
       "      <td>不连锁</td>\n",
       "      <td>1</td>\n",
       "    </tr>\n",
       "  </tbody>\n",
       "</table>\n",
       "</div>"
      ],
      "text/plain": [
       "                                     id                 客户id        客户名称  \\\n",
       "0  22381f4a-027f-4c3e-a588-a08a266e9c0f  7081090359123820544  桥西****结合诊所   \n",
       "1  32721fcf-71b3-416b-91fd-57a1d9fba430  6970904116784796290  武胜****生服务站   \n",
       "2  a3cd0d22-a66f-4791-9ef3-950347f4dff3  6970904167602983220  岳池****生服务站   \n",
       "3  ffe7cf09-172e-453a-89b0-b87ccdc14ec0  6970904089375019075  老僧****生服务站   \n",
       "4  b3f741d1-9e91-47a7-8597-a0fd3f5e5561  6970904090218075018  叙永****生服务站   \n",
       "\n",
       "  客户类型(更新) 推广经理 当前状态 客户所在省 客户所在市 客户所在县 位置(新增)  是否医保店  客户等级  客户店员数  经营品种数 位置类型  \\\n",
       "0       诊所  平志红   启用   河北省  石家庄市   桥西区      市      1     7    2.0  806.0   诊所   \n",
       "1    卫生服务站   杨茜   启用   四川省   广安市   武胜县      县      1     6    3.0  180.0  院边店   \n",
       "2    卫生服务站   刘璐   启用   四川省   广安市   岳池县      县      1     6    5.0  750.0  院边店   \n",
       "3    卫生服务站  郝苗苗   启用   山东省   济宁市   嘉祥县      村      0     1    4.0   30.0  院边店   \n",
       "4    卫生服务站   游凯   启用   四川省   泸州市   叙永县      县      1     1    2.0    0.0  院边店   \n",
       "\n",
       "  位置类型(更新)                     注册日期 是否有过投诉 连锁标记(更新2)  是否样本  \n",
       "0       诊所  2023-07-02 10:05:01.913      否       不连锁     1  \n",
       "1      院边店   2021-03-03 14:11:28.36      是       不连锁     1  \n",
       "2      院边店   2021-05-12 16:40:57.85      否       不连锁     1  \n",
       "3      院边店  2020-10-23 15:42:34.097      是       不连锁     1  \n",
       "4      院边店  2021-01-11 18:30:33.077      是       不连锁     1  "
      ]
     },
     "execution_count": 120,
     "metadata": {},
     "output_type": "execute_result"
    }
   ],
   "source": [
    "cus.head()"
   ]
  },
  {
   "cell_type": "markdown",
   "metadata": {},
   "source": [
    "## 位置(新增)\n",
    "\n",
    "顺序变量，由小到大给数字"
   ]
  },
  {
   "cell_type": "code",
   "execution_count": 121,
   "metadata": {},
   "outputs": [
    {
     "data": {
      "text/plain": [
       "位置(新增)\n",
       "市    79136\n",
       "村    59874\n",
       "县    53048\n",
       "Name: count, dtype: int64"
      ]
     },
     "execution_count": 121,
     "metadata": {},
     "output_type": "execute_result"
    }
   ],
   "source": [
    "cus['位置(新增)'].value_counts()"
   ]
  },
  {
   "cell_type": "code",
   "execution_count": 122,
   "metadata": {},
   "outputs": [],
   "source": [
    "cus[\"位置(新增)\"].replace(\n",
    "    {\n",
    "        \"村\": 1,\n",
    "        \"县\": 2,\n",
    "        \"市\": 3,\n",
    "    },\n",
    "    inplace=True,\n",
    ")"
   ]
  },
  {
   "cell_type": "markdown",
   "metadata": {},
   "source": [
    "## 客户店员数\n",
    "\n",
    "部分数值过于极端，改成上限为均值+0.05倍标准差"
   ]
  },
  {
   "cell_type": "code",
   "execution_count": 123,
   "metadata": {},
   "outputs": [
    {
     "data": {
      "text/plain": [
       "602.5484754752191"
      ]
     },
     "execution_count": 123,
     "metadata": {},
     "output_type": "execute_result"
    }
   ],
   "source": [
    "cus['客户店员数'].std()"
   ]
  },
  {
   "cell_type": "code",
   "execution_count": 124,
   "metadata": {},
   "outputs": [
    {
     "data": {
      "text/plain": [
       "<Axes: >"
      ]
     },
     "execution_count": 124,
     "metadata": {},
     "output_type": "execute_result"
    },
    {
     "data": {
      "image/png": "[encoded data removed]",
      "text/plain": [
       "<Figure size 640x480 with 1 Axes>"
      ]
     },
     "metadata": {},
     "output_type": "display_data"
    }
   ],
   "source": [
    "cus.loc[cus['客户店员数']<cus['客户店员数'].mean()+0.05*cus['客户店员数'].std(), '客户店员数'].plot(kind='box')"
   ]
  },
  {
   "cell_type": "code",
   "execution_count": 125,
   "metadata": {},
   "outputs": [],
   "source": [
    "cus.loc[cus['客户店员数']>cus['客户店员数'].mean()+0.05*cus['客户店员数'].std(), '客户店员数'] = 40"
   ]
  },
  {
   "cell_type": "code",
   "execution_count": 126,
   "metadata": {},
   "outputs": [
    {
     "data": {
      "text/plain": [
       "<Axes: >"
      ]
     },
     "execution_count": 126,
     "metadata": {},
     "output_type": "execute_result"
    },
    {
     "data": {
      "image/png": "[encoded data removed]",
      "text/plain": [
       "<Figure size 640x480 with 1 Axes>"
      ]
     },
     "metadata": {},
     "output_type": "display_data"
    }
   ],
   "source": [
    "cus['客户店员数'].plot(kind='box')"
   ]
  },
  {
   "cell_type": "code",
   "execution_count": 127,
   "metadata": {},
   "outputs": [
    {
     "data": {
      "text/html": [
       "<div>\n",
       "<style scoped>\n",
       "    .dataframe tbody tr th:only-of-type {\n",
       "        vertical-align: middle;\n",
       "    }\n",
       "\n",
       "    .dataframe tbody tr th {\n",
       "        vertical-align: top;\n",
       "    }\n",
       "\n",
       "    .dataframe thead th {\n",
       "        text-align: right;\n",
       "    }\n",
       "</style>\n",
       "<table border=\"1\" class=\"dataframe\">\n",
       "  <thead>\n",
       "    <tr style=\"text-align: right;\">\n",
       "      <th></th>\n",
       "      <th>id</th>\n",
       "      <th>客户id</th>\n",
       "      <th>客户名称</th>\n",
       "      <th>客户类型(更新)</th>\n",
       "      <th>推广经理</th>\n",
       "      <th>当前状态</th>\n",
       "      <th>客户所在省</th>\n",
       "      <th>客户所在市</th>\n",
       "      <th>客户所在县</th>\n",
       "      <th>位置(新增)</th>\n",
       "      <th>是否医保店</th>\n",
       "      <th>客户等级</th>\n",
       "      <th>客户店员数</th>\n",
       "      <th>经营品种数</th>\n",
       "      <th>位置类型</th>\n",
       "      <th>位置类型(更新)</th>\n",
       "      <th>注册日期</th>\n",
       "      <th>是否有过投诉</th>\n",
       "      <th>连锁标记(更新2)</th>\n",
       "      <th>是否样本</th>\n",
       "    </tr>\n",
       "  </thead>\n",
       "  <tbody>\n",
       "    <tr>\n",
       "      <th>0</th>\n",
       "      <td>22381f4a-027f-4c3e-a588-a08a266e9c0f</td>\n",
       "      <td>7081090359123820544</td>\n",
       "      <td>桥西****结合诊所</td>\n",
       "      <td>诊所</td>\n",
       "      <td>平志红</td>\n",
       "      <td>启用</td>\n",
       "      <td>河北省</td>\n",
       "      <td>石家庄市</td>\n",
       "      <td>桥西区</td>\n",
       "      <td>3</td>\n",
       "      <td>1</td>\n",
       "      <td>7</td>\n",
       "      <td>2.0</td>\n",
       "      <td>806.0</td>\n",
       "      <td>诊所</td>\n",
       "      <td>诊所</td>\n",
       "      <td>2023-07-02 10:05:01.913</td>\n",
       "      <td>否</td>\n",
       "      <td>不连锁</td>\n",
       "      <td>1</td>\n",
       "    </tr>\n",
       "    <tr>\n",
       "      <th>1</th>\n",
       "      <td>32721fcf-71b3-416b-91fd-57a1d9fba430</td>\n",
       "      <td>6970904116784796290</td>\n",
       "      <td>武胜****生服务站</td>\n",
       "      <td>卫生服务站</td>\n",
       "      <td>杨茜</td>\n",
       "      <td>启用</td>\n",
       "      <td>四川省</td>\n",
       "      <td>广安市</td>\n",
       "      <td>武胜县</td>\n",
       "      <td>2</td>\n",
       "      <td>1</td>\n",
       "      <td>6</td>\n",
       "      <td>3.0</td>\n",
       "      <td>180.0</td>\n",
       "      <td>院边店</td>\n",
       "      <td>院边店</td>\n",
       "      <td>2021-03-03 14:11:28.36</td>\n",
       "      <td>是</td>\n",
       "      <td>不连锁</td>\n",
       "      <td>1</td>\n",
       "    </tr>\n",
       "    <tr>\n",
       "      <th>2</th>\n",
       "      <td>a3cd0d22-a66f-4791-9ef3-950347f4dff3</td>\n",
       "      <td>6970904167602983220</td>\n",
       "      <td>岳池****生服务站</td>\n",
       "      <td>卫生服务站</td>\n",
       "      <td>刘璐</td>\n",
       "      <td>启用</td>\n",
       "      <td>四川省</td>\n",
       "      <td>广安市</td>\n",
       "      <td>岳池县</td>\n",
       "      <td>2</td>\n",
       "      <td>1</td>\n",
       "      <td>6</td>\n",
       "      <td>5.0</td>\n",
       "      <td>750.0</td>\n",
       "      <td>院边店</td>\n",
       "      <td>院边店</td>\n",
       "      <td>2021-05-12 16:40:57.85</td>\n",
       "      <td>否</td>\n",
       "      <td>不连锁</td>\n",
       "      <td>1</td>\n",
       "    </tr>\n",
       "    <tr>\n",
       "      <th>3</th>\n",
       "      <td>ffe7cf09-172e-453a-89b0-b87ccdc14ec0</td>\n",
       "      <td>6970904089375019075</td>\n",
       "      <td>老僧****生服务站</td>\n",
       "      <td>卫生服务站</td>\n",
       "      <td>郝苗苗</td>\n",
       "      <td>启用</td>\n",
       "      <td>山东省</td>\n",
       "      <td>济宁市</td>\n",
       "      <td>嘉祥县</td>\n",
       "      <td>1</td>\n",
       "      <td>0</td>\n",
       "      <td>1</td>\n",
       "      <td>4.0</td>\n",
       "      <td>30.0</td>\n",
       "      <td>院边店</td>\n",
       "      <td>院边店</td>\n",
       "      <td>2020-10-23 15:42:34.097</td>\n",
       "      <td>是</td>\n",
       "      <td>不连锁</td>\n",
       "      <td>1</td>\n",
       "    </tr>\n",
       "    <tr>\n",
       "      <th>4</th>\n",
       "      <td>b3f741d1-9e91-47a7-8597-a0fd3f5e5561</td>\n",
       "      <td>6970904090218075018</td>\n",
       "      <td>叙永****生服务站</td>\n",
       "      <td>卫生服务站</td>\n",
       "      <td>游凯</td>\n",
       "      <td>启用</td>\n",
       "      <td>四川省</td>\n",
       "      <td>泸州市</td>\n",
       "      <td>叙永县</td>\n",
       "      <td>2</td>\n",
       "      <td>1</td>\n",
       "      <td>1</td>\n",
       "      <td>2.0</td>\n",
       "      <td>0.0</td>\n",
       "      <td>院边店</td>\n",
       "      <td>院边店</td>\n",
       "      <td>2021-01-11 18:30:33.077</td>\n",
       "      <td>是</td>\n",
       "      <td>不连锁</td>\n",
       "      <td>1</td>\n",
       "    </tr>\n",
       "  </tbody>\n",
       "</table>\n",
       "</div>"
      ],
      "text/plain": [
       "                                     id                 客户id        客户名称  \\\n",
       "0  22381f4a-027f-4c3e-a588-a08a266e9c0f  7081090359123820544  桥西****结合诊所   \n",
       "1  32721fcf-71b3-416b-91fd-57a1d9fba430  6970904116784796290  武胜****生服务站   \n",
       "2  a3cd0d22-a66f-4791-9ef3-950347f4dff3  6970904167602983220  岳池****生服务站   \n",
       "3  ffe7cf09-172e-453a-89b0-b87ccdc14ec0  6970904089375019075  老僧****生服务站   \n",
       "4  b3f741d1-9e91-47a7-8597-a0fd3f5e5561  6970904090218075018  叙永****生服务站   \n",
       "\n",
       "  客户类型(更新) 推广经理 当前状态 客户所在省 客户所在市 客户所在县  位置(新增)  是否医保店  客户等级  客户店员数  经营品种数  \\\n",
       "0       诊所  平志红   启用   河北省  石家庄市   桥西区       3      1     7    2.0  806.0   \n",
       "1    卫生服务站   杨茜   启用   四川省   广安市   武胜县       2      1     6    3.0  180.0   \n",
       "2    卫生服务站   刘璐   启用   四川省   广安市   岳池县       2      1     6    5.0  750.0   \n",
       "3    卫生服务站  郝苗苗   启用   山东省   济宁市   嘉祥县       1      0     1    4.0   30.0   \n",
       "4    卫生服务站   游凯   启用   四川省   泸州市   叙永县       2      1     1    2.0    0.0   \n",
       "\n",
       "  位置类型 位置类型(更新)                     注册日期 是否有过投诉 连锁标记(更新2)  是否样本  \n",
       "0   诊所       诊所  2023-07-02 10:05:01.913      否       不连锁     1  \n",
       "1  院边店      院边店   2021-03-03 14:11:28.36      是       不连锁     1  \n",
       "2  院边店      院边店   2021-05-12 16:40:57.85      否       不连锁     1  \n",
       "3  院边店      院边店  2020-10-23 15:42:34.097      是       不连锁     1  \n",
       "4  院边店      院边店  2021-01-11 18:30:33.077      是       不连锁     1  "
      ]
     },
     "execution_count": 127,
     "metadata": {},
     "output_type": "execute_result"
    }
   ],
   "source": [
    "cus.head()"
   ]
  },
  {
   "cell_type": "markdown",
   "metadata": {},
   "source": [
    "## 经营品种数\n",
    "\n",
    "非常不可靠，删除"
   ]
  },
  {
   "cell_type": "code",
   "execution_count": 128,
   "metadata": {},
   "outputs": [
    {
     "data": {
      "text/plain": [
       "经营品种数\n",
       "-2000.0          1\n",
       " 0.0          2668\n",
       " 1.0           240\n",
       " 2.0           224\n",
       " 3.0           118\n",
       "              ... \n",
       " 80000.0         1\n",
       " 153045.0        2\n",
       " 300000.0        1\n",
       " 2294545.0       1\n",
       " 8001600.0       1\n",
       "Name: count, Length: 1934, dtype: int64"
      ]
     },
     "execution_count": 128,
     "metadata": {},
     "output_type": "execute_result"
    }
   ],
   "source": [
    "cus['经营品种数'].value_counts().sort_index()"
   ]
  },
  {
   "cell_type": "code",
   "execution_count": 129,
   "metadata": {},
   "outputs": [],
   "source": [
    "cus.drop('经营品种数', axis=1, inplace=True)"
   ]
  },
  {
   "cell_type": "code",
   "execution_count": 130,
   "metadata": {},
   "outputs": [
    {
     "data": {
      "text/html": [
       "<div>\n",
       "<style scoped>\n",
       "    .dataframe tbody tr th:only-of-type {\n",
       "        vertical-align: middle;\n",
       "    }\n",
       "\n",
       "    .dataframe tbody tr th {\n",
       "        vertical-align: top;\n",
       "    }\n",
       "\n",
       "    .dataframe thead th {\n",
       "        text-align: right;\n",
       "    }\n",
       "</style>\n",
       "<table border=\"1\" class=\"dataframe\">\n",
       "  <thead>\n",
       "    <tr style=\"text-align: right;\">\n",
       "      <th></th>\n",
       "      <th>id</th>\n",
       "      <th>客户id</th>\n",
       "      <th>客户名称</th>\n",
       "      <th>客户类型(更新)</th>\n",
       "      <th>推广经理</th>\n",
       "      <th>当前状态</th>\n",
       "      <th>客户所在省</th>\n",
       "      <th>客户所在市</th>\n",
       "      <th>客户所在县</th>\n",
       "      <th>位置(新增)</th>\n",
       "      <th>是否医保店</th>\n",
       "      <th>客户等级</th>\n",
       "      <th>客户店员数</th>\n",
       "      <th>位置类型</th>\n",
       "      <th>位置类型(更新)</th>\n",
       "      <th>注册日期</th>\n",
       "      <th>是否有过投诉</th>\n",
       "      <th>连锁标记(更新2)</th>\n",
       "      <th>是否样本</th>\n",
       "    </tr>\n",
       "  </thead>\n",
       "  <tbody>\n",
       "    <tr>\n",
       "      <th>0</th>\n",
       "      <td>22381f4a-027f-4c3e-a588-a08a266e9c0f</td>\n",
       "      <td>7081090359123820544</td>\n",
       "      <td>桥西****结合诊所</td>\n",
       "      <td>诊所</td>\n",
       "      <td>平志红</td>\n",
       "      <td>启用</td>\n",
       "      <td>河北省</td>\n",
       "      <td>石家庄市</td>\n",
       "      <td>桥西区</td>\n",
       "      <td>3</td>\n",
       "      <td>1</td>\n",
       "      <td>7</td>\n",
       "      <td>2.0</td>\n",
       "      <td>诊所</td>\n",
       "      <td>诊所</td>\n",
       "      <td>2023-07-02 10:05:01.913</td>\n",
       "      <td>否</td>\n",
       "      <td>不连锁</td>\n",
       "      <td>1</td>\n",
       "    </tr>\n",
       "    <tr>\n",
       "      <th>1</th>\n",
       "      <td>32721fcf-71b3-416b-91fd-57a1d9fba430</td>\n",
       "      <td>6970904116784796290</td>\n",
       "      <td>武胜****生服务站</td>\n",
       "      <td>卫生服务站</td>\n",
       "      <td>杨茜</td>\n",
       "      <td>启用</td>\n",
       "      <td>四川省</td>\n",
       "      <td>广安市</td>\n",
       "      <td>武胜县</td>\n",
       "      <td>2</td>\n",
       "      <td>1</td>\n",
       "      <td>6</td>\n",
       "      <td>3.0</td>\n",
       "      <td>院边店</td>\n",
       "      <td>院边店</td>\n",
       "      <td>2021-03-03 14:11:28.36</td>\n",
       "      <td>是</td>\n",
       "      <td>不连锁</td>\n",
       "      <td>1</td>\n",
       "    </tr>\n",
       "    <tr>\n",
       "      <th>2</th>\n",
       "      <td>a3cd0d22-a66f-4791-9ef3-950347f4dff3</td>\n",
       "      <td>6970904167602983220</td>\n",
       "      <td>岳池****生服务站</td>\n",
       "      <td>卫生服务站</td>\n",
       "      <td>刘璐</td>\n",
       "      <td>启用</td>\n",
       "      <td>四川省</td>\n",
       "      <td>广安市</td>\n",
       "      <td>岳池县</td>\n",
       "      <td>2</td>\n",
       "      <td>1</td>\n",
       "      <td>6</td>\n",
       "      <td>5.0</td>\n",
       "      <td>院边店</td>\n",
       "      <td>院边店</td>\n",
       "      <td>2021-05-12 16:40:57.85</td>\n",
       "      <td>否</td>\n",
       "      <td>不连锁</td>\n",
       "      <td>1</td>\n",
       "    </tr>\n",
       "    <tr>\n",
       "      <th>3</th>\n",
       "      <td>ffe7cf09-172e-453a-89b0-b87ccdc14ec0</td>\n",
       "      <td>6970904089375019075</td>\n",
       "      <td>老僧****生服务站</td>\n",
       "      <td>卫生服务站</td>\n",
       "      <td>郝苗苗</td>\n",
       "      <td>启用</td>\n",
       "      <td>山东省</td>\n",
       "      <td>济宁市</td>\n",
       "      <td>嘉祥县</td>\n",
       "      <td>1</td>\n",
       "      <td>0</td>\n",
       "      <td>1</td>\n",
       "      <td>4.0</td>\n",
       "      <td>院边店</td>\n",
       "      <td>院边店</td>\n",
       "      <td>2020-10-23 15:42:34.097</td>\n",
       "      <td>是</td>\n",
       "      <td>不连锁</td>\n",
       "      <td>1</td>\n",
       "    </tr>\n",
       "    <tr>\n",
       "      <th>4</th>\n",
       "      <td>b3f741d1-9e91-47a7-8597-a0fd3f5e5561</td>\n",
       "      <td>6970904090218075018</td>\n",
       "      <td>叙永****生服务站</td>\n",
       "      <td>卫生服务站</td>\n",
       "      <td>游凯</td>\n",
       "      <td>启用</td>\n",
       "      <td>四川省</td>\n",
       "      <td>泸州市</td>\n",
       "      <td>叙永县</td>\n",
       "      <td>2</td>\n",
       "      <td>1</td>\n",
       "      <td>1</td>\n",
       "      <td>2.0</td>\n",
       "      <td>院边店</td>\n",
       "      <td>院边店</td>\n",
       "      <td>2021-01-11 18:30:33.077</td>\n",
       "      <td>是</td>\n",
       "      <td>不连锁</td>\n",
       "      <td>1</td>\n",
       "    </tr>\n",
       "  </tbody>\n",
       "</table>\n",
       "</div>"
      ],
      "text/plain": [
       "                                     id                 客户id        客户名称  \\\n",
       "0  22381f4a-027f-4c3e-a588-a08a266e9c0f  7081090359123820544  桥西****结合诊所   \n",
       "1  32721fcf-71b3-416b-91fd-57a1d9fba430  6970904116784796290  武胜****生服务站   \n",
       "2  a3cd0d22-a66f-4791-9ef3-950347f4dff3  6970904167602983220  岳池****生服务站   \n",
       "3  ffe7cf09-172e-453a-89b0-b87ccdc14ec0  6970904089375019075  老僧****生服务站   \n",
       "4  b3f741d1-9e91-47a7-8597-a0fd3f5e5561  6970904090218075018  叙永****生服务站   \n",
       "\n",
       "  客户类型(更新) 推广经理 当前状态 客户所在省 客户所在市 客户所在县  位置(新增)  是否医保店  客户等级  客户店员数 位置类型  \\\n",
       "0       诊所  平志红   启用   河北省  石家庄市   桥西区       3      1     7    2.0   诊所   \n",
       "1    卫生服务站   杨茜   启用   四川省   广安市   武胜县       2      1     6    3.0  院边店   \n",
       "2    卫生服务站   刘璐   启用   四川省   广安市   岳池县       2      1     6    5.0  院边店   \n",
       "3    卫生服务站  郝苗苗   启用   山东省   济宁市   嘉祥县       1      0     1    4.0  院边店   \n",
       "4    卫生服务站   游凯   启用   四川省   泸州市   叙永县       2      1     1    2.0  院边店   \n",
       "\n",
       "  位置类型(更新)                     注册日期 是否有过投诉 连锁标记(更新2)  是否样本  \n",
       "0       诊所  2023-07-02 10:05:01.913      否       不连锁     1  \n",
       "1      院边店   2021-03-03 14:11:28.36      是       不连锁     1  \n",
       "2      院边店   2021-05-12 16:40:57.85      否       不连锁     1  \n",
       "3      院边店  2020-10-23 15:42:34.097      是       不连锁     1  \n",
       "4      院边店  2021-01-11 18:30:33.077      是       不连锁     1  "
      ]
     },
     "execution_count": 130,
     "metadata": {},
     "output_type": "execute_result"
    }
   ],
   "source": [
    "cus.head()"
   ]
  },
  {
   "cell_type": "markdown",
   "metadata": {},
   "source": [
    "## 是否有投诉\n",
    "\n",
    "改成 是：1，否：0"
   ]
  },
  {
   "cell_type": "code",
   "execution_count": 131,
   "metadata": {},
   "outputs": [
    {
     "data": {
      "text/plain": [
       "是否有过投诉\n",
       "否    115482\n",
       "是     76576\n",
       "Name: count, dtype: int64"
      ]
     },
     "execution_count": 131,
     "metadata": {},
     "output_type": "execute_result"
    }
   ],
   "source": [
    "cus['是否有过投诉'].value_counts()"
   ]
  },
  {
   "cell_type": "code",
   "execution_count": 132,
   "metadata": {},
   "outputs": [],
   "source": [
    "cus['是否有过投诉'].replace({'是': 1, '否': 0}, inplace=True)"
   ]
  },
  {
   "cell_type": "markdown",
   "metadata": {},
   "source": [
    "## 连锁标记(更新2)\n",
    "\n",
    "连锁1，不连锁0"
   ]
  },
  {
   "cell_type": "code",
   "execution_count": 133,
   "metadata": {},
   "outputs": [
    {
     "data": {
      "text/plain": [
       "连锁标记(更新2)\n",
       "不连锁    189004\n",
       "连锁       3054\n",
       "Name: count, dtype: int64"
      ]
     },
     "execution_count": 133,
     "metadata": {},
     "output_type": "execute_result"
    }
   ],
   "source": [
    "cus['连锁标记(更新2)'].value_counts()"
   ]
  },
  {
   "cell_type": "code",
   "execution_count": 134,
   "metadata": {},
   "outputs": [],
   "source": [
    "cus['连锁标记(更新2)'].replace({'连锁': 1, '不连锁': 0}, inplace=True)"
   ]
  },
  {
   "cell_type": "markdown",
   "metadata": {},
   "source": [
    "## 客户类型(更新)\n",
    "\n",
    "`卫生室` 和 `其他` 太少了，删去"
   ]
  },
  {
   "cell_type": "code",
   "execution_count": 135,
   "metadata": {},
   "outputs": [
    {
     "data": {
      "text/plain": [
       "客户类型(更新)\n",
       "单体药店     110014\n",
       "卫生服务站     59633\n",
       "诊所        18564\n",
       "连锁药店       2649\n",
       "医院         1168\n",
       "卫生室          26\n",
       "其他            4\n",
       "Name: count, dtype: int64"
      ]
     },
     "execution_count": 135,
     "metadata": {},
     "output_type": "execute_result"
    }
   ],
   "source": [
    "cus['客户类型(更新)'].value_counts()"
   ]
  },
  {
   "cell_type": "code",
   "execution_count": 136,
   "metadata": {},
   "outputs": [],
   "source": [
    "cus.drop(cus[(cus['客户类型(更新)'] == '卫生室') | (cus['客户类型(更新)'] == '其他')].index, inplace=True)"
   ]
  },
  {
   "cell_type": "code",
   "execution_count": 137,
   "metadata": {},
   "outputs": [
    {
     "data": {
      "text/plain": [
       "客户类型(更新)\n",
       "单体药店     110014\n",
       "卫生服务站     59633\n",
       "诊所        18564\n",
       "连锁药店       2649\n",
       "医院         1168\n",
       "Name: count, dtype: int64"
      ]
     },
     "execution_count": 137,
     "metadata": {},
     "output_type": "execute_result"
    }
   ],
   "source": [
    "cus['客户类型(更新)'].value_counts()"
   ]
  },
  {
   "cell_type": "code",
   "execution_count": 138,
   "metadata": {},
   "outputs": [],
   "source": [
    "cus_encoded = pd.get_dummies(cus['客户类型(更新)'], prefix='客户类型')\n",
    "\n",
    "# 将独热编码结果与原始 DataFrame 合并\n",
    "cus = pd.concat([cus, cus_encoded], axis=1)\n",
    "\n",
    "# 删除原始的客户类型字段\n",
    "cus.drop(columns=['客户类型(更新)'], inplace=True)"
   ]
  },
  {
   "cell_type": "code",
   "execution_count": 139,
   "metadata": {},
   "outputs": [
    {
     "data": {
      "text/html": [
       "<div>\n",
       "<style scoped>\n",
       "    .dataframe tbody tr th:only-of-type {\n",
       "        vertical-align: middle;\n",
       "    }\n",
       "\n",
       "    .dataframe tbody tr th {\n",
       "        vertical-align: top;\n",
       "    }\n",
       "\n",
       "    .dataframe thead th {\n",
       "        text-align: right;\n",
       "    }\n",
       "</style>\n",
       "<table border=\"1\" class=\"dataframe\">\n",
       "  <thead>\n",
       "    <tr style=\"text-align: right;\">\n",
       "      <th></th>\n",
       "      <th>客户所在省</th>\n",
       "      <th>客户所在市</th>\n",
       "      <th>客户所在县</th>\n",
       "      <th>位置(新增)</th>\n",
       "      <th>是否医保店</th>\n",
       "      <th>客户等级</th>\n",
       "      <th>客户店员数</th>\n",
       "      <th>位置类型</th>\n",
       "      <th>位置类型(更新)</th>\n",
       "      <th>注册日期</th>\n",
       "      <th>是否有过投诉</th>\n",
       "      <th>连锁标记(更新2)</th>\n",
       "      <th>是否样本</th>\n",
       "      <th>客户类型_医院</th>\n",
       "      <th>客户类型_单体药店</th>\n",
       "      <th>客户类型_卫生服务站</th>\n",
       "      <th>客户类型_诊所</th>\n",
       "      <th>客户类型_连锁药店</th>\n",
       "    </tr>\n",
       "  </thead>\n",
       "  <tbody>\n",
       "    <tr>\n",
       "      <th>0</th>\n",
       "      <td>河北省</td>\n",
       "      <td>石家庄市</td>\n",
       "      <td>桥西区</td>\n",
       "      <td>3</td>\n",
       "      <td>1</td>\n",
       "      <td>7</td>\n",
       "      <td>2.0</td>\n",
       "      <td>诊所</td>\n",
       "      <td>诊所</td>\n",
       "      <td>2023-07-02 10:05:01.913</td>\n",
       "      <td>0</td>\n",
       "      <td>0</td>\n",
       "      <td>1</td>\n",
       "      <td>False</td>\n",
       "      <td>False</td>\n",
       "      <td>False</td>\n",
       "      <td>True</td>\n",
       "      <td>False</td>\n",
       "    </tr>\n",
       "    <tr>\n",
       "      <th>1</th>\n",
       "      <td>四川省</td>\n",
       "      <td>广安市</td>\n",
       "      <td>武胜县</td>\n",
       "      <td>2</td>\n",
       "      <td>1</td>\n",
       "      <td>6</td>\n",
       "      <td>3.0</td>\n",
       "      <td>院边店</td>\n",
       "      <td>院边店</td>\n",
       "      <td>2021-03-03 14:11:28.36</td>\n",
       "      <td>1</td>\n",
       "      <td>0</td>\n",
       "      <td>1</td>\n",
       "      <td>False</td>\n",
       "      <td>False</td>\n",
       "      <td>True</td>\n",
       "      <td>False</td>\n",
       "      <td>False</td>\n",
       "    </tr>\n",
       "    <tr>\n",
       "      <th>2</th>\n",
       "      <td>四川省</td>\n",
       "      <td>广安市</td>\n",
       "      <td>岳池县</td>\n",
       "      <td>2</td>\n",
       "      <td>1</td>\n",
       "      <td>6</td>\n",
       "      <td>5.0</td>\n",
       "      <td>院边店</td>\n",
       "      <td>院边店</td>\n",
       "      <td>2021-05-12 16:40:57.85</td>\n",
       "      <td>0</td>\n",
       "      <td>0</td>\n",
       "      <td>1</td>\n",
       "      <td>False</td>\n",
       "      <td>False</td>\n",
       "      <td>True</td>\n",
       "      <td>False</td>\n",
       "      <td>False</td>\n",
       "    </tr>\n",
       "    <tr>\n",
       "      <th>3</th>\n",
       "      <td>山东省</td>\n",
       "      <td>济宁市</td>\n",
       "      <td>嘉祥县</td>\n",
       "      <td>1</td>\n",
       "      <td>0</td>\n",
       "      <td>1</td>\n",
       "      <td>4.0</td>\n",
       "      <td>院边店</td>\n",
       "      <td>院边店</td>\n",
       "      <td>2020-10-23 15:42:34.097</td>\n",
       "      <td>1</td>\n",
       "      <td>0</td>\n",
       "      <td>1</td>\n",
       "      <td>False</td>\n",
       "      <td>False</td>\n",
       "      <td>True</td>\n",
       "      <td>False</td>\n",
       "      <td>False</td>\n",
       "    </tr>\n",
       "    <tr>\n",
       "      <th>4</th>\n",
       "      <td>四川省</td>\n",
       "      <td>泸州市</td>\n",
       "      <td>叙永县</td>\n",
       "      <td>2</td>\n",
       "      <td>1</td>\n",
       "      <td>1</td>\n",
       "      <td>2.0</td>\n",
       "      <td>院边店</td>\n",
       "      <td>院边店</td>\n",
       "      <td>2021-01-11 18:30:33.077</td>\n",
       "      <td>1</td>\n",
       "      <td>0</td>\n",
       "      <td>1</td>\n",
       "      <td>False</td>\n",
       "      <td>False</td>\n",
       "      <td>True</td>\n",
       "      <td>False</td>\n",
       "      <td>False</td>\n",
       "    </tr>\n",
       "  </tbody>\n",
       "</table>\n",
       "</div>"
      ],
      "text/plain": [
       "  客户所在省 客户所在市 客户所在县  位置(新增)  是否医保店  客户等级  客户店员数 位置类型 位置类型(更新)  \\\n",
       "0   河北省  石家庄市   桥西区       3      1     7    2.0   诊所       诊所   \n",
       "1   四川省   广安市   武胜县       2      1     6    3.0  院边店      院边店   \n",
       "2   四川省   广安市   岳池县       2      1     6    5.0  院边店      院边店   \n",
       "3   山东省   济宁市   嘉祥县       1      0     1    4.0  院边店      院边店   \n",
       "4   四川省   泸州市   叙永县       2      1     1    2.0  院边店      院边店   \n",
       "\n",
       "                      注册日期  是否有过投诉  连锁标记(更新2)  是否样本  客户类型_医院  客户类型_单体药店  \\\n",
       "0  2023-07-02 10:05:01.913       0          0     1    False      False   \n",
       "1   2021-03-03 14:11:28.36       1          0     1    False      False   \n",
       "2   2021-05-12 16:40:57.85       0          0     1    False      False   \n",
       "3  2020-10-23 15:42:34.097       1          0     1    False      False   \n",
       "4  2021-01-11 18:30:33.077       1          0     1    False      False   \n",
       "\n",
       "   客户类型_卫生服务站  客户类型_诊所  客户类型_连锁药店  \n",
       "0       False     True      False  \n",
       "1        True    False      False  \n",
       "2        True    False      False  \n",
       "3        True    False      False  \n",
       "4        True    False      False  "
      ]
     },
     "execution_count": 139,
     "metadata": {},
     "output_type": "execute_result"
    }
   ],
   "source": [
    "cus.head().iloc[:, 5:]"
   ]
  },
  {
   "cell_type": "code",
   "execution_count": 140,
   "metadata": {},
   "outputs": [
    {
     "data": {
      "text/plain": [
       "是否样本\n",
       "1    189733\n",
       "0      2295\n",
       "Name: count, dtype: int64"
      ]
     },
     "execution_count": 140,
     "metadata": {},
     "output_type": "execute_result"
    }
   ],
   "source": [
    "cus['是否样本'].value_counts()"
   ]
  },
  {
   "cell_type": "markdown",
   "metadata": {},
   "source": [
    "## 注册日期\n",
    "\n",
    "2023.12.31日减去注册日期，改成注册时长变量"
   ]
  },
  {
   "cell_type": "code",
   "execution_count": 141,
   "metadata": {},
   "outputs": [
    {
     "data": {
      "text/plain": [
       "0        2023-07-02 10:05:01.913\n",
       "1        2021-03-03 14:11:28.360\n",
       "2        2021-05-12 16:40:57.850\n",
       "3        2020-10-23 15:42:34.097\n",
       "4        2021-01-11 18:30:33.077\n",
       "                   ...          \n",
       "192094   2022-06-04 11:30:36.970\n",
       "192095   2020-11-15 15:57:09.210\n",
       "192096   2023-11-15 16:36:33.213\n",
       "192097   2022-11-03 10:45:53.710\n",
       "192098   2023-01-02 08:12:03.287\n",
       "Name: 注册日期, Length: 192028, dtype: datetime64[ns]"
      ]
     },
     "execution_count": 141,
     "metadata": {},
     "output_type": "execute_result"
    }
   ],
   "source": [
    "cus['注册日期'] = pd.to_datetime(cus['注册日期'])\n",
    "cus['注册日期']"
   ]
  },
  {
   "cell_type": "code",
   "execution_count": 142,
   "metadata": {},
   "outputs": [],
   "source": [
    "cus['注册时长'] = (pd.to_datetime('2023-12-31') - cus['注册日期']).dt.days"
   ]
  },
  {
   "cell_type": "markdown",
   "metadata": {},
   "source": [
    "## 最终字段筛选\n",
    "\n",
    "保留\n",
    "```python\n",
    "['客户id', '位置(新增)', '是否医保店', '客户等级', '客户店员数',\n",
    "       '是否有过投诉', '连锁标记(更新2)', '注册时长', '客户类型_医院', '客户类型_单体药店',\n",
    "       '客户类型_卫生服务站', '客户类型_诊所', '客户类型_连锁药店']\n",
    "```"
   ]
  },
  {
   "cell_type": "code",
   "execution_count": 143,
   "metadata": {},
   "outputs": [
    {
     "data": {
      "text/plain": [
       "Index(['id', '客户id', '客户名称', '推广经理', '当前状态', '客户所在省', '客户所在市', '客户所在县',\n",
       "       '位置(新增)', '是否医保店', '客户等级', '客户店员数', '位置类型', '位置类型(更新)', '注册日期',\n",
       "       '是否有过投诉', '连锁标记(更新2)', '是否样本', '客户类型_医院', '客户类型_单体药店', '客户类型_卫生服务站',\n",
       "       '客户类型_诊所', '客户类型_连锁药店', '注册时长'],\n",
       "      dtype='object')"
      ]
     },
     "execution_count": 143,
     "metadata": {},
     "output_type": "execute_result"
    }
   ],
   "source": [
    "cus.columns"
   ]
  },
  {
   "cell_type": "code",
   "execution_count": 145,
   "metadata": {},
   "outputs": [
    {
     "data": {
      "text/plain": [
       "{'id',\n",
       " '位置类型',\n",
       " '位置类型(更新)',\n",
       " '客户名称',\n",
       " '客户所在县',\n",
       " '客户所在市',\n",
       " '客户所在省',\n",
       " '当前状态',\n",
       " '推广经理',\n",
       " '是否样本',\n",
       " '注册日期'}"
      ]
     },
     "execution_count": 145,
     "metadata": {},
     "output_type": "execute_result"
    }
   ],
   "source": [
    "# 求差集，即被删除的字段\n",
    "set(cus.columns.to_list()) - set(['客户id', '位置(新增)', '是否医保店', '客户等级', '客户店员数',\n",
    "       '是否有过投诉', '连锁标记(更新2)', '注册时长', '客户类型_医院', '客户类型_单体药店',\n",
    "       '客户类型_卫生服务站', '客户类型_诊所', '客户类型_连锁药店'])"
   ]
  },
  {
   "cell_type": "code",
   "execution_count": 107,
   "metadata": {},
   "outputs": [],
   "source": [
    "cus_final = cus[['客户id', '位置(新增)', '是否医保店', '客户等级', '客户店员数',\n",
    "       '是否有过投诉', '连锁标记(更新2)', '注册时长', '客户类型_医院', '客户类型_单体药店',\n",
    "       '客户类型_卫生服务站', '客户类型_诊所', '客户类型_连锁药店']]"
   ]
  },
  {
   "cell_type": "code",
   "execution_count": 108,
   "metadata": {},
   "outputs": [],
   "source": [
    "cus_final.to_csv('../data/customers_m1.csv', index=False, encoding='utf-8-sig')"
   ]
  },
  {
   "cell_type": "code",
   "execution_count": 36,
   "metadata": {},
   "outputs": [],
   "source": [
    "cus_final = pd.read_csv('../data/customers_m1.csv')"
   ]
  },
  {
   "cell_type": "code",
   "execution_count": 146,
   "metadata": {},
   "outputs": [
    {
     "data": {
      "text/html": [
       "<div>\n",
       "<style scoped>\n",
       "    .dataframe tbody tr th:only-of-type {\n",
       "        vertical-align: middle;\n",
       "    }\n",
       "\n",
       "    .dataframe tbody tr th {\n",
       "        vertical-align: top;\n",
       "    }\n",
       "\n",
       "    .dataframe thead th {\n",
       "        text-align: right;\n",
       "    }\n",
       "</style>\n",
       "<table border=\"1\" class=\"dataframe\">\n",
       "  <thead>\n",
       "    <tr style=\"text-align: right;\">\n",
       "      <th></th>\n",
       "      <th>客户id</th>\n",
       "      <th>位置(新增)</th>\n",
       "      <th>是否医保店</th>\n",
       "      <th>客户等级</th>\n",
       "      <th>客户店员数</th>\n",
       "      <th>是否有过投诉</th>\n",
       "      <th>连锁标记(更新2)</th>\n",
       "      <th>注册时长</th>\n",
       "      <th>客户类型_医院</th>\n",
       "      <th>客户类型_单体药店</th>\n",
       "      <th>客户类型_卫生服务站</th>\n",
       "      <th>客户类型_诊所</th>\n",
       "      <th>客户类型_连锁药店</th>\n",
       "    </tr>\n",
       "  </thead>\n",
       "  <tbody>\n",
       "    <tr>\n",
       "      <th>0</th>\n",
       "      <td>7081090359123820544</td>\n",
       "      <td>3</td>\n",
       "      <td>1</td>\n",
       "      <td>7</td>\n",
       "      <td>2.0</td>\n",
       "      <td>0</td>\n",
       "      <td>2</td>\n",
       "      <td>181</td>\n",
       "      <td>False</td>\n",
       "      <td>False</td>\n",
       "      <td>False</td>\n",
       "      <td>True</td>\n",
       "      <td>False</td>\n",
       "    </tr>\n",
       "    <tr>\n",
       "      <th>1</th>\n",
       "      <td>6970904116784796290</td>\n",
       "      <td>2</td>\n",
       "      <td>1</td>\n",
       "      <td>6</td>\n",
       "      <td>3.0</td>\n",
       "      <td>1</td>\n",
       "      <td>2</td>\n",
       "      <td>1032</td>\n",
       "      <td>False</td>\n",
       "      <td>False</td>\n",
       "      <td>True</td>\n",
       "      <td>False</td>\n",
       "      <td>False</td>\n",
       "    </tr>\n",
       "    <tr>\n",
       "      <th>2</th>\n",
       "      <td>6970904167602983220</td>\n",
       "      <td>2</td>\n",
       "      <td>1</td>\n",
       "      <td>6</td>\n",
       "      <td>5.0</td>\n",
       "      <td>0</td>\n",
       "      <td>2</td>\n",
       "      <td>962</td>\n",
       "      <td>False</td>\n",
       "      <td>False</td>\n",
       "      <td>True</td>\n",
       "      <td>False</td>\n",
       "      <td>False</td>\n",
       "    </tr>\n",
       "    <tr>\n",
       "      <th>3</th>\n",
       "      <td>6970904089375019075</td>\n",
       "      <td>1</td>\n",
       "      <td>0</td>\n",
       "      <td>1</td>\n",
       "      <td>4.0</td>\n",
       "      <td>1</td>\n",
       "      <td>2</td>\n",
       "      <td>1163</td>\n",
       "      <td>False</td>\n",
       "      <td>False</td>\n",
       "      <td>True</td>\n",
       "      <td>False</td>\n",
       "      <td>False</td>\n",
       "    </tr>\n",
       "    <tr>\n",
       "      <th>4</th>\n",
       "      <td>6970904090218075018</td>\n",
       "      <td>2</td>\n",
       "      <td>1</td>\n",
       "      <td>1</td>\n",
       "      <td>2.0</td>\n",
       "      <td>1</td>\n",
       "      <td>2</td>\n",
       "      <td>1083</td>\n",
       "      <td>False</td>\n",
       "      <td>False</td>\n",
       "      <td>True</td>\n",
       "      <td>False</td>\n",
       "      <td>False</td>\n",
       "    </tr>\n",
       "  </tbody>\n",
       "</table>\n",
       "</div>"
      ],
      "text/plain": [
       "                  客户id  位置(新增)  是否医保店  客户等级  客户店员数  是否有过投诉  连锁标记(更新2)  注册时长  \\\n",
       "0  7081090359123820544       3      1     7    2.0       0          2   181   \n",
       "1  6970904116784796290       2      1     6    3.0       1          2  1032   \n",
       "2  6970904167602983220       2      1     6    5.0       0          2   962   \n",
       "3  6970904089375019075       1      0     1    4.0       1          2  1163   \n",
       "4  6970904090218075018       2      1     1    2.0       1          2  1083   \n",
       "\n",
       "   客户类型_医院  客户类型_单体药店  客户类型_卫生服务站  客户类型_诊所  客户类型_连锁药店  \n",
       "0    False      False       False     True      False  \n",
       "1    False      False        True    False      False  \n",
       "2    False      False        True    False      False  \n",
       "3    False      False        True    False      False  \n",
       "4    False      False        True    False      False  "
      ]
     },
     "execution_count": 146,
     "metadata": {},
     "output_type": "execute_result"
    }
   ],
   "source": [
    "cus_final.head()"
   ]
  },
  {
   "cell_type": "markdown",
   "metadata": {},
   "source": [
    "# 商品表"
   ]
  },
  {
   "cell_type": "code",
   "execution_count": 147,
   "metadata": {},
   "outputs": [],
   "source": [
    "com = pd.read_csv('../data/commodity.csv')"
   ]
  },
  {
   "cell_type": "code",
   "execution_count": 148,
   "metadata": {},
   "outputs": [
    {
     "data": {
      "text/html": [
       "<div>\n",
       "<style scoped>\n",
       "    .dataframe tbody tr th:only-of-type {\n",
       "        vertical-align: middle;\n",
       "    }\n",
       "\n",
       "    .dataframe tbody tr th {\n",
       "        vertical-align: top;\n",
       "    }\n",
       "\n",
       "    .dataframe thead th {\n",
       "        text-align: right;\n",
       "    }\n",
       "</style>\n",
       "<table border=\"1\" class=\"dataframe\">\n",
       "  <thead>\n",
       "    <tr style=\"text-align: right;\">\n",
       "      <th></th>\n",
       "      <th>id</th>\n",
       "      <th>商品编码</th>\n",
       "      <th>商品名称</th>\n",
       "      <th>品牌名称</th>\n",
       "      <th>规格</th>\n",
       "      <th>单位</th>\n",
       "      <th>生产厂家</th>\n",
       "      <th>批准文号</th>\n",
       "      <th>库存数量</th>\n",
       "      <th>疾病分类统一</th>\n",
       "      <th>商品类别</th>\n",
       "      <th>医保类型</th>\n",
       "      <th>工业采购价</th>\n",
       "      <th>客户采购价格</th>\n",
       "      <th>建议零售价</th>\n",
       "      <th>工业毛利额</th>\n",
       "      <th>客户毛利额</th>\n",
       "      <th>客户毛利率</th>\n",
       "      <th>上架日期</th>\n",
       "      <th>最后一次采购日期</th>\n",
       "    </tr>\n",
       "  </thead>\n",
       "  <tbody>\n",
       "    <tr>\n",
       "      <th>0</th>\n",
       "      <td>52a54f93-13c9-430b-9e39-7a35de3d388f</td>\n",
       "      <td>6970878583019671591</td>\n",
       "      <td>鑫玺****罗汉果糖</td>\n",
       "      <td>蜀汉本草</td>\n",
       "      <td>2.5g*16片</td>\n",
       "      <td>盒</td>\n",
       "      <td>鑫玺****有限公司</td>\n",
       "      <td>国食健注G20150362</td>\n",
       "      <td>0</td>\n",
       "      <td>保健食品</td>\n",
       "      <td>预包装保健食品</td>\n",
       "      <td>非医保</td>\n",
       "      <td>2.30</td>\n",
       "      <td>3.69</td>\n",
       "      <td>12.8</td>\n",
       "      <td>1.39</td>\n",
       "      <td>9.11</td>\n",
       "      <td>0.711719</td>\n",
       "      <td>2021-10-09</td>\n",
       "      <td>2023-12-11</td>\n",
       "    </tr>\n",
       "    <tr>\n",
       "      <th>1</th>\n",
       "      <td>643eb938-3b79-4ce3-911e-e355b31f6bbb</td>\n",
       "      <td>6970878583019671976</td>\n",
       "      <td>金银****含片</td>\n",
       "      <td>蜀汉本草</td>\n",
       "      <td>2.5g*16片</td>\n",
       "      <td>盒</td>\n",
       "      <td>鑫玺****有限公司</td>\n",
       "      <td>国食健注G20140205</td>\n",
       "      <td>22601</td>\n",
       "      <td>保健食品</td>\n",
       "      <td>预包装保健食品</td>\n",
       "      <td>非医保</td>\n",
       "      <td>2.30</td>\n",
       "      <td>3.69</td>\n",
       "      <td>12.0</td>\n",
       "      <td>1.39</td>\n",
       "      <td>8.31</td>\n",
       "      <td>0.692500</td>\n",
       "      <td>2021-10-09</td>\n",
       "      <td>2024-01-10</td>\n",
       "    </tr>\n",
       "    <tr>\n",
       "      <th>2</th>\n",
       "      <td>9acdbede-591a-4c80-a747-88bbf05f9603</td>\n",
       "      <td>6970878583023866125</td>\n",
       "      <td>鑫玺****胖大海糖</td>\n",
       "      <td>蜀汉本草</td>\n",
       "      <td>2.5g*16片</td>\n",
       "      <td>盒</td>\n",
       "      <td>鑫玺****有限公司</td>\n",
       "      <td>国食健注G20150594</td>\n",
       "      <td>20828</td>\n",
       "      <td>保健食品</td>\n",
       "      <td>预包装保健食品</td>\n",
       "      <td>非医保</td>\n",
       "      <td>2.30</td>\n",
       "      <td>3.69</td>\n",
       "      <td>12.8</td>\n",
       "      <td>1.39</td>\n",
       "      <td>9.11</td>\n",
       "      <td>0.711719</td>\n",
       "      <td>2021-10-09</td>\n",
       "      <td>2024-01-10</td>\n",
       "    </tr>\n",
       "    <tr>\n",
       "      <th>3</th>\n",
       "      <td>01594be9-688b-4f86-a191-99a0da27cae1</td>\n",
       "      <td>6970878583019671697</td>\n",
       "      <td>麦金****益生菌粉</td>\n",
       "      <td>好医生</td>\n",
       "      <td>1.5g/袋*10袋</td>\n",
       "      <td>盒</td>\n",
       "      <td>深圳****公司生产</td>\n",
       "      <td>国食健字G20160147</td>\n",
       "      <td>0</td>\n",
       "      <td>保健食品</td>\n",
       "      <td>预包装保健食品</td>\n",
       "      <td>非医保</td>\n",
       "      <td>0.01</td>\n",
       "      <td>12.80</td>\n",
       "      <td>58.0</td>\n",
       "      <td>12.79</td>\n",
       "      <td>45.20</td>\n",
       "      <td>0.779310</td>\n",
       "      <td>2022-03-07</td>\n",
       "      <td>2022-02-22</td>\n",
       "    </tr>\n",
       "    <tr>\n",
       "      <th>4</th>\n",
       "      <td>afba7b5b-a32d-487e-8b8b-8d5136fb5078</td>\n",
       "      <td>6970878583019672109</td>\n",
       "      <td>麦金****益生菌粉</td>\n",
       "      <td>好医生</td>\n",
       "      <td>1.5g/袋*20袋</td>\n",
       "      <td>盒</td>\n",
       "      <td>深圳****公司生产</td>\n",
       "      <td>国食健字G20160147</td>\n",
       "      <td>0</td>\n",
       "      <td>保健食品</td>\n",
       "      <td>预包装保健食品</td>\n",
       "      <td>非医保</td>\n",
       "      <td>22.00</td>\n",
       "      <td>21.90</td>\n",
       "      <td>98.0</td>\n",
       "      <td>-0.10</td>\n",
       "      <td>76.10</td>\n",
       "      <td>0.776531</td>\n",
       "      <td>2022-03-07</td>\n",
       "      <td>2022-08-26</td>\n",
       "    </tr>\n",
       "  </tbody>\n",
       "</table>\n",
       "</div>"
      ],
      "text/plain": [
       "                                     id                 商品编码        商品名称  \\\n",
       "0  52a54f93-13c9-430b-9e39-7a35de3d388f  6970878583019671591  鑫玺****罗汉果糖   \n",
       "1  643eb938-3b79-4ce3-911e-e355b31f6bbb  6970878583019671976    金银****含片   \n",
       "2  9acdbede-591a-4c80-a747-88bbf05f9603  6970878583023866125  鑫玺****胖大海糖   \n",
       "3  01594be9-688b-4f86-a191-99a0da27cae1  6970878583019671697  麦金****益生菌粉   \n",
       "4  afba7b5b-a32d-487e-8b8b-8d5136fb5078  6970878583019672109  麦金****益生菌粉   \n",
       "\n",
       "   品牌名称          规格 单位        生产厂家           批准文号   库存数量 疾病分类统一     商品类别 医保类型  \\\n",
       "0  蜀汉本草    2.5g*16片  盒  鑫玺****有限公司  国食健注G20150362      0   保健食品  预包装保健食品  非医保   \n",
       "1  蜀汉本草    2.5g*16片  盒  鑫玺****有限公司  国食健注G20140205  22601   保健食品  预包装保健食品  非医保   \n",
       "2  蜀汉本草    2.5g*16片  盒  鑫玺****有限公司  国食健注G20150594  20828   保健食品  预包装保健食品  非医保   \n",
       "3   好医生  1.5g/袋*10袋  盒  深圳****公司生产  国食健字G20160147      0   保健食品  预包装保健食品  非医保   \n",
       "4   好医生  1.5g/袋*20袋  盒  深圳****公司生产  国食健字G20160147      0   保健食品  预包装保健食品  非医保   \n",
       "\n",
       "   工业采购价  客户采购价格  建议零售价  工业毛利额  客户毛利额     客户毛利率        上架日期    最后一次采购日期  \n",
       "0   2.30    3.69   12.8   1.39   9.11  0.711719  2021-10-09  2023-12-11  \n",
       "1   2.30    3.69   12.0   1.39   8.31  0.692500  2021-10-09  2024-01-10  \n",
       "2   2.30    3.69   12.8   1.39   9.11  0.711719  2021-10-09  2024-01-10  \n",
       "3   0.01   12.80   58.0  12.79  45.20  0.779310  2022-03-07  2022-02-22  \n",
       "4  22.00   21.90   98.0  -0.10  76.10  0.776531  2022-03-07  2022-08-26  "
      ]
     },
     "execution_count": 148,
     "metadata": {},
     "output_type": "execute_result"
    }
   ],
   "source": [
    "com.head()"
   ]
  },
  {
   "cell_type": "code",
   "execution_count": 149,
   "metadata": {},
   "outputs": [],
   "source": [
    "com.drop(['商品名称', '规格', '批准文号', '生产厂家', '上架日期', 'id', '最后一次采购日期'], axis=1, inplace=True)"
   ]
  },
  {
   "cell_type": "code",
   "execution_count": 150,
   "metadata": {},
   "outputs": [
    {
     "data": {
      "text/plain": [
       "(3295, 13)"
      ]
     },
     "execution_count": 150,
     "metadata": {},
     "output_type": "execute_result"
    }
   ],
   "source": [
    "com.shape"
   ]
  },
  {
   "cell_type": "markdown",
   "metadata": {},
   "source": [
    "## 品牌名称"
   ]
  },
  {
   "cell_type": "code",
   "execution_count": 151,
   "metadata": {},
   "outputs": [
    {
     "data": {
      "text/plain": [
       "品牌名称\n",
       "京鸿阁     1502\n",
       "蜀汉本草     803\n",
       "驰铭       426\n",
       "小葫芦宝     138\n",
       "好医生       60\n",
       "        ... \n",
       "金甘         1\n",
       "奥邦         1\n",
       "奥纾         1\n",
       "华北制药       1\n",
       "回音必        1\n",
       "Name: count, Length: 102, dtype: int64"
      ]
     },
     "execution_count": 151,
     "metadata": {},
     "output_type": "execute_result"
    }
   ],
   "source": [
    "com['品牌名称'].value_counts()"
   ]
  },
  {
   "cell_type": "code",
   "execution_count": 152,
   "metadata": {},
   "outputs": [],
   "source": [
    "# 计算 '品牌名称' 列中前四个数量最多的种类\n",
    "top_brands = com['品牌名称'].value_counts().index[:4]\n",
    "\n",
    "# 将不在前四个数量最多的种类中的品牌名称替换为 \"其他\"\n",
    "com['品牌名称'] = com['品牌名称'].apply(lambda x: x if x in top_brands else '其他')"
   ]
  },
  {
   "cell_type": "code",
   "execution_count": 153,
   "metadata": {},
   "outputs": [
    {
     "data": {
      "text/plain": [
       "品牌名称\n",
       "京鸿阁     1502\n",
       "蜀汉本草     803\n",
       "其他       426\n",
       "驰铭       426\n",
       "小葫芦宝     138\n",
       "Name: count, dtype: int64"
      ]
     },
     "execution_count": 153,
     "metadata": {},
     "output_type": "execute_result"
    }
   ],
   "source": [
    "com['品牌名称'].value_counts()"
   ]
  },
  {
   "cell_type": "code",
   "execution_count": 154,
   "metadata": {},
   "outputs": [],
   "source": [
    "com_encoded = pd.get_dummies(com['品牌名称'], prefix='品牌名称')\n",
    "\n",
    "# 将独热编码结果与原始 DataFrame 合并\n",
    "com = pd.concat([com, com_encoded], axis=1)\n",
    "\n",
    "# 删除原始的客户类型字段\n",
    "com.drop(columns=['品牌名称'], inplace=True)"
   ]
  },
  {
   "cell_type": "code",
   "execution_count": 155,
   "metadata": {},
   "outputs": [
    {
     "data": {
      "text/html": [
       "<div>\n",
       "<style scoped>\n",
       "    .dataframe tbody tr th:only-of-type {\n",
       "        vertical-align: middle;\n",
       "    }\n",
       "\n",
       "    .dataframe tbody tr th {\n",
       "        vertical-align: top;\n",
       "    }\n",
       "\n",
       "    .dataframe thead th {\n",
       "        text-align: right;\n",
       "    }\n",
       "</style>\n",
       "<table border=\"1\" class=\"dataframe\">\n",
       "  <thead>\n",
       "    <tr style=\"text-align: right;\">\n",
       "      <th></th>\n",
       "      <th>商品编码</th>\n",
       "      <th>单位</th>\n",
       "      <th>库存数量</th>\n",
       "      <th>疾病分类统一</th>\n",
       "      <th>商品类别</th>\n",
       "      <th>医保类型</th>\n",
       "      <th>工业采购价</th>\n",
       "      <th>客户采购价格</th>\n",
       "      <th>建议零售价</th>\n",
       "      <th>工业毛利额</th>\n",
       "      <th>客户毛利额</th>\n",
       "      <th>客户毛利率</th>\n",
       "      <th>品牌名称_京鸿阁</th>\n",
       "      <th>品牌名称_其他</th>\n",
       "      <th>品牌名称_小葫芦宝</th>\n",
       "      <th>品牌名称_蜀汉本草</th>\n",
       "      <th>品牌名称_驰铭</th>\n",
       "    </tr>\n",
       "  </thead>\n",
       "  <tbody>\n",
       "    <tr>\n",
       "      <th>0</th>\n",
       "      <td>6970878583019671591</td>\n",
       "      <td>盒</td>\n",
       "      <td>0</td>\n",
       "      <td>保健食品</td>\n",
       "      <td>预包装保健食品</td>\n",
       "      <td>非医保</td>\n",
       "      <td>2.30</td>\n",
       "      <td>3.69</td>\n",
       "      <td>12.8</td>\n",
       "      <td>1.39</td>\n",
       "      <td>9.11</td>\n",
       "      <td>0.711719</td>\n",
       "      <td>False</td>\n",
       "      <td>False</td>\n",
       "      <td>False</td>\n",
       "      <td>True</td>\n",
       "      <td>False</td>\n",
       "    </tr>\n",
       "    <tr>\n",
       "      <th>1</th>\n",
       "      <td>6970878583019671976</td>\n",
       "      <td>盒</td>\n",
       "      <td>22601</td>\n",
       "      <td>保健食品</td>\n",
       "      <td>预包装保健食品</td>\n",
       "      <td>非医保</td>\n",
       "      <td>2.30</td>\n",
       "      <td>3.69</td>\n",
       "      <td>12.0</td>\n",
       "      <td>1.39</td>\n",
       "      <td>8.31</td>\n",
       "      <td>0.692500</td>\n",
       "      <td>False</td>\n",
       "      <td>False</td>\n",
       "      <td>False</td>\n",
       "      <td>True</td>\n",
       "      <td>False</td>\n",
       "    </tr>\n",
       "    <tr>\n",
       "      <th>2</th>\n",
       "      <td>6970878583023866125</td>\n",
       "      <td>盒</td>\n",
       "      <td>20828</td>\n",
       "      <td>保健食品</td>\n",
       "      <td>预包装保健食品</td>\n",
       "      <td>非医保</td>\n",
       "      <td>2.30</td>\n",
       "      <td>3.69</td>\n",
       "      <td>12.8</td>\n",
       "      <td>1.39</td>\n",
       "      <td>9.11</td>\n",
       "      <td>0.711719</td>\n",
       "      <td>False</td>\n",
       "      <td>False</td>\n",
       "      <td>False</td>\n",
       "      <td>True</td>\n",
       "      <td>False</td>\n",
       "    </tr>\n",
       "    <tr>\n",
       "      <th>3</th>\n",
       "      <td>6970878583019671697</td>\n",
       "      <td>盒</td>\n",
       "      <td>0</td>\n",
       "      <td>保健食品</td>\n",
       "      <td>预包装保健食品</td>\n",
       "      <td>非医保</td>\n",
       "      <td>0.01</td>\n",
       "      <td>12.80</td>\n",
       "      <td>58.0</td>\n",
       "      <td>12.79</td>\n",
       "      <td>45.20</td>\n",
       "      <td>0.779310</td>\n",
       "      <td>False</td>\n",
       "      <td>True</td>\n",
       "      <td>False</td>\n",
       "      <td>False</td>\n",
       "      <td>False</td>\n",
       "    </tr>\n",
       "    <tr>\n",
       "      <th>4</th>\n",
       "      <td>6970878583019672109</td>\n",
       "      <td>盒</td>\n",
       "      <td>0</td>\n",
       "      <td>保健食品</td>\n",
       "      <td>预包装保健食品</td>\n",
       "      <td>非医保</td>\n",
       "      <td>22.00</td>\n",
       "      <td>21.90</td>\n",
       "      <td>98.0</td>\n",
       "      <td>-0.10</td>\n",
       "      <td>76.10</td>\n",
       "      <td>0.776531</td>\n",
       "      <td>False</td>\n",
       "      <td>True</td>\n",
       "      <td>False</td>\n",
       "      <td>False</td>\n",
       "      <td>False</td>\n",
       "    </tr>\n",
       "  </tbody>\n",
       "</table>\n",
       "</div>"
      ],
      "text/plain": [
       "                  商品编码 单位   库存数量 疾病分类统一     商品类别 医保类型  工业采购价  客户采购价格  建议零售价  \\\n",
       "0  6970878583019671591  盒      0   保健食品  预包装保健食品  非医保   2.30    3.69   12.8   \n",
       "1  6970878583019671976  盒  22601   保健食品  预包装保健食品  非医保   2.30    3.69   12.0   \n",
       "2  6970878583023866125  盒  20828   保健食品  预包装保健食品  非医保   2.30    3.69   12.8   \n",
       "3  6970878583019671697  盒      0   保健食品  预包装保健食品  非医保   0.01   12.80   58.0   \n",
       "4  6970878583019672109  盒      0   保健食品  预包装保健食品  非医保  22.00   21.90   98.0   \n",
       "\n",
       "   工业毛利额  客户毛利额     客户毛利率  品牌名称_京鸿阁  品牌名称_其他  品牌名称_小葫芦宝  品牌名称_蜀汉本草  品牌名称_驰铭  \n",
       "0   1.39   9.11  0.711719     False    False      False       True    False  \n",
       "1   1.39   8.31  0.692500     False    False      False       True    False  \n",
       "2   1.39   9.11  0.711719     False    False      False       True    False  \n",
       "3  12.79  45.20  0.779310     False     True      False      False    False  \n",
       "4  -0.10  76.10  0.776531     False     True      False      False    False  "
      ]
     },
     "execution_count": 155,
     "metadata": {},
     "output_type": "execute_result"
    }
   ],
   "source": [
    "com.head()"
   ]
  },
  {
   "cell_type": "markdown",
   "metadata": {},
   "source": [
    "## 医保类型"
   ]
  },
  {
   "cell_type": "code",
   "execution_count": 156,
   "metadata": {},
   "outputs": [
    {
     "data": {
      "text/plain": [
       "医保类型\n",
       "医保     1530\n",
       "非医保     820\n",
       "乙类      658\n",
       "甲类      287\n",
       "Name: count, dtype: int64"
      ]
     },
     "execution_count": 156,
     "metadata": {},
     "output_type": "execute_result"
    }
   ],
   "source": [
    "com['医保类型'].value_counts()"
   ]
  },
  {
   "cell_type": "code",
   "execution_count": 157,
   "metadata": {},
   "outputs": [],
   "source": [
    "com_encoded = pd.get_dummies(com['医保类型'], prefix='医保类型')\n",
    "\n",
    "# 将独热编码结果与原始 DataFrame 合并\n",
    "com = pd.concat([com, com_encoded], axis=1)\n",
    "\n",
    "# 删除原始的客户类型字段\n",
    "com.drop(columns=['医保类型'], inplace=True)"
   ]
  },
  {
   "cell_type": "markdown",
   "metadata": {},
   "source": [
    "## 库存数量\n",
    "\n",
    "不正常, drop"
   ]
  },
  {
   "cell_type": "code",
   "execution_count": 158,
   "metadata": {},
   "outputs": [
    {
     "data": {
      "text/plain": [
       "库存数量\n",
       "0        1594\n",
       "10          8\n",
       "35          6\n",
       "145         6\n",
       "143         6\n",
       "         ... \n",
       "37630       1\n",
       "70620       1\n",
       "21709       1\n",
       "10998       1\n",
       "193         1\n",
       "Name: count, Length: 1448, dtype: int64"
      ]
     },
     "execution_count": 158,
     "metadata": {},
     "output_type": "execute_result"
    }
   ],
   "source": [
    "com['库存数量'].value_counts()"
   ]
  },
  {
   "cell_type": "code",
   "execution_count": null,
   "metadata": {},
   "outputs": [],
   "source": [
    "com.drop(['库存数量'], axis=1, inplace=True)"
   ]
  },
  {
   "cell_type": "markdown",
   "metadata": {},
   "source": [
    "## 单位\n",
    "\n",
    "感觉没用,drop"
   ]
  },
  {
   "cell_type": "code",
   "execution_count": 161,
   "metadata": {},
   "outputs": [
    {
     "data": {
      "text/plain": [
       "单位\n",
       "盒     1581\n",
       "包     1369\n",
       "瓶      151\n",
       "袋      150\n",
       "罐       19\n",
       "个        9\n",
       "件        5\n",
       "中盒       4\n",
       "支        4\n",
       "板        2\n",
       "套        1\n",
       "Name: count, dtype: int64"
      ]
     },
     "execution_count": 161,
     "metadata": {},
     "output_type": "execute_result"
    }
   ],
   "source": [
    "com['单位'].value_counts()"
   ]
  },
  {
   "cell_type": "code",
   "execution_count": 162,
   "metadata": {},
   "outputs": [],
   "source": [
    "com.drop(['单位'], axis=1, inplace=True)"
   ]
  },
  {
   "cell_type": "code",
   "execution_count": 163,
   "metadata": {},
   "outputs": [
    {
     "data": {
      "text/html": [
       "<div>\n",
       "<style scoped>\n",
       "    .dataframe tbody tr th:only-of-type {\n",
       "        vertical-align: middle;\n",
       "    }\n",
       "\n",
       "    .dataframe tbody tr th {\n",
       "        vertical-align: top;\n",
       "    }\n",
       "\n",
       "    .dataframe thead th {\n",
       "        text-align: right;\n",
       "    }\n",
       "</style>\n",
       "<table border=\"1\" class=\"dataframe\">\n",
       "  <thead>\n",
       "    <tr style=\"text-align: right;\">\n",
       "      <th></th>\n",
       "      <th>商品编码</th>\n",
       "      <th>疾病分类统一</th>\n",
       "      <th>商品类别</th>\n",
       "      <th>工业采购价</th>\n",
       "      <th>客户采购价格</th>\n",
       "      <th>建议零售价</th>\n",
       "      <th>工业毛利额</th>\n",
       "      <th>客户毛利额</th>\n",
       "      <th>客户毛利率</th>\n",
       "      <th>品牌名称_京鸿阁</th>\n",
       "      <th>品牌名称_其他</th>\n",
       "      <th>品牌名称_小葫芦宝</th>\n",
       "      <th>品牌名称_蜀汉本草</th>\n",
       "      <th>品牌名称_驰铭</th>\n",
       "      <th>医保类型_乙类</th>\n",
       "      <th>医保类型_医保</th>\n",
       "      <th>医保类型_甲类</th>\n",
       "      <th>医保类型_非医保</th>\n",
       "    </tr>\n",
       "  </thead>\n",
       "  <tbody>\n",
       "    <tr>\n",
       "      <th>0</th>\n",
       "      <td>6970878583019671591</td>\n",
       "      <td>保健食品</td>\n",
       "      <td>预包装保健食品</td>\n",
       "      <td>2.30</td>\n",
       "      <td>3.69</td>\n",
       "      <td>12.8</td>\n",
       "      <td>1.39</td>\n",
       "      <td>9.11</td>\n",
       "      <td>0.711719</td>\n",
       "      <td>False</td>\n",
       "      <td>False</td>\n",
       "      <td>False</td>\n",
       "      <td>True</td>\n",
       "      <td>False</td>\n",
       "      <td>False</td>\n",
       "      <td>False</td>\n",
       "      <td>False</td>\n",
       "      <td>True</td>\n",
       "    </tr>\n",
       "    <tr>\n",
       "      <th>1</th>\n",
       "      <td>6970878583019671976</td>\n",
       "      <td>保健食品</td>\n",
       "      <td>预包装保健食品</td>\n",
       "      <td>2.30</td>\n",
       "      <td>3.69</td>\n",
       "      <td>12.0</td>\n",
       "      <td>1.39</td>\n",
       "      <td>8.31</td>\n",
       "      <td>0.692500</td>\n",
       "      <td>False</td>\n",
       "      <td>False</td>\n",
       "      <td>False</td>\n",
       "      <td>True</td>\n",
       "      <td>False</td>\n",
       "      <td>False</td>\n",
       "      <td>False</td>\n",
       "      <td>False</td>\n",
       "      <td>True</td>\n",
       "    </tr>\n",
       "    <tr>\n",
       "      <th>2</th>\n",
       "      <td>6970878583023866125</td>\n",
       "      <td>保健食品</td>\n",
       "      <td>预包装保健食品</td>\n",
       "      <td>2.30</td>\n",
       "      <td>3.69</td>\n",
       "      <td>12.8</td>\n",
       "      <td>1.39</td>\n",
       "      <td>9.11</td>\n",
       "      <td>0.711719</td>\n",
       "      <td>False</td>\n",
       "      <td>False</td>\n",
       "      <td>False</td>\n",
       "      <td>True</td>\n",
       "      <td>False</td>\n",
       "      <td>False</td>\n",
       "      <td>False</td>\n",
       "      <td>False</td>\n",
       "      <td>True</td>\n",
       "    </tr>\n",
       "    <tr>\n",
       "      <th>3</th>\n",
       "      <td>6970878583019671697</td>\n",
       "      <td>保健食品</td>\n",
       "      <td>预包装保健食品</td>\n",
       "      <td>0.01</td>\n",
       "      <td>12.80</td>\n",
       "      <td>58.0</td>\n",
       "      <td>12.79</td>\n",
       "      <td>45.20</td>\n",
       "      <td>0.779310</td>\n",
       "      <td>False</td>\n",
       "      <td>True</td>\n",
       "      <td>False</td>\n",
       "      <td>False</td>\n",
       "      <td>False</td>\n",
       "      <td>False</td>\n",
       "      <td>False</td>\n",
       "      <td>False</td>\n",
       "      <td>True</td>\n",
       "    </tr>\n",
       "    <tr>\n",
       "      <th>4</th>\n",
       "      <td>6970878583019672109</td>\n",
       "      <td>保健食品</td>\n",
       "      <td>预包装保健食品</td>\n",
       "      <td>22.00</td>\n",
       "      <td>21.90</td>\n",
       "      <td>98.0</td>\n",
       "      <td>-0.10</td>\n",
       "      <td>76.10</td>\n",
       "      <td>0.776531</td>\n",
       "      <td>False</td>\n",
       "      <td>True</td>\n",
       "      <td>False</td>\n",
       "      <td>False</td>\n",
       "      <td>False</td>\n",
       "      <td>False</td>\n",
       "      <td>False</td>\n",
       "      <td>False</td>\n",
       "      <td>True</td>\n",
       "    </tr>\n",
       "  </tbody>\n",
       "</table>\n",
       "</div>"
      ],
      "text/plain": [
       "                  商品编码 疾病分类统一     商品类别  工业采购价  客户采购价格  建议零售价  工业毛利额  客户毛利额  \\\n",
       "0  6970878583019671591   保健食品  预包装保健食品   2.30    3.69   12.8   1.39   9.11   \n",
       "1  6970878583019671976   保健食品  预包装保健食品   2.30    3.69   12.0   1.39   8.31   \n",
       "2  6970878583023866125   保健食品  预包装保健食品   2.30    3.69   12.8   1.39   9.11   \n",
       "3  6970878583019671697   保健食品  预包装保健食品   0.01   12.80   58.0  12.79  45.20   \n",
       "4  6970878583019672109   保健食品  预包装保健食品  22.00   21.90   98.0  -0.10  76.10   \n",
       "\n",
       "      客户毛利率  品牌名称_京鸿阁  品牌名称_其他  品牌名称_小葫芦宝  品牌名称_蜀汉本草  品牌名称_驰铭  医保类型_乙类  \\\n",
       "0  0.711719     False    False      False       True    False    False   \n",
       "1  0.692500     False    False      False       True    False    False   \n",
       "2  0.711719     False    False      False       True    False    False   \n",
       "3  0.779310     False     True      False      False    False    False   \n",
       "4  0.776531     False     True      False      False    False    False   \n",
       "\n",
       "   医保类型_医保  医保类型_甲类  医保类型_非医保  \n",
       "0    False    False      True  \n",
       "1    False    False      True  \n",
       "2    False    False      True  \n",
       "3    False    False      True  \n",
       "4    False    False      True  "
      ]
     },
     "execution_count": 163,
     "metadata": {},
     "output_type": "execute_result"
    }
   ],
   "source": [
    "com.head()"
   ]
  },
  {
   "cell_type": "markdown",
   "metadata": {},
   "source": [
    "## 商品类别, 疾病分类统一\n",
    "\n",
    " 多而杂, drop"
   ]
  },
  {
   "cell_type": "code",
   "execution_count": 164,
   "metadata": {},
   "outputs": [
    {
     "data": {
      "text/plain": [
       "商品类别\n",
       "中药饮片                        1612\n",
       "甲类OTC.中成药                    402\n",
       "处方用药.中成药                     345\n",
       "处方用药.化学药制剂                   191\n",
       "乙类OTC.中成药                    148\n",
       "I类医疗器械                       130\n",
       "化学药制剂.甲类OTC                  120\n",
       "处方用药.抗生素制剂                    92\n",
       "化学药制剂.乙类OTC                   61\n",
       "预包装普通食品                       53\n",
       "预包装保健食品                       37\n",
       "Ⅱ17-14注输、护理和防护器械              31\n",
       "甲类OTC.抗生素制剂                   15\n",
       "中药材                           13\n",
       "Ⅱ6864医用卫生材料及敷料                 9\n",
       "中成药                            8\n",
       "Ⅱ17-18妇产科、辅助生殖和避孕器械            5\n",
       "Ⅱ17-07医用诊察和监护器械                5\n",
       "Ⅱ6863口腔科材料                     4\n",
       "化学药制剂                          4\n",
       "Ⅱ17-09物理治疗器械                   2\n",
       "Ⅱ17-17口腔科器械                    1\n",
       "Ⅱ6866医用高分子材料及制品                1\n",
       "Ⅱ17-6840体外诊断试剂（不需冷链运输、贮        1\n",
       "Ⅱ17-6840体外诊断试剂                 1\n",
       "Ⅱ17-22临床检验器械                   1\n",
       "抗生素制剂.乙类OTC                    1\n",
       "['处方用药.中成药' '甲类OTC.中成药']       1\n",
       "乙类OTC.中药饮片                     1\n",
       "Name: count, dtype: int64"
      ]
     },
     "execution_count": 164,
     "metadata": {},
     "output_type": "execute_result"
    }
   ],
   "source": [
    "com['商品类别'].value_counts()"
   ]
  },
  {
   "cell_type": "code",
   "execution_count": 165,
   "metadata": {},
   "outputs": [],
   "source": [
    "com.drop(['商品类别'], axis=1, inplace=True)"
   ]
  },
  {
   "cell_type": "code",
   "execution_count": 166,
   "metadata": {},
   "outputs": [
    {
     "data": {
      "text/plain": [
       "疾病分类统一\n",
       "中药饮片     1666\n",
       "消化系统      153\n",
       "儿科用药      135\n",
       "呼吸系统      129\n",
       "感冒用药      121\n",
       "补益用药      114\n",
       "心脑血管      107\n",
       "清热解毒      107\n",
       "医疗器械       97\n",
       "日化护理       93\n",
       "皮肤用药       88\n",
       "五官用药       84\n",
       "抗感染        67\n",
       "妇科用药       67\n",
       "风湿骨病       61\n",
       "泌尿系统       39\n",
       "保健食品       37\n",
       "骨骼-肌肉      25\n",
       "糖尿病        25\n",
       "肝胆用药       20\n",
       "神经系统       18\n",
       "维矿补充       16\n",
       "物料专区       15\n",
       "抗过敏        11\n",
       "Name: count, dtype: int64"
      ]
     },
     "execution_count": 166,
     "metadata": {},
     "output_type": "execute_result"
    }
   ],
   "source": [
    "com['疾病分类统一'].value_counts()"
   ]
  },
  {
   "cell_type": "code",
   "execution_count": 167,
   "metadata": {},
   "outputs": [],
   "source": [
    "com.drop(['疾病分类统一'], axis=1, inplace=True)"
   ]
  },
  {
   "cell_type": "code",
   "execution_count": 168,
   "metadata": {},
   "outputs": [],
   "source": [
    "com.to_csv('../data/commodity_m1.csv', index=False, encoding='utf-8-sig')"
   ]
  },
  {
   "cell_type": "markdown",
   "metadata": {},
   "source": [
    "# 订单表"
   ]
  },
  {
   "cell_type": "code",
   "execution_count": 169,
   "metadata": {},
   "outputs": [],
   "source": [
    "import pandas as pd\n",
    "import numpy as np\n",
    "import seaborn as sns\n",
    "import missingno as msno\n",
    "import matplotlib.pyplot as plt\n",
    "from tqdm import tqdm\n",
    "import warnings\n",
    "warnings.filterwarnings('ignore')\n",
    "\n",
    "plt.rcParams['font.sans-serif'] = 'Microsoft Yahei'"
   ]
  },
  {
   "cell_type": "code",
   "execution_count": 170,
   "metadata": {},
   "outputs": [],
   "source": [
    "def loss_rate(x):  # x is DataFrmae type\n",
    "    table = ((x.isnull().sum())/x.shape[0]).sort_values(ascending=False).map(lambda i:\"{:.5%}\".format(i))\n",
    "    return table"
   ]
  },
  {
   "cell_type": "code",
   "execution_count": 171,
   "metadata": {},
   "outputs": [],
   "source": [
    "order = pd.read_csv('../data/orders_2023.csv')"
   ]
  },
  {
   "cell_type": "code",
   "execution_count": 172,
   "metadata": {},
   "outputs": [],
   "source": [
    "cus = pd.read_csv('../data/customers_m1.csv')\n",
    "com = pd.read_csv('../data/commodity_m1.csv')"
   ]
  },
  {
   "cell_type": "code",
   "execution_count": 173,
   "metadata": {},
   "outputs": [
    {
     "data": {
      "text/html": [
       "<div>\n",
       "<style scoped>\n",
       "    .dataframe tbody tr th:only-of-type {\n",
       "        vertical-align: middle;\n",
       "    }\n",
       "\n",
       "    .dataframe tbody tr th {\n",
       "        vertical-align: top;\n",
       "    }\n",
       "\n",
       "    .dataframe thead th {\n",
       "        text-align: right;\n",
       "    }\n",
       "</style>\n",
       "<table border=\"1\" class=\"dataframe\">\n",
       "  <thead>\n",
       "    <tr style=\"text-align: right;\">\n",
       "      <th></th>\n",
       "      <th>客户id</th>\n",
       "      <th>订单号</th>\n",
       "      <th>商品编码</th>\n",
       "      <th>数量</th>\n",
       "      <th>商品原价</th>\n",
       "      <th>成交单价</th>\n",
       "      <th>实付金额</th>\n",
       "      <th>折扣金额</th>\n",
       "      <th>应付金额</th>\n",
       "      <th>退款金额</th>\n",
       "      <th>...</th>\n",
       "      <th>活动id</th>\n",
       "      <th>是否活动</th>\n",
       "      <th>活动类型</th>\n",
       "      <th>支付状态</th>\n",
       "      <th>订单创建日期</th>\n",
       "      <th>订单创建时间</th>\n",
       "      <th>订单支付日期</th>\n",
       "      <th>订单支付时间</th>\n",
       "      <th>实际配送时长</th>\n",
       "      <th>Unnamed: 21</th>\n",
       "    </tr>\n",
       "  </thead>\n",
       "  <tbody>\n",
       "    <tr>\n",
       "      <th>0</th>\n",
       "      <td>6970903968834916810</td>\n",
       "      <td>BL2305080755068263791</td>\n",
       "      <td>7049983581464297472</td>\n",
       "      <td>1</td>\n",
       "      <td>19.0</td>\n",
       "      <td>19.0</td>\n",
       "      <td>19.0</td>\n",
       "      <td>0.0</td>\n",
       "      <td>19.0</td>\n",
       "      <td>NaN</td>\n",
       "      <td>...</td>\n",
       "      <td>NaN</td>\n",
       "      <td>否</td>\n",
       "      <td>NaN</td>\n",
       "      <td>已支付</td>\n",
       "      <td>2023-05-06</td>\n",
       "      <td>07:55:07</td>\n",
       "      <td>2023-05-06</td>\n",
       "      <td>07:55:27</td>\n",
       "      <td>3.0</td>\n",
       "      <td>NaN</td>\n",
       "    </tr>\n",
       "    <tr>\n",
       "      <th>1</th>\n",
       "      <td>6970903968834916810</td>\n",
       "      <td>BL2305080755068263791</td>\n",
       "      <td>7042381643315150848</td>\n",
       "      <td>2</td>\n",
       "      <td>83.0</td>\n",
       "      <td>83.0</td>\n",
       "      <td>166.0</td>\n",
       "      <td>0.0</td>\n",
       "      <td>166.0</td>\n",
       "      <td>NaN</td>\n",
       "      <td>...</td>\n",
       "      <td>NaN</td>\n",
       "      <td>否</td>\n",
       "      <td>NaN</td>\n",
       "      <td>已支付</td>\n",
       "      <td>2023-05-06</td>\n",
       "      <td>07:55:07</td>\n",
       "      <td>2023-05-06</td>\n",
       "      <td>07:55:27</td>\n",
       "      <td>3.0</td>\n",
       "      <td>NaN</td>\n",
       "    </tr>\n",
       "    <tr>\n",
       "      <th>2</th>\n",
       "      <td>6970903968834916810</td>\n",
       "      <td>BL2305080755068263791</td>\n",
       "      <td>7029328967035256832</td>\n",
       "      <td>2</td>\n",
       "      <td>21.5</td>\n",
       "      <td>21.5</td>\n",
       "      <td>43.0</td>\n",
       "      <td>0.0</td>\n",
       "      <td>43.0</td>\n",
       "      <td>NaN</td>\n",
       "      <td>...</td>\n",
       "      <td>NaN</td>\n",
       "      <td>否</td>\n",
       "      <td>NaN</td>\n",
       "      <td>已支付</td>\n",
       "      <td>2023-05-06</td>\n",
       "      <td>07:55:07</td>\n",
       "      <td>2023-05-06</td>\n",
       "      <td>07:55:27</td>\n",
       "      <td>3.0</td>\n",
       "      <td>NaN</td>\n",
       "    </tr>\n",
       "    <tr>\n",
       "      <th>3</th>\n",
       "      <td>6970903968834916810</td>\n",
       "      <td>BL2305080755068263791</td>\n",
       "      <td>7028187294771314688</td>\n",
       "      <td>1</td>\n",
       "      <td>22.5</td>\n",
       "      <td>22.5</td>\n",
       "      <td>22.5</td>\n",
       "      <td>0.0</td>\n",
       "      <td>22.5</td>\n",
       "      <td>NaN</td>\n",
       "      <td>...</td>\n",
       "      <td>NaN</td>\n",
       "      <td>否</td>\n",
       "      <td>NaN</td>\n",
       "      <td>已支付</td>\n",
       "      <td>2023-05-06</td>\n",
       "      <td>07:55:07</td>\n",
       "      <td>2023-05-06</td>\n",
       "      <td>07:55:27</td>\n",
       "      <td>3.0</td>\n",
       "      <td>NaN</td>\n",
       "    </tr>\n",
       "    <tr>\n",
       "      <th>4</th>\n",
       "      <td>6970903968834916810</td>\n",
       "      <td>BL2305080755068263791</td>\n",
       "      <td>7024974707002834944</td>\n",
       "      <td>2</td>\n",
       "      <td>27.5</td>\n",
       "      <td>27.5</td>\n",
       "      <td>55.0</td>\n",
       "      <td>0.0</td>\n",
       "      <td>55.0</td>\n",
       "      <td>NaN</td>\n",
       "      <td>...</td>\n",
       "      <td>NaN</td>\n",
       "      <td>否</td>\n",
       "      <td>NaN</td>\n",
       "      <td>已支付</td>\n",
       "      <td>2023-05-06</td>\n",
       "      <td>07:55:07</td>\n",
       "      <td>2023-05-06</td>\n",
       "      <td>07:55:27</td>\n",
       "      <td>3.0</td>\n",
       "      <td>NaN</td>\n",
       "    </tr>\n",
       "  </tbody>\n",
       "</table>\n",
       "<p>5 rows × 22 columns</p>\n",
       "</div>"
      ],
      "text/plain": [
       "                  客户id                    订单号                 商品编码  数量  商品原价  \\\n",
       "0  6970903968834916810  BL2305080755068263791  7049983581464297472   1  19.0   \n",
       "1  6970903968834916810  BL2305080755068263791  7042381643315150848   2  83.0   \n",
       "2  6970903968834916810  BL2305080755068263791  7029328967035256832   2  21.5   \n",
       "3  6970903968834916810  BL2305080755068263791  7028187294771314688   1  22.5   \n",
       "4  6970903968834916810  BL2305080755068263791  7024974707002834944   2  27.5   \n",
       "\n",
       "   成交单价   实付金额  折扣金额   应付金额  退款金额  ...  活动id 是否活动  活动类型 支付状态      订单创建日期  \\\n",
       "0  19.0   19.0   0.0   19.0   NaN  ...   NaN    否   NaN  已支付  2023-05-06   \n",
       "1  83.0  166.0   0.0  166.0   NaN  ...   NaN    否   NaN  已支付  2023-05-06   \n",
       "2  21.5   43.0   0.0   43.0   NaN  ...   NaN    否   NaN  已支付  2023-05-06   \n",
       "3  22.5   22.5   0.0   22.5   NaN  ...   NaN    否   NaN  已支付  2023-05-06   \n",
       "4  27.5   55.0   0.0   55.0   NaN  ...   NaN    否   NaN  已支付  2023-05-06   \n",
       "\n",
       "     订单创建时间      订单支付日期    订单支付时间 实际配送时长 Unnamed: 21  \n",
       "0  07:55:07  2023-05-06  07:55:27    3.0         NaN  \n",
       "1  07:55:07  2023-05-06  07:55:27    3.0         NaN  \n",
       "2  07:55:07  2023-05-06  07:55:27    3.0         NaN  \n",
       "3  07:55:07  2023-05-06  07:55:27    3.0         NaN  \n",
       "4  07:55:07  2023-05-06  07:55:27    3.0         NaN  \n",
       "\n",
       "[5 rows x 22 columns]"
      ]
     },
     "execution_count": 173,
     "metadata": {},
     "output_type": "execute_result"
    }
   ],
   "source": [
    "order.head()"
   ]
  },
  {
   "cell_type": "code",
   "execution_count": 6,
   "metadata": {},
   "outputs": [
    {
     "data": {
      "text/plain": [
       "<Axes: >"
      ]
     },
     "execution_count": 6,
     "metadata": {},
     "output_type": "execute_result"
    },
    {
     "data": {
      "image/png": "[encoded data removed]",
      "text/plain": [
       "<Figure size 2500x1000 with 2 Axes>"
      ]
     },
     "metadata": {},
     "output_type": "display_data"
    }
   ],
   "source": [
    "msno.matrix(order)"
   ]
  },
  {
   "cell_type": "markdown",
   "metadata": {},
   "source": [
    "## 删除无用字段\n",
    "\n",
    "其中删除时间数据是因为各个订单时间序列对应的时间并不一致且非常稀疏，不适合用时空图卷积, 'Unnamed: 21' 是空的，'退款金额'缺失了95%"
   ]
  },
  {
   "cell_type": "code",
   "execution_count": 174,
   "metadata": {},
   "outputs": [],
   "source": [
    "order.drop(['订单创建日期', '订单创建时间', '订单支付日期', '订单支付时间', 'Unnamed: 21', '退款金额'], axis=1, inplace=True)"
   ]
  },
  {
   "cell_type": "code",
   "execution_count": 177,
   "metadata": {},
   "outputs": [
    {
     "data": {
      "text/plain": [
       "活动类型      72.07598%\n",
       "活动id      72.02708%\n",
       "实际配送时长    13.59243%\n",
       "客户id       0.00000%\n",
       "订单号        0.00000%\n",
       "商品编码       0.00000%\n",
       "数量         0.00000%\n",
       "商品原价       0.00000%\n",
       "成交单价       0.00000%\n",
       "实付金额       0.00000%\n",
       "折扣金额       0.00000%\n",
       "应付金额       0.00000%\n",
       "订单总计运费     0.00000%\n",
       "支付方式       0.00000%\n",
       "是否活动       0.00000%\n",
       "支付状态       0.00000%\n",
       "dtype: object"
      ]
     },
     "execution_count": 177,
     "metadata": {},
     "output_type": "execute_result"
    }
   ],
   "source": [
    "loss_rate(order)"
   ]
  },
  {
   "cell_type": "code",
   "execution_count": 178,
   "metadata": {},
   "outputs": [
    {
     "data": {
      "text/html": [
       "<div>\n",
       "<style scoped>\n",
       "    .dataframe tbody tr th:only-of-type {\n",
       "        vertical-align: middle;\n",
       "    }\n",
       "\n",
       "    .dataframe tbody tr th {\n",
       "        vertical-align: top;\n",
       "    }\n",
       "\n",
       "    .dataframe thead th {\n",
       "        text-align: right;\n",
       "    }\n",
       "</style>\n",
       "<table border=\"1\" class=\"dataframe\">\n",
       "  <thead>\n",
       "    <tr style=\"text-align: right;\">\n",
       "      <th></th>\n",
       "      <th>客户id</th>\n",
       "      <th>订单号</th>\n",
       "      <th>商品编码</th>\n",
       "      <th>数量</th>\n",
       "      <th>商品原价</th>\n",
       "      <th>成交单价</th>\n",
       "      <th>实付金额</th>\n",
       "      <th>折扣金额</th>\n",
       "      <th>应付金额</th>\n",
       "      <th>订单总计运费</th>\n",
       "      <th>支付方式</th>\n",
       "      <th>活动id</th>\n",
       "      <th>是否活动</th>\n",
       "      <th>活动类型</th>\n",
       "      <th>支付状态</th>\n",
       "      <th>实际配送时长</th>\n",
       "    </tr>\n",
       "  </thead>\n",
       "  <tbody>\n",
       "    <tr>\n",
       "      <th>0</th>\n",
       "      <td>6970903968834916810</td>\n",
       "      <td>BL2305080755068263791</td>\n",
       "      <td>7049983581464297472</td>\n",
       "      <td>1</td>\n",
       "      <td>19.0</td>\n",
       "      <td>19.0</td>\n",
       "      <td>19.0</td>\n",
       "      <td>0.0</td>\n",
       "      <td>19.0</td>\n",
       "      <td>0.0</td>\n",
       "      <td>支付宝</td>\n",
       "      <td>NaN</td>\n",
       "      <td>否</td>\n",
       "      <td>NaN</td>\n",
       "      <td>已支付</td>\n",
       "      <td>3.0</td>\n",
       "    </tr>\n",
       "    <tr>\n",
       "      <th>1</th>\n",
       "      <td>6970903968834916810</td>\n",
       "      <td>BL2305080755068263791</td>\n",
       "      <td>7042381643315150848</td>\n",
       "      <td>2</td>\n",
       "      <td>83.0</td>\n",
       "      <td>83.0</td>\n",
       "      <td>166.0</td>\n",
       "      <td>0.0</td>\n",
       "      <td>166.0</td>\n",
       "      <td>0.0</td>\n",
       "      <td>支付宝</td>\n",
       "      <td>NaN</td>\n",
       "      <td>否</td>\n",
       "      <td>NaN</td>\n",
       "      <td>已支付</td>\n",
       "      <td>3.0</td>\n",
       "    </tr>\n",
       "    <tr>\n",
       "      <th>2</th>\n",
       "      <td>6970903968834916810</td>\n",
       "      <td>BL2305080755068263791</td>\n",
       "      <td>7029328967035256832</td>\n",
       "      <td>2</td>\n",
       "      <td>21.5</td>\n",
       "      <td>21.5</td>\n",
       "      <td>43.0</td>\n",
       "      <td>0.0</td>\n",
       "      <td>43.0</td>\n",
       "      <td>0.0</td>\n",
       "      <td>支付宝</td>\n",
       "      <td>NaN</td>\n",
       "      <td>否</td>\n",
       "      <td>NaN</td>\n",
       "      <td>已支付</td>\n",
       "      <td>3.0</td>\n",
       "    </tr>\n",
       "    <tr>\n",
       "      <th>3</th>\n",
       "      <td>6970903968834916810</td>\n",
       "      <td>BL2305080755068263791</td>\n",
       "      <td>7028187294771314688</td>\n",
       "      <td>1</td>\n",
       "      <td>22.5</td>\n",
       "      <td>22.5</td>\n",
       "      <td>22.5</td>\n",
       "      <td>0.0</td>\n",
       "      <td>22.5</td>\n",
       "      <td>0.0</td>\n",
       "      <td>支付宝</td>\n",
       "      <td>NaN</td>\n",
       "      <td>否</td>\n",
       "      <td>NaN</td>\n",
       "      <td>已支付</td>\n",
       "      <td>3.0</td>\n",
       "    </tr>\n",
       "    <tr>\n",
       "      <th>4</th>\n",
       "      <td>6970903968834916810</td>\n",
       "      <td>BL2305080755068263791</td>\n",
       "      <td>7024974707002834944</td>\n",
       "      <td>2</td>\n",
       "      <td>27.5</td>\n",
       "      <td>27.5</td>\n",
       "      <td>55.0</td>\n",
       "      <td>0.0</td>\n",
       "      <td>55.0</td>\n",
       "      <td>0.0</td>\n",
       "      <td>支付宝</td>\n",
       "      <td>NaN</td>\n",
       "      <td>否</td>\n",
       "      <td>NaN</td>\n",
       "      <td>已支付</td>\n",
       "      <td>3.0</td>\n",
       "    </tr>\n",
       "  </tbody>\n",
       "</table>\n",
       "</div>"
      ],
      "text/plain": [
       "                  客户id                    订单号                 商品编码  数量  商品原价  \\\n",
       "0  6970903968834916810  BL2305080755068263791  7049983581464297472   1  19.0   \n",
       "1  6970903968834916810  BL2305080755068263791  7042381643315150848   2  83.0   \n",
       "2  6970903968834916810  BL2305080755068263791  7029328967035256832   2  21.5   \n",
       "3  6970903968834916810  BL2305080755068263791  7028187294771314688   1  22.5   \n",
       "4  6970903968834916810  BL2305080755068263791  7024974707002834944   2  27.5   \n",
       "\n",
       "   成交单价   实付金额  折扣金额   应付金额  订单总计运费 支付方式  活动id 是否活动 活动类型 支付状态  实际配送时长  \n",
       "0  19.0   19.0   0.0   19.0     0.0  支付宝   NaN    否  NaN  已支付     3.0  \n",
       "1  83.0  166.0   0.0  166.0     0.0  支付宝   NaN    否  NaN  已支付     3.0  \n",
       "2  21.5   43.0   0.0   43.0     0.0  支付宝   NaN    否  NaN  已支付     3.0  \n",
       "3  22.5   22.5   0.0   22.5     0.0  支付宝   NaN    否  NaN  已支付     3.0  \n",
       "4  27.5   55.0   0.0   55.0     0.0  支付宝   NaN    否  NaN  已支付     3.0  "
      ]
     },
     "execution_count": 178,
     "metadata": {},
     "output_type": "execute_result"
    }
   ],
   "source": [
    "order.head()"
   ]
  },
  {
   "cell_type": "markdown",
   "metadata": {},
   "source": [
    "## 活动类型\n",
    "\n",
    "删除‘活动id’和‘是否活动’，仅保留活动类型"
   ]
  },
  {
   "cell_type": "code",
   "execution_count": 179,
   "metadata": {},
   "outputs": [],
   "source": [
    "order['活动类型'].fillna('无', inplace=True)"
   ]
  },
  {
   "cell_type": "code",
   "execution_count": 180,
   "metadata": {},
   "outputs": [],
   "source": [
    "# 转独热\n",
    "\n",
    "activaties_code = pd.get_dummies(order['活动类型'], prefix='活动类型')\n",
    "# 将独热编码结果与原始 DataFrame 合并\n",
    "order = pd.concat([order, activaties_code], axis=1)\n",
    "# 删除原始的客户类型字段\n",
    "order.drop(columns=['活动类型'], inplace=True)"
   ]
  },
  {
   "cell_type": "code",
   "execution_count": 181,
   "metadata": {},
   "outputs": [],
   "source": [
    "order.drop(columns=['活动id', '是否活动'], inplace=True)"
   ]
  },
  {
   "cell_type": "code",
   "execution_count": 182,
   "metadata": {},
   "outputs": [
    {
     "data": {
      "text/html": [
       "<div>\n",
       "<style scoped>\n",
       "    .dataframe tbody tr th:only-of-type {\n",
       "        vertical-align: middle;\n",
       "    }\n",
       "\n",
       "    .dataframe tbody tr th {\n",
       "        vertical-align: top;\n",
       "    }\n",
       "\n",
       "    .dataframe thead th {\n",
       "        text-align: right;\n",
       "    }\n",
       "</style>\n",
       "<table border=\"1\" class=\"dataframe\">\n",
       "  <thead>\n",
       "    <tr style=\"text-align: right;\">\n",
       "      <th></th>\n",
       "      <th>客户id</th>\n",
       "      <th>订单号</th>\n",
       "      <th>商品编码</th>\n",
       "      <th>数量</th>\n",
       "      <th>商品原价</th>\n",
       "      <th>成交单价</th>\n",
       "      <th>实付金额</th>\n",
       "      <th>折扣金额</th>\n",
       "      <th>应付金额</th>\n",
       "      <th>订单总计运费</th>\n",
       "      <th>支付方式</th>\n",
       "      <th>支付状态</th>\n",
       "      <th>实际配送时长</th>\n",
       "      <th>活动类型_换购</th>\n",
       "      <th>活动类型_无</th>\n",
       "      <th>活动类型_满减</th>\n",
       "      <th>活动类型_满赠</th>\n",
       "      <th>活动类型_满返</th>\n",
       "      <th>活动类型_特价</th>\n",
       "      <th>活动类型_秒杀</th>\n",
       "    </tr>\n",
       "  </thead>\n",
       "  <tbody>\n",
       "    <tr>\n",
       "      <th>0</th>\n",
       "      <td>6970903968834916810</td>\n",
       "      <td>BL2305080755068263791</td>\n",
       "      <td>7049983581464297472</td>\n",
       "      <td>1</td>\n",
       "      <td>19.0</td>\n",
       "      <td>19.0</td>\n",
       "      <td>19.0</td>\n",
       "      <td>0.0</td>\n",
       "      <td>19.0</td>\n",
       "      <td>0.0</td>\n",
       "      <td>支付宝</td>\n",
       "      <td>已支付</td>\n",
       "      <td>3.0</td>\n",
       "      <td>False</td>\n",
       "      <td>True</td>\n",
       "      <td>False</td>\n",
       "      <td>False</td>\n",
       "      <td>False</td>\n",
       "      <td>False</td>\n",
       "      <td>False</td>\n",
       "    </tr>\n",
       "    <tr>\n",
       "      <th>1</th>\n",
       "      <td>6970903968834916810</td>\n",
       "      <td>BL2305080755068263791</td>\n",
       "      <td>7042381643315150848</td>\n",
       "      <td>2</td>\n",
       "      <td>83.0</td>\n",
       "      <td>83.0</td>\n",
       "      <td>166.0</td>\n",
       "      <td>0.0</td>\n",
       "      <td>166.0</td>\n",
       "      <td>0.0</td>\n",
       "      <td>支付宝</td>\n",
       "      <td>已支付</td>\n",
       "      <td>3.0</td>\n",
       "      <td>False</td>\n",
       "      <td>True</td>\n",
       "      <td>False</td>\n",
       "      <td>False</td>\n",
       "      <td>False</td>\n",
       "      <td>False</td>\n",
       "      <td>False</td>\n",
       "    </tr>\n",
       "    <tr>\n",
       "      <th>2</th>\n",
       "      <td>6970903968834916810</td>\n",
       "      <td>BL2305080755068263791</td>\n",
       "      <td>7029328967035256832</td>\n",
       "      <td>2</td>\n",
       "      <td>21.5</td>\n",
       "      <td>21.5</td>\n",
       "      <td>43.0</td>\n",
       "      <td>0.0</td>\n",
       "      <td>43.0</td>\n",
       "      <td>0.0</td>\n",
       "      <td>支付宝</td>\n",
       "      <td>已支付</td>\n",
       "      <td>3.0</td>\n",
       "      <td>False</td>\n",
       "      <td>True</td>\n",
       "      <td>False</td>\n",
       "      <td>False</td>\n",
       "      <td>False</td>\n",
       "      <td>False</td>\n",
       "      <td>False</td>\n",
       "    </tr>\n",
       "    <tr>\n",
       "      <th>3</th>\n",
       "      <td>6970903968834916810</td>\n",
       "      <td>BL2305080755068263791</td>\n",
       "      <td>7028187294771314688</td>\n",
       "      <td>1</td>\n",
       "      <td>22.5</td>\n",
       "      <td>22.5</td>\n",
       "      <td>22.5</td>\n",
       "      <td>0.0</td>\n",
       "      <td>22.5</td>\n",
       "      <td>0.0</td>\n",
       "      <td>支付宝</td>\n",
       "      <td>已支付</td>\n",
       "      <td>3.0</td>\n",
       "      <td>False</td>\n",
       "      <td>True</td>\n",
       "      <td>False</td>\n",
       "      <td>False</td>\n",
       "      <td>False</td>\n",
       "      <td>False</td>\n",
       "      <td>False</td>\n",
       "    </tr>\n",
       "    <tr>\n",
       "      <th>4</th>\n",
       "      <td>6970903968834916810</td>\n",
       "      <td>BL2305080755068263791</td>\n",
       "      <td>7024974707002834944</td>\n",
       "      <td>2</td>\n",
       "      <td>27.5</td>\n",
       "      <td>27.5</td>\n",
       "      <td>55.0</td>\n",
       "      <td>0.0</td>\n",
       "      <td>55.0</td>\n",
       "      <td>0.0</td>\n",
       "      <td>支付宝</td>\n",
       "      <td>已支付</td>\n",
       "      <td>3.0</td>\n",
       "      <td>False</td>\n",
       "      <td>True</td>\n",
       "      <td>False</td>\n",
       "      <td>False</td>\n",
       "      <td>False</td>\n",
       "      <td>False</td>\n",
       "      <td>False</td>\n",
       "    </tr>\n",
       "  </tbody>\n",
       "</table>\n",
       "</div>"
      ],
      "text/plain": [
       "                  客户id                    订单号                 商品编码  数量  商品原价  \\\n",
       "0  6970903968834916810  BL2305080755068263791  7049983581464297472   1  19.0   \n",
       "1  6970903968834916810  BL2305080755068263791  7042381643315150848   2  83.0   \n",
       "2  6970903968834916810  BL2305080755068263791  7029328967035256832   2  21.5   \n",
       "3  6970903968834916810  BL2305080755068263791  7028187294771314688   1  22.5   \n",
       "4  6970903968834916810  BL2305080755068263791  7024974707002834944   2  27.5   \n",
       "\n",
       "   成交单价   实付金额  折扣金额   应付金额  订单总计运费 支付方式 支付状态  实际配送时长  活动类型_换购  活动类型_无  \\\n",
       "0  19.0   19.0   0.0   19.0     0.0  支付宝  已支付     3.0    False    True   \n",
       "1  83.0  166.0   0.0  166.0     0.0  支付宝  已支付     3.0    False    True   \n",
       "2  21.5   43.0   0.0   43.0     0.0  支付宝  已支付     3.0    False    True   \n",
       "3  22.5   22.5   0.0   22.5     0.0  支付宝  已支付     3.0    False    True   \n",
       "4  27.5   55.0   0.0   55.0     0.0  支付宝  已支付     3.0    False    True   \n",
       "\n",
       "   活动类型_满减  活动类型_满赠  活动类型_满返  活动类型_特价  活动类型_秒杀  \n",
       "0    False    False    False    False    False  \n",
       "1    False    False    False    False    False  \n",
       "2    False    False    False    False    False  \n",
       "3    False    False    False    False    False  \n",
       "4    False    False    False    False    False  "
      ]
     },
     "execution_count": 182,
     "metadata": {},
     "output_type": "execute_result"
    }
   ],
   "source": [
    "order.head()"
   ]
  },
  {
   "cell_type": "markdown",
   "metadata": {},
   "source": [
    "## 金额相关\n",
    "\n",
    "删除商品原价、成交单价、折扣金额、应付金额，仅保留实付金额"
   ]
  },
  {
   "cell_type": "code",
   "execution_count": 183,
   "metadata": {},
   "outputs": [],
   "source": [
    "order.drop(columns=['商品原价', '成交单价', '折扣金额', '应付金额'], inplace=True)"
   ]
  },
  {
   "cell_type": "markdown",
   "metadata": {},
   "source": [
    "## 支付状态\n",
    "\n",
    "删除`支付方式`为`待付款`和`支付状态`为`待支付`、`已退款`的"
   ]
  },
  {
   "cell_type": "code",
   "execution_count": 184,
   "metadata": {},
   "outputs": [
    {
     "data": {
      "text/plain": [
       "支付方式\n",
       "微信          14144710\n",
       "支付宝          6176014\n",
       "待付款          1637390\n",
       "银行转账          706549\n",
       "泸州银行_乐业贷        2853\n",
       "Name: count, dtype: int64"
      ]
     },
     "execution_count": 184,
     "metadata": {},
     "output_type": "execute_result"
    }
   ],
   "source": [
    "order['支付方式'].value_counts()"
   ]
  },
  {
   "cell_type": "code",
   "execution_count": 185,
   "metadata": {},
   "outputs": [
    {
     "data": {
      "text/plain": [
       "支付状态\n",
       "已支付     19089032\n",
       "待支付      1991575\n",
       "已退款       932078\n",
       "部分退款      654831\n",
       "Name: count, dtype: int64"
      ]
     },
     "execution_count": 185,
     "metadata": {},
     "output_type": "execute_result"
    }
   ],
   "source": [
    "order['支付状态'].value_counts()"
   ]
  },
  {
   "cell_type": "code",
   "execution_count": 186,
   "metadata": {},
   "outputs": [],
   "source": [
    "order = order[order['支付方式'] != '待付款']\n",
    "order = order[order['支付状态'] != '待支付']\n",
    "order = order[order['支付状态'] != '已退款']"
   ]
  },
  {
   "cell_type": "code",
   "execution_count": 187,
   "metadata": {},
   "outputs": [],
   "source": [
    "order.drop('支付状态', axis=1, inplace=True)"
   ]
  },
  {
   "cell_type": "code",
   "execution_count": 188,
   "metadata": {},
   "outputs": [
    {
     "data": {
      "text/plain": [
       "0           支付宝\n",
       "1           支付宝\n",
       "2           支付宝\n",
       "3           支付宝\n",
       "4           支付宝\n",
       "           ... \n",
       "22667502     微信\n",
       "22667503     微信\n",
       "22667510     微信\n",
       "22667511     微信\n",
       "22667512     微信\n",
       "Name: 支付方式, Length: 19743863, dtype: object"
      ]
     },
     "execution_count": 188,
     "metadata": {},
     "output_type": "execute_result"
    }
   ],
   "source": [
    "order['支付方式']"
   ]
  },
  {
   "cell_type": "code",
   "execution_count": 189,
   "metadata": {},
   "outputs": [],
   "source": [
    "activaties_code = pd.get_dummies(order['支付方式'], prefix='支付方式')\n",
    "# 将独热编码结果与原始 DataFrame 合并\n",
    "order = pd.concat([order, activaties_code], axis=1)\n",
    "# 删除原始的客户类型字段\n",
    "order.drop('支付方式', axis=1, inplace=True)"
   ]
  },
  {
   "cell_type": "code",
   "execution_count": 190,
   "metadata": {},
   "outputs": [
    {
     "data": {
      "text/html": [
       "<div>\n",
       "<style scoped>\n",
       "    .dataframe tbody tr th:only-of-type {\n",
       "        vertical-align: middle;\n",
       "    }\n",
       "\n",
       "    .dataframe tbody tr th {\n",
       "        vertical-align: top;\n",
       "    }\n",
       "\n",
       "    .dataframe thead th {\n",
       "        text-align: right;\n",
       "    }\n",
       "</style>\n",
       "<table border=\"1\" class=\"dataframe\">\n",
       "  <thead>\n",
       "    <tr style=\"text-align: right;\">\n",
       "      <th></th>\n",
       "      <th>客户id</th>\n",
       "      <th>订单号</th>\n",
       "      <th>商品编码</th>\n",
       "      <th>数量</th>\n",
       "      <th>实付金额</th>\n",
       "      <th>订单总计运费</th>\n",
       "      <th>实际配送时长</th>\n",
       "      <th>活动类型_换购</th>\n",
       "      <th>活动类型_无</th>\n",
       "      <th>活动类型_满减</th>\n",
       "      <th>活动类型_满赠</th>\n",
       "      <th>活动类型_满返</th>\n",
       "      <th>活动类型_特价</th>\n",
       "      <th>活动类型_秒杀</th>\n",
       "      <th>支付方式_微信</th>\n",
       "      <th>支付方式_支付宝</th>\n",
       "      <th>支付方式_泸州银行_乐业贷</th>\n",
       "      <th>支付方式_银行转账</th>\n",
       "    </tr>\n",
       "  </thead>\n",
       "  <tbody>\n",
       "    <tr>\n",
       "      <th>0</th>\n",
       "      <td>6970903968834916810</td>\n",
       "      <td>BL2305080755068263791</td>\n",
       "      <td>7049983581464297472</td>\n",
       "      <td>1</td>\n",
       "      <td>19.0</td>\n",
       "      <td>0.0</td>\n",
       "      <td>3.0</td>\n",
       "      <td>False</td>\n",
       "      <td>True</td>\n",
       "      <td>False</td>\n",
       "      <td>False</td>\n",
       "      <td>False</td>\n",
       "      <td>False</td>\n",
       "      <td>False</td>\n",
       "      <td>False</td>\n",
       "      <td>True</td>\n",
       "      <td>False</td>\n",
       "      <td>False</td>\n",
       "    </tr>\n",
       "    <tr>\n",
       "      <th>1</th>\n",
       "      <td>6970903968834916810</td>\n",
       "      <td>BL2305080755068263791</td>\n",
       "      <td>7042381643315150848</td>\n",
       "      <td>2</td>\n",
       "      <td>166.0</td>\n",
       "      <td>0.0</td>\n",
       "      <td>3.0</td>\n",
       "      <td>False</td>\n",
       "      <td>True</td>\n",
       "      <td>False</td>\n",
       "      <td>False</td>\n",
       "      <td>False</td>\n",
       "      <td>False</td>\n",
       "      <td>False</td>\n",
       "      <td>False</td>\n",
       "      <td>True</td>\n",
       "      <td>False</td>\n",
       "      <td>False</td>\n",
       "    </tr>\n",
       "    <tr>\n",
       "      <th>2</th>\n",
       "      <td>6970903968834916810</td>\n",
       "      <td>BL2305080755068263791</td>\n",
       "      <td>7029328967035256832</td>\n",
       "      <td>2</td>\n",
       "      <td>43.0</td>\n",
       "      <td>0.0</td>\n",
       "      <td>3.0</td>\n",
       "      <td>False</td>\n",
       "      <td>True</td>\n",
       "      <td>False</td>\n",
       "      <td>False</td>\n",
       "      <td>False</td>\n",
       "      <td>False</td>\n",
       "      <td>False</td>\n",
       "      <td>False</td>\n",
       "      <td>True</td>\n",
       "      <td>False</td>\n",
       "      <td>False</td>\n",
       "    </tr>\n",
       "    <tr>\n",
       "      <th>3</th>\n",
       "      <td>6970903968834916810</td>\n",
       "      <td>BL2305080755068263791</td>\n",
       "      <td>7028187294771314688</td>\n",
       "      <td>1</td>\n",
       "      <td>22.5</td>\n",
       "      <td>0.0</td>\n",
       "      <td>3.0</td>\n",
       "      <td>False</td>\n",
       "      <td>True</td>\n",
       "      <td>False</td>\n",
       "      <td>False</td>\n",
       "      <td>False</td>\n",
       "      <td>False</td>\n",
       "      <td>False</td>\n",
       "      <td>False</td>\n",
       "      <td>True</td>\n",
       "      <td>False</td>\n",
       "      <td>False</td>\n",
       "    </tr>\n",
       "    <tr>\n",
       "      <th>4</th>\n",
       "      <td>6970903968834916810</td>\n",
       "      <td>BL2305080755068263791</td>\n",
       "      <td>7024974707002834944</td>\n",
       "      <td>2</td>\n",
       "      <td>55.0</td>\n",
       "      <td>0.0</td>\n",
       "      <td>3.0</td>\n",
       "      <td>False</td>\n",
       "      <td>True</td>\n",
       "      <td>False</td>\n",
       "      <td>False</td>\n",
       "      <td>False</td>\n",
       "      <td>False</td>\n",
       "      <td>False</td>\n",
       "      <td>False</td>\n",
       "      <td>True</td>\n",
       "      <td>False</td>\n",
       "      <td>False</td>\n",
       "    </tr>\n",
       "  </tbody>\n",
       "</table>\n",
       "</div>"
      ],
      "text/plain": [
       "                  客户id                    订单号                 商品编码  数量   实付金额  \\\n",
       "0  6970903968834916810  BL2305080755068263791  7049983581464297472   1   19.0   \n",
       "1  6970903968834916810  BL2305080755068263791  7042381643315150848   2  166.0   \n",
       "2  6970903968834916810  BL2305080755068263791  7029328967035256832   2   43.0   \n",
       "3  6970903968834916810  BL2305080755068263791  7028187294771314688   1   22.5   \n",
       "4  6970903968834916810  BL2305080755068263791  7024974707002834944   2   55.0   \n",
       "\n",
       "   订单总计运费  实际配送时长  活动类型_换购  活动类型_无  活动类型_满减  活动类型_满赠  活动类型_满返  活动类型_特价  \\\n",
       "0     0.0     3.0    False    True    False    False    False    False   \n",
       "1     0.0     3.0    False    True    False    False    False    False   \n",
       "2     0.0     3.0    False    True    False    False    False    False   \n",
       "3     0.0     3.0    False    True    False    False    False    False   \n",
       "4     0.0     3.0    False    True    False    False    False    False   \n",
       "\n",
       "   活动类型_秒杀  支付方式_微信  支付方式_支付宝  支付方式_泸州银行_乐业贷  支付方式_银行转账  \n",
       "0    False    False      True          False      False  \n",
       "1    False    False      True          False      False  \n",
       "2    False    False      True          False      False  \n",
       "3    False    False      True          False      False  \n",
       "4    False    False      True          False      False  "
      ]
     },
     "execution_count": 190,
     "metadata": {},
     "output_type": "execute_result"
    }
   ],
   "source": [
    "order.head()"
   ]
  },
  {
   "cell_type": "markdown",
   "metadata": {},
   "source": [
    "## 实际配送时长\n",
    "\n",
    "众数填"
   ]
  },
  {
   "cell_type": "code",
   "execution_count": 191,
   "metadata": {},
   "outputs": [],
   "source": [
    "order['实际配送时长'].fillna(order['实际配送时长'].mode().item(), inplace=True)"
   ]
  },
  {
   "cell_type": "code",
   "execution_count": 192,
   "metadata": {},
   "outputs": [
    {
     "data": {
      "text/plain": [
       "客户id             0.00000%\n",
       "订单号              0.00000%\n",
       "支付方式_泸州银行_乐业贷    0.00000%\n",
       "支付方式_支付宝         0.00000%\n",
       "支付方式_微信          0.00000%\n",
       "活动类型_秒杀          0.00000%\n",
       "活动类型_特价          0.00000%\n",
       "活动类型_满返          0.00000%\n",
       "活动类型_满赠          0.00000%\n",
       "活动类型_满减          0.00000%\n",
       "活动类型_无           0.00000%\n",
       "活动类型_换购          0.00000%\n",
       "实际配送时长           0.00000%\n",
       "订单总计运费           0.00000%\n",
       "实付金额             0.00000%\n",
       "数量               0.00000%\n",
       "商品编码             0.00000%\n",
       "支付方式_银行转账        0.00000%\n",
       "dtype: object"
      ]
     },
     "execution_count": 192,
     "metadata": {},
     "output_type": "execute_result"
    }
   ],
   "source": [
    "loss_rate(order)"
   ]
  },
  {
   "cell_type": "code",
   "execution_count": 193,
   "metadata": {},
   "outputs": [
    {
     "data": {
      "text/plain": [
       "(19743863, 18)"
      ]
     },
     "execution_count": 193,
     "metadata": {},
     "output_type": "execute_result"
    }
   ],
   "source": [
    "order.shape  # 订单表还有1974万条"
   ]
  },
  {
   "cell_type": "code",
   "execution_count": 194,
   "metadata": {},
   "outputs": [],
   "source": [
    "order.to_csv('../data/orders_m1.csv', index=False, encoding='utf-8-sig')"
   ]
  },
  {
   "cell_type": "markdown",
   "metadata": {},
   "source": [
    "# 客户表-订单表数据筛选"
   ]
  },
  {
   "cell_type": "code",
   "execution_count": 195,
   "metadata": {},
   "outputs": [],
   "source": [
    "# 获取订单表中的客户id列表\n",
    "order_customer_ids = order['客户id'].unique()\n",
    "\n",
    "# 在客户表中保留存在于订单表中的客户id的样本\n",
    "cus = cus[cus['客户id'].isin(order_customer_ids)]"
   ]
  },
  {
   "cell_type": "code",
   "execution_count": 196,
   "metadata": {},
   "outputs": [
    {
     "data": {
      "text/plain": [
       "(161086, 13)"
      ]
     },
     "execution_count": 196,
     "metadata": {},
     "output_type": "execute_result"
    }
   ],
   "source": [
    "cus.shape  # 最后还有16万条客户信息"
   ]
  },
  {
   "cell_type": "code",
   "execution_count": 197,
   "metadata": {},
   "outputs": [],
   "source": [
    "cus.to_csv('../data/customers_m1.csv', index= False, encoding='utf-8-sig')"
   ]
  },
  {
   "cell_type": "markdown",
   "metadata": {},
   "source": [
    "# 订单表-商品表数据筛选"
   ]
  },
  {
   "cell_type": "code",
   "execution_count": 198,
   "metadata": {},
   "outputs": [
    {
     "data": {
      "text/html": [
       "<div>\n",
       "<style scoped>\n",
       "    .dataframe tbody tr th:only-of-type {\n",
       "        vertical-align: middle;\n",
       "    }\n",
       "\n",
       "    .dataframe tbody tr th {\n",
       "        vertical-align: top;\n",
       "    }\n",
       "\n",
       "    .dataframe thead th {\n",
       "        text-align: right;\n",
       "    }\n",
       "</style>\n",
       "<table border=\"1\" class=\"dataframe\">\n",
       "  <thead>\n",
       "    <tr style=\"text-align: right;\">\n",
       "      <th></th>\n",
       "      <th>商品编码</th>\n",
       "      <th>工业采购价</th>\n",
       "      <th>客户采购价格</th>\n",
       "      <th>建议零售价</th>\n",
       "      <th>工业毛利额</th>\n",
       "      <th>客户毛利额</th>\n",
       "      <th>客户毛利率</th>\n",
       "      <th>品牌名称_京鸿阁</th>\n",
       "      <th>品牌名称_其他</th>\n",
       "      <th>品牌名称_小葫芦宝</th>\n",
       "      <th>品牌名称_蜀汉本草</th>\n",
       "      <th>品牌名称_驰铭</th>\n",
       "      <th>医保类型_乙类</th>\n",
       "      <th>医保类型_医保</th>\n",
       "      <th>医保类型_甲类</th>\n",
       "      <th>医保类型_非医保</th>\n",
       "    </tr>\n",
       "  </thead>\n",
       "  <tbody>\n",
       "    <tr>\n",
       "      <th>0</th>\n",
       "      <td>6970878583019671591</td>\n",
       "      <td>2.30</td>\n",
       "      <td>3.69</td>\n",
       "      <td>12.8</td>\n",
       "      <td>1.39</td>\n",
       "      <td>9.11</td>\n",
       "      <td>0.711719</td>\n",
       "      <td>False</td>\n",
       "      <td>False</td>\n",
       "      <td>False</td>\n",
       "      <td>True</td>\n",
       "      <td>False</td>\n",
       "      <td>False</td>\n",
       "      <td>False</td>\n",
       "      <td>False</td>\n",
       "      <td>True</td>\n",
       "    </tr>\n",
       "    <tr>\n",
       "      <th>1</th>\n",
       "      <td>6970878583019671976</td>\n",
       "      <td>2.30</td>\n",
       "      <td>3.69</td>\n",
       "      <td>12.0</td>\n",
       "      <td>1.39</td>\n",
       "      <td>8.31</td>\n",
       "      <td>0.692500</td>\n",
       "      <td>False</td>\n",
       "      <td>False</td>\n",
       "      <td>False</td>\n",
       "      <td>True</td>\n",
       "      <td>False</td>\n",
       "      <td>False</td>\n",
       "      <td>False</td>\n",
       "      <td>False</td>\n",
       "      <td>True</td>\n",
       "    </tr>\n",
       "    <tr>\n",
       "      <th>2</th>\n",
       "      <td>6970878583023866125</td>\n",
       "      <td>2.30</td>\n",
       "      <td>3.69</td>\n",
       "      <td>12.8</td>\n",
       "      <td>1.39</td>\n",
       "      <td>9.11</td>\n",
       "      <td>0.711719</td>\n",
       "      <td>False</td>\n",
       "      <td>False</td>\n",
       "      <td>False</td>\n",
       "      <td>True</td>\n",
       "      <td>False</td>\n",
       "      <td>False</td>\n",
       "      <td>False</td>\n",
       "      <td>False</td>\n",
       "      <td>True</td>\n",
       "    </tr>\n",
       "    <tr>\n",
       "      <th>3</th>\n",
       "      <td>6970878583019671697</td>\n",
       "      <td>0.01</td>\n",
       "      <td>12.80</td>\n",
       "      <td>58.0</td>\n",
       "      <td>12.79</td>\n",
       "      <td>45.20</td>\n",
       "      <td>0.779310</td>\n",
       "      <td>False</td>\n",
       "      <td>True</td>\n",
       "      <td>False</td>\n",
       "      <td>False</td>\n",
       "      <td>False</td>\n",
       "      <td>False</td>\n",
       "      <td>False</td>\n",
       "      <td>False</td>\n",
       "      <td>True</td>\n",
       "    </tr>\n",
       "    <tr>\n",
       "      <th>4</th>\n",
       "      <td>6970878583019672109</td>\n",
       "      <td>22.00</td>\n",
       "      <td>21.90</td>\n",
       "      <td>98.0</td>\n",
       "      <td>-0.10</td>\n",
       "      <td>76.10</td>\n",
       "      <td>0.776531</td>\n",
       "      <td>False</td>\n",
       "      <td>True</td>\n",
       "      <td>False</td>\n",
       "      <td>False</td>\n",
       "      <td>False</td>\n",
       "      <td>False</td>\n",
       "      <td>False</td>\n",
       "      <td>False</td>\n",
       "      <td>True</td>\n",
       "    </tr>\n",
       "  </tbody>\n",
       "</table>\n",
       "</div>"
      ],
      "text/plain": [
       "                  商品编码  工业采购价  客户采购价格  建议零售价  工业毛利额  客户毛利额     客户毛利率  \\\n",
       "0  6970878583019671591   2.30    3.69   12.8   1.39   9.11  0.711719   \n",
       "1  6970878583019671976   2.30    3.69   12.0   1.39   8.31  0.692500   \n",
       "2  6970878583023866125   2.30    3.69   12.8   1.39   9.11  0.711719   \n",
       "3  6970878583019671697   0.01   12.80   58.0  12.79  45.20  0.779310   \n",
       "4  6970878583019672109  22.00   21.90   98.0  -0.10  76.10  0.776531   \n",
       "\n",
       "   品牌名称_京鸿阁  品牌名称_其他  品牌名称_小葫芦宝  品牌名称_蜀汉本草  品牌名称_驰铭  医保类型_乙类  医保类型_医保  \\\n",
       "0     False    False      False       True    False    False    False   \n",
       "1     False    False      False       True    False    False    False   \n",
       "2     False    False      False       True    False    False    False   \n",
       "3     False     True      False      False    False    False    False   \n",
       "4     False     True      False      False    False    False    False   \n",
       "\n",
       "   医保类型_甲类  医保类型_非医保  \n",
       "0    False      True  \n",
       "1    False      True  \n",
       "2    False      True  \n",
       "3    False      True  \n",
       "4    False      True  "
      ]
     },
     "execution_count": 198,
     "metadata": {},
     "output_type": "execute_result"
    }
   ],
   "source": [
    "com.head()"
   ]
  },
  {
   "cell_type": "code",
   "execution_count": 199,
   "metadata": {},
   "outputs": [],
   "source": [
    "# 获取订单表中的客户id列表\n",
    "order_customer_ids = order['商品编码'].unique()\n",
    "\n",
    "# 在客户表中保留存在于订单表中的客户id的样本\n",
    "com = com[com['商品编码'].isin(order_customer_ids)]"
   ]
  },
  {
   "cell_type": "code",
   "execution_count": 200,
   "metadata": {},
   "outputs": [
    {
     "data": {
      "text/plain": [
       "(2711, 16)"
      ]
     },
     "execution_count": 200,
     "metadata": {},
     "output_type": "execute_result"
    }
   ],
   "source": [
    "com.shape  # 还剩2711个商品信息"
   ]
  },
  {
   "cell_type": "code",
   "execution_count": 201,
   "metadata": {},
   "outputs": [],
   "source": [
    "com.to_csv('../data/commodity_m1.csv', index=False, encoding='utf-8-sig')"
   ]
  },
  {
   "cell_type": "markdown",
   "metadata": {},
   "source": [
    "# 客户表-订单表-商品表 综合筛选样本"
   ]
  },
  {
   "cell_type": "code",
   "execution_count": 202,
   "metadata": {},
   "outputs": [],
   "source": [
    "# 假设 cus、order 和 com 是三个 DataFrame，分别代表客户表、订单表和商品表\n",
    "\n",
    "# 找到在三个表中都存在的客户ID和商品编码\n",
    "common_customer_ids = set(cus['客户id']).intersection(set(order['客户id']))\n",
    "common_product_codes = set(com['商品编码']).intersection(set(order['商品编码']))\n",
    "\n",
    "# 在每个表中过滤出只存在于所有三个表中的样本\n",
    "cus_common = cus[cus['客户id'].isin(common_customer_ids)]\n",
    "order_common = order[order['客户id'].isin(common_customer_ids) & order['商品编码'].isin(common_product_codes)]\n",
    "com_common = com[com['商品编码'].isin(common_product_codes)]"
   ]
  },
  {
   "cell_type": "code",
   "execution_count": 203,
   "metadata": {},
   "outputs": [],
   "source": [
    "cus_common.to_csv('../data/customers_m1.csv', index=False, encoding='utf-8-sig')\n",
    "order_common.to_csv('../data/orders_m1.csv', index=False, encoding='utf-8-sig')\n",
    "com_common.to_csv('../data/commodity_m1.csv', index=False, encoding='utf-8-sig')"
   ]
  },
  {
   "cell_type": "markdown",
   "metadata": {},
   "source": [
    "# 构建图数据"
   ]
  },
  {
   "cell_type": "code",
   "execution_count": 204,
   "metadata": {},
   "outputs": [],
   "source": [
    "import torch\n",
    "from torch_geometric.data import HeteroData\n",
    "import torch_geometric.transforms as T\n",
    "import pandas as pd\n",
    "from tqdm import tqdm\n",
    "import torch_geometric.utils as pyg_utils\n",
    "import matplotlib.pyplot as plt"
   ]
  },
  {
   "cell_type": "code",
   "execution_count": 205,
   "metadata": {},
   "outputs": [],
   "source": [
    "cus = pd.read_csv('../data/customers_m1.csv')\n",
    "com = pd.read_csv('../data/commodity_m1.csv')\n",
    "order = pd.read_csv('../data/orders_m1.csv')"
   ]
  },
  {
   "cell_type": "code",
   "execution_count": 206,
   "metadata": {},
   "outputs": [
    {
     "data": {
      "text/html": [
       "<div>\n",
       "<style scoped>\n",
       "    .dataframe tbody tr th:only-of-type {\n",
       "        vertical-align: middle;\n",
       "    }\n",
       "\n",
       "    .dataframe tbody tr th {\n",
       "        vertical-align: top;\n",
       "    }\n",
       "\n",
       "    .dataframe thead th {\n",
       "        text-align: right;\n",
       "    }\n",
       "</style>\n",
       "<table border=\"1\" class=\"dataframe\">\n",
       "  <thead>\n",
       "    <tr style=\"text-align: right;\">\n",
       "      <th></th>\n",
       "      <th>客户id</th>\n",
       "      <th>位置(新增)</th>\n",
       "      <th>是否医保店</th>\n",
       "      <th>客户等级</th>\n",
       "      <th>客户店员数</th>\n",
       "      <th>是否有过投诉</th>\n",
       "      <th>连锁标记(更新2)</th>\n",
       "      <th>注册时长</th>\n",
       "      <th>客户类型_医院</th>\n",
       "      <th>客户类型_单体药店</th>\n",
       "      <th>客户类型_卫生服务站</th>\n",
       "      <th>客户类型_诊所</th>\n",
       "      <th>客户类型_连锁药店</th>\n",
       "    </tr>\n",
       "  </thead>\n",
       "  <tbody>\n",
       "    <tr>\n",
       "      <th>0</th>\n",
       "      <td>7081090359123820544</td>\n",
       "      <td>3</td>\n",
       "      <td>1</td>\n",
       "      <td>7</td>\n",
       "      <td>2.0</td>\n",
       "      <td>0</td>\n",
       "      <td>2</td>\n",
       "      <td>181</td>\n",
       "      <td>False</td>\n",
       "      <td>False</td>\n",
       "      <td>False</td>\n",
       "      <td>True</td>\n",
       "      <td>False</td>\n",
       "    </tr>\n",
       "    <tr>\n",
       "      <th>1</th>\n",
       "      <td>6970904116784796290</td>\n",
       "      <td>2</td>\n",
       "      <td>1</td>\n",
       "      <td>6</td>\n",
       "      <td>3.0</td>\n",
       "      <td>1</td>\n",
       "      <td>2</td>\n",
       "      <td>1032</td>\n",
       "      <td>False</td>\n",
       "      <td>False</td>\n",
       "      <td>True</td>\n",
       "      <td>False</td>\n",
       "      <td>False</td>\n",
       "    </tr>\n",
       "  </tbody>\n",
       "</table>\n",
       "</div>"
      ],
      "text/plain": [
       "                  客户id  位置(新增)  是否医保店  客户等级  客户店员数  是否有过投诉  连锁标记(更新2)  注册时长  \\\n",
       "0  7081090359123820544       3      1     7    2.0       0          2   181   \n",
       "1  6970904116784796290       2      1     6    3.0       1          2  1032   \n",
       "\n",
       "   客户类型_医院  客户类型_单体药店  客户类型_卫生服务站  客户类型_诊所  客户类型_连锁药店  \n",
       "0    False      False       False     True      False  \n",
       "1    False      False        True    False      False  "
      ]
     },
     "metadata": {},
     "output_type": "display_data"
    },
    {
     "data": {
      "text/html": [
       "<div>\n",
       "<style scoped>\n",
       "    .dataframe tbody tr th:only-of-type {\n",
       "        vertical-align: middle;\n",
       "    }\n",
       "\n",
       "    .dataframe tbody tr th {\n",
       "        vertical-align: top;\n",
       "    }\n",
       "\n",
       "    .dataframe thead th {\n",
       "        text-align: right;\n",
       "    }\n",
       "</style>\n",
       "<table border=\"1\" class=\"dataframe\">\n",
       "  <thead>\n",
       "    <tr style=\"text-align: right;\">\n",
       "      <th></th>\n",
       "      <th>商品编码</th>\n",
       "      <th>工业采购价</th>\n",
       "      <th>客户采购价格</th>\n",
       "      <th>建议零售价</th>\n",
       "      <th>工业毛利额</th>\n",
       "      <th>客户毛利额</th>\n",
       "      <th>客户毛利率</th>\n",
       "      <th>品牌名称_京鸿阁</th>\n",
       "      <th>品牌名称_其他</th>\n",
       "      <th>品牌名称_小葫芦宝</th>\n",
       "      <th>品牌名称_蜀汉本草</th>\n",
       "      <th>品牌名称_驰铭</th>\n",
       "      <th>医保类型_乙类</th>\n",
       "      <th>医保类型_医保</th>\n",
       "      <th>医保类型_甲类</th>\n",
       "      <th>医保类型_非医保</th>\n",
       "    </tr>\n",
       "  </thead>\n",
       "  <tbody>\n",
       "    <tr>\n",
       "      <th>0</th>\n",
       "      <td>6970878583019671591</td>\n",
       "      <td>2.3</td>\n",
       "      <td>3.69</td>\n",
       "      <td>12.8</td>\n",
       "      <td>1.39</td>\n",
       "      <td>9.11</td>\n",
       "      <td>0.711719</td>\n",
       "      <td>False</td>\n",
       "      <td>False</td>\n",
       "      <td>False</td>\n",
       "      <td>True</td>\n",
       "      <td>False</td>\n",
       "      <td>False</td>\n",
       "      <td>False</td>\n",
       "      <td>False</td>\n",
       "      <td>True</td>\n",
       "    </tr>\n",
       "    <tr>\n",
       "      <th>1</th>\n",
       "      <td>6970878583019671976</td>\n",
       "      <td>2.3</td>\n",
       "      <td>3.69</td>\n",
       "      <td>12.0</td>\n",
       "      <td>1.39</td>\n",
       "      <td>8.31</td>\n",
       "      <td>0.692500</td>\n",
       "      <td>False</td>\n",
       "      <td>False</td>\n",
       "      <td>False</td>\n",
       "      <td>True</td>\n",
       "      <td>False</td>\n",
       "      <td>False</td>\n",
       "      <td>False</td>\n",
       "      <td>False</td>\n",
       "      <td>True</td>\n",
       "    </tr>\n",
       "  </tbody>\n",
       "</table>\n",
       "</div>"
      ],
      "text/plain": [
       "                  商品编码  工业采购价  客户采购价格  建议零售价  工业毛利额  客户毛利额     客户毛利率  \\\n",
       "0  6970878583019671591    2.3    3.69   12.8   1.39   9.11  0.711719   \n",
       "1  6970878583019671976    2.3    3.69   12.0   1.39   8.31  0.692500   \n",
       "\n",
       "   品牌名称_京鸿阁  品牌名称_其他  品牌名称_小葫芦宝  品牌名称_蜀汉本草  品牌名称_驰铭  医保类型_乙类  医保类型_医保  \\\n",
       "0     False    False      False       True    False    False    False   \n",
       "1     False    False      False       True    False    False    False   \n",
       "\n",
       "   医保类型_甲类  医保类型_非医保  \n",
       "0    False      True  \n",
       "1    False      True  "
      ]
     },
     "metadata": {},
     "output_type": "display_data"
    },
    {
     "data": {
      "text/html": [
       "<div>\n",
       "<style scoped>\n",
       "    .dataframe tbody tr th:only-of-type {\n",
       "        vertical-align: middle;\n",
       "    }\n",
       "\n",
       "    .dataframe tbody tr th {\n",
       "        vertical-align: top;\n",
       "    }\n",
       "\n",
       "    .dataframe thead th {\n",
       "        text-align: right;\n",
       "    }\n",
       "</style>\n",
       "<table border=\"1\" class=\"dataframe\">\n",
       "  <thead>\n",
       "    <tr style=\"text-align: right;\">\n",
       "      <th></th>\n",
       "      <th>客户id</th>\n",
       "      <th>订单号</th>\n",
       "      <th>商品编码</th>\n",
       "      <th>数量</th>\n",
       "      <th>实付金额</th>\n",
       "      <th>订单总计运费</th>\n",
       "      <th>实际配送时长</th>\n",
       "      <th>活动类型_换购</th>\n",
       "      <th>活动类型_无</th>\n",
       "      <th>活动类型_满减</th>\n",
       "      <th>活动类型_满赠</th>\n",
       "      <th>活动类型_满返</th>\n",
       "      <th>活动类型_特价</th>\n",
       "      <th>活动类型_秒杀</th>\n",
       "      <th>支付方式_微信</th>\n",
       "      <th>支付方式_支付宝</th>\n",
       "      <th>支付方式_泸州银行_乐业贷</th>\n",
       "      <th>支付方式_银行转账</th>\n",
       "    </tr>\n",
       "  </thead>\n",
       "  <tbody>\n",
       "    <tr>\n",
       "      <th>0</th>\n",
       "      <td>6970903968834916810</td>\n",
       "      <td>BL2305080755068263791</td>\n",
       "      <td>7049983581464297472</td>\n",
       "      <td>1</td>\n",
       "      <td>19.0</td>\n",
       "      <td>0.0</td>\n",
       "      <td>3.0</td>\n",
       "      <td>False</td>\n",
       "      <td>True</td>\n",
       "      <td>False</td>\n",
       "      <td>False</td>\n",
       "      <td>False</td>\n",
       "      <td>False</td>\n",
       "      <td>False</td>\n",
       "      <td>False</td>\n",
       "      <td>True</td>\n",
       "      <td>False</td>\n",
       "      <td>False</td>\n",
       "    </tr>\n",
       "    <tr>\n",
       "      <th>1</th>\n",
       "      <td>6970903968834916810</td>\n",
       "      <td>BL2305080755068263791</td>\n",
       "      <td>7042381643315150848</td>\n",
       "      <td>2</td>\n",
       "      <td>166.0</td>\n",
       "      <td>0.0</td>\n",
       "      <td>3.0</td>\n",
       "      <td>False</td>\n",
       "      <td>True</td>\n",
       "      <td>False</td>\n",
       "      <td>False</td>\n",
       "      <td>False</td>\n",
       "      <td>False</td>\n",
       "      <td>False</td>\n",
       "      <td>False</td>\n",
       "      <td>True</td>\n",
       "      <td>False</td>\n",
       "      <td>False</td>\n",
       "    </tr>\n",
       "  </tbody>\n",
       "</table>\n",
       "</div>"
      ],
      "text/plain": [
       "                  客户id                    订单号                 商品编码  数量   实付金额  \\\n",
       "0  6970903968834916810  BL2305080755068263791  7049983581464297472   1   19.0   \n",
       "1  6970903968834916810  BL2305080755068263791  7042381643315150848   2  166.0   \n",
       "\n",
       "   订单总计运费  实际配送时长  活动类型_换购  活动类型_无  活动类型_满减  活动类型_满赠  活动类型_满返  活动类型_特价  \\\n",
       "0     0.0     3.0    False    True    False    False    False    False   \n",
       "1     0.0     3.0    False    True    False    False    False    False   \n",
       "\n",
       "   活动类型_秒杀  支付方式_微信  支付方式_支付宝  支付方式_泸州银行_乐业贷  支付方式_银行转账  \n",
       "0    False    False      True          False      False  \n",
       "1    False    False      True          False      False  "
      ]
     },
     "metadata": {},
     "output_type": "display_data"
    }
   ],
   "source": [
    "display(cus.iloc[:2])\n",
    "display(com.iloc[:2])\n",
    "display(order.iloc[:2])"
   ]
  },
  {
   "cell_type": "code",
   "execution_count": 207,
   "metadata": {},
   "outputs": [],
   "source": [
    "# 构建特征\n",
    "cus_features = torch.tensor(cus.drop(columns=['客户id']).astype(float).astype(float).values, dtype=torch.float)\n",
    "com_features = torch.tensor(com.drop(columns=['商品编码']).astype(float).astype(float).values, dtype=torch.float)\n",
    "edge_features = torch.tensor(order.drop(columns=['订单号', '客户id', '商品编码']).astype(float).values, dtype=torch.float)\n",
    "\n",
    "# 构建客户节点映射字典\n",
    "cus_map = {id: i for i, id in enumerate(cus['客户id'].unique())}\n",
    "\n",
    "# 构建商品节点映射字典 \n",
    "com_map = {id: i for i, id in enumerate(com['商品编码'].unique())}\n",
    "\n",
    "# 重新编码订单边索引\n",
    "order_src, order_dst = [], []\n",
    "for cus_id, prod_id in zip(order['客户id'], order['商品编码']):\n",
    "    if cus_id in cus_map and prod_id in com_map:\n",
    "        order_src.append(cus_map[cus_id])\n",
    "        order_dst.append(com_map[prod_id])\n",
    "\n",
    "order_src = torch.tensor(order_src)\n",
    "order_dst = torch.tensor(order_dst)\n",
    "\n",
    "data = HeteroData()\n",
    "\n",
    "# 添加节点\n",
    "data['customer'].x = cus_features\n",
    "data['customer'].num_nodes = len(cus_map)\n",
    "data['product'].x = com_features \n",
    "data['product'].num_nodes = len(com_map)\n",
    "\n",
    "# 添加边\n",
    "data['customer', 'order', 'product'].edge_index = torch.stack([order_src, order_dst])\n",
    "data['customer', 'order', 'product'].edge_attr = edge_features\n",
    "\n",
    "data = T.ToUndirected()(data)  # 转无向图，原本边方向是客户到产品，现在改成双向，否则商品信息无法到客户"
   ]
  },
  {
   "cell_type": "code",
   "execution_count": 208,
   "metadata": {},
   "outputs": [],
   "source": [
    "torch.save(data, '../data/hetero_graph_data.pt')"
   ]
  },
  {
   "cell_type": "code",
   "execution_count": 2,
   "metadata": {},
   "outputs": [],
   "source": [
    "data = torch.load('../data/hetero_graph_data.pt')"
   ]
  },
  {
   "cell_type": "code",
   "execution_count": 210,
   "metadata": {},
   "outputs": [
    {
     "data": {
      "text/plain": [
       "HeteroData(\n",
       "  customer={\n",
       "    x=[161086, 12],\n",
       "    num_nodes=161086,\n",
       "  },\n",
       "  product={\n",
       "    x=[2711, 15],\n",
       "    num_nodes=2711,\n",
       "  },\n",
       "  (customer, order, product)={\n",
       "    edge_index=[2, 18160895],\n",
       "    edge_attr=[18160895, 15],\n",
       "  },\n",
       "  (product, rev_order, customer)={\n",
       "    edge_index=[2, 18160895],\n",
       "    edge_attr=[18160895, 15],\n",
       "  }\n",
       ")"
      ]
     },
     "execution_count": 210,
     "metadata": {},
     "output_type": "execute_result"
    }
   ],
   "source": [
    "data"
   ]
  },
  {
   "cell_type": "markdown",
   "metadata": {},
   "source": [
    "**还有 161086个客户样本，2711个商品样本，18160895条双向边连接**"
   ]
  },
  {
   "cell_type": "code",
   "execution_count": 4,
   "metadata": {},
   "outputs": [
    {
     "data": {
      "text/plain": [
       "True"
      ]
     },
     "execution_count": 4,
     "metadata": {},
     "output_type": "execute_result"
    }
   ],
   "source": [
    "data.validate()"
   ]
  },
  {
   "cell_type": "code",
   "execution_count": 5,
   "metadata": {},
   "outputs": [
    {
     "data": {
      "text/plain": [
       "True"
      ]
     },
     "execution_count": 5,
     "metadata": {},
     "output_type": "execute_result"
    }
   ],
   "source": [
    "data.is_undirected()  # 是否无向图"
   ]
  },
  {
   "cell_type": "code",
   "execution_count": null,
   "metadata": {},
   "outputs": [],
   "source": []
  }
 ],
 "metadata": {
  "kernelspec": {
   "display_name": "userp",
   "language": "python",
   "name": "python3"
  },
  "language_info": {
   "codemirror_mode": {
    "name": "ipython",
    "version": 3
   },
   "file_extension": ".py",
   "mimetype": "text/x-python",
   "name": "python",
   "nbconvert_exporter": "python",
   "pygments_lexer": "ipython3",
   "version": "3.11.6"
  }
 },
 "nbformat": 4,
 "nbformat_minor": 2
}
