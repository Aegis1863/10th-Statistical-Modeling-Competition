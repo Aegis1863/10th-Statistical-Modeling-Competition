{
 "cells": [
  {
   "cell_type": "code",
   "execution_count": 1,
   "metadata": {
    "notebookRunGroups": {
     "groupValue": "1"
    }
   },
   "outputs": [
    {
     "data": {
      "text/plain": [
       "0"
      ]
     },
     "execution_count": 1,
     "metadata": {},
     "output_type": "execute_result"
    }
   ],
   "source": [
    "import argparse\n",
    "import os\n",
    "import torch\n",
    "import torch.nn as nn\n",
    "from sklearn.metrics import roc_auc_score, average_precision_score\n",
    "import torch_geometric.transforms as T\n",
    "from torch_geometric.utils import negative_sampling\n",
    "from torch_geometric.nn import RGCNConv\n",
    "from torch_geometric.loader import DataLoader, ClusterData, ClusterLoader\n",
    "import pandas as pd\n",
    "import numpy as np\n",
    "import torch\n",
    "import torch.nn.functional as F\n",
    "from tqdm import tqdm, trange\n",
    "import gc\n",
    "import warnings\n",
    "warnings.filterwarnings('ignore')\n",
    "\n",
    "device = 'cuda' if torch.cuda.is_available() else 'cpu'\n",
    "\n",
    "gc.collect()"
   ]
  },
  {
   "cell_type": "code",
   "execution_count": 2,
   "metadata": {
    "notebookRunGroups": {
     "groupValue": "1"
    }
   },
   "outputs": [],
   "source": [
    "hetero_data = torch.load('data/model/hetero_graph_data.pt')"
   ]
  },
  {
   "cell_type": "code",
   "execution_count": 3,
   "metadata": {
    "notebookRunGroups": {
     "groupValue": "1"
    }
   },
   "outputs": [],
   "source": [
    "class RelGraphEmbed(nn.Module):\n",
    "    r\"\"\"Embedding layer for featureless heterograph.\"\"\"\n",
    "\n",
    "    def __init__(self,\n",
    "                 g,\n",
    "                 embed_size,\n",
    "                 embed_name='embed',\n",
    "                 activation=None,\n",
    "                 dropout=0.0):\n",
    "        super(RelGraphEmbed, self).__init__()\n",
    "        self.g = g\n",
    "        self.embed_size = embed_size\n",
    "        self.embed_name = embed_name\n",
    "        self.activation = activation\n",
    "        self.dropout = nn.Dropout(dropout)\n",
    "\n",
    "        # create weight embeddings for each node for each relation\n",
    "        self.embeds = nn.ParameterDict()\n",
    "        for ntype in g.node_types:\n",
    "            embed = nn.Parameter(torch.Tensor(\n",
    "                g[ntype].x.shape[0], self.embed_size))\n",
    "            nn.init.xavier_uniform_(embed, gain=nn.init.calculate_gain('relu'))\n",
    "            self.embeds[ntype] = embed\n",
    "\n",
    "    def forward(self):\n",
    "        print('采用可训练随机编码节点特征...')\n",
    "        return self.embeds"
   ]
  },
  {
   "cell_type": "code",
   "execution_count": 4,
   "metadata": {
    "notebookRunGroups": {
     "groupValue": "1"
    }
   },
   "outputs": [],
   "source": [
    "def transform_data(data, num_parts=128, batch_size=32, to_homo=True):\n",
    "    '''_summary_\n",
    "\n",
    "    Parameters\n",
    "    ----------\n",
    "    data : pyg 图数据\n",
    "    num_parts : 邻接矩阵分割块数，默认128\n",
    "    batch_size : 批量数，默认32\n",
    "\n",
    "    此情况下train_loader包含4（=128/32）块\n",
    "\n",
    "    Returns\n",
    "    -------\n",
    "    train_loader, val_data, test_data\n",
    "    '''\n",
    "    print('>>> 正在分割数据集并分批...')\n",
    "    if to_homo == True:\n",
    "        data = data.to_homogeneous()\n",
    "    train_data, val_data, test_data = T.RandomLinkSplit(\n",
    "        num_val=0.2,\n",
    "        num_test=0.2,\n",
    "        is_undirected=True,\n",
    "        add_negative_train_samples=True,\n",
    "        disjoint_train_ratio=0,\n",
    "        edge_types=hetero_data.metadata()[1][:int(\n",
    "            0.5*len(hetero_data.metadata()[1]))],\n",
    "        rev_edge_types=hetero_data.metadata()[1][int(\n",
    "            0.5*len(hetero_data.metadata()[1])):]\n",
    "    )(data)\n",
    "    # 训练集太大，分批量\n",
    "    tmp_cls = ClusterData(train_data, num_parts)\n",
    "    train_loader = ClusterLoader(tmp_cls, batch_size=batch_size)\n",
    "    print('>>> 数据准备完毕...')\n",
    "    return train_loader, val_data, test_data"
   ]
  },
  {
   "cell_type": "code",
   "execution_count": 5,
   "metadata": {
    "notebookRunGroups": {
     "groupValue": "1"
    }
   },
   "outputs": [],
   "source": [
    "def negative_sample(data):\n",
    "    # 从训练集中采样与正边相同数量的负边\n",
    "    neg_edge_index = negative_sampling(\n",
    "        edge_index=data.edge_index, num_nodes=data.num_nodes,\n",
    "        num_neg_samples=data.edge_label_index.size(1), method='sparse')\n",
    "    # print(neg_edge_index.size(1))   # 3642条负边，即每次采样与训练集中正边数量一致的负边\n",
    "    edge_label_index = torch.cat(\n",
    "        [data.edge_label_index, neg_edge_index],\n",
    "        dim=-1,\n",
    "    )\n",
    "    edge_label = torch.cat([\n",
    "        data.edge_label,\n",
    "        data.edge_label.new_zeros(neg_edge_index.size(1))\n",
    "    ], dim=0)\n",
    "\n",
    "    return edge_label, edge_label_index"
   ]
  },
  {
   "cell_type": "code",
   "execution_count": 6,
   "metadata": {
    "notebookRunGroups": {
     "groupValue": "1"
    }
   },
   "outputs": [],
   "source": [
    "class RGCN_LP(nn.Module):\n",
    "    def __init__(self, in_channels, hidden_channels, out_channels, \n",
    "                 num_relations, node_types, init_sizes, dropout=0.5, reg_lambda=0.01):\n",
    "        super(RGCN_LP, self).__init__()\n",
    "        self.dropout = dropout\n",
    "        self.reg_lambda = reg_lambda\n",
    "        self.node_types = node_types\n",
    "        self.conv1 = RGCNConv(in_channels, hidden_channels,\n",
    "                              num_relations=num_relations)\n",
    "        self.conv2 = RGCNConv(hidden_channels, out_channels,\n",
    "                              num_relations=num_relations)\n",
    "        self.lins = torch.nn.ModuleList()\n",
    "        for i in range(len(node_types)):\n",
    "            lin = nn.Linear(init_sizes[i], in_channels)\n",
    "            self.lins.append(lin)\n",
    "\n",
    "        self.fc = nn.Sequential(\n",
    "            nn.Linear(2 * out_channels, 1),\n",
    "            nn.Sigmoid()\n",
    "        )\n",
    "\n",
    "    def trans_dimensions(self, xs):\n",
    "        res = []\n",
    "        for x, lin in zip(xs, self.lins):\n",
    "            res.append(lin(x))\n",
    "        return torch.cat(res, dim=0)\n",
    "\n",
    "    def encode(self, data):\n",
    "        x = [data.x[data.node_type == node_type] for node_type in self.node_types]\n",
    "        x = self.trans_dimensions(x)\n",
    "        edge_index, edge_type = data.edge_index, data.edge_type\n",
    "        x = self.conv1(x, edge_index, edge_type)\n",
    "        x = F.relu(x)\n",
    "        x = F.dropout(x, p=self.dropout, training=self.training)\n",
    "        x = self.conv2(x, edge_index, edge_type)\n",
    "        return x\n",
    "\n",
    "    def decode(self, z, index):\n",
    "        # print(z.shape)\n",
    "        src = z[index[0]]\n",
    "        dst = z[index[1]]\n",
    "        x = torch.cat([src, dst], dim=-1)\n",
    "        x = self.fc(x)\n",
    "        return x\n",
    "\n",
    "    def forward(self, data, index):\n",
    "        z = self.encode(data)\n",
    "        z = self.decode(z, index)\n",
    "        return z\n",
    "    \n",
    "    def l2_regularization(self):\n",
    "        l2_reg = torch.tensor(0.0, device=device)\n",
    "        for param in self.parameters():\n",
    "            l2_reg += torch.norm(param, p=2)\n",
    "        return self.reg_lambda * l2_reg"
   ]
  },
  {
   "cell_type": "code",
   "execution_count": 7,
   "metadata": {
    "notebookRunGroups": {
     "groupValue": "1"
    }
   },
   "outputs": [],
   "source": [
    "def get_metrics(out, label):\n",
    "    auc = roc_auc_score(label.cpu().numpy(), out.cpu().numpy())\n",
    "    ap = average_precision_score(label.cpu().numpy(), out.cpu().numpy())\n",
    "    return auc, ap"
   ]
  },
  {
   "cell_type": "code",
   "execution_count": 20,
   "metadata": {
    "notebookRunGroups": {
     "groupValue": "1"
    }
   },
   "outputs": [],
   "source": [
    "def train(data, random_feat=False, random_feat_dim=32, in_feats=16,\n",
    "          hidden_feats=32, out_channels=16, epochs=40, dropout=0, reg=0.03):\n",
    "    if random_feat:\n",
    "        print('>>> 正在为节点分配可训练随机编码...')\n",
    "        trainable_data = RelGraphEmbed(data, random_feat_dim)\n",
    "        for node_type in data.node_types:\n",
    "            data[node_type].x = trainable_data()[node_type]\n",
    "        print('>>> 编码分配完毕！')\n",
    "    if os.path.exists('data/model/splited_data.pt'):\n",
    "        print('读取已有数据...')\n",
    "        train_loader, val_data, test_data = torch.load(\n",
    "            'data/model/splited_data.pt').dataset\n",
    "    else:\n",
    "        train_loader, val_data, test_data = transform_data(data, to_homo=True)\n",
    "        torch.save(DataLoader([train_loader, val_data,\n",
    "                   test_data]), 'data/model/splited_data.pt')\n",
    "    tmp_train_data = next(iter(train_loader))\n",
    "    init_sizes = [tmp_train_data.x[tmp_train_data.node_type==node_type].shape[-1]\n",
    "                  for node_type in tmp_train_data.node_type.unique()]\n",
    "    num_relations = len(data.edge_types)  # 边关系类型，变同质图之后只有两种类型\n",
    "    new_node_types = val_data.node_type.unique()  # 变同质图后，会被标记为0（客户）和1（商品）\n",
    "    model = RGCN_LP(in_feats, hidden_feats, out_channels, num_relations,\n",
    "                    new_node_types, init_sizes, dropout, reg).to(device)\n",
    "    optimizer = torch.optim.Adam(params=model.parameters(), lr=0.01)\n",
    "    criterion = torch.nn.BCELoss().to(device)\n",
    "    summary = {'train_loss': [], 'val_loss': [],\n",
    "               'test_auc': [], 'test_avg_pre': []}\n",
    "    # epoch_count = 0\n",
    "    model.train()  # 设定模型为可训练\n",
    "    val_data.to(device)\n",
    "    test_data.to(device)\n",
    "    print('开始训练...')\n",
    "    with tqdm(total=epochs, leave=False,) as pbar:\n",
    "        for epoch in range(epochs):\n",
    "            for train_batch in train_loader:\n",
    "                train_batch.to(device)\n",
    "                optimizer.zero_grad()\n",
    "                # edge_label, edge_label_index = negative_sample(train_batch) 直接在边分割时负采样了\n",
    "                out = model(train_batch, train_batch.edge_index).view(-1)\n",
    "                loss = criterion(out, train_batch.edge_label) + \\\n",
    "                    model.l2_regularization()\n",
    "                loss.backward()\n",
    "                optimizer.step()\n",
    "            # validation\n",
    "            val_loss, test_auc, test_ap = test(model, val_data, test_data)\n",
    "            summary['train_loss'].append(loss.item())\n",
    "            summary['val_loss'].append(val_loss)\n",
    "            summary['test_auc'].append(test_auc)\n",
    "            summary['test_avg_pre'].append(test_ap)\n",
    "            pbar.set_postfix({'val_loss/min': f'{round(loss.item(), 2)}', \n",
    "                              'test_auc': test_auc, \n",
    "                              'test_ap': test_ap})\n",
    "            pbar.update(1)\n",
    "    print('训练完毕，保存数据...')\n",
    "    summary = pd.DataFrame(summary)\n",
    "    summary.to_csv('data/result/pyg_link_pre.csv',\n",
    "                   index=False, encoding='utf-8-sig')\n",
    "    return summary\n",
    "\n",
    "\n",
    "@torch.no_grad()\n",
    "def test(model, val_data, test_data):\n",
    "    model.eval()  # 设定模型不可训练\n",
    "    # cal val loss\n",
    "    criterion = torch.nn.BCELoss().to(device)\n",
    "    out = model(val_data, val_data.edge_label_index).view(-1)\n",
    "    val_loss = criterion(out, val_data.edge_label)\n",
    "    # cal metrics\n",
    "    out = model(test_data, test_data.edge_label_index).view(-1)\n",
    "    model.train()\n",
    "\n",
    "    auc, ap = get_metrics(out, test_data.edge_label)\n",
    "\n",
    "    return val_loss.item(), auc, ap"
   ]
  },
  {
   "cell_type": "code",
   "execution_count": 21,
   "metadata": {
    "notebookRunGroups": {
     "groupValue": "1"
    }
   },
   "outputs": [],
   "source": [
    "# 定义参数\n",
    "in_feats = 16  # 直接指定即可，RGCN中有一个线性层转化输出统一到此维度\n",
    "hidden_feats = 32  # 隐藏层，直接指定即可\n",
    "out_channels = 16  # 输出层，直接指定，最终输出的解码器的输入维度是 2*out_channels"
   ]
  },
  {
   "cell_type": "code",
   "execution_count": 22,
   "metadata": {},
   "outputs": [
    {
     "name": "stdout",
     "output_type": "stream",
     "text": [
      "读取已有数据...\n",
      "开始训练...\n"
     ]
    },
    {
     "name": "stderr",
     "output_type": "stream",
     "text": [
      "                                                                                                      \r"
     ]
    }
   ],
   "source": [
    "summary = train(hetero_data, False, in_feats, hidden_feats, out_channels, epochs=10)"
   ]
  },
  {
   "cell_type": "code",
   "execution_count": 23,
   "metadata": {},
   "outputs": [
    {
     "data": {
      "text/plain": [
       "<Axes: >"
      ]
     },
     "execution_count": 23,
     "metadata": {},
     "output_type": "execute_result"
    },
    {
     "data": {
      "image/png": "[encoded data removed]",
      "text/plain": [
       "<Figure size 640x480 with 1 Axes>"
      ]
     },
     "metadata": {},
     "output_type": "display_data"
    }
   ],
   "source": [
    "summary.plot()"
   ]
  },
  {
   "cell_type": "code",
   "execution_count": null,
   "metadata": {},
   "outputs": [],
   "source": []
  }
 ],
 "metadata": {
  "kernelspec": {
   "display_name": "traffic",
   "language": "python",
   "name": "python3"
  },
  "language_info": {
   "codemirror_mode": {
    "name": "ipython",
    "version": 3
   },
   "file_extension": ".py",
   "mimetype": "text/x-python",
   "name": "python",
   "nbconvert_exporter": "python",
   "pygments_lexer": "ipython3",
   "version": "3.9.18"
  }
 },
 "nbformat": 4,
 "nbformat_minor": 2
}
