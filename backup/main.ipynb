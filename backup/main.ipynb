{
 "cells": [
  {
   "cell_type": "code",
   "execution_count": 1,
   "metadata": {},
   "outputs": [
    {
     "data": {
      "text/plain": [
       "0"
      ]
     },
     "execution_count": 1,
     "metadata": {},
     "output_type": "execute_result"
    }
   ],
   "source": [
    "import argparse\n",
    "import torch\n",
    "import torch.nn as nn\n",
    "import dgl\n",
    "from dgl.dataloading import MultiLayerFullNeighborSampler, as_edge_prediction_sampler\n",
    "from dgl.dataloading.negative_sampler import Uniform\n",
    "import pandas as pd\n",
    "import numpy as np\n",
    "import itertools\n",
    "import tqdm\n",
    "import dgl.function as fn\n",
    "import torch\n",
    "from dgl import save_graphs, load_graphs\n",
    "import torch.nn.functional as F\n",
    "from dgl.nn.pytorch import GraphConv, HeteroGraphConv\n",
    "import tqdm\n",
    "import torch as th\n",
    "import dgl.nn as dglnn\n",
    "import gc\n",
    "import warnings\n",
    "warnings.filterwarnings('ignore')\n",
    "\n",
    "gc.collect()"
   ]
  },
  {
   "cell_type": "code",
   "execution_count": 2,
   "metadata": {},
   "outputs": [
    {
     "name": "stdout",
     "output_type": "stream",
     "text": [
      "图结构: \n",
      " Graph(num_nodes={'customer': 161086, 'product': 2708},\n",
      "      num_edges={('customer', 'order', 'product'): 11892915, ('product', 'class', 'product'): 1796620, ('product', 'rev_class', 'product'): 1796620, ('product', 'rev_order', 'customer'): 11892915},\n",
      "      metagraph=[('customer', 'product', 'order'), ('product', 'product', 'class'), ('product', 'product', 'rev_class'), ('product', 'customer', 'rev_order')])\n"
     ]
    }
   ],
   "source": [
    "parser = argparse.ArgumentParser(description='Link prediction')\n",
    "parser.add_argument('-f', '--file_path', default='data/graph_data.bin', type=str, help='dgl图文件路径')\n",
    "parser.add_argument('-d', '--device', default=None, type=str, help='设备, cpu或cuda')\n",
    "parser.add_argument('-e', '--epoch', default=20, type=int, help='运行回合数')\n",
    "parser.add_argument('--begin_seed', default=42, type=int, help='起始种子')\n",
    "parser.add_argument('--end_seed', default=52, type=int, help='结束种子')\n",
    "args = parser.parse_args()\n",
    "\"\"\n",
    "''' gpu训练暂时没跑通\n",
    "device = 'cuda:0' if torch.cuda.is_available() else 'cpu'\n",
    "device = device if args.device == None else args.device\n",
    "'''\n",
    "hetero_graph = load_graphs('data/model/graph_data.bin')[0][0]\n",
    "\n",
    "# print(f'device: {device}')\n",
    "print('图结构: \\n', hetero_graph)"
   ]
  },
  {
   "cell_type": "code",
   "execution_count": 3,
   "metadata": {},
   "outputs": [
    {
     "name": "stdout",
     "output_type": "stream",
     "text": [
      "Edge Type: ('customer', 'order', 'product')\n",
      "Source Node IDs: [81478 81478 81478 81478 81478 81478 81478 81478 81478 81478] ...\n",
      "Destination Node IDs: [2182 2118 2057 2047 2039 2012  499 1918 1828 1821] ...\n",
      "\n",
      "Edge Type: ('product', 'class', 'product')\n",
      "Source Node IDs: [0 0 0 0 0 0 0 0 0 0] ...\n",
      "Destination Node IDs: [ 1  2  3  4  5  6  7  8  9 10] ...\n",
      "\n",
      "Edge Type: ('product', 'rev_class', 'product')\n",
      "Source Node IDs: [0 0 0 0 0 0 0 0 0 0] ...\n",
      "Destination Node IDs: [ 1  2  3  4  5  6  7  8  9 10] ...\n",
      "\n",
      "Edge Type: ('product', 'rev_order', 'customer')\n",
      "Source Node IDs: [2182 2118 2057 2047 2039 2012  499 1918 1828 1821] ...\n",
      "Destination Node IDs: [81478 81478 81478 81478 81478 81478 81478 81478 81478 81478] ...\n",
      "\n"
     ]
    }
   ],
   "source": [
    "# 假设g是已经构建好的异构图\n",
    "edges = {}\n",
    "for etype in hetero_graph.canonical_etypes:\n",
    "    u, v = hetero_graph.all_edges(etype=etype, order='eid')\n",
    "    edges[etype] = (u.numpy(), v.numpy())\n",
    "    print(f'Edge Type: {etype}')\n",
    "    print(f'Source Node IDs: {u.numpy()[:10]} ...')\n",
    "    print(f'Destination Node IDs: {v.numpy()[:10]} ...')\n",
    "    print()"
   ]
  },
  {
   "cell_type": "code",
   "execution_count": 4,
   "metadata": {},
   "outputs": [],
   "source": [
    "class RelGraphConvLayer(nn.Module):\n",
    "\n",
    "    def __init__(self,\n",
    "                 in_feat,\n",
    "                 out_feat,\n",
    "                 rel_names,\n",
    "                 num_bases,\n",
    "                 *,\n",
    "                 weight=True,\n",
    "                 bias=True,\n",
    "                 activation=None,\n",
    "                 self_loop=False,\n",
    "                 dropout=0.0):\n",
    "        super(RelGraphConvLayer, self).__init__()\n",
    "        self.in_feat = in_feat\n",
    "        self.out_feat = out_feat\n",
    "        self.rel_names = rel_names\n",
    "        self.num_bases = num_bases\n",
    "        self.bias = bias\n",
    "        self.activation = activation\n",
    "        self.self_loop = self_loop\n",
    "\n",
    "        # 这个地方只是起到计算的作用, 不保存数据\n",
    "        self.conv = HeteroGraphConv({\n",
    "            # graph conv 里面有模型参数weight,如果外边不传进去的话,里面新建\n",
    "            # 相当于模型加了一层全链接, 对每一种类型的边计算卷积\n",
    "            rel: GraphConv(in_feat, out_feat, norm='right',\n",
    "                           weight=False, bias=False)\n",
    "            for rel in rel_names\n",
    "        })\n",
    "\n",
    "        self.use_weight = weight\n",
    "        self.use_basis = num_bases < len(self.rel_names) and weight\n",
    "        if self.use_weight:\n",
    "            if self.use_basis:\n",
    "                self.basis = dglnn.WeightBasis(\n",
    "                    (in_feat, out_feat), num_bases, len(self.rel_names))\n",
    "            else:\n",
    "                # 每个关系,又一个weight,全连接层\n",
    "                self.weight = nn.Parameter(\n",
    "                    th.Tensor(len(self.rel_names), in_feat, out_feat))\n",
    "                nn.init.xavier_uniform_(\n",
    "                    self.weight, gain=nn.init.calculate_gain('relu'))\n",
    "\n",
    "        # bias\n",
    "        if bias:\n",
    "            self.h_bias = nn.Parameter(th.Tensor(out_feat))\n",
    "            nn.init.zeros_(self.h_bias)\n",
    "\n",
    "        # weight for self loop\n",
    "        if self.self_loop:\n",
    "            self.loop_weight = nn.Parameter(th.Tensor(in_feat, out_feat))\n",
    "            nn.init.xavier_uniform_(self.loop_weight,\n",
    "                                    gain=nn.init.calculate_gain('relu'))\n",
    "\n",
    "        self.dropout = nn.Dropout(dropout)\n",
    "\n",
    "    def forward(self, g, inputs):\n",
    "\n",
    "        g = g.local_var()\n",
    "        if self.use_weight:\n",
    "            weight = self.basis() if self.use_basis else self.weight\n",
    "            # 这每个关系对应一个权重矩阵对应输入维度和输出维度\n",
    "            wdict = {self.rel_names[i]: {'weight': w.squeeze(0)}\n",
    "                     for i, w in enumerate(th.split(weight, 1, dim=0))}\n",
    "        else:\n",
    "            wdict = {}\n",
    "\n",
    "        if g.is_block:\n",
    "            inputs_src = inputs\n",
    "            inputs_dst = {k: v[:g.number_of_dst_nodes(\n",
    "                k)] for k, v in inputs.items()}\n",
    "        else:\n",
    "            inputs_src = inputs_dst = inputs\n",
    "\n",
    "        # 多类型的边结点卷积完成后的输出\n",
    "        # 输入的是blocks 和 embeding\n",
    "        # inputs = {key: value.to(device) for key, value in inputs.items()}\n",
    "        hs = self.conv(g, inputs, mod_kwargs=wdict)\n",
    "\n",
    "        def _apply(ntype, h):\n",
    "            if self.self_loop:\n",
    "                h = h + th.matmul(inputs_dst[ntype], self.loop_weight)\n",
    "            if self.bias:\n",
    "                h = h + self.h_bias\n",
    "            if self.activation:\n",
    "                h = self.activation(h)\n",
    "            return self.dropout(h)\n",
    "\n",
    "        return {ntype: _apply(ntype, h) for ntype, h in hs.items()}\n",
    "\n",
    "\n",
    "class RelGraphEmbed(nn.Module):\n",
    "    r\"\"\"Embedding layer for featureless heterograph.\"\"\"\n",
    "\n",
    "    def __init__(self,\n",
    "                 g,\n",
    "                 embed_size,\n",
    "                 embed_name='embed',\n",
    "                 activation=None,\n",
    "                 dropout=0.0):\n",
    "        super(RelGraphEmbed, self).__init__()\n",
    "        self.g = g\n",
    "        self.embed_size = embed_size\n",
    "        self.embed_name = embed_name\n",
    "        self.activation = activation\n",
    "        self.dropout = nn.Dropout(dropout)\n",
    "\n",
    "        # create weight embeddings for each node for each relation\n",
    "        self.embeds = nn.ParameterDict()\n",
    "        for ntype in g.ntypes:\n",
    "            embed = nn.Parameter(torch.Tensor(\n",
    "                g.number_of_nodes(ntype), self.embed_size))\n",
    "            nn.init.xavier_uniform_(embed, gain=nn.init.calculate_gain('relu'))\n",
    "            self.embeds[ntype] = embed\n",
    "\n",
    "    def forward(self, block=None):\n",
    "\n",
    "        return self.embeds\n",
    "\n",
    "\n",
    "class EntityClassify(nn.Module):\n",
    "    def __init__(self,\n",
    "                 g,\n",
    "                 h_dim, out_dim,\n",
    "                 num_bases=-1,\n",
    "                 num_hidden_layers=1,\n",
    "                 dropout=0,\n",
    "                 use_self_loop=False):\n",
    "        super(EntityClassify, self).__init__()\n",
    "        self.g = g\n",
    "        self.h_dim = h_dim\n",
    "        self.out_dim = out_dim\n",
    "        self.rel_names = list(set(g.etypes))\n",
    "        self.rel_names.sort()\n",
    "        if num_bases < 0 or num_bases > len(self.rel_names):\n",
    "            self.num_bases = len(self.rel_names)\n",
    "        else:\n",
    "            self.num_bases = num_bases\n",
    "        self.num_hidden_layers = num_hidden_layers\n",
    "        self.dropout = dropout\n",
    "        self.use_self_loop = use_self_loop\n",
    "\n",
    "        self.embed_layer = RelGraphEmbed(g, self.h_dim)\n",
    "        self.layers = nn.ModuleList()\n",
    "        # i2h\n",
    "        self.layers.append(RelGraphConvLayer(\n",
    "            self.h_dim, self.h_dim, self.rel_names,\n",
    "            self.num_bases, activation=F.relu, self_loop=self.use_self_loop,\n",
    "            dropout=self.dropout, weight=False))\n",
    "\n",
    "        # h2h , 这里不添加隐层,只用2层卷积\n",
    "        # for i in range(self.num_hidden_layers):\n",
    "        #    self.layers.append(RelGraphConvLayer(\n",
    "        #        self.h_dim, self.h_dim, self.rel_names,\n",
    "        #        self.num_bases, activation=F.relu, self_loop=self.use_self_loop,\n",
    "        #        dropout=self.dropout))\n",
    "        # h2o\n",
    "\n",
    "        self.layers.append(RelGraphConvLayer(\n",
    "            self.h_dim, self.out_dim, self.rel_names,\n",
    "            self.num_bases, activation=None,\n",
    "            self_loop=self.use_self_loop))\n",
    "\n",
    "    # 输入 blocks,embeding\n",
    "    def forward(self, h=None, blocks=None):\n",
    "        if h is None:\n",
    "            # full graph training\n",
    "            h = self.embed_layer()\n",
    "        if blocks is None:\n",
    "            # full graph training\n",
    "            for layer in self.layers:\n",
    "                h = layer(self.g, h)\n",
    "        else:\n",
    "            # minibatch training\n",
    "            # 输入 blocks,embeding\n",
    "            for layer, block in zip(self.layers, blocks):\n",
    "                h = layer(block, h)\n",
    "        return h\n",
    "    \n",
    "    def inference(self, g, batch_size, device=\"cpu\", num_workers=0, x=None):\n",
    "\n",
    "        if x is None:\n",
    "            x = self.embed_layer()\n",
    "\n",
    "        for l, layer in enumerate(self.layers):\n",
    "            y = {\n",
    "                k: th.zeros(\n",
    "                    g.number_of_nodes(k),\n",
    "                    self.h_dim if l != len(self.layers) - 1 else self.out_dim)\n",
    "                for k in g.ntypes\n",
    "                }\n",
    "            \n",
    "            sampler = dgl.dataloading.MultiLayerFullNeighborSampler(1)\n",
    "            dataloader = dgl.dataloading.DataLoader(\n",
    "                g,\n",
    "                {k: th.arange(g.number_of_nodes(k)) for k in g.ntypes},\n",
    "                sampler,\n",
    "                batch_size=batch_size,\n",
    "                shuffle=True,\n",
    "                drop_last=False,\n",
    "                num_workers=num_workers)\n",
    "            \n",
    "            for input_nodes, output_nodes, blocks in tqdm.tqdm(dataloader):\n",
    "                # print(input_nodes)\n",
    "                block = blocks[0]  # .to(device)\n",
    "                h = {k: x[k][input_nodes[k]].to(device) for k in input_nodes.keys()}\n",
    "                h = layer(block, h)\n",
    "                for k in h.keys():\n",
    "                    y[k][output_nodes[k]] = h[k].cpu()\n",
    "            x = y\n",
    "        return y\n",
    "\n",
    "\n",
    "# 根据节点类型和节点ID抽取embeding 参与模型训练更新\n",
    "def extract_embed(node_embed, input_nodes):\n",
    "    emb = {}\n",
    "    for ntype, nid in input_nodes.items():\n",
    "        nid = input_nodes[ntype]\n",
    "        emb[ntype] = node_embed[ntype][nid.to('cpu')]\n",
    "    return emb\n",
    "\n",
    "# Define a Heterograph Conv model\n",
    "\n",
    "\n",
    "class Model(nn.Module):\n",
    "\n",
    "    def __init__(self, graph, hidden_feat_dim, out_feat_dim):\n",
    "        super().__init__()\n",
    "        self.rgcn = EntityClassify(graph,\n",
    "                                   hidden_feat_dim,\n",
    "                                   out_feat_dim)\n",
    "        self.pred = HeteroDotProductPredictor()\n",
    "\n",
    "    def forward(self, h, pos_g, neg_g, blocks, etype):\n",
    "        h = self.rgcn(h, blocks)  # h 是客户的维度12的特征矩阵，输出是转换后的嵌入\n",
    "        return self.pred(pos_g, h, etype), self.pred(neg_g, h, etype)\n",
    "    \n",
    "    \n",
    "class MarginLoss(nn.Module):\n",
    "\n",
    "    def forward(self, pos_score, neg_score):\n",
    "        # 求损失的平均值 , view 改变tensor 的形状\n",
    "        # 1- pos_score + neg_score ,应该是 -pos 符号越大变成越小  +neg_score 越小越好\n",
    "        return (1 - pos_score + neg_score.view(pos_score.shape[0], -1)).clamp(min=0).mean()\n",
    "\n",
    "\n",
    "class HeteroDotProductPredictor(nn.Module):\n",
    "\n",
    "    def forward(self, graph, h, etype):\n",
    "        # 在计算之外更新h, 保存为全局可用\n",
    "        # h contains the node representations for each edge type computed from node_clf_hetero.py\n",
    "        with graph.local_scope():\n",
    "            graph.ndata['h'] = h  # assigns 'h' of all node types in one shot\n",
    "            graph.apply_edges(fn.u_dot_v('h', 'h', 'score'), etype=etype)  # * 在这里给出分数\n",
    "            return graph.edges[etype].data['score']\n",
    "\n",
    "\n",
    "def train_etype_one_epoch(etype, spec_dataloader):\n",
    "    losses = []\n",
    "    #  input nodes 为采样的subgraph中的所有的节点的集合\n",
    "    for input_nodes, pos_g, neg_g, blocks in tqdm.tqdm(spec_dataloader):\n",
    "        emb = extract_embed(all_node_embed, input_nodes)\n",
    "        pos_score, neg_score = model(emb, pos_g, neg_g, blocks, etype)\n",
    "        loss = loss_func(pos_score, neg_score)\n",
    "        losses.append(loss.item())\n",
    "        optimizer.zero_grad()\n",
    "        loss.backward()\n",
    "        optimizer.step()\n",
    "    print('{:s} Seed {:d} | avg_Loss {:.4f}'.format(etype, seed, sum(losses) / len(losses)))\n",
    "    return losses"
   ]
  },
  {
   "cell_type": "code",
   "execution_count": 5,
   "metadata": {},
   "outputs": [
    {
     "name": "stdout",
     "output_type": "stream",
     "text": [
      "start seed: 48\n"
     ]
    },
    {
     "name": "stderr",
     "output_type": "stream",
     "text": [
      "100%|██████████| 251/251 [05:59<00:00,  1.43s/it]\n"
     ]
    },
    {
     "name": "stdout",
     "output_type": "stream",
     "text": [
      "order Seed 48 | avg_Loss 0.3856\n"
     ]
    }
   ],
   "source": [
    "# 执行训练\n",
    "loss_table = {}\n",
    "for seed in range(48, 49):\n",
    "    torch.manual_seed(seed)\n",
    "    dgl.seed(seed)\n",
    "    # 采样定义\n",
    "    # neg_sample_count = (hetero_graph['order'].num_edges() // hetero_graph.nodes['customer'][0]['index'].shape[0]) * 1000\n",
    "    neg_sample_count = 15\n",
    "    batch_size = hetero_graph['order'].num_edges() // 250\n",
    "    # 采样2层全部节点\n",
    "    sampler = MultiLayerFullNeighborSampler(2)\n",
    "    # 边的条数,数目比顶点个数多很多.\n",
    "    # 这是 EdgeDataLoader 数据加载器\n",
    "\n",
    "    hetero_graph.edges['order'].data['train_mask'] = torch.zeros(hetero_graph['order'].num_edges(), dtype=torch.bool).bernoulli(1.0)\n",
    "    train_item_eids = hetero_graph.edges['order'].data['train_mask'].nonzero(as_tuple=True)[0]\n",
    "\n",
    "    sampler = as_edge_prediction_sampler(sampler, negative_sampler=dgl.dataloading.negative_sampler.Uniform(neg_sample_count))\n",
    "\n",
    "    item_dataloader = dgl.dataloading.DataLoader(\n",
    "        hetero_graph, {'order': train_item_eids}, sampler,\n",
    "        batch_size=batch_size, shuffle=True)\n",
    "\n",
    "    hidden_feat_dim = 12  # 客户特征长度\n",
    "    out_feat_dim = 12\n",
    "\n",
    "    embed_layer = RelGraphEmbed(hetero_graph, hidden_feat_dim)\n",
    "    all_node_embed = embed_layer()\n",
    "\n",
    "    model = Model(hetero_graph, hidden_feat_dim, out_feat_dim)\n",
    "    # 优化模型所有参数, 主要是weight以及输入的embeding参数\n",
    "    all_params = itertools.chain(model.parameters(), embed_layer.parameters())\n",
    "    optimizer = torch.optim.Adam(all_params, lr=0.01, weight_decay=0)\n",
    "\n",
    "    loss_func = MarginLoss()\n",
    "    \n",
    "    print(\"start seed:\", seed)\n",
    "    model.train()\n",
    "    losses = train_etype_one_epoch('order', item_dataloader)\n",
    "    loss_table[seed] = losses\n",
    "    # 保存模型\n",
    "    torch.save(model.state_dict(), f'ckpt/test/model_params_{seed}.pt')\n",
    "    torch.save(embed_layer, f'ckpt/test/model_embed_layer_{seed}.pt')\n",
    "    \n",
    "# 保存训练结果\n",
    "loss_table = pd.DataFrame(loss_table)\n",
    "loss_table.to_csv(f'data/test/result.csv', index=False, encoding='utf-8-sig')"
   ]
  },
  {
   "cell_type": "code",
   "execution_count": 6,
   "metadata": {},
   "outputs": [
    {
     "data": {
      "text/plain": [
       "<Axes: >"
      ]
     },
     "execution_count": 6,
     "metadata": {},
     "output_type": "execute_result"
    },
    {
     "data": {
      "image/png": "[encoded data removed]",
      "text/plain": [
       "<Figure size 640x480 with 1 Axes>"
      ]
     },
     "metadata": {},
     "output_type": "display_data"
    }
   ],
   "source": [
    "loss_table.plot()"
   ]
  },
  {
   "cell_type": "code",
   "execution_count": 55,
   "metadata": {},
   "outputs": [
    {
     "data": {
      "image/png": "[encoded data removed]",
      "text/plain": [
       "<Figure size 800x500 with 1 Axes>"
      ]
     },
     "metadata": {},
     "output_type": "display_data"
    }
   ],
   "source": [
    "import matplotlib.pyplot as plt\n",
    "import seaborn as sns\n",
    "\n",
    "def smooth(data: pd.Series):\n",
    "    smooth_data = data.ewm(alpha=0.3).mean()\n",
    "    return smooth_data\n",
    "\n",
    "file_path = 'data/result/result_multi.csv'\n",
    "\n",
    "plt.figure(figsize=(8, 5))\n",
    "ax = sns.set_theme(style='ticks', font_scale=1.3)\n",
    "plt.rcParams['font.family'] = 'Microsoft Yahei'\n",
    "plt.grid(ls=':', color='grey', lw=1)\n",
    "plt.xlabel('训练轮次')\n",
    "plt.ylabel('边缘损失')\n",
    "plt.ylim((0.28, 1))\n",
    "plt.xlim((0, 250))\n",
    "tmp = pd.read_csv(file_path)\n",
    "y = tmp['mean']\n",
    "min_y = tmp['min']\n",
    "max_y = tmp['max']\n",
    "x = range(len(y))\n",
    "plt.fill_between(x, smooth(min_y), smooth(max_y), alpha=0.2, color='#e5071a', label='最大最小值区间', linestyle='--', lw=2)\n",
    "ax = sns.lineplot(x=x, y=smooth(y), label='损失均值(种子:45~49)', c='#e5071a', lw=2)\n",
    "\n",
    "for spine in ax.spines.values():\n",
    "    spine.set_linewidth(1.5)\n",
    "plt.legend(loc=1)\n",
    "plt.savefig('image/train_loss.pdf', bbox_inches='tight')"
   ]
  },
  {
   "cell_type": "code",
   "execution_count": 50,
   "metadata": {},
   "outputs": [],
   "source": [
    "torch.save(model, f'data/model/model_seed_48.pt')"
   ]
  },
  {
   "cell_type": "code",
   "execution_count": 24,
   "metadata": {},
   "outputs": [
    {
     "data": {
      "text/plain": [
       "<All keys matched successfully>"
      ]
     },
     "execution_count": 24,
     "metadata": {},
     "output_type": "execute_result"
    }
   ],
   "source": [
    "model.load_state_dict(torch.load('ckpt/model_params_45.pt'))"
   ]
  },
  {
   "cell_type": "markdown",
   "metadata": {},
   "source": [
    "给定参数"
   ]
  },
  {
   "cell_type": "code",
   "execution_count": 7,
   "metadata": {},
   "outputs": [
    {
     "data": {
      "text/plain": [
       "<All keys matched successfully>"
      ]
     },
     "execution_count": 7,
     "metadata": {},
     "output_type": "execute_result"
    }
   ],
   "source": [
    "embed_layer = torch.load(f'ckpt/test/model_embed_layer_48.pt')\n",
    "all_node_embed = embed_layer()\n",
    "\n",
    "model = Model(hetero_graph, hidden_feat_dim, out_feat_dim)\n",
    "model.load_state_dict(torch.load('ckpt/test/model_params_48.pt'))"
   ]
  },
  {
   "cell_type": "markdown",
   "metadata": {},
   "source": [
    "推断嵌入向量"
   ]
  },
  {
   "cell_type": "code",
   "execution_count": 8,
   "metadata": {},
   "outputs": [
    {
     "name": "stderr",
     "output_type": "stream",
     "text": [
      "100%|██████████| 4/4 [00:00<00:00,  9.27it/s]\n",
      "100%|██████████| 4/4 [00:00<00:00,  9.37it/s]"
     ]
    },
    {
     "name": "stdout",
     "output_type": "stream",
     "text": [
      "商品嵌入矩阵大小:  torch.Size([2708, 12])\n",
      "客户嵌入矩阵大小:  torch.Size([161086, 12])\n",
      "tensor([-0.9068, -2.2004, -0.7731, -1.7059,  1.3683,  1.1030,  1.5802, -1.5604,\n",
      "        -0.6413,  2.7755, -0.8019,  2.2613])\n",
      "tensor([ 0.5371,  0.8826,  0.7209,  1.1758, -0.4478, -1.3561, -1.0212,  0.4532,\n",
      "         1.2797, -0.4117,  0.2468, -0.6435])\n"
     ]
    },
    {
     "name": "stderr",
     "output_type": "stream",
     "text": [
      "\n"
     ]
    }
   ],
   "source": [
    "# 模型预估的结果, 最后应该使用 inference, 这里得到的是logit\n",
    "with torch.no_grad():\n",
    "    inference_out = model.rgcn.inference(hetero_graph, batch_size, 'cpu', 0, all_node_embed)\n",
    "print('商品嵌入矩阵大小: ', inference_out[\"product\"].shape)\n",
    "print('客户嵌入矩阵大小: ', inference_out[\"customer\"].shape)\n",
    "print(inference_out['customer'][0])\n",
    "print(inference_out['product'][0])\n",
    "torch.save(inference_out, 'data/result/embedding.pt')"
   ]
  },
  {
   "cell_type": "code",
   "execution_count": 9,
   "metadata": {},
   "outputs": [],
   "source": [
    "predict = (inference_out[\"customer\"] @ inference_out[\"product\"].T).detach().numpy()  # 购买意愿值"
   ]
  },
  {
   "cell_type": "code",
   "execution_count": 46,
   "metadata": {},
   "outputs": [],
   "source": [
    "torch.save(predict, 'data/model/buy_prob.pt')  # 保存购买概率\n",
    "predict = torch.load('data/model/buy_prob.pt').detach().numpy()"
   ]
  },
  {
   "cell_type": "code",
   "execution_count": 10,
   "metadata": {},
   "outputs": [
    {
     "data": {
      "text/plain": [
       "array([[-13.037918 , -12.795927 , -12.978089 , ..., -15.396273 ,\n",
       "        -15.049432 , -15.150128 ],\n",
       "       [-12.508056 , -12.27808  , -12.4522915, ..., -15.617071 ,\n",
       "        -15.28643  , -15.385057 ],\n",
       "       [-13.158329 , -12.916099 , -13.098502 , ..., -15.849941 ,\n",
       "        -15.499831 , -15.602184 ],\n",
       "       ...,\n",
       "       [-12.665194 , -12.432641 , -12.608743 , ..., -15.410814 ,\n",
       "        -15.078482 , -15.17728  ],\n",
       "       [-12.549961 , -12.32477  , -12.496649 , ..., -16.744295 ,\n",
       "        -16.416494 , -16.518236 ],\n",
       "       [-13.092585 , -12.849399 , -13.03169  , ..., -16.246214 ,\n",
       "        -15.888512 , -15.992089 ]], dtype=float32)"
      ]
     },
     "execution_count": 10,
     "metadata": {},
     "output_type": "execute_result"
    }
   ],
   "source": [
    "predict"
   ]
  },
  {
   "cell_type": "code",
   "execution_count": 11,
   "metadata": {},
   "outputs": [],
   "source": [
    "sort_target = np.sort(predict, axis=1)"
   ]
  },
  {
   "cell_type": "code",
   "execution_count": 12,
   "metadata": {},
   "outputs": [
    {
     "data": {
      "text/plain": [
       "array([[-23.743584, -23.671196, -22.0054  , ...,  -9.166466,  -9.132278,\n",
       "         -9.041115],\n",
       "       [-23.506123, -23.461258, -21.874096, ...,  -9.871876,  -9.852   ,\n",
       "         -9.840105],\n",
       "       [-24.270077, -24.148378, -22.52338 , ...,  -9.659321,  -9.637966,\n",
       "         -9.503305],\n",
       "       ...,\n",
       "       [-23.33724 , -23.32597 , -21.692078, ...,  -9.720033,  -9.713648,\n",
       "         -9.597228],\n",
       "       [-24.469261, -24.405994, -22.890709, ..., -11.203552, -11.167712,\n",
       "        -11.10943 ],\n",
       "       [-24.913414, -24.64789 , -23.125473, ...,  -9.613761,  -9.503406,\n",
       "         -9.350552]], dtype=float32)"
      ]
     },
     "execution_count": 12,
     "metadata": {},
     "output_type": "execute_result"
    }
   ],
   "source": [
    "sort_target"
   ]
  },
  {
   "cell_type": "code",
   "execution_count": 15,
   "metadata": {},
   "outputs": [],
   "source": [
    "target = predict.argmax(axis=1)"
   ]
  },
  {
   "cell_type": "code",
   "execution_count": 16,
   "metadata": {},
   "outputs": [
    {
     "data": {
      "text/plain": [
       "256     56361\n",
       "858     40250\n",
       "1059    35348\n",
       "178     18207\n",
       "388      3842\n",
       "723      2975\n",
       "886      2446\n",
       "1830      689\n",
       "2046      342\n",
       "1329      271\n",
       "1373      148\n",
       "35        125\n",
       "2600       36\n",
       "554        33\n",
       "2634        9\n",
       "356         4\n",
       "Name: count, dtype: int64"
      ]
     },
     "execution_count": 16,
     "metadata": {},
     "output_type": "execute_result"
    }
   ],
   "source": [
    "pd.Series(target).value_counts()"
   ]
  },
  {
   "cell_type": "code",
   "execution_count": null,
   "metadata": {},
   "outputs": [],
   "source": []
  }
 ],
 "metadata": {
  "kernelspec": {
   "display_name": "traffic",
   "language": "python",
   "name": "python3"
  },
  "language_info": {
   "codemirror_mode": {
    "name": "ipython",
    "version": 3
   },
   "file_extension": ".py",
   "mimetype": "text/x-python",
   "name": "python",
   "nbconvert_exporter": "python",
   "pygments_lexer": "ipython3",
   "version": "3.9.19"
  }
 },
 "nbformat": 4,
 "nbformat_minor": 2
}
